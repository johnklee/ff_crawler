{
 "cells": [
  {
   "cell_type": "markdown",
   "metadata": {},
   "source": [
    "<a id='sect0'></a>\n",
    "## <font color='darkblue'>Preface</font>\n",
    "Here we are going to work on the model to extract Car type/model/accessories from article/post."
   ]
  },
  {
   "cell_type": "code",
   "execution_count": 1,
   "metadata": {},
   "outputs": [],
   "source": [
    "import os\n",
    "import json\n",
    "import pandas as pd\n",
    "pd.set_option('display.max_colwidth', None)\n",
    "\n",
    "RANDOM_STATE = 1\n",
    "TEST_SIZE = 0.2\n",
    "\n",
    "class color:\n",
    "   PURPLE = '\\033[95m'\n",
    "   CYAN = '\\033[96m'\n",
    "   DARKCYAN = '\\033[36m'\n",
    "   BLUE = '\\033[94m'\n",
    "   GREEN = '\\033[92m'\n",
    "   YELLOW = '\\033[93m'\n",
    "   RED = '\\033[91m'\n",
    "   BOLD = '\\033[1m'\n",
    "   UNDERLINE = '\\033[4m'\n",
    "   END = '\\033[0m'"
   ]
  },
  {
   "cell_type": "markdown",
   "metadata": {},
   "source": [
    "### <font color='darkgreen'>Agenda</font>\n",
    "* <font size='3ptx'>[**Data Set**](#sect1)</font>\n",
    "* <font size='3ptx'>[**Word2vec Solution**](#sect2)</font>\n",
    "* <font size='3ptx'>[**ML Models**](#sect3)</font>"
   ]
  },
  {
   "cell_type": "markdown",
   "metadata": {},
   "source": [
    "## <font color='darkblue'>Data Set</font> ([back](#sect0))\n",
    "We collect and label our data from dumped data [here](https://drive.google.com/file/d/1LTyPKtafRQnQp-DslpjBM5QUWoxAtSTY/view?usp=sharing). Let's load labelling data back for future process:"
   ]
  },
  {
   "cell_type": "code",
   "execution_count": 165,
   "metadata": {},
   "outputs": [
    {
     "data": {
      "text/html": [
       "<div>\n",
       "<style scoped>\n",
       "    .dataframe tbody tr th:only-of-type {\n",
       "        vertical-align: middle;\n",
       "    }\n",
       "\n",
       "    .dataframe tbody tr th {\n",
       "        vertical-align: top;\n",
       "    }\n",
       "\n",
       "    .dataframe thead th {\n",
       "        text-align: right;\n",
       "    }\n",
       "</style>\n",
       "<table border=\"1\" class=\"dataframe\">\n",
       "  <thead>\n",
       "    <tr style=\"text-align: right;\">\n",
       "      <th></th>\n",
       "      <th>kw</th>\n",
       "      <th>sentence</th>\n",
       "    </tr>\n",
       "  </thead>\n",
       "  <tbody>\n",
       "    <tr>\n",
       "      <th>0</th>\n",
       "      <td>Tesla Model 3</td>\n",
       "      <td>The Tesla\\_h Model\\_h 3\\_h is an American four-door saloon car with rear- or -four-wheel drive, seating for five people at a pinch, and a touchscreen inside.</td>\n",
       "    </tr>\n",
       "    <tr>\n",
       "      <th>1</th>\n",
       "      <td>Tesla Model 3</td>\n",
       "      <td>We think right now may be the best time to buy a Tesla\\_h Model\\_h 3\\_h.</td>\n",
       "    </tr>\n",
       "    <tr>\n",
       "      <th>2</th>\n",
       "      <td>BMW 228 Gran Coupe</td>\n",
       "      <td>The BMW\\_h 228\\_h Gran\\_h Coupe\\_h is a sedan.</td>\n",
       "    </tr>\n",
       "    <tr>\n",
       "      <th>3</th>\n",
       "      <td>228 Gran Coupe</td>\n",
       "      <td>The 2021 228\\_h Gran\\_h Coupe\\_h starts at $35,700 (MSRP), with a destination charge of $995.</td>\n",
       "    </tr>\n",
       "    <tr>\n",
       "      <th>4</th>\n",
       "      <td>Toyota Avalon</td>\n",
       "      <td>The Toyota\\_h Avalon\\_h is a sedan.</td>\n",
       "    </tr>\n",
       "  </tbody>\n",
       "</table>\n",
       "</div>"
      ],
      "text/plain": [
       "                   kw  \\\n",
       "0       Tesla Model 3   \n",
       "1       Tesla Model 3   \n",
       "2  BMW 228 Gran Coupe   \n",
       "3      228 Gran Coupe   \n",
       "4       Toyota Avalon   \n",
       "\n",
       "                                                                                                                                                        sentence  \n",
       "0  The Tesla\\_h Model\\_h 3\\_h is an American four-door saloon car with rear- or -four-wheel drive, seating for five people at a pinch, and a touchscreen inside.  \n",
       "1                                                                                       We think right now may be the best time to buy a Tesla\\_h Model\\_h 3\\_h.  \n",
       "2                                                                                                                The BMW\\_h 228\\_h Gran\\_h Coupe\\_h is a sedan.   \n",
       "3                                                                  The 2021 228\\_h Gran\\_h Coupe\\_h starts at $35,700 (MSRP), with a destination charge of $995.  \n",
       "4                                                                                                                            The Toyota\\_h Avalon\\_h is a sedan.  "
      ]
     },
     "execution_count": 165,
     "metadata": {},
     "output_type": "execute_result"
    }
   ],
   "source": [
    "df = pd.read_csv(\"datas.csv\")\n",
    "df.head()"
   ]
  },
  {
   "cell_type": "code",
   "execution_count": 166,
   "metadata": {},
   "outputs": [
    {
     "name": "stdout",
     "output_type": "stream",
     "text": [
      "The \u001b[1m\u001b[94mTesla\u001b[0m \u001b[1m\u001b[94mModel\u001b[0m \u001b[1m\u001b[94m3\u001b[0m is an American four-door saloon car with rear- or -four-wheel drive seating for five people at a pinch and a touchscreen inside\n",
      "We think right now may be the best time to buy a \u001b[1m\u001b[94mTesla\u001b[0m \u001b[1m\u001b[94mModel\u001b[0m \u001b[1m\u001b[94m3\u001b[0m\n",
      "The \u001b[1m\u001b[94mBMW\u001b[0m \u001b[1m\u001b[94m228\u001b[0m \u001b[1m\u001b[94mGran\u001b[0m \u001b[1m\u001b[94mCoupe\u001b[0m is a sedan\n",
      "The 2021 \u001b[1m\u001b[94m228\u001b[0m \u001b[1m\u001b[94mGran\u001b[0m \u001b[1m\u001b[94mCoupe\u001b[0m starts at $35,700 MSRP with a destination charge of $995\n",
      "The \u001b[1m\u001b[94mToyota\u001b[0m \u001b[1m\u001b[94mAvalon\u001b[0m is a sedan\n",
      "The \u001b[1m\u001b[94mToyota\u001b[0m \u001b[1m\u001b[94mAvalon\u001b[0m is a full-size car produced by Toyota\n",
      "The \u001b[1m\u001b[94mBMW\u001b[0m \u001b[1m\u001b[94m327\u001b[0m is a medium-sized touring coupé produced by the Bavarian firm between 1937 and 1941\n",
      "In the shark nose of the \u001b[1m\u001b[94mFerrari\u001b[0m \u001b[1m\u001b[94m812\u001b[0m \u001b[1m\u001b[94mGTS\u001b[0m is a 6.5-litre V12 engine free of turbos and able to rev to almost 9,000rpm as a result\n",
      "Equip your \u001b[1m\u001b[94mFerrari\u001b[0m \u001b[1m\u001b[94m812\u001b[0m with the Novitec Aero Kit\n",
      "I just bought at \u001b[1m\u001b[94m2015\u001b[0m \u001b[1m\u001b[94mFord\u001b[0m \u001b[1m\u001b[94mfocus\u001b[0m back at the end of September and have been enjoying it up until a week ago when the Bluetooth stopped pairing and would just say disconnected\n",
      "\u001b[1m\u001b[94m2015\u001b[0m \u001b[1m\u001b[94mFord\u001b[0m \u001b[1m\u001b[94mFocus\u001b[0m bluetooth SYNC issue\n",
      "On the racetrack the sound of the of the \u001b[1m\u001b[94mPorsche\u001b[0m \u001b[1m\u001b[94m911\u001b[0m \u001b[1m\u001b[94mGT3\u001b[0m exhaust sys- tem is unmistakable\n",
      "\u001b[1m\u001b[94mPorsche\u001b[0m \u001b[1m\u001b[94m911\u001b[0m Bluetooth Speaker is both stunning and bonkers yours for $550\n",
      "The \u001b[1m\u001b[94m2021\u001b[0m \u001b[1m\u001b[94mHonda\u001b[0m \u001b[1m\u001b[94mCivic's\u001b[0m #1 ranking is based on its score within the Compact Cars category\n",
      "The tenth-generation \u001b[1m\u001b[94mHonda\u001b[0m \u001b[1m\u001b[94mCivic\u001b[0m is a great alternative choice in the hatchback class\n",
      "The hatch gets all the focus but the RS sedan is a competitive offering within the \u001b[1m\u001b[94mHonda\u001b[0m \u001b[1m\u001b[94mCivic\u001b[0m range\n",
      "How to connect Bluetooth on \u001b[1m\u001b[94mHonda\u001b[0m \u001b[1m\u001b[94mOdyssey\u001b[0m\n",
      "This tutorial video explains the connection and trouble-shooting process on all \u001b[1m\u001b[94m2015\u001b[0m \u001b[1m\u001b[94mOdyssey\u001b[0m \u001b[1m\u001b[94mmodels\u001b[0m with iPhone and Android phones\n",
      "The new \u001b[1m\u001b[94mToyota\u001b[0m \u001b[1m\u001b[94mMirai\u001b[0m features several Entune apps that seamlessly connect your life with your car\n",
      "How to Pair Your Phone via Bluetooth to the \u001b[1m\u001b[94m2021\u001b[0m \u001b[1m\u001b[94mToyota\u001b[0m \u001b[1m\u001b[94mSienna\u001b[0m\n",
      "I have a \u001b[1m\u001b[94m2019\u001b[0m \u001b[1m\u001b[94mHonda\u001b[0m \u001b[1m\u001b[94mCRV\u001b[0m that is only 9 months old\n",
      "Issues with audio and bluetooth since installing android 11 I am having the same issue on a Pixel2\n",
      "\u001b[1m\u001b[94m2020\u001b[0m \u001b[1m\u001b[94mToyota\u001b[0m \u001b[1m\u001b[94mCamry\u001b[0m \u001b[1m\u001b[94mHybrid\u001b[0m Pixel 4a connects using bluetooth but can't get directions\n",
      "In my \u001b[1m\u001b[94mCamry\u001b[0m \u001b[1m\u001b[94mHybrid\u001b[0m Pixel 4a connects and works as long as I set the radio source to bluetooth\n",
      "I thought it was the \u001b[1m\u001b[94mToyota's\u001b[0m fault but my wife Motorola G7 works like I'd expect--the directions just interrupt the radio on the car speakers\n",
      "Bluetooth no longer connects to the 'Bluetooth Audio' function in my \u001b[1m\u001b[94m2011\u001b[0m \u001b[1m\u001b[94mFord\u001b[0m \u001b[1m\u001b[94mEscape\u001b[0m\n",
      "I've reset the audio back to factory on my car\n",
      "The last thing I haven't tried is factory resetting my phone\n",
      "I am trying to use my 4a5g to mirror to my \u001b[1m\u001b[91mjvc\u001b[0m \u001b[1m\u001b[91mcar\u001b[0m \u001b[1m\u001b[91mstereo\u001b[0m \u001b[1m\u001b[91mreceiver\u001b[0m\n",
      "Trying to mirror phone to \u001b[1m\u001b[91mjvc\u001b[0m \u001b[1m\u001b[91mcar\u001b[0m \u001b[1m\u001b[91mstereo\u001b[0m\n",
      "Ever since obtaining my Google Pixel 5 in November I have had issues with connecting it to car Bluetooth\n",
      "When I connect to my car \u001b[1m\u001b[94m2015\u001b[0m \u001b[1m\u001b[94mSubaru\u001b[0m \u001b[1m\u001b[94mCrosstrek\u001b[0m I have gotten one of three screens pic attached\n",
      "Again this is happening while music is playing though my phone on the car speakers\n",
      "I have ran into similar problems on at least one other car \u001b[1m\u001b[94m2015\u001b[0m \u001b[1m\u001b[94mHonda\u001b[0m \u001b[1m\u001b[94mCivic\u001b[0m\n",
      "Furthermore I do not have any issue with the audio itself\n",
      "This issue is exclusively with the controls\n",
      "I have exhausted most of troubleshooting capabilities\n",
      "And I have not found any similar issues online\n",
      "I have had this phone with other vehicles and the Bluetooth connection was always fine\n",
      "It a \u001b[1m\u001b[94m2020\u001b[0m \u001b[1m\u001b[94mHonda\u001b[0m insight\n",
      "One time I had problems and it fully disconnected and deleted the car from my Bluetooth was when several group text messages arrived\n",
      "Sometimes every other week.I have to pull over and reconnect the phone to my car as the phone has deleted it from the devices\n",
      "Sometimes if I disconnect and reconnect the phone by USB it will connect\n",
      "This has been going on since October when I got the vehicle\n",
      "After Pairing my Pixel 4a with my car infotainment of the car crashes \u001b[1m\u001b[94mBMW\u001b[0m \u001b[1m\u001b[94mi3\u001b[0m Every time when I pair the pixel 4a with my car the infotainment of the car crashes\n",
      "When I use a different smartphone I don't have any issue it seems to be related to my phone.I did a factory reset of the Pixel - no success\n",
      "Problems with Android Auto connection and phone calls Often when connecting to Android Auto  \u001b[1m\u001b[91mRenault\u001b[0m \u001b[1m\u001b[91mKangoo\u001b[0m \u001b[1m\u001b[91mR-link\u001b[0m \u001b[1m\u001b[91m1\u001b[0m )phone calls will not come through car audio\n",
      "Howdy so I got my Pixel 4a yesterday and immediately hopped it up to 11 Everything seemed fine at first but now I'm having a weird issue with playback in my car\n",
      "I have a \u001b[1m\u001b[94m2020\u001b[0m \u001b[1m\u001b[94mRav4\u001b[0m \u001b[1m\u001b[94mHybrid\u001b[0m with the radio upgrade\n",
      "So I'm thinking okay bluetooth issues\n",
      "But I have Soundbeats Liberty Pros and I mowed the lawn yesterday for an hour without issue\n",
      "I don't know if Android Auto pipes everything through the cable though\n",
      "I'd assume so but when setting it up it mentions bluetooth pairing\n",
      "If I click the \u001b[1m\u001b[94mToyota\u001b[0m \u001b[1m\u001b[94mRAV4\u001b[0m output and change it to phone\n",
      "Android Auto or Bluetooth Youtube Music and Google Play music stops sending music but it like it doesn't know it not playing\n",
      "Mine is a \u001b[1m\u001b[94mNissan\u001b[0m \u001b[1m\u001b[94mFrontier\u001b[0m with an aftermarket \u001b[1m\u001b[91mKenwood\u001b[0m \u001b[1m\u001b[91mtouchscreen\u001b[0m \u001b[1m\u001b[91mradio\u001b[0m by the way\n",
      "Worked fine with my Note 9 No issues when using Spotify\n",
      "Other than streaming through the car everything else has been excellent\n",
      "Considering that the car is this same I'm guess that this is purely an issue with the Pixel and not the car\n",
      "Has anyone with \u001b[1m\u001b[91mFord\u001b[0m \u001b[1m\u001b[91msync\u001b[0m in their car had any luck getting song titles and info to appear on their infotainment system\n",
      "Normally I would assume that this is just how the Sync OS handled metadata over Bluetooth and call it a day but my old Pixel 3 displayed the info correctly so I'm wondering if there is anything I could do on my end to fix this\n",
      "Car Bluetooth issues Pixel 5 coming from 3a. I have the same issue \u001b[1m\u001b[94m2015\u001b[0m \u001b[1m\u001b[94mHonda\u001b[0m \u001b[1m\u001b[94mCivic\u001b[0m\n",
      "However just recently when my phone connects to my car \u001b[1m\u001b[94mhonda\u001b[0m \u001b[1m\u001b[94mcr-v\u001b[0m via bluetooth I'm unable to play music\n",
      "I have a \u001b[1m\u001b[94m2014\u001b[0m \u001b[1m\u001b[94mToyota\u001b[0m \u001b[1m\u001b[94mCorolla\u001b[0m\n",
      "I already tried removing the profile from both phone and car restarted phone restarted car no luck\n",
      "Lost ability to control media over Bluetooth in car I also recently started having this issue with a pixel 2 3 XL and 4a in a \u001b[1m\u001b[94mmazda\u001b[0m\n",
      "When I get in my car and start driving away from my house if I time it just so that it trying to connect as I get out of my wifi range it a \u001b[1m\u001b[94m2015\u001b[0m \u001b[1m\u001b[94mmazda\u001b[0m so the bluetooth takes a while to start up it will fail to connect until it gets itself on LTE\n",
      "When I'm at home and I am playing a podcast and decide to download it bluetooth disconnects until the download is done then reconnects\n",
      "Pixel 4a trouble with Bluetooth in my \u001b[1m\u001b[94m2015\u001b[0m \u001b[1m\u001b[94mHonda\u001b[0m \u001b[1m\u001b[94mcivic\u001b[0m Pixel 4a Hey there\n",
      "Pixel 3xl HondaLink bluetooth connection issues recently bought a used \u001b[1m\u001b[94m2017\u001b[0m \u001b[1m\u001b[94mHonda\u001b[0m \u001b[1m\u001b[94mHR-V\u001b[0m that uses \u001b[1m\u001b[91mHondaLink\u001b[0m to connect via bluetooth\n",
      "Pixel 5 Will Not Autoplay in Car I had a Pixel 2 XL for a few years and when it connected to my \u001b[1m\u001b[91mFord\u001b[0m \u001b[1m\u001b[91mSync\u001b[0m \u001b[1m\u001b[91m3\u001b[0m system it would always autplay the most recently used audio app Play Music Spotify Podcasts etc.\n",
      "I have to manually press a play button or ask Google Assistant to play\n",
      "Pixel 4 won't connect to \u001b[1m\u001b[91mmicrosoft\u001b[0m \u001b[1m\u001b[91mSYNC\u001b[0m Hoping I can find a solution here\n",
      "So far I've tried a fresh pairing master resets for car and phone and all the avrcp and MAP bluetooth settings\n",
      "Pixel 4 and car Bluetooth phonecalls Phone calls sound great over bt in my \u001b[1m\u001b[94m2011\u001b[0m \u001b[1m\u001b[94mFord\u001b[0m \u001b[1m\u001b[94mSuper\u001b[0m \u001b[1m\u001b[94mduty\u001b[0m using my 4XL\n",
      "When I connect the phone to the car \u001b[1m\u001b[94mToyota\u001b[0m \u001b[1m\u001b[94mCorolla\u001b[0m via bluetooth; it only connects the audio it doesn't show the song title and artist play pause forward reverse buttons\n",
      "After with Android 10 Bluetooth was working with some Sony devices headphones WF-1000XM3 speaker SRS-XB10 AV-reciever STR-DH790 and low-cost car \u001b[1m\u001b[91mstereo\u001b[0m \u001b[1m\u001b[91madapter\u001b[0m \u001b[1m\u001b[91mBT-Splitter\u001b[0m\n",
      "Got myself a brilliant new Pixel 5 recently Great loved it did NOT connect to my \u001b[1m\u001b[91mMazda\u001b[0m \u001b[1m\u001b[91mCar\u001b[0m \u001b[1m\u001b[91mBluetooth\u001b[0m\n",
      "Pixel 5 doesn't work for on \u001b[1m\u001b[91mKenwood\u001b[0m \u001b[1m\u001b[91mcar\u001b[0m \u001b[1m\u001b[91mstereo\u001b[0m Pixel 5 I'm running a \u001b[1m\u001b[91mKenwood\u001b[0m \u001b[1m\u001b[91mStereo\u001b[0m not sure the model but it must be about 5-8 years old no Bluetooth\n",
      "I thought it was the watch but then i noticed that it was occurring with my car connection as well \u001b[1m\u001b[94mtoyota\u001b[0m \u001b[1m\u001b[94mentune\u001b[0m\n",
      "\u001b[1m\u001b[94m2021\u001b[0m \u001b[1m\u001b[94mToyota\u001b[0m \u001b[1m\u001b[94mSienna\u001b[0m Bluetooth issue I'll give it a shot\n",
      "Also a little worried that a brand new car requires the phone to be dumbed down\n",
      "My car is a \u001b[1m\u001b[94m2015\u001b[0m \u001b[1m\u001b[94mBMW\u001b[0m \u001b[1m\u001b[94m228i\u001b[0m and have used my Pixel 4 with it for about a year without any hiccups\n",
      "Out of nowhere I turned the car on turned Bluetooth on my phone and connected\" but got no audio out of the speakers.\"\n",
      "Has anyone had issues getting their pixel phone to autoconnect bluetooth to their car head unit\n",
      "Pixel 3 bluetooth autoconnect for \u001b[1m\u001b[91mPioneer\u001b[0m \u001b[1m\u001b[91mcar\u001b[0m \u001b[1m\u001b[91mhead\u001b[0m \u001b[1m\u001b[91munit\u001b[0m Do you by chance have a \u001b[1m\u001b[91m2020\u001b[0m \u001b[1m\u001b[91mNEX\u001b[0m \u001b[1m\u001b[91munit\u001b[0m\n",
      "I'm using AVRCP 1.4 since my head unit is an older \u001b[1m\u001b[91mJVC\u001b[0m and wouldn't display any metadata when using 1.5 or 1.6\n",
      "Pixel 3xl \u001b[1m\u001b[91mHondaLink\u001b[0m bluetooth connection issues Have had my \u001b[1m\u001b[94m2015\u001b[0m \u001b[1m\u001b[94mHonda\u001b[0m \u001b[1m\u001b[94mCivic\u001b[0m for 3 years now\n",
      "\u001b[1m\u001b[91mHondaLink\u001b[0m has worked with all my phones just fine including my current Pixel 3XL up until just the past few months\n",
      "Original issue derived from my car bluetooth \u001b[1m\u001b[94mHonda\u001b[0m \u001b[1m\u001b[94m2013\u001b[0m which after reading numerous forums/posts realized I had to change the MACP setting to 1.4 from 1.5 which worked\n",
      "What do I need to do to just have normal bluetooth connections that don't require me to often reset my phone\n",
      "\u001b[1m\u001b[91mPioneer\u001b[0m \u001b[1m\u001b[91mhead\u001b[0m \u001b[1m\u001b[91munit\u001b[0m in our other car\n",
      "\u001b[1m\u001b[91mStock\u001b[0m \u001b[1m\u001b[91m2017\u001b[0m \u001b[1m\u001b[91mSubaru\u001b[0m \u001b[1m\u001b[91moutback\u001b[0m \u001b[1m\u001b[91mhead\u001b[0m \u001b[1m\u001b[91munit\u001b[0m\n",
      "I have a Pixel 2 running Android 10 and drive a \u001b[1m\u001b[94mBMW\u001b[0m \u001b[1m\u001b[94mi3\u001b[0m\n",
      "I've done a bunch of reading on BMW groups and the conclusion seems to be that its Google fault\n",
      "My phone has stopped automatically pairing with my \u001b[1m\u001b[91mSony\u001b[0m \u001b[1m\u001b[91mWF-1000xm3\u001b[0m \u001b[1m\u001b[91mheadphones\u001b[0m the \u001b[1m\u001b[91mSony\u001b[0m \u001b[1m\u001b[91msync\u001b[0m \u001b[1m\u001b[91msystem\u001b[0m in one car and the \u001b[1m\u001b[91mpioneer\u001b[0m \u001b[1m\u001b[91mhead\u001b[0m \u001b[1m\u001b[91munit\u001b[0m in the other\n",
      "How \u001b[1m\u001b[94mHonda\u001b[0m created the weapon that makes Red Bull title contenders\n",
      "Again some drawing and the \u001b[1m\u001b[94mAudi\u001b[0m \u001b[1m\u001b[94mQuattro\u001b[0m \u001b[1m\u001b[94mv8\u001b[0m as a pixel car\n",
      "Actually I don’t know the name...I think it’s a \u001b[1m\u001b[94mHonda\u001b[0m .. but it cost around 13.000...just look up for some 4 door cars\n",
      "How do you fix the pixel loss on an older \u001b[1m\u001b[94mAudi\u001b[0m \u001b[1m\u001b[94mA4\u001b[0m \u001b[1m\u001b[94m2002\u001b[0m\n",
      "Best Amazon Alexa Car Device: \u001b[1m\u001b[91mRoav\u001b[0m \u001b[1m\u001b[91mViva\u001b[0m \u001b[1m\u001b[91mby\u001b[0m \u001b[1m\u001b[91mAnker\u001b[0m\n",
      "The \u001b[1m\u001b[91mRoav\u001b[0m \u001b[1m\u001b[91mViva\u001b[0m came out in early 2018 and is an ingenious little accessory that plugs right into the power port/cigarette lighter in most cars\n",
      "Also on good quality speakers the highest audio optionals in my \u001b[1m\u001b[94mVolvo\u001b[0m I found it difficul to distinguish instruments in songs I know very well\n",
      "I'm inside a \u001b[1m\u001b[94mVolvo\u001b[0m \u001b[1m\u001b[94mVNL\u001b[0m \u001b[1m\u001b[94m780\u001b[0m\n",
      "It is now possible to connect a Bluetooth-capable mobile telephone to a \u001b[1m\u001b[94mVolvo\u001b[0m car audio and loudspeaker system\n",
      "So since I got my Pixel 3XL I haven't been able to use Andoid Auto because \u001b[1m\u001b[94mVW\u001b[0m doesn't support the Pixel 3 yet\n",
      "\u001b[1m\u001b[94mVW's\u001b[0m have supported Android Auto since 2015 and it not restricted based on the phone\n",
      "Finally there is a 'Bluetooth Compatibility List' for the \u001b[1m\u001b[94mSubarus\u001b[0m ; have you validated your phone is on that list\n",
      "From some limited research it seems to definitely be an Apple + Apple Watch issue and it affects many other brands of cars as well not just \u001b[1m\u001b[94mSubarus\u001b[0m\n",
      "So I have a \u001b[1m\u001b[94m2017\u001b[0m \u001b[1m\u001b[94mJaguar\u001b[0m \u001b[1m\u001b[94mXF\u001b[0m \u001b[1m\u001b[94m20d\u001b[0m \u001b[1m\u001b[94mPremium\u001b[0m\n",
      "So after taking it to a different dealership they were able to determine that my phone works with the other infosystem(larger version \u001b[1m\u001b[94mjaguar\u001b[0m has but not the one I currently have in my vehicle\n",
      "So I have owned my \u001b[1m\u001b[94mQ50\u001b[0m since oct of 2014 and Bluetooth was never an issues until this year in March\n",
      "I have a \u001b[1m\u001b[94m2018\u001b[0m \u001b[1m\u001b[94mInfiniti\u001b[0m \u001b[1m\u001b[94mQ60\u001b[0m Seems like others are having the same issue in many different types of makes and models\n",
      "How to connect Bluetooth to a \u001b[1m\u001b[94mLexus\u001b[0m\n",
      "How big is the display in the \u001b[1m\u001b[94m2021\u001b[0m \u001b[1m\u001b[94mLexus\u001b[0m \u001b[1m\u001b[94mES\u001b[0m\n",
      "What features does the \u001b[1m\u001b[91mLexus\u001b[0m \u001b[1m\u001b[91mSafety\u001b[0m \u001b[1m\u001b[91mSystem\u001b[0m \u001b[1m\u001b[91mPlus\u001b[0m \u001b[1m\u001b[91m2.0\u001b[0m have\n",
      "Ensure that the phone you are using is compatible with the \u001b[1m\u001b[91mLexus\u001b[0m \u001b[1m\u001b[91mBluetooth\u001b[0m \u001b[1m\u001b[91msystem\u001b[0m\n",
      "Instructions for Pairing My Bluetooth With My \u001b[1m\u001b[94mInfiniti\u001b[0m\n",
      "Some luxury cars like the \u001b[1m\u001b[94mG35\u001b[0m \u001b[1m\u001b[94mInfiniti\u001b[0m feature a Bluetooth-compatible audio system\n",
      "Has anyone had issues with iPhone X and Bluetooth connection to an older \u001b[1m\u001b[94mLexus\u001b[0m vehicle\n",
      "When I connect to my \u001b[1m\u001b[94m2010\u001b[0m \u001b[1m\u001b[94mIS350C\u001b[0m the people I am talking to hear only garbled audio\n",
      "This has been tested on a \u001b[1m\u001b[94m2009\u001b[0m \u001b[1m\u001b[94mIS250\u001b[0m and \u001b[1m\u001b[94m2010\u001b[0m \u001b[1m\u001b[94mCT200h\u001b[0m with identical issues on both vehicles\n",
      "\u001b[1m\u001b[94mLexus\u001b[0m weren't any help either stating that they do not offer any firmware updates on their vehicles but are beginning to notice issues with some Samsung phones and their vehicles\n",
      "I have a \u001b[1m\u001b[94m2014\u001b[0m \u001b[1m\u001b[94mct200h\u001b[0m without navigation\n",
      "I bought my \u001b[1m\u001b[94m2010\u001b[0m \u001b[1m\u001b[94mRX\u001b[0m in July of this year and my sales lady paired up my phone with the bluetooth and it was working fine\n",
      "Is your new phone listed by \u001b[1m\u001b[94mLexus\u001b[0m as an approved phone\n",
      "Why Won’t My Phone Connect to \u001b[1m\u001b[94mHyundai\u001b[0m Bluetooth\n",
      "If this is your first time attempting to pair your smartphone to the \u001b[1m\u001b[94mHyundai\u001b[0m vehicle’s Bluetooth then there is a small chance that your phone isn’t compatible with Bluetooth\n",
      "If you know that you’ve successfully connected your smartphone to the Bluetooth in your \u001b[1m\u001b[94mHyundai\u001b[0m before then there may be some other things to look into in order to find out why it isn’t working currently\n",
      "In just about any one of these cases adjustments are required to your smartphone to determine why the phone won’t connect to your \u001b[1m\u001b[94mHyundai\u001b[0m Bluetooth\n",
      "How to enable Bluetooth in your \u001b[1m\u001b[94mMercedes-Benz\u001b[0m\n",
      "Since \u001b[1m\u001b[94mMercedes-Benz\u001b[0m is constantly coming out with updated models for the new year the concept remains the same\n",
      "Wait for your \u001b[1m\u001b[94mMercedes\u001b[0m to find your phone and click on your phone once it found\n",
      "Hello I'm new to this forum I just recently bought my 3rd \u001b[1m\u001b[94mSaab\u001b[0m \u001b[1m\u001b[94mconvertible\u001b[0m\n",
      "I successfully bluetoothed my phone and the next day my \u001b[1m\u001b[94mSaab\u001b[0m bluetooth stopped working ,I can't get any detection that the car is even sending out a signal ,someone in the Saab industry told me that there was a problem with phones that had to much data on them could blow the Bluetooth \n",
      "I have a \u001b[1m\u001b[94m2009\u001b[0m \u001b[1m\u001b[94mSaab\u001b[0m \u001b[1m\u001b[94m9-3\u001b[0m with what I believe is one of the early problematic \u001b[1m\u001b[91mOnstar\u001b[0m \u001b[1m\u001b[91munits\u001b[0m that will not allow my iPhone to remain paired after the car is turned off\n",
      "\u001b[1m\u001b[94mNissan\u001b[0m keeps losing Bluetooth connectivity to my phone\n",
      "I have a \u001b[1m\u001b[94m2013\u001b[0m \u001b[1m\u001b[94mNissan\u001b[0m \u001b[1m\u001b[94mAltima\u001b[0m \u001b[1m\u001b[94mSV\u001b[0m\n",
      "Is this a known issue with \u001b[1m\u001b[94mNissans\u001b[0m\n",
      "My blurtooth in my \u001b[1m\u001b[94mNissan\u001b[0m \u001b[1m\u001b[94mAltima\u001b[0m 2015 was working for the last yr\n",
      "After testing dozens of models we think the \u001b[1m\u001b[91mBesign\u001b[0m \u001b[1m\u001b[91mBK01\u001b[0m Bluetooth Car Kit—which plugs into a car’s auxiliary-audio input aux-in jack—offers the best combination of sound quality phone usability and features\n",
      "As with some competitors the \u001b[1m\u001b[91mBK01\u001b[0m will also let you connect two phones at once and you can use the unit’s button to bring up Siri or Google Assistant for hands-free assistance\n",
      "The \u001b[1m\u001b[91mAnker\u001b[0m \u001b[1m\u001b[91mROAV\u001b[0m has been one of the more popular FM transmitter types on the market for many years\n",
      "The \u001b[1m\u001b[91mROAV\u001b[0m has some neat features you don’t find on other products including the ability to location mark your vehicle when you park\n",
      "The \u001b[1m\u001b[91mNulaxy\u001b[0m FM transmitter provides you with an excellent and highly functional solution to getting Bluetooth streaming in your older vehicle\n",
      "For example the \u001b[1m\u001b[91mZEEPORTE\u001b[0m device features three USB charging ports including one that uses the latest USB-C format for ultra-fast charging and reliable connection\n",
      "The \u001b[1m\u001b[91mMPow\u001b[0m \u001b[1m\u001b[91mBH298\u001b[0m has its own rechargeable battery so you don’t have to deal with wires running from the unit to your 12V plug like other options\n",
      "The \u001b[1m\u001b[91mJabra\u001b[0m \u001b[1m\u001b[91mFreeway\u001b[0m is one of the best hands-free solutions on the market\n",
      "The \u001b[1m\u001b[91mJabra\u001b[0m \u001b[1m\u001b[91mfreeway\u001b[0m can transmit music to your stereo using an FM transmitter or it can play music directly through its onboard speakers\n",
      "\u001b[1m\u001b[91mCrux\u001b[0m provides one of the most reliable Bluetooth devices for vehicles that are equipped with hands-free buttons but not a controller\n",
      "\u001b[1m\u001b[91mCrux\u001b[0m provides controllers for a wide range of vehicles\n",
      "When it comes to the best overall Bluetooth car kit with respect to cost functionality and dependability we love the \u001b[1m\u001b[91mMpow\u001b[0m \u001b[1m\u001b[91mMBR2\u001b[0m Bluetooth Car Kit\n",
      "Just because you’re a more budget-conscious consumer doesn’t mean you have to sacrifice quality for a low price and the \u001b[1m\u001b[91mSound\u001b[0m \u001b[1m\u001b[91mBot\u001b[0m \u001b[1m\u001b[91mSB360\u001b[0m Bluetooth Car Kit is a perfect example\n",
      "The \u001b[1m\u001b[91mAston\u001b[0m \u001b[1m\u001b[91mInnovations\u001b[0m Bluetooth Car Kit is a versatile device for car and home use\n",
      "If you’re looking for a durable and smartly designed Bluetooth car kit that offers multiple functions check out the \u001b[1m\u001b[91mSumind\u001b[0m Car Bluetooth FM Transmitter\n",
      "When it comes to premium quality and well-thought-out design the \u001b[1m\u001b[91mVeoPulse\u001b[0m \u001b[1m\u001b[91mCar\u001b[0m \u001b[1m\u001b[91mSpeakerphone\u001b[0m \u001b[1m\u001b[91mB-PRO\u001b[0m \u001b[1m\u001b[91m2B\u001b[0m \u001b[1m\u001b[91mHands-Free\u001b[0m \u001b[1m\u001b[91mkit\u001b[0m is not to be overlooked\n",
      "MoonJ This is happening to me too with a year old \u001b[1m\u001b[94mToyota\u001b[0m and an Iphone 7\n",
      "It isn't about the phone unpairing from bluetooth it is about the pairing causing the entire \u001b[1m\u001b[94mToyota\u001b[0m radio system to shutdown and reboot- repeatedly\n",
      "I setup a bluetooth connection to my car  \u001b[1m\u001b[94mHyundai\u001b[0m \u001b[1m\u001b[94mSante\u001b[0m \u001b[1m\u001b[94mFe\u001b[0m  and it works perfectly\n",
      "I don't think that they have the same system but I have a \u001b[1m\u001b[94m2014\u001b[0m \u001b[1m\u001b[94mCX-5\u001b[0m and my phone seems to be working with it flawlessly\n",
      "I have a \u001b[1m\u001b[94m2010\u001b[0m \u001b[1m\u001b[94mMazdaspeed\u001b[0m \u001b[1m\u001b[94m3\u001b[0m and my GS8+ connected no issue\n",
      "I have had issues with my car and pairing  \u001b[1m\u001b[94mToyota\u001b[0m \u001b[1m\u001b[94mCorolla\u001b[0m \n",
      "My car is a \u001b[1m\u001b[94mVW\u001b[0m \u001b[1m\u001b[94mGolf\u001b[0m\n",
      "It a \u001b[1m\u001b[94m2012\u001b[0m \u001b[1m\u001b[94mVolkswagen\u001b[0m \u001b[1m\u001b[94mJetta\u001b[0m \u001b[1m\u001b[94mgli\u001b[0m and sometimes it works and sometimes it doesn't\n",
      "Something wrong with my car \u001b[1m\u001b[94mInfiniti\u001b[0m \u001b[1m\u001b[94mQ60\u001b[0m while doing bluetooth pairing\n"
     ]
    }
   ],
   "source": [
    "word_set = set()\n",
    "label_c = label_a = label_o = 0\n",
    "for ri, r in df.iterrows():\n",
    "    words = r.sentence.split()\n",
    "    for i in range(len(words)):                \n",
    "        if words[i][-1] in \",.!?\":\n",
    "            words[i] = words[i][:-1]\n",
    "        elif words[i][-2:] == \"'s\":\n",
    "            words[i] = words[i][:-2]\n",
    "            \n",
    "        if words[i].startswith('('):\n",
    "            words[i] = words[i][1:]\n",
    "            \n",
    "        if words[i].endswith(')'):\n",
    "            words[i] = words[i][:-1]\n",
    "            \n",
    "    new_words = []\n",
    "    for w in words:\n",
    "        if w.endswith('\\_h'):\n",
    "            w = w[:-3]\n",
    "            word_set.add(w)\n",
    "            w = f\"{color.BOLD}{color.BLUE}{w}{color.END}\"\n",
    "            label_c += 1\n",
    "            \n",
    "        elif w.endswith('\\_a'):\n",
    "            w = w[:-3]\n",
    "            word_set.add(w)\n",
    "            w = f\"{color.BOLD}{color.RED}{w}{color.END}\"\n",
    "            label_a += 1\n",
    "        else:\n",
    "            label_o += 1\n",
    "            \n",
    "        new_words.append(w)        \n",
    "    print(\" \".join(new_words))"
   ]
  },
  {
   "cell_type": "code",
   "execution_count": 167,
   "metadata": {},
   "outputs": [
    {
     "name": "stdout",
     "output_type": "stream",
     "text": [
      "Total 2,651 O label(s); 208 C label(s) and 108 A label(s)\n"
     ]
    }
   ],
   "source": [
    "print(f\"Total {label_o:,d} O label(s); {label_c:,d} C label(s) and {label_a:,d} A label(s)\")"
   ]
  },
  {
   "cell_type": "markdown",
   "metadata": {},
   "source": [
    "We store a list of car brands for future reference and process in file `car_brand_list.txt`."
   ]
  },
  {
   "cell_type": "code",
   "execution_count": 153,
   "metadata": {},
   "outputs": [
    {
     "data": {
      "text/plain": [
       "[('peugeot',),\n",
       " ('kamaz',),\n",
       " ('geely',),\n",
       " ('derways',),\n",
       " ('chevrolet',),\n",
       " ('subaru',),\n",
       " ('land', 'rover'),\n",
       " ('mg',),\n",
       " ('lancia',),\n",
       " ('nissan',)]"
      ]
     },
     "execution_count": 153,
     "metadata": {},
     "output_type": "execute_result"
    }
   ],
   "source": [
    "car_brand_set = set()\n",
    "with open('car_brand_list.txt', 'r') as fo:\n",
    "    for line in fo:\n",
    "        line = line.lower()\n",
    "        car_brand_set.add(tuple(list(map(lambda w: w.lower(), line.split()))))\n",
    "    \n",
    "list(car_brand_set)[:10]"
   ]
  },
  {
   "cell_type": "markdown",
   "metadata": {},
   "source": [
    "We also keep many post to hold content without desired entity which can be used for training in directory `negative_posts`:"
   ]
  },
  {
   "cell_type": "code",
   "execution_count": 6,
   "metadata": {},
   "outputs": [],
   "source": [
    "NEGATIVE_DIR_PATH = 'negative_posts'"
   ]
  },
  {
   "cell_type": "markdown",
   "metadata": {},
   "source": [
    "<a id='sect2'></a>\n",
    "## <font color='darkblue'>Word2vec Solution</font> ([back](#sect0))\n",
    "* [**Fasttext**](#sect2_1)\n",
    "* [**Gensim**](#sect2_2)\n",
    "\n",
    "[**Word2vec**](https://en.wikipedia.org/wiki/Word2vec) is a technique for [natural language processing](https://en.wikipedia.org/wiki/Natural_language_processing). The word2vec algorithm uses a neural network model to learn word associations from a large [corpus of text](https://en.wikipedia.org/wiki/Corpus_of_text). Once trained, such a model can detect synonymous words or suggest additional words for a partial sentence.\n",
    "![1.png](images/1.png)\n",
    "<br/>"
   ]
  },
  {
   "cell_type": "markdown",
   "metadata": {},
   "source": [
    "<a id='sect2_1'></a>\n",
    "### <font color='darkgreen'>Fasttext - Word to vector</font>\n",
    "Here we will leverage [**Fasttext**](https://github.com/facebookresearch/fastText) package to help us to translate word into vector for later ML training. Instead of re-training a new Fasttext model, we will use exist trained model [here](https://fasttext.cc/docs/en/crawl-vectors.html) [cc.en.300.bin.gz](https://dl.fbaipublicfiles.com/fasttext/vectors-crawl/cc.en.300.bin.gz). Please click the link and download it:"
   ]
  },
  {
   "cell_type": "code",
   "execution_count": 7,
   "metadata": {},
   "outputs": [],
   "source": [
    "#!pip install fasttext"
   ]
  },
  {
   "cell_type": "code",
   "execution_count": 8,
   "metadata": {},
   "outputs": [],
   "source": [
    "#import fasttext.util\n",
    "\n",
    "#fasttext.util.download_model('en', if_exists='ignore')  # English\n",
    "#ft = fasttext.load_model('cc.en.300.bin')"
   ]
  },
  {
   "cell_type": "markdown",
   "metadata": {},
   "source": [
    "After that, below code will load the downloaded model:"
   ]
  },
  {
   "cell_type": "code",
   "execution_count": 9,
   "metadata": {},
   "outputs": [],
   "source": [
    "#import fasttext\n",
    "#import fasttext.util"
   ]
  },
  {
   "cell_type": "markdown",
   "metadata": {},
   "source": [
    "<a id='sect2_2'></a>\n",
    "### <font color='darkgreen'>Gensim - Word to vector</font>\n",
    "Here we will leverage [**Gensim**](https://radimrehurek.com/gensim/auto_examples/tutorials/run_word2vec.html) to help us to translate word into vector for later ML training."
   ]
  },
  {
   "cell_type": "code",
   "execution_count": 10,
   "metadata": {},
   "outputs": [
    {
     "name": "stderr",
     "output_type": "stream",
     "text": [
      "c:\\users\\john\\appdata\\local\\programs\\python\\python38\\lib\\site-packages\\gensim\\similarities\\__init__.py:15: UserWarning: The gensim.similarities.levenshtein submodule is disabled, because the optional Levenshtein package <https://pypi.org/project/python-Levenshtein/> is unavailable. Install Levenhstein (e.g. `pip install python-Levenshtein`) to suppress this warning.\n",
      "  warnings.warn(msg)\n"
     ]
    }
   ],
   "source": [
    "# Load in word vector translator\n",
    "import gensim.downloader as api\n",
    "\n",
    "wv = api.load('word2vec-google-news-300')"
   ]
  },
  {
   "cell_type": "code",
   "execution_count": 11,
   "metadata": {},
   "outputs": [
    {
     "name": "stdout",
     "output_type": "stream",
     "text": [
      "Total 32 unknown word(s) found!\n",
      "{'20d', '2011', '2018', 'Roav', 'Q50', '2017', '228', 'WF-1000xm3', '2021', 'jvc', 'entune', '2013', '2002', \"Civic's\", \"VW's\", '327', '228i', \"Toyota's\", '812', 'Q60', '911', '2020', 'HR-V', '2014', 'R-link', 'cr-v', 'Crosstrek', '780', 'BT-Splitter', 'HondaLink', '2019', '2015'}\n"
     ]
    }
   ],
   "source": [
    "unknown_word_set = set()\n",
    "for w in word_set:\n",
    "    try:\n",
    "        wv[w]\n",
    "    except:\n",
    "        unknown_word_set.add(w)\n",
    "        \n",
    "print(f\"Total {len(unknown_word_set)} unknown word(s) found!\")\n",
    "print(unknown_word_set)"
   ]
  },
  {
   "cell_type": "markdown",
   "metadata": {},
   "source": [
    "<a id='sect3'></a>\n",
    "## <font color='darkblue'>ML Models</font>\n",
    "Here we are going to explore some ML solutions to deal with NER problem."
   ]
  },
  {
   "cell_type": "markdown",
   "metadata": {},
   "source": [
    "### <font color='darkgreen'>CRF </font>\n",
    "Pleae refer to this [notebook](https://nbviewer.jupyter.org/github/johnklee/ml_articles/blob/master/medium/NLP_Guide_Identifying_Part_of_Speech_Tags_using_Conditional_Random_Fields/notebook.ipynb) for more details."
   ]
  },
  {
   "cell_type": "code",
   "execution_count": 12,
   "metadata": {},
   "outputs": [],
   "source": [
    "import nltk, re, pprint\n",
    "import numpy as np\n",
    "import pandas as pd\n",
    "import requests\n",
    "import matplotlib.pyplot as plt\n",
    "import seaborn as sns\n",
    "import pprint, time\n",
    "import random\n",
    "from sklearn.model_selection import train_test_split\n",
    "from nltk.tokenize import word_tokenize\n",
    "from sklearn_crfsuite import CRF\n",
    "from sklearn_crfsuite import metrics\n",
    "from sklearn_crfsuite import scorers\n",
    "from sklearn.model_selection import learning_curve\n",
    "from sklearn.model_selection import KFold,StratifiedKFold\n",
    "from collections import Counter\n",
    "import nltk\n",
    "#nltk.download(\"punkt\")"
   ]
  },
  {
   "cell_type": "code",
   "execution_count": 13,
   "metadata": {},
   "outputs": [],
   "source": [
    "def is_car_brand(sentence, index):\n",
    "    for car_brand in car_brand_set:\n",
    "        if ' '.join(car_brand) == ' '.join(list(map(lambda w: w.lower(), sentence[index:index+len(car_brand)]))):\n",
    "            return 1\n",
    "        \n",
    "    return 0\n",
    "\n",
    "def crf_features(sentence, index):\n",
    "    ### sentence is of the form [w1,w2,w3,..], index is the position of the word in the sentence\n",
    "    return {\n",
    "        'is_car_brand': is_car_brand(sentence, index),\n",
    "        'is_first_capital':int(sentence[index][0].isupper()),\n",
    "        'is_first_word': int(index==0),\n",
    "        'is_last_word':int(index==len(sentence)-1),\n",
    "        'is_complete_capital': int(sentence[index].upper()==sentence[index]),\n",
    "        'prev_word':'' if index==0 else sentence[index-1],\n",
    "        'prev_2word':'' if index<=1 else ''.join(sentence[index-2:index]),\n",
    "        'next_word':'' if index<=len(sentence)-1 else sentence[index+1],\n",
    "        'next_2word':'' if index<=len(sentence)-2 else sentence[index+1:index+2],\n",
    "        'is_numeric':int(sentence[index].isdigit()),\n",
    "        'is_alphanumeric': int(bool((re.match('^(?=.*[0-9]$)(?=.*[a-zA-Z])',sentence[index])))),\n",
    "        'prefix_1':sentence[index][0],\n",
    "        'prefix_2': sentence[index][:2],\n",
    "        'prefix_3':sentence[index][:3],\n",
    "        'prefix_4':sentence[index][:4],\n",
    "        'suffix_1':sentence[index][-1],\n",
    "        'suffix_2':sentence[index][-2:],\n",
    "        'suffix_3':sentence[index][-3:],\n",
    "        'suffix_4':sentence[index][-4:],\n",
    "        'word_has_hyphen': 1 if '-' in sentence[index] else 0  \n",
    "    }"
   ]
  },
  {
   "cell_type": "code",
   "execution_count": 114,
   "metadata": {},
   "outputs": [
    {
     "data": {
      "text/plain": [
       "1"
      ]
     },
     "execution_count": 114,
     "metadata": {},
     "output_type": "execute_result"
    }
   ],
   "source": [
    "# See if a word combination is treated a car brand or not\n",
    "is_car_brand(['bmw'], 0)"
   ]
  },
  {
   "cell_type": "code",
   "execution_count": 115,
   "metadata": {},
   "outputs": [
    {
     "name": "stdout",
     "output_type": "stream",
     "text": [
      "Mine is a Nissan\\_h Frontier\\_h with an aftermarket Kenwood\\_a touchscreen\\_a radio\\_a by the way.\n",
      "words: ['Mine', 'is', 'a', 'Nissan', 'Frontier', 'with', 'an', 'aftermarket', 'Kenwood', 'touchscreen', 'radio', 'by', 'the', 'way', '.']\n",
      "labels: ['o', 'o', 'o', 'c', 'c', 'o', 'o', 'o', 'a', 'a', 'a', 'o', 'o', 'o', 'o']\n",
      "\n",
      "{\n",
      "    \"is_alphanumeric\": 0,\n",
      "    \"is_car_brand\": 1,\n",
      "    \"is_complete_capital\": 0,\n",
      "    \"is_first_capital\": 1,\n",
      "    \"is_first_word\": 0,\n",
      "    \"is_last_word\": 0,\n",
      "    \"is_numeric\": 0,\n",
      "    \"next_2word\": \"\",\n",
      "    \"next_word\": \"\",\n",
      "    \"prefix_1\": \"N\",\n",
      "    \"prefix_2\": \"Ni\",\n",
      "    \"prefix_3\": \"Nis\",\n",
      "    \"prefix_4\": \"Niss\",\n",
      "    \"prev_2word\": \"isa\",\n",
      "    \"prev_word\": \"a\",\n",
      "    \"suffix_1\": \"n\",\n",
      "    \"suffix_2\": \"an\",\n",
      "    \"suffix_3\": \"san\",\n",
      "    \"suffix_4\": \"ssan\",\n",
      "    \"word_has_hyphen\": 0\n",
      "}\n"
     ]
    }
   ],
   "source": [
    "# See how a sentence is translated into CRF feature vector\n",
    "for ri, r in df.iterrows():\n",
    "    if '\\_a' in r.sentence and '\\_h' in r.sentence:\n",
    "        print(r.sentence)\n",
    "        words_with_label = nltk.tokenize.word_tokenize(r.sentence)\n",
    "        words, tags = [], []\n",
    "        for w in words_with_label:\n",
    "            if w.endswith('\\_h'):\n",
    "                tags.append('c')\n",
    "                w = w [:-3]\n",
    "            elif w.endswith('\\_a'):\n",
    "                tags.append('a')\n",
    "                w = w [:-3]\n",
    "            else:\n",
    "                tags.append('o')\n",
    "            words.append(w)\n",
    "          \n",
    "        print(f\"words: {words}\\nlabels: {tags}\\n\")\n",
    "        feat_4word = [crf_features(words, i) for i in range(len(words))][3]        \n",
    "        print(json.dumps(feat_4word, sort_keys=True, indent=4))\n",
    "        # y.append(tags)\n",
    "        break"
   ]
  },
  {
   "cell_type": "code",
   "execution_count": 16,
   "metadata": {},
   "outputs": [],
   "source": [
    "def get_crf_data():    \n",
    "    X, y = [], []\n",
    "    for ri, r in df.iterrows():\n",
    "        words_with_label = nltk.tokenize.word_tokenize(r.sentence)\n",
    "        words, tags = [], []\n",
    "        for w in words_with_label:\n",
    "            if w.endswith('\\_h'):\n",
    "                tags.append('c')\n",
    "                w = w [:-3]\n",
    "            elif w.endswith('\\_a'):\n",
    "                tags.append('a')\n",
    "                w = w [:-3]\n",
    "            else:\n",
    "                tags.append('o')\n",
    "            words.append(w)\n",
    "            \n",
    "        X.append([crf_features(words, i) for i in range(len(words))])\n",
    "        y.append(tags)\n",
    "        \n",
    "    for f in os.listdir(NEGATIVE_DIR_PATH):\n",
    "        fp = os.path.join(NEGATIVE_DIR_PATH, f)\n",
    "        with open(fp, 'r', encoding='utf8') as fo:\n",
    "            for i in range(4):\n",
    "                fo.readline()  # Skip URL and title\n",
    "                \n",
    "            post_content = fo.read()\n",
    "            sentences = list(filter(lambda s: s, map(lambda s: s.strip(), nltk.sent_tokenize(post_content))))\n",
    "            for sent in sentences:\n",
    "                tokens = nltk.tokenize.word_tokenize(sent)\n",
    "                X.append([crf_features(tokens, i) for i in range(len(tokens))])\n",
    "                y.append(['o'] * len(tokens))\n",
    "                    \n",
    "    return X, y"
   ]
  },
  {
   "cell_type": "code",
   "execution_count": 17,
   "metadata": {},
   "outputs": [],
   "source": [
    "# https://ithelp.ithome.com.tw/articles/10222958\n",
    "def plot_learning_curve(estimator, title, X, y, ylim=None, cv=None,\n",
    "                        n_jobs=1, train_sizes=np.linspace(.1, 1.0, 5)):\n",
    "    \"\"\"\n",
    "    Generate a simple plot of the test and training learning curve.\n",
    "\n",
    "    Parameters\n",
    "    ----------\n",
    "    estimator : object type that implements the \"fit\" and \"predict\" methods\n",
    "        An object of that type which is cloned for each validation.\n",
    "\n",
    "    title : string\n",
    "        Title for the chart.\n",
    "\n",
    "    X : array-like, shape (n_samples, n_features)\n",
    "        Training vector, where n_samples is the number of samples and\n",
    "        n_features is the number of features.\n",
    "\n",
    "    y : array-like, shape (n_samples) or (n_samples, n_features), optional\n",
    "        Target relative to X for classification or regression;\n",
    "        None for unsupervised learning.\n",
    "\n",
    "    ylim : tuple, shape (ymin, ymax), optional\n",
    "        Defines minimum and maximum yvalues plotted.\n",
    "\n",
    "    cv : int, cross-validation generator or an iterable, optional\n",
    "        Determines the cross-validation splitting strategy.\n",
    "        Possible inputs for cv are:\n",
    "          - None, to use the default 3-fold cross-validation,\n",
    "          - integer, to specify the number of folds.\n",
    "          - An object to be used as a cross-validation generator.\n",
    "          - An iterable yielding train/test splits.\n",
    "\n",
    "        For integer/None inputs, if ``y`` is binary or multiclass,\n",
    "        :class:`StratifiedKFold` used. If the estimator is not a classifier\n",
    "        or if ``y`` is neither binary nor multiclass, :class:`KFold` is used.\n",
    "\n",
    "        Refer :ref:`User Guide <cross_validation>` for the various\n",
    "        cross-validators that can be used here.\n",
    "\n",
    "    n_jobs : integer, optional\n",
    "        Number of jobs to run in parallel (default 1).\n",
    "    \"\"\"\n",
    "    plt.figure(figsize=(10,6))  #調整圖的大小\n",
    "    plt.title(title)\n",
    "    if ylim is not None:\n",
    "        plt.ylim(*ylim)\n",
    "    plt.xlabel(\"Training examples\")\n",
    "    plt.ylabel(\"Score\")\n",
    "    train_sizes, train_scores, test_scores = learning_curve(\n",
    "        estimator, X, y, cv=cv, n_jobs=n_jobs, train_sizes=train_sizes)\n",
    "    train_scores_mean = np.mean(train_scores, axis=1)\n",
    "    train_scores_std = np.std(train_scores, axis=1)\n",
    "    test_scores_mean = np.mean(test_scores, axis=1)\n",
    "    test_scores_std = np.std(test_scores, axis=1)\n",
    "    plt.grid()\n",
    "\n",
    "    plt.fill_between(train_sizes, train_scores_mean - train_scores_std,\n",
    "                     train_scores_mean + train_scores_std, alpha=0.1,\n",
    "                     color=\"r\")\n",
    "    plt.fill_between(train_sizes, test_scores_mean - test_scores_std,\n",
    "                     test_scores_mean + test_scores_std, alpha=0.1, color=\"g\")\n",
    "    plt.plot(train_sizes, train_scores_mean, 'o-', color=\"r\",\n",
    "             label=\"Training score\")\n",
    "    plt.plot(train_sizes, test_scores_mean, 'o-', color=\"g\",\n",
    "             label=\"Cross-validation score\")\n",
    "\n",
    "    plt.legend(loc=\"best\")\n",
    "    return plt"
   ]
  },
  {
   "cell_type": "code",
   "execution_count": 168,
   "metadata": {},
   "outputs": [
    {
     "name": "stdout",
     "output_type": "stream",
     "text": [
      "We total have 659 records for training!\n"
     ]
    }
   ],
   "source": [
    "X, y = get_crf_data()\n",
    "print(f\"We total have {len(X):,d} records for training!\")"
   ]
  },
  {
   "cell_type": "code",
   "execution_count": 169,
   "metadata": {},
   "outputs": [
    {
     "name": "stderr",
     "output_type": "stream",
     "text": [
      "c:\\users\\john\\appdata\\local\\programs\\python\\python38\\lib\\site-packages\\sklearn\\base.py:193: FutureWarning: From version 0.24, get_params will raise an AttributeError if a parameter cannot be retrieved as an instance attribute. Previously it would return None.\n",
      "  warnings.warn('From version 0.24, get_params will raise an '\n"
     ]
    },
    {
     "data": {
      "text/plain": [
       "CRF(algorithm='lbfgs', all_possible_states=None, all_possible_transitions=True,\n",
       "    averaging=None, c=None, c1=0.01, c2=0.1, calibration_candidates=None,\n",
       "    calibration_eta=None, calibration_max_trials=None, calibration_rate=None,\n",
       "    calibration_samples=None, delta=None, epsilon=None, error_sensitive=None,\n",
       "    gamma=None, keep_tempfiles=None, linesearch=None, max_iterations=100,\n",
       "    max_linesearch=None, min_freq=None, model_filename=None, num_memories=None,\n",
       "    pa_type=None, period=None, trainer_cls=None, variance=None, verbose=False)"
      ]
     },
     "execution_count": 169,
     "metadata": {},
     "output_type": "execute_result"
    }
   ],
   "source": [
    "crf = CRF(\n",
    "    algorithm='lbfgs',\n",
    "    c1=0.01,\n",
    "    c2=0.1,\n",
    "    max_iterations=100,\n",
    "    all_possible_transitions=True\n",
    ")\n",
    "\n",
    "crf.fit(X, y)"
   ]
  },
  {
   "cell_type": "code",
   "execution_count": 170,
   "metadata": {},
   "outputs": [
    {
     "name": "stdout",
     "output_type": "stream",
     "text": [
      "F1 score on Test Data \n",
      "0.99989\n",
      "              precision    recall  f1-score   support\n",
      "\n",
      "           o      1.000     1.000     1.000     17322\n",
      "           c      0.995     1.000     0.998       208\n",
      "           a      0.991     1.000     0.995       108\n",
      "\n",
      "    accuracy                          1.000     17638\n",
      "   macro avg      0.995     1.000     0.998     17638\n",
      "weighted avg      1.000     1.000     1.000     17638\n",
      "\n"
     ]
    }
   ],
   "source": [
    "y_pred=crf.predict(X)\n",
    "print(\"F1 score on Test Data \")\n",
    "print(f\"{metrics.flat_f1_score(y, y_pred,average='weighted', labels=crf.classes_):.05f}\")\n",
    "\n",
    "### Look at class wise score\n",
    "print(metrics.flat_classification_report(\n",
    "    y, y_pred, labels=crf.classes_, digits=3\n",
    "))"
   ]
  },
  {
   "cell_type": "code",
   "execution_count": 21,
   "metadata": {},
   "outputs": [
    {
     "name": "stdout",
     "output_type": "stream",
     "text": [
      "Number of Transition Features \n"
     ]
    },
    {
     "data": {
      "text/plain": [
       "9"
      ]
     },
     "execution_count": 21,
     "metadata": {},
     "output_type": "execute_result"
    }
   ],
   "source": [
    "print(\"Number of Transition Features \")\n",
    "len(crf.transition_features_)"
   ]
  },
  {
   "cell_type": "code",
   "execution_count": 22,
   "metadata": {},
   "outputs": [
    {
     "data": {
      "text/plain": [
       "[(('o', 'o'), 2.593967),\n",
       " (('a', 'a'), 2.589403),\n",
       " (('c', 'c'), 2.304625),\n",
       " (('c', 'o'), -1.051883),\n",
       " (('a', 'c'), -1.216377),\n",
       " (('o', 'c'), -1.485063),\n",
       " (('o', 'a'), -1.491975),\n",
       " (('c', 'a'), -1.587962),\n",
       " (('a', 'o'), -1.741352)]"
      ]
     },
     "execution_count": 22,
     "metadata": {},
     "output_type": "execute_result"
    }
   ],
   "source": [
    "Counter(crf.transition_features_).most_common(20)"
   ]
  },
  {
   "cell_type": "code",
   "execution_count": 23,
   "metadata": {},
   "outputs": [
    {
     "name": "stdout",
     "output_type": "stream",
     "text": [
      "Number of State Features  2537\n"
     ]
    }
   ],
   "source": [
    "print(\"Number of State Features \",len(crf.state_features_))"
   ]
  },
  {
   "cell_type": "code",
   "execution_count": 24,
   "metadata": {},
   "outputs": [
    {
     "data": {
      "text/plain": [
       "[(('is_car_brand', 'c'), 2.344264),\n",
       " ((\"suffix_2:'s\", 'c'), 1.242003),\n",
       " (('prefix_2:VW', 'c'), 1.198287),\n",
       " (('is_first_capital', 'c'), 1.145447),\n",
       " (('is_numeric', 'c'), 1.110055),\n",
       " (('suffix_3:rus', 'c'), 1.106186),\n",
       " (('suffix_4:arus', 'c'), 1.106186),\n",
       " (('prefix_1:V', 'c'), 1.075744),\n",
       " (('prev_word:Toyota', 'c'), 1.065196),\n",
       " (('is_last_word', 'o'), 1.013192),\n",
       " (('prev_2word:producedby', 'o'), 0.992509),\n",
       " (('next_word:', 'o'), 0.960854),\n",
       " (('suffix_1:e', 'o'), 0.920101),\n",
       " (('prev_word:BMW', 'c'), 0.904906),\n",
       " (('suffix_1:k', 'a'), 0.900953),\n",
       " (('prefix_4:Suba', 'c'), 0.897007),\n",
       " (('prefix_2:20', 'c'), 0.890971),\n",
       " (('suffix_2:us', 'c'), 0.880394),\n",
       " (('suffix_3:eer', 'a'), 0.86181),\n",
       " (('suffix_4:neer', 'a'), 0.86181)]"
      ]
     },
     "execution_count": 24,
     "metadata": {},
     "output_type": "execute_result"
    }
   ],
   "source": [
    "Counter(crf.state_features_).most_common(20)"
   ]
  },
  {
   "cell_type": "markdown",
   "metadata": {},
   "source": [
    "Next, let's check how model improve along with the increase of training data size:"
   ]
  },
  {
   "cell_type": "code",
   "execution_count": 171,
   "metadata": {},
   "outputs": [
    {
     "data": {
      "text/plain": [
       "<module 'matplotlib.pyplot' from 'c:\\\\users\\\\john\\\\appdata\\\\local\\\\programs\\\\python\\\\python38\\\\lib\\\\site-packages\\\\matplotlib\\\\pyplot.py'>"
      ]
     },
     "execution_count": 171,
     "metadata": {},
     "output_type": "execute_result"
    },
    {
     "data": {
      "image/png": "[encoded data removed]",
      "text/plain": [
       "<Figure size 720x432 with 1 Axes>"
      ]
     },
     "metadata": {
      "needs_background": "light"
     },
     "output_type": "display_data"
    }
   ],
   "source": [
    "cv = KFold(n_splits=10, random_state=4, shuffle=True)\n",
    "estimator = crf\n",
    "\n",
    "plot_learning_curve(\n",
    "    estimator, \"CRF\",\n",
    "    X, \n",
    "    y, \n",
    "    cv=cv, \n",
    "    train_sizes=np.linspace(0.2, 1.0, 5)\n",
    ")"
   ]
  },
  {
   "cell_type": "markdown",
   "metadata": {},
   "source": [
    "#### Evaluation of model manually\n",
    "Let's feed in our own sentence(s) and check how model perform in real world:"
   ]
  },
  {
   "cell_type": "code",
   "execution_count": 127,
   "metadata": {},
   "outputs": [],
   "source": [
    "def sent2crf_feature(sent):\n",
    "    words = list(nltk.tokenize.word_tokenize(sent))\n",
    "    sent_crf_feat = [crf_features(words, i) for i in range(len(words))]\n",
    "    return words, [sent_crf_feat]\n",
    "\n",
    "\n",
    "def predict(sent):\n",
    "    words, crf_feats = sent2crf_feature(sent)\n",
    "    tags = crf.predict(crf_feats)[0]\n",
    "    print(f\"words={words}\\ntags={tags}\\n\")\n",
    "    colorful_words = []\n",
    "    for w, t in zip(words, tags):\n",
    "        if t == 'c':\n",
    "            w = f\"{color.BOLD}{color.BLUE}{w}{color.END}\"\n",
    "        elif t == 'a':\n",
    "            w = f\"{color.BOLD}{color.RED}{w}{color.END}\"        \n",
    "            \n",
    "        colorful_words.append(w)\n",
    "    \n",
    "    print(\" \".join(colorful_words))\n",
    "    "
   ]
  },
  {
   "cell_type": "code",
   "execution_count": 128,
   "metadata": {},
   "outputs": [
    {
     "name": "stdout",
     "output_type": "stream",
     "text": [
      "words=['My', 'car', 'MAZDA', 'MX-5', 'RF', 'has', 'bluetooth', 'pairing', 'issue', '.']\n",
      "tags=['o', 'o', 'c', 'c', 'c', 'o', 'o', 'o', 'o', 'o']\n",
      "\n",
      "My car \u001b[1m\u001b[94mMAZDA\u001b[0m \u001b[1m\u001b[94mMX-5\u001b[0m \u001b[1m\u001b[94mRF\u001b[0m has bluetooth pairing issue .\n"
     ]
    }
   ],
   "source": [
    "my_sent=\"My car MAZDA MX-5 RF has bluetooth pairing issue.\"\n",
    "predict(my_sent)"
   ]
  },
  {
   "cell_type": "code",
   "execution_count": 136,
   "metadata": {},
   "outputs": [
    {
     "name": "stdout",
     "output_type": "stream",
     "text": [
      "words=['I', 'setup', 'a', 'bluetooth', 'connection', 'to', 'my', 'car', '(', 'Hyundai', 'Sante', 'Fe', ')', 'and', 'it', 'works', 'perfectly', '.']\n",
      "tags=['o', 'o', 'o', 'o', 'o', 'o', 'o', 'o', 'o', 'c', 'c', 'c', 'o', 'o', 'o', 'o', 'o', 'o']\n",
      "\n",
      "I setup a bluetooth connection to my car ( \u001b[1m\u001b[94mHyundai\u001b[0m \u001b[1m\u001b[94mSante\u001b[0m \u001b[1m\u001b[94mFe\u001b[0m ) and it works perfectly .\n"
     ]
    }
   ],
   "source": [
    "my_sent=\"I setup a bluetooth connection to my car (Hyundai Sante Fe) and it works perfectly.\"\n",
    "predict(my_sent)"
   ]
  },
  {
   "cell_type": "code",
   "execution_count": 173,
   "metadata": {},
   "outputs": [
    {
     "name": "stdout",
     "output_type": "stream",
     "text": [
      "words=['I', 'can', 'pair', 'my', 'phone', 'with', 'my', 'car', '(', 'Toyota', 'RAV4', ')', 'but', 'neither', 'profile', '(', 'phone', 'or', 'audio', ')', 'successfully', 'connects', 'and', 'the', 'pairing', 'eventually', 'fails', '.']\n",
      "tags=['o', 'o', 'o', 'o', 'o', 'o', 'o', 'o', 'o', 'c', 'c', 'o', 'o', 'o', 'o', 'o', 'o', 'o', 'o', 'o', 'o', 'o', 'o', 'o', 'o', 'o', 'o', 'o']\n",
      "\n",
      "I can pair my phone with my car ( \u001b[1m\u001b[94mToyota\u001b[0m \u001b[1m\u001b[94mRAV4\u001b[0m ) but neither profile ( phone or audio ) successfully connects and the pairing eventually fails .\n"
     ]
    }
   ],
   "source": [
    "my_sent=\"I can pair my phone with my car (Toyota RAV4) but neither profile (phone or audio) successfully connects and the pairing eventually fails.\"\n",
    "predict(my_sent)"
   ]
  },
  {
   "cell_type": "markdown",
   "metadata": {},
   "source": [
    "## <font color='darkblue'>Supplement</font>\n",
    "* [All Car Brands](https://www.carlogos.org/car-brands/)\n",
    "* [FAQ - How to handle unknown word in Gensim?](https://stackoverflow.com/questions/54709178/how-to-handle-words-that-are-not-in-word2vecs-vocab-optimally)"
   ]
  }
 ],
 "metadata": {
  "kernelspec": {
   "display_name": "Python 3",
   "language": "python",
   "name": "python3"
  },
  "language_info": {
   "codemirror_mode": {
    "name": "ipython",
    "version": 3
   },
   "file_extension": ".py",
   "mimetype": "text/x-python",
   "name": "python",
   "nbconvert_exporter": "python",
   "pygments_lexer": "ipython3",
   "version": "3.8.7"
  }
 },
 "nbformat": 4,
 "nbformat_minor": 4
}
