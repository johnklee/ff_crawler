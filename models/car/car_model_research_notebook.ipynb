{
 "cells": [
  {
   "cell_type": "markdown",
   "metadata": {},
   "source": [
    "## <font color='darkblue'>Preface</font>\n",
    "Here we are going to work on the model to extract Car type/model/accessories from article/post."
   ]
  },
  {
   "cell_type": "code",
   "execution_count": 1,
   "metadata": {},
   "outputs": [],
   "source": [
    "import pandas as pd\n",
    "pd.set_option('display.max_colwidth', None)\n",
    "\n",
    "class color:\n",
    "   PURPLE = '\\033[95m'\n",
    "   CYAN = '\\033[96m'\n",
    "   DARKCYAN = '\\033[36m'\n",
    "   BLUE = '\\033[94m'\n",
    "   GREEN = '\\033[92m'\n",
    "   YELLOW = '\\033[93m'\n",
    "   RED = '\\033[91m'\n",
    "   BOLD = '\\033[1m'\n",
    "   UNDERLINE = '\\033[4m'\n",
    "   END = '\\033[0m'"
   ]
  },
  {
   "cell_type": "markdown",
   "metadata": {},
   "source": [
    "## <font color='darkblue'>Data Set</font>\n",
    "We collect and label our data from dumped data [here](https://drive.google.com/file/d/1LTyPKtafRQnQp-DslpjBM5QUWoxAtSTY/view?usp=sharing). Let's load labelling data back for future process:"
   ]
  },
  {
   "cell_type": "code",
   "execution_count": 2,
   "metadata": {},
   "outputs": [
    {
     "data": {
      "text/html": [
       "<div>\n",
       "<style scoped>\n",
       "    .dataframe tbody tr th:only-of-type {\n",
       "        vertical-align: middle;\n",
       "    }\n",
       "\n",
       "    .dataframe tbody tr th {\n",
       "        vertical-align: top;\n",
       "    }\n",
       "\n",
       "    .dataframe thead th {\n",
       "        text-align: right;\n",
       "    }\n",
       "</style>\n",
       "<table border=\"1\" class=\"dataframe\">\n",
       "  <thead>\n",
       "    <tr style=\"text-align: right;\">\n",
       "      <th></th>\n",
       "      <th>kw</th>\n",
       "      <th>sentence</th>\n",
       "    </tr>\n",
       "  </thead>\n",
       "  <tbody>\n",
       "    <tr>\n",
       "      <th>0</th>\n",
       "      <td>Tesla Model 3</td>\n",
       "      <td>The Tesla\\_h Model\\_h 3\\_h is an American four-door saloon car with rear- or -four-wheel drive, seating for five people at a pinch, and a touchscreen inside.</td>\n",
       "    </tr>\n",
       "    <tr>\n",
       "      <th>1</th>\n",
       "      <td>Tesla Model 3</td>\n",
       "      <td>We think right now may be the best time to buy a Tesla\\_h Model\\_h 3\\_h.</td>\n",
       "    </tr>\n",
       "    <tr>\n",
       "      <th>2</th>\n",
       "      <td>BMW 228 Gran Coupe</td>\n",
       "      <td>The BMW\\_h 228\\_h Gran\\_h Coupe\\_h is a sedan.</td>\n",
       "    </tr>\n",
       "    <tr>\n",
       "      <th>3</th>\n",
       "      <td>228 Gran Coupe</td>\n",
       "      <td>The 2021 228\\_h Gran\\_h Coupe\\_h starts at $35,700 (MSRP), with a destination charge of $995.</td>\n",
       "    </tr>\n",
       "    <tr>\n",
       "      <th>4</th>\n",
       "      <td>Toyota Avalon</td>\n",
       "      <td>The Toyota\\_h Avalon\\_h is a sedan.</td>\n",
       "    </tr>\n",
       "  </tbody>\n",
       "</table>\n",
       "</div>"
      ],
      "text/plain": [
       "                   kw  \\\n",
       "0       Tesla Model 3   \n",
       "1       Tesla Model 3   \n",
       "2  BMW 228 Gran Coupe   \n",
       "3      228 Gran Coupe   \n",
       "4       Toyota Avalon   \n",
       "\n",
       "                                                                                                                                                        sentence  \n",
       "0  The Tesla\\_h Model\\_h 3\\_h is an American four-door saloon car with rear- or -four-wheel drive, seating for five people at a pinch, and a touchscreen inside.  \n",
       "1                                                                                       We think right now may be the best time to buy a Tesla\\_h Model\\_h 3\\_h.  \n",
       "2                                                                                                                The BMW\\_h 228\\_h Gran\\_h Coupe\\_h is a sedan.   \n",
       "3                                                                  The 2021 228\\_h Gran\\_h Coupe\\_h starts at $35,700 (MSRP), with a destination charge of $995.  \n",
       "4                                                                                                                            The Toyota\\_h Avalon\\_h is a sedan.  "
      ]
     },
     "execution_count": 2,
     "metadata": {},
     "output_type": "execute_result"
    }
   ],
   "source": [
    "df = pd.read_csv(\"datas.csv\")\n",
    "df.head()"
   ]
  },
  {
   "cell_type": "code",
   "execution_count": 22,
   "metadata": {},
   "outputs": [
    {
     "name": "stdout",
     "output_type": "stream",
     "text": [
      "The \u001b[1m\u001b[94mTesla\u001b[0m \u001b[1m\u001b[94mModel\u001b[0m \u001b[1m\u001b[94m3\u001b[0m is an American four-door saloon car with rear- or -four-wheel drive seating for five people at a pinch and a touchscreen inside\n",
      "We think right now may be the best time to buy a \u001b[1m\u001b[94mTesla\u001b[0m \u001b[1m\u001b[94mModel\u001b[0m \u001b[1m\u001b[94m3\u001b[0m\n",
      "The \u001b[1m\u001b[94mBMW\u001b[0m \u001b[1m\u001b[94m228\u001b[0m \u001b[1m\u001b[94mGran\u001b[0m \u001b[1m\u001b[94mCoupe\u001b[0m is a sedan\n",
      "The 2021 \u001b[1m\u001b[94m228\u001b[0m \u001b[1m\u001b[94mGran\u001b[0m \u001b[1m\u001b[94mCoupe\u001b[0m starts at $35,700 MSRP with a destination charge of $995\n",
      "The \u001b[1m\u001b[94mToyota\u001b[0m \u001b[1m\u001b[94mAvalon\u001b[0m is a sedan\n",
      "The \u001b[1m\u001b[94mToyota\u001b[0m \u001b[1m\u001b[94mAvalon\u001b[0m is a full-size car produced by Toyota\n",
      "The \u001b[1m\u001b[94mBMW\u001b[0m \u001b[1m\u001b[94m327\u001b[0m is a medium-sized touring coupé produced by the Bavarian firm between 1937 and 1941\n",
      "In the shark nose of the \u001b[1m\u001b[94mFerrari\u001b[0m \u001b[1m\u001b[94m812\u001b[0m \u001b[1m\u001b[94mGTS\u001b[0m is a 6.5-litre V12 engine free of turbos and able to rev to almost 9,000rpm as a result\n",
      "Equip your \u001b[1m\u001b[94mFerrari\u001b[0m \u001b[1m\u001b[94m812\u001b[0m with the Novitec Aero Kit\n",
      "I just bought at \u001b[1m\u001b[94m2015\u001b[0m \u001b[1m\u001b[94mFord\u001b[0m \u001b[1m\u001b[94mfocus\u001b[0m back at the end of September and have been enjoying it up until a week ago when the Bluetooth stopped pairing and would just say disconnected\n",
      "\u001b[1m\u001b[94m2015\u001b[0m \u001b[1m\u001b[94mFord\u001b[0m \u001b[1m\u001b[94mFocus\u001b[0m bluetooth SYNC issue\n",
      "On the racetrack the sound of the of the \u001b[1m\u001b[94mPorsche\u001b[0m \u001b[1m\u001b[94m911\u001b[0m \u001b[1m\u001b[94mGT3\u001b[0m exhaust sys- tem is unmistakable\n",
      "\u001b[1m\u001b[94mPorsche\u001b[0m \u001b[1m\u001b[94m911\u001b[0m Bluetooth Speaker is both stunning and bonkers yours for $550\n",
      "The \u001b[1m\u001b[94m2021\u001b[0m \u001b[1m\u001b[94mHonda\u001b[0m \u001b[1m\u001b[94mCivic's\u001b[0m #1 ranking is based on its score within the Compact Cars category\n",
      "The tenth-generation \u001b[1m\u001b[94mHonda\u001b[0m \u001b[1m\u001b[94mCivic\u001b[0m is a great alternative choice in the hatchback class\n",
      "The hatch gets all the focus but the RS sedan is a competitive offering within the \u001b[1m\u001b[94mHonda\u001b[0m \u001b[1m\u001b[94mCivic\u001b[0m range\n",
      "How to connect Bluetooth on \u001b[1m\u001b[94mHonda\u001b[0m \u001b[1m\u001b[94mOdyssey\u001b[0m\n",
      "This tutorial video explains the connection and trouble-shooting process on all \u001b[1m\u001b[94m2015\u001b[0m \u001b[1m\u001b[94mOdyssey\u001b[0m \u001b[1m\u001b[94mmodels\u001b[0m with iPhone and Android phones\n",
      "The new \u001b[1m\u001b[94mToyota\u001b[0m \u001b[1m\u001b[94mMirai\u001b[0m features several Entune apps that seamlessly connect your life with your car\n",
      "How to Pair Your Phone via Bluetooth to the \u001b[1m\u001b[94m2021\u001b[0m \u001b[1m\u001b[94mToyota\u001b[0m \u001b[1m\u001b[94mSienna\u001b[0m\n",
      "I have a \u001b[1m\u001b[94m2019\u001b[0m \u001b[1m\u001b[94mHonda\u001b[0m \u001b[1m\u001b[94mCRV\u001b[0m that is only 9 months old\n",
      "Issues with audio and bluetooth since installing android 11 I am having the same issue on a Pixel2\n",
      "\u001b[1m\u001b[94m2020\u001b[0m \u001b[1m\u001b[94mToyota\u001b[0m \u001b[1m\u001b[94mCamry\u001b[0m \u001b[1m\u001b[94mHybrid\u001b[0m Pixel 4a connects using bluetooth but can't get directions\n",
      "In my \u001b[1m\u001b[94mCamry\u001b[0m \u001b[1m\u001b[94mHybrid\u001b[0m Pixel 4a connects and works as long as I set the radio source to bluetooth\n",
      "I thought it was the \u001b[1m\u001b[94mToyota's\u001b[0m fault but my wife's Motorola G7 works like I'd expect--the directions just interrupt the radio on the car speakers\n",
      "Bluetooth no longer connects to the 'Bluetooth Audio' function in my \u001b[1m\u001b[94m2011\u001b[0m \u001b[1m\u001b[94mFord\u001b[0m \u001b[1m\u001b[94mEscape\u001b[0m\n",
      "I've reset the audio back to factory on my car\n",
      "The last thing I haven't tried is factory resetting my phone\n",
      "I am trying to use my 4a5g to mirror to my \u001b[1m\u001b[91mjvc\u001b[0m \u001b[1m\u001b[91mcar\u001b[0m \u001b[1m\u001b[91mstereo\u001b[0m \u001b[1m\u001b[91mreceiver\u001b[0m\n",
      "Trying to mirror phone to \u001b[1m\u001b[91mjvc\u001b[0m \u001b[1m\u001b[91mcar\u001b[0m \u001b[1m\u001b[91mstereo\u001b[0m\n",
      "Ever since obtaining my Google Pixel 5 in November I have had issues with connecting it to car Bluetooth\n",
      "When I connect to my car \u001b[1m\u001b[94m2015\u001b[0m \u001b[1m\u001b[94mSubaru\u001b[0m \u001b[1m\u001b[94mCrosstrek\u001b[0m I have gotten one of three screens pic attached\n",
      "Again this is happening while music is playing though my phone on the car speakers\n",
      "I have ran into similar problems on at least one other car \u001b[1m\u001b[94m2015\u001b[0m \u001b[1m\u001b[94mHonda\u001b[0m \u001b[1m\u001b[94mCivic\u001b[0m\n",
      "Furthermore I do not have any issue with the audio itself\n",
      "This issue is exclusively with the controls\n",
      "I have exhausted most of troubleshooting capabilities\n",
      "And I have not found any similar issues online\n",
      "I have had this phone with other vehicles and the Bluetooth connection was always fine\n",
      "It's a \u001b[1m\u001b[94m2020\u001b[0m \u001b[1m\u001b[94mHonda\u001b[0m insight\n",
      "One time I had problems and it fully disconnected and deleted the car from my Bluetooth was when several group text messages arrived\n",
      "Sometimes every other week.I have to pull over and reconnect the phone to my car as the phone has deleted it from the devices\n",
      "Sometimes if I disconnect and reconnect the phone by USB it will connect\n",
      "This has been going on since October when I got the vehicle\n",
      "After Pairing my Pixel 4a with my car infotainment of the car crashes \u001b[1m\u001b[94mBMW\u001b[0m \u001b[1m\u001b[94mi3\u001b[0m Every time when I pair the pixel 4a with my car the infotainment of the car crashes\n",
      "When I use a different smartphone I don't have any issue it seems to be related to my phone.I did a factory reset of the Pixel - no success\n",
      "Problems with Android Auto connection and phone calls Often when connecting to Android Auto  \u001b[1m\u001b[91mRenault\u001b[0m \u001b[1m\u001b[91mKangoo\u001b[0m \u001b[1m\u001b[91mR-link\u001b[0m \u001b[1m\u001b[91m1\u001b[0m )phone calls will not come through car audio\n",
      "Howdy so I got my Pixel 4a yesterday and immediately hopped it up to 11 Everything seemed fine at first but now I'm having a weird issue with playback in my car\n",
      "I have a \u001b[1m\u001b[94m2020\u001b[0m \u001b[1m\u001b[94mRav4\u001b[0m \u001b[1m\u001b[94mHybrid\u001b[0m with the radio upgrade\n",
      "So I'm thinking okay bluetooth issues\n",
      "But I have Soundbeats Liberty Pros and I mowed the lawn yesterday for an hour without issue\n",
      "I don't know if Android Auto pipes everything through the cable though\n",
      "I'd assume so but when setting it up it mentions bluetooth pairing\n",
      "If I click the \u001b[1m\u001b[94mToyota\u001b[0m \u001b[1m\u001b[94mRAV4\u001b[0m output and change it to phone\n",
      "Android Auto or Bluetooth Youtube Music and Google Play music stops sending music but it's like it doesn't know it's not playing\n",
      "Mine is a \u001b[1m\u001b[94mNissan\u001b[0m \u001b[1m\u001b[94mFrontier\u001b[0m with an aftermarket \u001b[1m\u001b[91mKenwood\u001b[0m \u001b[1m\u001b[91mtouchscreen\u001b[0m \u001b[1m\u001b[91mradio\u001b[0m by the way\n",
      "Worked fine with my Note 9 No issues when using Spotify\n",
      "Other than streaming through the car everything else has been excellent\n",
      "Considering that the car is this same I'm guess that this is purely an issue with the Pixel and not the car\n",
      "Has anyone with \u001b[1m\u001b[91mFord\u001b[0m \u001b[1m\u001b[91msync\u001b[0m in their car had any luck getting song titles and info to appear on their infotainment system\n",
      "Normally I would assume that this is just how the Sync OS handled metadata over Bluetooth and call it a day but my old Pixel 3 displayed the info correctly so I'm wondering if there is anything I could do on my end to fix this\n",
      "Car Bluetooth issues Pixel 5 coming from 3a. I have the same issue \u001b[1m\u001b[94m2015\u001b[0m \u001b[1m\u001b[94mHonda\u001b[0m \u001b[1m\u001b[94mCivic\u001b[0m\n",
      "However just recently when my phone connects to my car \u001b[1m\u001b[94mhonda\u001b[0m \u001b[1m\u001b[94mcr-v\u001b[0m via bluetooth I'm unable to play music\n",
      "I have a \u001b[1m\u001b[94m2014\u001b[0m \u001b[1m\u001b[94mToyota\u001b[0m \u001b[1m\u001b[94mCorolla\u001b[0m\n",
      "I already tried removing the profile from both phone and car restarted phone restarted car no luck\n",
      "Lost ability to control media over Bluetooth in car I also recently started having this issue with a pixel 2 3 XL and 4a in a \u001b[1m\u001b[94mmazda\u001b[0m\n",
      "When I get in my car and start driving away from my house if I time it just so that it's trying to connect as I get out of my wifi range it's a \u001b[1m\u001b[94m2015\u001b[0m \u001b[1m\u001b[94mmazda\u001b[0m so the bluetooth takes a while to start up it will fail to connect until it gets itself on LTE\n",
      "When I'm at home and I am playing a podcast and decide to download it bluetooth disconnects until the download is done then reconnects\n",
      "Pixel 4a trouble with Bluetooth in my \u001b[1m\u001b[94m2015\u001b[0m \u001b[1m\u001b[94mHonda\u001b[0m \u001b[1m\u001b[94mcivic\u001b[0m Pixel 4a Hey there\n",
      "Pixel 3xl HondaLink bluetooth connection issues recently bought a used \u001b[1m\u001b[94m2017\u001b[0m \u001b[1m\u001b[94mHonda\u001b[0m \u001b[1m\u001b[94mHR-V\u001b[0m that uses \u001b[1m\u001b[91mHondaLink\u001b[0m to connect via bluetooth\n",
      "Pixel 5 Will Not Autoplay in Car I had a Pixel 2 XL for a few years and when it connected to my \u001b[1m\u001b[91mFord\u001b[0m \u001b[1m\u001b[91mSync\u001b[0m \u001b[1m\u001b[91m3\u001b[0m system it would always autplay the most recently used audio app Play Music Spotify Podcasts etc.\n",
      "I have to manually press a play button or ask Google Assistant to play\n",
      "Pixel 4 won't connect to \u001b[1m\u001b[91mmicrosoft\u001b[0m \u001b[1m\u001b[91mSYNC\u001b[0m Hoping I can find a solution here\n",
      "So far I've tried a fresh pairing master resets for car and phone and all the avrcp and MAP bluetooth settings\n",
      "Pixel 4 and car Bluetooth phonecalls Phone calls sound great over bt in my \u001b[1m\u001b[94m2011\u001b[0m \u001b[1m\u001b[94mFord\u001b[0m \u001b[1m\u001b[94mSuper\u001b[0m \u001b[1m\u001b[94mduty\u001b[0m using my 4XL\n",
      "When I connect the phone to the car \u001b[1m\u001b[94mToyota\u001b[0m \u001b[1m\u001b[94mCorolla\u001b[0m via bluetooth; it only connects the audio it doesn't show the song title and artist play pause forward reverse buttons\n",
      "After with Android 10 Bluetooth was working with some Sony devices headphones WF-1000XM3 speaker SRS-XB10 AV-reciever STR-DH790 and low-cost car \u001b[1m\u001b[91mstereo\u001b[0m \u001b[1m\u001b[91madapter\u001b[0m \u001b[1m\u001b[91mBT-Splitter\u001b[0m\n",
      "Got myself a brilliant new Pixel 5 recently Great loved it did NOT connect to my \u001b[1m\u001b[91mMazda\u001b[0m \u001b[1m\u001b[91mCar\u001b[0m \u001b[1m\u001b[91mBluetooth\u001b[0m\n",
      "Pixel 5 doesn't work for on \u001b[1m\u001b[91mKenwood\u001b[0m \u001b[1m\u001b[91mcar\u001b[0m \u001b[1m\u001b[91mstereo\u001b[0m Pixel 5 I'm running a \u001b[1m\u001b[91mKenwood\u001b[0m \u001b[1m\u001b[91mStereo\u001b[0m not sure the model but it must be about 5-8 years old no Bluetooth\n",
      "I thought it was the watch but then i noticed that it was occurring with my car connection as well \u001b[1m\u001b[94mtoyota\u001b[0m \u001b[1m\u001b[94mentune\u001b[0m\n",
      "\u001b[1m\u001b[94m2021\u001b[0m \u001b[1m\u001b[94mToyota\u001b[0m \u001b[1m\u001b[94mSienna\u001b[0m Bluetooth issue I'll give it a shot\n",
      "Also a little worried that a brand new car requires the phone to be dumbed down\n",
      "My car is a \u001b[1m\u001b[94m2015\u001b[0m \u001b[1m\u001b[94mBMW\u001b[0m \u001b[1m\u001b[94m228i\u001b[0m and have used my Pixel 4 with it for about a year without any hiccups\n",
      "Out of nowhere I turned the car on turned Bluetooth on my phone and connected\" but got no audio out of the speakers.\"\n",
      "Has anyone had issues getting their pixel phone to autoconnect bluetooth to their car head unit\n",
      "Pixel 3 bluetooth autoconnect for \u001b[1m\u001b[91mPioneer\u001b[0m \u001b[1m\u001b[91mcar\u001b[0m \u001b[1m\u001b[91mhead\u001b[0m \u001b[1m\u001b[91munit\u001b[0m Do you by chance have a \u001b[1m\u001b[91m2020\u001b[0m \u001b[1m\u001b[91mNEX\u001b[0m \u001b[1m\u001b[91munit\u001b[0m\n",
      "I'm using AVRCP 1.4 since my head unit is an older \u001b[1m\u001b[91mJVC\u001b[0m and wouldn't display any metadata when using 1.5 or 1.6\n",
      "Pixel 3xl \u001b[1m\u001b[91mHondaLink\u001b[0m bluetooth connection issues Have had my \u001b[1m\u001b[94m2015\u001b[0m \u001b[1m\u001b[94mHonda\u001b[0m \u001b[1m\u001b[94mCivic\u001b[0m for 3 years now\n",
      "\u001b[1m\u001b[91mHondaLink\u001b[0m has worked with all my phones just fine including my current Pixel 3XL up until just the past few months\n",
      "Original issue derived from my car bluetooth \u001b[1m\u001b[94mHonda\u001b[0m \u001b[1m\u001b[94m2013\u001b[0m which after reading numerous forums/posts realized I had to change the MACP setting to 1.4 from 1.5 which worked\n",
      "What do I need to do to just have normal bluetooth connections that don't require me to often reset my phone\n",
      "\u001b[1m\u001b[91mPioneer\u001b[0m \u001b[1m\u001b[91mhead\u001b[0m \u001b[1m\u001b[91munit\u001b[0m in our other car\n",
      "\u001b[1m\u001b[91mStock\u001b[0m \u001b[1m\u001b[91m2017\u001b[0m \u001b[1m\u001b[91mSubaru\u001b[0m \u001b[1m\u001b[91moutback\u001b[0m \u001b[1m\u001b[91mhead\u001b[0m \u001b[1m\u001b[91munit\u001b[0m\n",
      "I have a Pixel 2 running Android 10 and drive a \u001b[1m\u001b[94mBMW\u001b[0m \u001b[1m\u001b[94mi3\u001b[0m\n",
      "I've done a bunch of reading on BMW groups and the conclusion seems to be that its Google fault\n",
      "My phone has stopped automatically pairing with my \u001b[1m\u001b[91mSony\u001b[0m \u001b[1m\u001b[91mWF-1000xm3\u001b[0m \u001b[1m\u001b[91mheadphones\u001b[0m the \u001b[1m\u001b[91mSony\u001b[0m \u001b[1m\u001b[91msync\u001b[0m \u001b[1m\u001b[91msystem\u001b[0m in one car and the \u001b[1m\u001b[91mpioneer\u001b[0m \u001b[1m\u001b[91mhead\u001b[0m \u001b[1m\u001b[91munit\u001b[0m in the other\n"
     ]
    }
   ],
   "source": [
    "word_set = set()\n",
    "for ri, r in df.iterrows():\n",
    "    words = r.sentence.split()\n",
    "    for i in range(len(words)):                \n",
    "        if words[i][-1] in \",.!?\":\n",
    "            words[i] = words[i][:-1]\n",
    "        elif words[i][-2:] == \"'s'\":\n",
    "            words[i] = words[i][:-2]\n",
    "            \n",
    "        if words[i].startswith('('):\n",
    "            words[i] = words[i][1:]\n",
    "            \n",
    "        if words[i].endswith(')'):\n",
    "            words[i] = words[i][:-1]\n",
    "            \n",
    "    new_words = []\n",
    "    for w in words:\n",
    "        if w.endswith('\\_h'):\n",
    "            w = w[:-3]\n",
    "            word_set.add(w)\n",
    "            w = f\"{color.BOLD}{color.BLUE}{w}{color.END}\"\n",
    "            \n",
    "        if w.endswith('\\_a'):\n",
    "            w = w[:-3]\n",
    "            word_set.add(w)\n",
    "            w = f\"{color.BOLD}{color.RED}{w}{color.END}\"\n",
    "            \n",
    "        new_words.append(w)        \n",
    "    print(\" \".join(new_words))"
   ]
  },
  {
   "cell_type": "markdown",
   "metadata": {},
   "source": [
    "## <font color='darkblue'>Fasttext - Word to vector</font>\n",
    "Here we will leverage [**Fasttext**](https://github.com/facebookresearch/fastText) package to help us to translate word into vector for later ML training. Instead of re-training a new Fasttext model, we will use exist trained model [here](https://fasttext.cc/docs/en/crawl-vectors.html) [cc.en.300.bin.gz](https://dl.fbaipublicfiles.com/fasttext/vectors-crawl/cc.en.300.bin.gz). Please click the link and download it:"
   ]
  },
  {
   "cell_type": "code",
   "execution_count": 8,
   "metadata": {},
   "outputs": [],
   "source": [
    "#!pip install fasttext"
   ]
  },
  {
   "cell_type": "code",
   "execution_count": 24,
   "metadata": {},
   "outputs": [],
   "source": [
    "#import fasttext.util\n",
    "\n",
    "#fasttext.util.download_model('en', if_exists='ignore')  # English\n",
    "#ft = fasttext.load_model('cc.en.300.bin')"
   ]
  },
  {
   "cell_type": "markdown",
   "metadata": {},
   "source": [
    "After that, below code will load the downloaded model:"
   ]
  },
  {
   "cell_type": "code",
   "execution_count": 25,
   "metadata": {},
   "outputs": [],
   "source": [
    "#import fasttext\n",
    "#import fasttext.util"
   ]
  },
  {
   "cell_type": "markdown",
   "metadata": {},
   "source": [
    "## <font color='darkblue'>Gensim - Word to vector</font>\n",
    "Here we will leverage [**Gensim**](https://radimrehurek.com/gensim/auto_examples/tutorials/run_word2vec.html) to help us to translate word into vector for later ML training."
   ]
  },
  {
   "cell_type": "code",
   "execution_count": 11,
   "metadata": {},
   "outputs": [
    {
     "name": "stdout",
     "output_type": "stream",
     "text": [
      "[==================================================] 100.0% 1662.8/1662.8MB downloaded\n"
     ]
    }
   ],
   "source": [
    "import gensim.downloader as api\n",
    "\n",
    "wv = api.load('word2vec-google-news-300')"
   ]
  },
  {
   "cell_type": "code",
   "execution_count": 23,
   "metadata": {},
   "outputs": [
    {
     "name": "stdout",
     "output_type": "stream",
     "text": [
      "Total 24 unknown word(s) found!\n",
      "{'jvc', 'entune', '2011', \"Toyota's\", 'HR-V', 'cr-v', '2019', '2013', '812', 'HondaLink', '228i', '2015', '2021', 'WF-1000xm3', '2017', 'Crosstrek', 'BT-Splitter', '2020', \"Civic's\", '911', '327', '2014', 'R-link', '228'}\n"
     ]
    }
   ],
   "source": [
    "unknown_word_set = set()\n",
    "for w in word_set:\n",
    "    try:\n",
    "        wv[w]\n",
    "    except:\n",
    "        unknown_word_set.add(w)\n",
    "        \n",
    "print(f\"Total {len(unknown_word_set)} unknown word(s) found!\")\n",
    "print(unknown_word_set)"
   ]
  },
  {
   "cell_type": "markdown",
   "metadata": {},
   "source": [
    "## <font color='darkblue'>Supplement</font>\n",
    "* [All Car Brands](https://www.carlogos.org/car-brands/)\n",
    "* [FAQ - How to handle unknown word in Gensim?](https://stackoverflow.com/questions/54709178/how-to-handle-words-that-are-not-in-word2vecs-vocab-optimally)"
   ]
  }
 ],
 "metadata": {
  "kernelspec": {
   "display_name": "Python 3",
   "language": "python",
   "name": "python3"
  },
  "language_info": {
   "codemirror_mode": {
    "name": "ipython",
    "version": 3
   },
   "file_extension": ".py",
   "mimetype": "text/x-python",
   "name": "python",
   "nbconvert_exporter": "python",
   "pygments_lexer": "ipython3",
   "version": "3.8.7"
  }
 },
 "nbformat": 4,
 "nbformat_minor": 4
}
