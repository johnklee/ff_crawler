{
 "cells": [
  {
   "cell_type": "markdown",
   "metadata": {},
   "source": [
    "## <font color='darkblue'>Preface</font>\n",
    "TBD"
   ]
  },
  {
   "cell_type": "code",
   "execution_count": 11,
   "metadata": {},
   "outputs": [],
   "source": [
    "import pandas as pd\n",
    "pd.set_option('display.max_colwidth', None)\n",
    "\n",
    "class color:\n",
    "   PURPLE = '\\033[95m'\n",
    "   CYAN = '\\033[96m'\n",
    "   DARKCYAN = '\\033[36m'\n",
    "   BLUE = '\\033[94m'\n",
    "   GREEN = '\\033[92m'\n",
    "   YELLOW = '\\033[93m'\n",
    "   RED = '\\033[91m'\n",
    "   BOLD = '\\033[1m'\n",
    "   UNDERLINE = '\\033[4m'\n",
    "   END = '\\033[0m'"
   ]
  },
  {
   "cell_type": "code",
   "execution_count": 17,
   "metadata": {},
   "outputs": [
    {
     "data": {
      "text/html": [
       "<div>\n",
       "<style scoped>\n",
       "    .dataframe tbody tr th:only-of-type {\n",
       "        vertical-align: middle;\n",
       "    }\n",
       "\n",
       "    .dataframe tbody tr th {\n",
       "        vertical-align: top;\n",
       "    }\n",
       "\n",
       "    .dataframe thead th {\n",
       "        text-align: right;\n",
       "    }\n",
       "</style>\n",
       "<table border=\"1\" class=\"dataframe\">\n",
       "  <thead>\n",
       "    <tr style=\"text-align: right;\">\n",
       "      <th></th>\n",
       "      <th>kw</th>\n",
       "      <th>sentence</th>\n",
       "    </tr>\n",
       "  </thead>\n",
       "  <tbody>\n",
       "    <tr>\n",
       "      <th>0</th>\n",
       "      <td>Tesla Model 3</td>\n",
       "      <td>The Tesla\\_h Model\\_h 3\\_h is an American four-door saloon car with rear- or -four-wheel drive, seating for five people at a pinch, and a touchscreen inside.</td>\n",
       "    </tr>\n",
       "    <tr>\n",
       "      <th>1</th>\n",
       "      <td>Tesla Model 3</td>\n",
       "      <td>We think right now may be the best time to buy a Tesla\\_h Model\\_h 3\\_h.</td>\n",
       "    </tr>\n",
       "    <tr>\n",
       "      <th>2</th>\n",
       "      <td>BMW 228 Gran Coupe</td>\n",
       "      <td>The BMW\\_h 228\\_h Gran\\_h Coupe\\_h is a sedan.</td>\n",
       "    </tr>\n",
       "    <tr>\n",
       "      <th>3</th>\n",
       "      <td>228 Gran Coupe</td>\n",
       "      <td>The 2021 228\\_h Gran\\_h Coupe\\_h starts at $35,700 (MSRP), with a destination charge of $995.</td>\n",
       "    </tr>\n",
       "    <tr>\n",
       "      <th>4</th>\n",
       "      <td>Toyota Avalon</td>\n",
       "      <td>The Toyota\\_h Avalon\\_h is a sedan.</td>\n",
       "    </tr>\n",
       "    <tr>\n",
       "      <th>5</th>\n",
       "      <td>Toyota Avalon</td>\n",
       "      <td>The Toyota\\_h Avalon\\_h is a full-size car produced by Toyota.</td>\n",
       "    </tr>\n",
       "    <tr>\n",
       "      <th>6</th>\n",
       "      <td>BMW 327</td>\n",
       "      <td>The BMW\\_h 327\\_h is a medium-sized touring coupé produced by the Bavarian firm between 1937 and 1941.</td>\n",
       "    </tr>\n",
       "    <tr>\n",
       "      <th>7</th>\n",
       "      <td>Ferrari 812 GTS</td>\n",
       "      <td>In the shark nose of the Ferrari\\_h 812\\_h GTS\\_h is a 6.5-litre V12 engine, free of turbos and able to rev to almost 9,000rpm as a result.</td>\n",
       "    </tr>\n",
       "    <tr>\n",
       "      <th>8</th>\n",
       "      <td>Ferrari 812</td>\n",
       "      <td>Equip your Ferrari\\_h 812\\_h with the Novitec Aero Kit.</td>\n",
       "    </tr>\n",
       "    <tr>\n",
       "      <th>9</th>\n",
       "      <td>2015 Ford focus</td>\n",
       "      <td>I just bought at 2015\\_h Ford\\_h focus\\_h back at the end of September and have been enjoying it up until a week ago when the Bluetooth stopped pairing and would just say disconnected.</td>\n",
       "    </tr>\n",
       "  </tbody>\n",
       "</table>\n",
       "</div>"
      ],
      "text/plain": [
       "                   kw  \\\n",
       "0       Tesla Model 3   \n",
       "1       Tesla Model 3   \n",
       "2  BMW 228 Gran Coupe   \n",
       "3      228 Gran Coupe   \n",
       "4       Toyota Avalon   \n",
       "5       Toyota Avalon   \n",
       "6             BMW 327   \n",
       "7     Ferrari 812 GTS   \n",
       "8         Ferrari 812   \n",
       "9     2015 Ford focus   \n",
       "\n",
       "                                                                                                                                                                                   sentence  \n",
       "0                             The Tesla\\_h Model\\_h 3\\_h is an American four-door saloon car with rear- or -four-wheel drive, seating for five people at a pinch, and a touchscreen inside.  \n",
       "1                                                                                                                  We think right now may be the best time to buy a Tesla\\_h Model\\_h 3\\_h.  \n",
       "2                                                                                                                                           The BMW\\_h 228\\_h Gran\\_h Coupe\\_h is a sedan.   \n",
       "3                                                                                             The 2021 228\\_h Gran\\_h Coupe\\_h starts at $35,700 (MSRP), with a destination charge of $995.  \n",
       "4                                                                                                                                                       The Toyota\\_h Avalon\\_h is a sedan.  \n",
       "5                                                                                                                            The Toyota\\_h Avalon\\_h is a full-size car produced by Toyota.  \n",
       "6                                                                                    The BMW\\_h 327\\_h is a medium-sized touring coupé produced by the Bavarian firm between 1937 and 1941.  \n",
       "7                                               In the shark nose of the Ferrari\\_h 812\\_h GTS\\_h is a 6.5-litre V12 engine, free of turbos and able to rev to almost 9,000rpm as a result.  \n",
       "8                                                                                                                                   Equip your Ferrari\\_h 812\\_h with the Novitec Aero Kit.  \n",
       "9  I just bought at 2015\\_h Ford\\_h focus\\_h back at the end of September and have been enjoying it up until a week ago when the Bluetooth stopped pairing and would just say disconnected.  "
      ]
     },
     "execution_count": 17,
     "metadata": {},
     "output_type": "execute_result"
    }
   ],
   "source": [
    "df = pd.read_csv(\"datas.csv\")\n",
    "df.head(n=10)"
   ]
  },
  {
   "cell_type": "code",
   "execution_count": 19,
   "metadata": {},
   "outputs": [
    {
     "name": "stdout",
     "output_type": "stream",
     "text": [
      "The \u001b[1m\u001b[94mTesla\u001b[0m \u001b[1m\u001b[94mModel\u001b[0m \u001b[1m\u001b[94m3\u001b[0m is an American four-door saloon car with rear- or -four-wheel drive, seating for five people at a pinch, and a touchscreen inside\n",
      "We think right now may be the best time to buy a \u001b[1m\u001b[94mTesla\u001b[0m \u001b[1m\u001b[94mModel\u001b[0m \u001b[1m\u001b[94m3\u001b[0m\n",
      "The \u001b[1m\u001b[94mBMW\u001b[0m \u001b[1m\u001b[94m228\u001b[0m \u001b[1m\u001b[94mGran\u001b[0m \u001b[1m\u001b[94mCoupe\u001b[0m is a sedan\n",
      "The 2021 \u001b[1m\u001b[94m228\u001b[0m \u001b[1m\u001b[94mGran\u001b[0m \u001b[1m\u001b[94mCoupe\u001b[0m starts at $35,700 (MSRP), with a destination charge of $995\n",
      "The \u001b[1m\u001b[94mToyota\u001b[0m \u001b[1m\u001b[94mAvalon\u001b[0m is a sedan\n",
      "The \u001b[1m\u001b[94mToyota\u001b[0m \u001b[1m\u001b[94mAvalon\u001b[0m is a full-size car produced by Toyota\n",
      "The \u001b[1m\u001b[94mBMW\u001b[0m \u001b[1m\u001b[94m327\u001b[0m is a medium-sized touring coupé produced by the Bavarian firm between 1937 and 1941\n",
      "In the shark nose of the \u001b[1m\u001b[94mFerrari\u001b[0m \u001b[1m\u001b[94m812\u001b[0m \u001b[1m\u001b[94mGTS\u001b[0m is a 6.5-litre V12 engine, free of turbos and able to rev to almost 9,000rpm as a result\n",
      "Equip your \u001b[1m\u001b[94mFerrari\u001b[0m \u001b[1m\u001b[94m812\u001b[0m with the Novitec Aero Kit\n",
      "I just bought at \u001b[1m\u001b[94m2015\u001b[0m \u001b[1m\u001b[94mFord\u001b[0m \u001b[1m\u001b[94mfocus\u001b[0m back at the end of September and have been enjoying it up until a week ago when the Bluetooth stopped pairing and would just say disconnected\n",
      "\u001b[1m\u001b[94m2015\u001b[0m \u001b[1m\u001b[94mFord\u001b[0m \u001b[1m\u001b[94mFocus\u001b[0m bluetooth SYNC issue\n",
      "On the racetrack, the sound of the of the \u001b[1m\u001b[94mPorsche\u001b[0m \u001b[1m\u001b[94m911\u001b[0m \u001b[1m\u001b[94mGT3\u001b[0m exhaust sys- tem is unmistakable\n",
      "\u001b[1m\u001b[94mPorsche\u001b[0m \u001b[1m\u001b[94m911\u001b[0m Bluetooth Speaker is both stunning and bonkers, yours for $550\n",
      "The \u001b[1m\u001b[94m2021\u001b[0m \u001b[1m\u001b[94mHonda\u001b[0m \u001b[1m\u001b[94mCivic's\u001b[0m #1 ranking is based on its score within the Compact Cars category\n",
      "The tenth-generation \u001b[1m\u001b[94mHonda\u001b[0m \u001b[1m\u001b[94mCivic\u001b[0m is a great alternative choice in the hatchback class\n",
      "The hatch gets all the focus, but the RS sedan is a competitive offering within the \u001b[1m\u001b[94mHonda\u001b[0m \u001b[1m\u001b[94mCivic\u001b[0m range\n",
      "How to connect Bluetooth on \u001b[1m\u001b[94mHonda\u001b[0m \u001b[1m\u001b[94mOdyssey\u001b[0m\n",
      "This tutorial video explains the connection and trouble-shooting process on all \u001b[1m\u001b[94m2015\u001b[0m \u001b[1m\u001b[94mOdyssey\u001b[0m \u001b[1m\u001b[94mmodels\u001b[0m with iPhone and Android phones\n",
      "The new \u001b[1m\u001b[94mToyota\u001b[0m \u001b[1m\u001b[94mMirai\u001b[0m features several Entune apps that seamlessly connect your life with your car\n",
      "How to Pair Your Phone via Bluetooth to the \u001b[1m\u001b[94m2021\u001b[0m \u001b[1m\u001b[94mToyota\u001b[0m \u001b[1m\u001b[94mSienna\u001b[0m\n"
     ]
    }
   ],
   "source": [
    "for ri, r in df.iterrows():\n",
    "    words = r.sentence.split()\n",
    "    if words[-1][-1] in '.!?':\n",
    "        words[-1] = words[-1][:-1]\n",
    "    new_words = []\n",
    "    for w in words:\n",
    "        if w.endswith('\\_h'):\n",
    "            w = w[:-3]\n",
    "            w = f\"{color.BOLD}{color.BLUE}{w}{color.END}\"\n",
    "            \n",
    "        new_words.append(w)\n",
    "    print(\" \".join(new_words))"
   ]
  },
  {
   "cell_type": "markdown",
   "metadata": {},
   "source": [
    "## <font color='darkblue'>Supplement</font>\n",
    "* [All Car Brands](https://www.carlogos.org/car-brands/)"
   ]
  }
 ],
 "metadata": {
  "kernelspec": {
   "display_name": "Python 3",
   "language": "python",
   "name": "python3"
  },
  "language_info": {
   "codemirror_mode": {
    "name": "ipython",
    "version": 3
   },
   "file_extension": ".py",
   "mimetype": "text/x-python",
   "name": "python",
   "nbconvert_exporter": "python",
   "pygments_lexer": "ipython3",
   "version": "3.8.7"
  }
 },
 "nbformat": 4,
 "nbformat_minor": 4
}
