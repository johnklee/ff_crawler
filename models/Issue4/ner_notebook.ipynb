{
 "cells": [
  {
   "cell_type": "markdown",
   "metadata": {},
   "source": [
    "<a id='sect0'></a>\n",
    "## <font color='darkblue'>Preface</font>\n",
    "From [**Issue4**](https://github.com/johnklee/ff_crawler/issues/4), we are going to work on the model to extract NER from article/post of Reddit based on inital labelled document [here](https://docs.google.com/document/d/1ACU5iDe6QkLZuMzyzaR0e_TUtw8Bht_IvQpO6_AZuCI/edit?usp=sharing&resourcekey=0-7WPgbTf3MfSIWZnIugZjxg):\n",
    "* <font color='orange'>**Pixel phone model**</font>: T1\n",
    "* <font color='green'>**Remote model**</font>: T2\n",
    "* <font color='LightSkyBlue'>**Build**</font>: T3\n",
    "* <font color='Khaki'>**Reference phone**</font>: T4\n",
    "\n",
    "Also, we want to classify sentences of post into below class:\n",
    "* <font color='LightCoral'>**Symptom**</font>: C1\n",
    "* <font color='Indigo'>**Recover way**</font>: C2"
   ]
  },
  {
   "cell_type": "code",
   "execution_count": 1,
   "metadata": {},
   "outputs": [],
   "source": [
    "import os\n",
    "import json\n",
    "import pandas as pd\n",
    "import seaborn as sn\n",
    "from sklearn.metrics import confusion_matrix\n",
    "pd.set_option('display.max_colwidth', None)\n",
    "\n",
    "RANDOM_STATE = 1\n",
    "TEST_SIZE = 0.2\n",
    "\n",
    "# https://www.w3schools.com/colors/colors_names.asp\n",
    "# https://gist.github.com/jonsuh/3c89c004888dfc7352be\n",
    "class color:\n",
    "   LIGHTCORAL='\\033[38;2;240;128;128m'\n",
    "   LIGHTSKYBLUE='\\033[38;2;135;206;250m'\n",
    "   KHAKI='\\033[38;2;240;230;140m'\n",
    "   INDIGO='\\033[38;2;72;0;130m'\n",
    "   ORANGE='\\033[38;2;255;165;0m'\n",
    "   LIGHTRED='\\033[1;31m'\n",
    "   PURPLE = '\\033[95m'\n",
    "   CYAN = '\\033[96m'\n",
    "   DARKCYAN = '\\033[36m'\n",
    "   BLUE = '\\033[94m'\n",
    "   GREEN = '\\033[92m'\n",
    "   YELLOW = '\\033[93m'\n",
    "   RED = '\\033[91m'\n",
    "   BOLD = '\\033[1m'\n",
    "   UNDERLINE = '\\033[4m'\n",
    "   END = '\\033[0m'"
   ]
  },
  {
   "cell_type": "markdown",
   "metadata": {},
   "source": [
    "### <font color='darkgreen'>Agenda</font>\n",
    "* <font size='3ptx'>[**Data Set**](#sect1)</font>\n",
    "* <font size='3ptx'>[**Reddit APIs**](#sect2)</font>\n",
    "  * [**PRAW APIs to pull posts**](#sect2_1)\n",
    "  * [**Dump Statistic Info**](#sect2_2)\n",
    "* <font size='3ptx'>[**Word2vec Solution**](#sect3)</font>\n",
    "* <font size='3ptx'>[**ML Models**](#sect4)</font>\n",
    "  * [**Post classifier**](#sect4_1)"
   ]
  },
  {
   "cell_type": "markdown",
   "metadata": {},
   "source": [
    "## <font color='darkblue'>Data Set</font> ([back](#sect0))\n",
    "We collect and label our data from dumped data [here](https://drive.google.com/file/d/1LTyPKtafRQnQp-DslpjBM5QUWoxAtSTY/view?usp=sharing). Let's load labelling data back for future process:"
   ]
  },
  {
   "cell_type": "code",
   "execution_count": 2,
   "metadata": {},
   "outputs": [
    {
     "data": {
      "text/html": [
       "<div>\n",
       "<style scoped>\n",
       "    .dataframe tbody tr th:only-of-type {\n",
       "        vertical-align: middle;\n",
       "    }\n",
       "\n",
       "    .dataframe tbody tr th {\n",
       "        vertical-align: top;\n",
       "    }\n",
       "\n",
       "    .dataframe thead th {\n",
       "        text-align: right;\n",
       "    }\n",
       "</style>\n",
       "<table border=\"1\" class=\"dataframe\">\n",
       "  <thead>\n",
       "    <tr style=\"text-align: right;\">\n",
       "      <th></th>\n",
       "      <th>sentence</th>\n",
       "      <th>source</th>\n",
       "    </tr>\n",
       "  </thead>\n",
       "  <tbody>\n",
       "    <tr>\n",
       "      <th>0</th>\n",
       "      <td>My P4a5g\\_T1 keeps having bluetooth problems .</td>\n",
       "      <td>https://www.reddit.com/r/GooglePixel/comments/kspwba/bluetooth_is_terrible/</td>\n",
       "    </tr>\n",
       "    <tr>\n",
       "      <th>1</th>\n",
       "      <td>I have the sony\\_T2 wh-1000mx4\\_T2 and they just keep disconnecting .</td>\n",
       "      <td>https://www.reddit.com/r/GooglePixel/comments/kspwba/bluetooth_is_terrible/</td>\n",
       "    </tr>\n",
       "    <tr>\n",
       "      <th>2</th>\n",
       "      <td>Pixel\\_T1 4a\\_T1 5g\\_T1 Bluetooth issues</td>\n",
       "      <td>https://www.reddit.com/r/GooglePixel/comments/lgofla/pixel_4a_5g_bluetooth_issues/</td>\n",
       "    </tr>\n",
       "    <tr>\n",
       "      <th>3</th>\n",
       "      <td>I have been having issues with Bluetooth connectivity with the new pixel\\_T1 4a\\_T1 5g\\_T1 .</td>\n",
       "      <td>https://www.reddit.com/r/GooglePixel/comments/lgofla/pixel_4a_5g_bluetooth_issues/</td>\n",
       "    </tr>\n",
       "    <tr>\n",
       "      <th>4</th>\n",
       "      <td>1st it started with my Fitbit\\_T2 where the app would occasionally not find the device and I would need to forget and add the Fitbit\\_T2 again .</td>\n",
       "      <td>https://www.reddit.com/r/GooglePixel/comments/lgofla/pixel_4a_5g_bluetooth_issues/</td>\n",
       "    </tr>\n",
       "  </tbody>\n",
       "</table>\n",
       "</div>"
      ],
      "text/plain": [
       "                                                                                                                                           sentence  \\\n",
       "0                                                                                                    My P4a5g\\_T1 keeps having bluetooth problems .   \n",
       "1                                                                             I have the sony\\_T2 wh-1000mx4\\_T2 and they just keep disconnecting .   \n",
       "2                                                                                                          Pixel\\_T1 4a\\_T1 5g\\_T1 Bluetooth issues   \n",
       "3                                                      I have been having issues with Bluetooth connectivity with the new pixel\\_T1 4a\\_T1 5g\\_T1 .   \n",
       "4  1st it started with my Fitbit\\_T2 where the app would occasionally not find the device and I would need to forget and add the Fitbit\\_T2 again .   \n",
       "\n",
       "                                                                               source  \n",
       "0         https://www.reddit.com/r/GooglePixel/comments/kspwba/bluetooth_is_terrible/  \n",
       "1         https://www.reddit.com/r/GooglePixel/comments/kspwba/bluetooth_is_terrible/  \n",
       "2  https://www.reddit.com/r/GooglePixel/comments/lgofla/pixel_4a_5g_bluetooth_issues/  \n",
       "3  https://www.reddit.com/r/GooglePixel/comments/lgofla/pixel_4a_5g_bluetooth_issues/  \n",
       "4  https://www.reddit.com/r/GooglePixel/comments/lgofla/pixel_4a_5g_bluetooth_issues/  "
      ]
     },
     "execution_count": 2,
     "metadata": {},
     "output_type": "execute_result"
    }
   ],
   "source": [
    "df = pd.read_csv(\"issue4_data.csv\")\n",
    "df.head(n=5)"
   ]
  },
  {
   "cell_type": "code",
   "execution_count": 3,
   "metadata": {},
   "outputs": [
    {
     "name": "stdout",
     "output_type": "stream",
     "text": [
      "My \u001b[1m\u001b[38;2;255;165;0mP4a5g\u001b[0m keeps having bluetooth problems .\n",
      "I have the \u001b[1m\u001b[92msony\u001b[0m \u001b[1m\u001b[92mwh-1000mx4\u001b[0m and they just keep disconnecting .\n",
      "\u001b[1m\u001b[38;2;255;165;0mPixel\u001b[0m \u001b[1m\u001b[38;2;255;165;0m4a\u001b[0m \u001b[1m\u001b[38;2;255;165;0m5g\u001b[0m Bluetooth issues\n",
      "I have been having issues with Bluetooth connectivity with the new \u001b[1m\u001b[38;2;255;165;0mpixel\u001b[0m \u001b[1m\u001b[38;2;255;165;0m4a\u001b[0m \u001b[1m\u001b[38;2;255;165;0m5g\u001b[0m .\n",
      "1st it started with my \u001b[1m\u001b[92mFitbit\u001b[0m where the app would occasionally not find the device and I would need to forget and add the \u001b[1m\u001b[92mFitbit\u001b[0m again .\n",
      "\u001b[1m\u001b[38;2;255;165;0mPixel\u001b[0m \u001b[1m\u001b[38;2;255;165;0m4a\u001b[0m \u001b[1m\u001b[38;2;255;165;0m5g\u001b[0m constantly dropping bluetooth\n",
      "Both my \u001b[1m\u001b[92mBose\u001b[0m \u001b[1m\u001b[92mQC\u001b[0m \u001b[1m\u001b[92m35\u001b[0m headphones and a \u001b[1m\u001b[92mbluetooth\u001b[0m \u001b[1m\u001b[92mspeaker\u001b[0m disconnect and reconnect when no audio is playing .\n",
      "This did not happen on my \u001b[1m\u001b[38;2;240;230;140mPixel\u001b[0m \u001b[1m\u001b[38;2;240;230;140m3a\u001b[0m , \u001b[1m\u001b[38;2;240;230;140mNexus\u001b[0m \u001b[1m\u001b[38;2;240;230;140m6P\u001b[0m or \u001b[1m\u001b[38;2;240;230;140mGalaxy\u001b[0m \u001b[1m\u001b[38;2;240;230;140mS7\u001b[0m .\n",
      "Song information over Bluetooth with \u001b[1m\u001b[38;2;255;165;0mPixel\u001b[0m \u001b[1m\u001b[38;2;255;165;0m5\u001b[0m ?\n",
      "Has anyone with \u001b[1m\u001b[92mFord\u001b[0m \u001b[1m\u001b[92msync\u001b[0m in their car had any luck getting song titles and info to appear on their infotainment system ?\n",
      "Whenever I connect my phone over Bluetooth , the media player detects whatever media I'm playing as just \" \u001b[1m\u001b[38;2;255;165;0mPixel\u001b[0m \u001b[1m\u001b[38;2;255;165;0m5\u001b[0m \" .\n",
      "Normally I would assume that this is just how the Sync OS handled metadata over Bluetooth and call it a day, but my \u001b[1m\u001b[38;2;240;230;140mold\u001b[0m \u001b[1m\u001b[38;2;240;230;140mPixel\u001b[0m \u001b[1m\u001b[38;2;240;230;140m3\u001b[0m displayed the info correctly so I'm wondering if there is anything I could do on my end to fix this ?\n",
      "Hi all , I recently switched to a \u001b[1m\u001b[38;2;255;165;0mPixel\u001b[0m \u001b[1m\u001b[38;2;255;165;0m5\u001b[0m from my old trusty 2XL, and I'm trying to switch over my \u001b[1m\u001b[92mFossil\u001b[0m \u001b[1m\u001b[92mSport\u001b[0m \u001b[1m\u001b[92msmartwatch\u001b[0m to my new phone .\n",
      "Unfortunately, I'm having an issue where when I try connecting my watch to my pixel , the watch gets stuck at the pairing screen , when it shows a 6-digit string and \" \u001b[1m\u001b[38;2;255;165;0mpixel\u001b[0m \u001b[1m\u001b[38;2;255;165;0m5\u001b[0m would like to connect \" .\n",
      "Hey there, I'm using a \u001b[1m\u001b[38;2;255;165;0mPixel\u001b[0m \u001b[1m\u001b[38;2;255;165;0m2\u001b[0m For nearly 2 years and this is the first time I'm facing this issue .\n",
      "It's updated to the recent most \u001b[1m\u001b[38;2;135;206;250mAndroid\u001b[0m \u001b[1m\u001b[38;2;135;206;250m11\u001b[0m .\n",
      "\u001b[1m\u001b[38;2;255;165;0mPixel\u001b[0m \u001b[1m\u001b[38;2;255;165;0m3\u001b[0m  \u001b[1m\u001b[38;2;135;206;250mAndroid\u001b[0m \u001b[1m\u001b[38;2;135;206;250m11\u001b[0m  will no longer connect to \u001b[1m\u001b[92mWindows\u001b[0m \u001b[1m\u001b[92m10\u001b[0m \u001b[1m\u001b[92mPC\u001b[0m via Bluetooth .\n",
      "I've been connecting my \u001b[1m\u001b[38;2;255;165;0mPixel\u001b[0m \u001b[1m\u001b[38;2;255;165;0m3\u001b[0m on \u001b[1m\u001b[38;2;135;206;250mAndroid\u001b[0m \u001b[1m\u001b[38;2;135;206;250m11\u001b[0m to my \u001b[1m\u001b[92mWindows\u001b[0m \u001b[1m\u001b[92m10\u001b[0m \u001b[1m\u001b[92mdesktop\u001b[0m via Bluetooth for months to take calls, message etc via Windows 10's Your Phone app .\n",
      "I've noticed an issue regarding many audio dropouts on my \u001b[1m\u001b[92mSwing\u001b[0m \u001b[1m\u001b[92mGalaxy\u001b[0m \u001b[1m\u001b[92mBuds+\u001b[0m earbuds.\n",
      "Adaptive Sound is Insane on the \u001b[1m\u001b[38;2;255;165;0m4a\u001b[0m \u001b[1m\u001b[38;2;255;165;0m5G\u001b[0m\n",
      "\u001b[1m\u001b[92mPixel\u001b[0m \u001b[1m\u001b[92mbuds\u001b[0m 2 Audio lag a year after everyone else\n",
      "Self explanatory title, a few days ago I started getting like a half second audio delay with my \u001b[1m\u001b[92mPixel\u001b[0m \u001b[1m\u001b[92mbuds\u001b[0m \u001b[1m\u001b[92m2\u001b[0m to my \u001b[1m\u001b[38;2;255;165;0mPixel\u001b[0m \u001b[1m\u001b[38;2;255;165;0m4\u001b[0m \u001b[1m\u001b[38;2;255;165;0mXL\u001b[0m .\n",
      "And I'm wondering if I'm not the only one getting this issue now or if my \u001b[1m\u001b[92mpixel\u001b[0m \u001b[1m\u001b[92mbuds\u001b[0m are just somehow just not functioning properly\n",
      "Specific Bluetooth \u001b[1m\u001b[92mTWS\u001b[0m \u001b[1m\u001b[92mearbuds\u001b[0m disconnect and reconnect every 30 sec only during calls\n",
      "My Bluetooth 5.0 \u001b[1m\u001b[92mTWS\u001b[0m  \u001b[1m\u001b[92mMonster\u001b[0m \u001b[1m\u001b[92mClarity\u001b[0m \u001b[1m\u001b[92m102\u001b[0m \u001b[1m\u001b[92mplus\u001b[0m \u001b[1m\u001b[92mAirlinks\u001b[0m  disconnect after 20 sec on any kind of call  normal, WhatsApp, Discord  in my \u001b[1m\u001b[38;2;255;165;0mPixel\u001b[0m \u001b[1m\u001b[38;2;255;165;0m5\u001b[0m , and then connects back\n",
      "The \u001b[1m\u001b[92mAirlinks\u001b[0m work fine on \u001b[1m\u001b[38;2;240;230;140mOnePlus\u001b[0m \u001b[1m\u001b[38;2;240;230;140m7\u001b[0m With \u001b[1m\u001b[38;2;135;206;250mAndroid\u001b[0m \u001b[1m\u001b[38;2;135;206;250m11\u001b[0m phone .\n",
      "Anker Liberty Neo earbuds Work fine with my \u001b[1m\u001b[38;2;255;165;0mPixel\u001b[0m \u001b[1m\u001b[38;2;255;165;0m5\u001b[0m\n",
      "\u001b[1m\u001b[38;2;255;165;0mPixel\u001b[0m \u001b[1m\u001b[38;2;255;165;0m4a\u001b[0m connecting to car bluetooth, but not displaying song info\n",
      "I bought a \u001b[1m\u001b[38;2;255;165;0mPixel\u001b[0m \u001b[1m\u001b[38;2;255;165;0m4a\u001b[0m \u001b[1m\u001b[38;2;255;165;0m5g\u001b[0m today .\n",
      "However, when I connect the phone to bluetooth in my car  \u001b[1m\u001b[92m2013\u001b[0m \u001b[1m\u001b[92mVolkswagen\u001b[0m \u001b[1m\u001b[92mGolf\u001b[0m ), the audio plays, and I can skip songs, etc., but the song info doesn't come up on the display .\n",
      "I tried a few things that didn't solve the problem: went into developer mode and changed some bluetooth settings  recommended by an older post in this sub ), unpaired then repaired, and I'm currently updating to \u001b[1m\u001b[38;2;135;206;250mandroid\u001b[0m \u001b[1m\u001b[38;2;135;206;250m11\u001b[0m , hoping that works .\n",
      "\u001b[1m\u001b[38;2;255;165;0mPixel\u001b[0m \u001b[1m\u001b[38;2;255;165;0m3a\u001b[0m popping / crackle noise from videos and music\n",
      "So I was finding that the speaker of the \u001b[1m\u001b[38;2;255;165;0mpixel\u001b[0m \u001b[1m\u001b[38;2;255;165;0m3a\u001b[0m makes a popping noise from its speaker when playing a YouTube video or playing music from Spotify .\n",
      "Also tried factory resetting, my device is with Koodo mobile in Canada and on latest firmware from Google\n",
      "\u001b[1m\u001b[92mPixel\u001b[0m \u001b[1m\u001b[92mBuds\u001b[0m Static Noise ?\n",
      "I purchased a pair of \u001b[1m\u001b[92mpixel\u001b[0m buds\\_T2, from the moment I started using it, the background has a persistent static noise which is audible if other things are playing and stops when whatever is playing stops.\n",
      "Also, I don't hear this static noise on other much cheaper bluetooth headphones .\n",
      "Just upgraded to a \u001b[1m\u001b[38;2;255;165;0mGoogle\u001b[0m \u001b[1m\u001b[38;2;255;165;0mPixel\u001b[0m \u001b[1m\u001b[38;2;255;165;0m4a\u001b[0m , but now it won't work with my car stereo?\n",
      "I recently upgraded to a \u001b[1m\u001b[92m4a\u001b[0m \u001b[1m\u001b[92m5g\u001b[0m after having the same iPhone 5 for as long as I can remember .\n",
      "\u001b[1m\u001b[38;2;255;165;0mPixel\u001b[0m \u001b[1m\u001b[38;2;255;165;0m4\u001b[0m - problem in Bluetooth telling apps it's connected/disconnected ?\n",
      "I have \u001b[1m\u001b[38;2;255;165;0mPixel\u001b[0m \u001b[1m\u001b[38;2;255;165;0m4\u001b[0m with \u001b[1m\u001b[38;2;135;206;250mAndroid\u001b[0m \u001b[1m\u001b[38;2;135;206;250m11\u001b[0m .\n",
      "Is there some known issue of Bluetooth as a trigger on \u001b[1m\u001b[38;2;255;165;0mPixel\u001b[0m 4\\_T1, or in general?\n",
      "\u001b[1m\u001b[38;2;255;165;0mPixel\u001b[0m \u001b[1m\u001b[38;2;255;165;0m3\u001b[0m support with connecting over bluetooth to a \u001b[1m\u001b[92mHonda\u001b[0m \u001b[1m\u001b[92mCRV\u001b[0m  \u001b[1m\u001b[92m2015\u001b[0m \n",
      "I have a \u001b[1m\u001b[38;2;255;165;0mpixel\u001b[0m \u001b[1m\u001b[38;2;255;165;0m3\u001b[0m , updated to \u001b[1m\u001b[38;2;135;206;250mandroid\u001b[0m \u001b[1m\u001b[38;2;135;206;250m11\u001b[0m with the newest security update .\n"
     ]
    }
   ],
   "source": [
    "word_set = set()\n",
    "label_t1 = label_t2 = label_t3 = label_t4 = label_o = 0\n",
    "for ri, r in df.iterrows():\n",
    "    words = r.sentence.split()\n",
    "    for i in range(len(words)):                \n",
    "        # if words[i][-1] in \",.!?\":\n",
    "        #    words[i] = words[i][:-1]\n",
    "        #elif words[i][-2:] == \"'s\":\n",
    "        #    words[i] = words[i][:-2]\n",
    "            \n",
    "        if words[i].startswith('('):\n",
    "            words[i] = words[i][1:]\n",
    "            \n",
    "        if words[i].endswith(')'):\n",
    "            words[i] = words[i][:-1]\n",
    "            \n",
    "    new_words = []\n",
    "    for w in words:\n",
    "        if w.endswith('\\_T1'):\n",
    "            w = w[:-4]\n",
    "            word_set.add(w)\n",
    "            w = f\"{color.BOLD}{color.ORANGE}{w}{color.END}\"\n",
    "            label_t1 += 1\n",
    "            \n",
    "        elif w.endswith('\\_T2'):\n",
    "            w = w[:-4]\n",
    "            word_set.add(w)\n",
    "            w = f\"{color.BOLD}{color.GREEN}{w}{color.END}\"\n",
    "            label_t2 += 1\n",
    "            \n",
    "        elif w.endswith('\\_T3'):\n",
    "            w = w[:-4]\n",
    "            word_set.add(w)\n",
    "            w = f\"{color.BOLD}{color.LIGHTSKYBLUE}{w}{color.END}\"\n",
    "            label_t3 += 1\n",
    "            \n",
    "        elif w.endswith('\\_T4'):\n",
    "            w = w[:-4]\n",
    "            word_set.add(w)\n",
    "            w = f\"{color.BOLD}{color.KHAKI}{w}{color.END}\"\n",
    "            label_t4 += 1\n",
    "            \n",
    "        else:\n",
    "            label_o += 1\n",
    "            \n",
    "        new_words.append(w)\n",
    "        \n",
    "    print(\" \".join(new_words))"
   ]
  },
  {
   "cell_type": "code",
   "execution_count": 4,
   "metadata": {},
   "outputs": [
    {
     "name": "stdout",
     "output_type": "stream",
     "text": [
      "label_o: 693\n",
      "label_t1: 54\n",
      "label_t2: 50\n",
      "label_t3: 14\n",
      "label_t4: 11\n"
     ]
    }
   ],
   "source": [
    "for n, v in sorted(\n",
    "        [(n, v) for n, v in globals().items() if n.startswith('label_t') or n.startswith('label_o')],\n",
    "        key=lambda t: t[0]):\n",
    "    print(f\"{n}: {v}\")"
   ]
  },
  {
   "cell_type": "markdown",
   "metadata": {},
   "source": [
    "We store a list of car brands for future reference and process in file `car_brand_list.txt`."
   ]
  },
  {
   "cell_type": "code",
   "execution_count": 5,
   "metadata": {},
   "outputs": [
    {
     "data": {
      "text/plain": [
       "[('nexus',), ('pixel',), ('galaxy',), ('apple',)]"
      ]
     },
     "execution_count": 5,
     "metadata": {},
     "output_type": "execute_result"
    }
   ],
   "source": [
    "phone_brand_set = set()\n",
    "with open('phone_brands.txt', 'r') as fo:\n",
    "    for line in fo:\n",
    "        line = line.lower()\n",
    "        phone_brand_set.add(tuple(list(map(lambda w: w.lower(), line.split()))))\n",
    "    \n",
    "list(phone_brand_set)[:10]"
   ]
  },
  {
   "cell_type": "code",
   "execution_count": 6,
   "metadata": {},
   "outputs": [
    {
     "data": {
      "text/plain": [
       "[('fitbit',)]"
      ]
     },
     "execution_count": 6,
     "metadata": {},
     "output_type": "execute_result"
    }
   ],
   "source": [
    "device_brand_set = set()\n",
    "with open('remote_device_brands.txt', 'r') as fo:\n",
    "    for line in fo:\n",
    "        line = line.lower()\n",
    "        device_brand_set.add(tuple(list(map(lambda w: w.lower(), line.split()))))\n",
    "    \n",
    "list(device_brand_set)[:10]"
   ]
  },
  {
   "cell_type": "markdown",
   "metadata": {},
   "source": [
    "We also keep many post to hold content without desired entity which can be used for training in directory `negative_posts`:"
   ]
  },
  {
   "cell_type": "code",
   "execution_count": 7,
   "metadata": {},
   "outputs": [],
   "source": [
    "NEGATIVE_DIR_PATH = 'negative_posts'"
   ]
  },
  {
   "cell_type": "markdown",
   "metadata": {},
   "source": [
    "## <font color='darkblue'>Reddit APIs</font>\n",
    "Here we are going to pull posts/articles from [**Reddits**](https://www.reddit.com/) by APIs of [**PRAW**](https://praw.readthedocs.io/en/latest/) to help us collect more posts/articles for labelling process:\n",
    "1. Pull posts from Reddit by open API\n",
    "2. Train a classifier to select the post we are interested (contains the labels we want)"
   ]
  },
  {
   "cell_type": "code",
   "execution_count": 8,
   "metadata": {},
   "outputs": [],
   "source": [
    "#!pip install praw"
   ]
  },
  {
   "cell_type": "markdown",
   "metadata": {},
   "source": [
    "<a id='sect2_1'></a>\n",
    "### <font color='darkgreen'>PRAW APIs to pull posts</font>\n",
    "First step, we are going to pull posts from Reddit and then do manual labelling to separate the wanted posts and others:\n",
    "* Follow [this post](https://www.jcchouinard.com/get-reddit-api-credentials-with-praw/) to retrieve the client id, secret which will be provided into API later. (We store the credentials in `client_secrets.json` here. If this is your first time to use this script, try to create a reddit app [here](https://www.reddit.com/prefs/apps/))"
   ]
  },
  {
   "cell_type": "code",
   "execution_count": 9,
   "metadata": {},
   "outputs": [
    {
     "data": {
      "text/plain": [
       "Redditor(name='johnkclee')"
      ]
     },
     "execution_count": 9,
     "metadata": {},
     "output_type": "execute_result"
    }
   ],
   "source": [
    "import logging\n",
    "import praw\n",
    "import json\n",
    "\n",
    "with open('client_secrets.json', 'r') as fo:\n",
    "    reddit_credentials = json.load(fo)\n",
    "    rdt_agent = praw.Reddit(**reddit_credentials)\n",
    "\n",
    "\n",
    "# Make sure you can see your name to indicate that you are ready to use APIs\n",
    "rdt_agent.user.me()"
   ]
  },
  {
   "cell_type": "markdown",
   "metadata": {},
   "source": [
    "* Now our PRAW APIs are ready to use. Let's pull a few post for our reference as prior run:\n",
    "  * [**Reddit** (rdt_agent)](https://praw.readthedocs.io/en/latest/code_overview/reddit_instance.html?highlight=Reddit#the-reddit-instance): The Reddit class provides convenient access to Reddit’s API.\n",
    "  * [**Subreddit** (st_googlepixel)](https://praw.readthedocs.io/en/latest/code_overview/models/subreddit.html?highlight=Subreddit#subreddit): A class for Subreddits.\n",
    "  * [**Submission** (submission)](https://praw.readthedocs.io/en/latest/code_overview/models/submission.html#praw.models.Submission): A class for submissions to reddit."
   ]
  },
  {
   "cell_type": "code",
   "execution_count": 10,
   "metadata": {},
   "outputs": [
    {
     "name": "stdout",
     "output_type": "stream",
     "text": [
      "GooglePixel\n"
     ]
    }
   ],
   "source": [
    "# Create a sub-reddit object for topic we are interested in (r/GooglePixel)\n",
    "st_googlepixel = rdt_agent.subreddit(\"GooglePixel\")\n",
    "\n",
    "print(st_googlepixel.display_name)\n",
    "# Output: redditdev\n",
    "#print(st_googlepixel.title)\n",
    "# Output: reddit development\n",
    "#print(st_googlepixel.description)\n",
    "# Output: a subreddit for discussion of ..."
   ]
  },
  {
   "cell_type": "code",
   "execution_count": 11,
   "metadata": {},
   "outputs": [
    {
     "name": "stdout",
     "output_type": "stream",
     "text": [
      "\u001b[1mHow to change Read Aloud speed in Google Play Books?\u001b[0m\n",
      "3\n",
      "nrskz0\n",
      "https://www.reddit.com/r/GooglePixel/comments/nrskz0/how_to_change_read_aloud_speed_in_google_play/\n",
      "\n",
      "I changed the text-to-speech rate in Accessibility settings but it seems to be unrelated to the speed in Play Books. Thanks in advance.\n",
      "\n",
      "\n",
      "\u001b[1mUSB setting?\u001b[0m\n",
      "0\n",
      "nrscwl\n",
      "https://www.reddit.com/r/GooglePixel/comments/nrscwl/usb_setting/\n",
      "\n",
      "I have 4a 5g and when I connect my phone to my laptop using the USB- C port on the PC and the Google provided wire it doesn't recognize it.  It doesn't charge or connect for file transfers.  When I connect to a different PC it works.  When I connect a different phone using the same wire on my PC it works.  So the phone, wire and PC port work separately but not together.  Any ideas?\n",
      "\n",
      "\n",
      "\u001b[1mShould I buy the Pixel 4a 5g today?\u001b[0m\n",
      "0\n",
      "nrs0r5\n",
      "https://www.reddit.com/r/GooglePixel/comments/nrs0r5/should_i_buy_the_pixel_4a_5g_today/\n",
      "\n",
      "Pixel fan from Singapore here. We did not receive official sales of the Pixel 4a 5g and Pixel 5 last year.\n",
      "\n",
      "My Pixel 3a XL seems due for an upgrade since late last year.\n",
      "\n",
      "With all the rumors of the 5a and 6 in the wind, I'm conflicted since it seems soooo close that the new lineup would launch soon.\n",
      "\n",
      "Please help!\n",
      "\n",
      "\n"
     ]
    }
   ],
   "source": [
    "# Obtain Submission Instances from a sub-reddit\n",
    "for submission in st_googlepixel.new(limit=3):\n",
    "    print(color.BOLD + submission.title + color.END)\n",
    "    # Output: the submission's title\n",
    "    print(submission.score)\n",
    "    # Output: the submission's score\n",
    "    print(submission.id)\n",
    "    # Output: the submission's ID\n",
    "    print(submission.url)\n",
    "    # Output: the URL the submission points to or the submission's URL if it's a self post\n",
    "    print(\"\\n\" + submission.selftext + \"\\n\\n\")\n",
    "    # Output: The body of submission"
   ]
  },
  {
   "cell_type": "markdown",
   "metadata": {},
   "source": [
    "* If you can see pulled posts from above code snippet, then it is ready to pull volume of posts now (Set `enable_demo=True`):"
   ]
  },
  {
   "cell_type": "code",
   "execution_count": 12,
   "metadata": {},
   "outputs": [],
   "source": [
    "import pickle\n",
    "import os\n",
    "import time\n",
    "from logb import get_logger\n",
    "from datetime import datetime\n",
    "from typing import Dict\n",
    "from tqdm import tqdm\n",
    "\n",
    "ROOT_PATH = os.getcwd()\n",
    "CACHE_PKL_NAME = os.path.join(ROOT_PATH, 'reddit_pulled_post_cache.pkl')\n",
    "DUMP_DIR_PATH = os.path.join(ROOT_PATH, \"reddit_post_dumps\")\n",
    "PULL_SIZE_LIMIT = 1000\n",
    "logger = get_logger(\"issue4\")\n",
    "enable_demo = False\n",
    "\n",
    "\n",
    "def get_ts() -> int:\n",
    "    return int(datetime.now().timestamp())\n",
    "\n",
    "def get_datestr() -> str:\n",
    "    return datetime.now().strftime(\"%Y%m%d%H%M%S\")\n",
    "\n",
    "def dump_reddit_post(datestr, submission):\n",
    "    url = submission.url.split('?')[0]\n",
    "    if url.endswith('/'):\n",
    "        url = url[:-1]\n",
    "        \n",
    "    def _save(fn):\n",
    "        with open(os.path.join(DUMP_DIR_PATH, fn), 'w', encoding='utf-8') as fw:\n",
    "            fw.write(submission.url + \"\\n\\n\")\n",
    "            fw.write(submission.title + \"\\n\\n\")\n",
    "            fw.write(submission.selftext)\n",
    "            \n",
    "    try:\n",
    "        id_with_title = '_'.join(url.split('/')[-2:])\n",
    "        fn = f\"{datestr}_{id_with_title}.txt\"\n",
    "        _save(fn)\n",
    "    except Exception:\n",
    "        logger.warning(f\"Fail to use fn={fn} with URL={url}\")\n",
    "        fn = f\"{datestr}_{submission.id}.txt\"\n",
    "        logger.warning(f\"Using fn={fn} instead...\")\n",
    "        _save(fn)\n",
    "\n",
    "def load_rpp_cache() -> Dict[str, float]:\n",
    "    \"\"\" Load Reddit pulled post cache\"\"\"\n",
    "    cache_dict = {} # Key as URL, value as pulling stamp    \n",
    "    if os.path.isfile(CACHE_PKL_NAME):\n",
    "        try:\n",
    "            with open(CACHE_PKL_NAME, 'rb') as fo:\n",
    "                cache_dict = pickle.load(fo)\n",
    "        except:\n",
    "            logger.warning(f\"Fail to load back {CACHE_PKL_NAME}!\")            \n",
    "            os.remove(CACHE_PKL_NAME)\n",
    "            return {}\n",
    "    \n",
    "    return cache_dict\n",
    "        \n",
    "def save_rpp_cache(cache_dict:Dict[str,float]):\n",
    "    \"\"\" Save Reddit pulled post cache\"\"\"\n",
    "    with open(CACHE_PKL_NAME, 'wb') as fw:\n",
    "        pickle.dump(cache_dict, fw)\n",
    "        \n",
    "\n",
    "if enable_demo:\n",
    "    ### Start the Reddit dump process\n",
    "    rppc_cache = load_rpp_cache()\n",
    "\n",
    "    if not os.path.isdir(DUMP_DIR_PATH):\n",
    "        os.makedirs(DUMP_DIR_PATH)\n",
    "    \n",
    "    st = datetime.now()\n",
    "    datestr = get_datestr()\n",
    "    print(f\"Start Reddit dumping at {datestr}...\")\n",
    "    time.sleep(1)\n",
    "    # Obtain Submission Instances from a sub-reddit\n",
    "    new_post_count = 0\n",
    "    with tqdm(total=PULL_SIZE_LIMIT) as pbar:\n",
    "        pc = 0\n",
    "        for submission in st_googlepixel.new(limit=PULL_SIZE_LIMIT):\n",
    "            if submission.url not in rppc_cache:\n",
    "                rppc_cache[submission.url] = get_ts()\n",
    "                dump_reddit_post(datestr, submission)\n",
    "                new_post_count += 1\n",
    "            \n",
    "            pbar.update(1)\n",
    "            pc += 1\n",
    "        \n",
    "        pbar.update(PULL_SIZE_LIMIT - pc)\n",
    "    \n",
    "    logger.info(f\"Total {new_post_count:,d} new post collected! ({datetime.now() - st})\")\n",
    "    save_rpp_cache(rppc_cache)"
   ]
  },
  {
   "cell_type": "markdown",
   "metadata": {},
   "source": [
    "Above code has been refactored and we will use script `reddit_dumper.py` to dump posts of Reddit instead in server."
   ]
  },
  {
   "cell_type": "markdown",
   "metadata": {},
   "source": [
    "<a id='sect2_2'></a>\n",
    "### <font color='darkgreen'>Dump Statistic Info</font>\n",
    "Let's check the statistic information from the post dumping activity:"
   ]
  },
  {
   "cell_type": "code",
   "execution_count": 47,
   "metadata": {},
   "outputs": [],
   "source": [
    "from datetime import datetime\n",
    "\n",
    "STAT_FILE = 'reddit_dump_stat.txt'\n",
    "\n",
    "time_info_list = []\n",
    "tota_count_list = []\n",
    "post_count_list = []\n",
    "verf_count_list = []\n",
    "with open(STAT_FILE) as fo:\n",
    "    for line in fo:\n",
    "        time_info, counts = line.split(':')\n",
    "        verf, post, tota = list(map(lambda e: int(e), counts.split('/')))\n",
    "        time_info_list.append(datetime.strptime(time_info.strip(), '%Y%m%d%H%M%S'))\n",
    "        tota_count_list.append(tota)\n",
    "        post_count_list.append(post)\n",
    "        verf_count_list.append(verf)\n",
    "        \n",
    "time_info_list = time_info_list[-14:]\n",
    "tota_count_list = tota_count_list[-14:]\n",
    "post_count_list = post_count_list[-14:]\n",
    "verf_count_list = verf_count_list[-14:]"
   ]
  },
  {
   "cell_type": "code",
   "execution_count": 48,
   "metadata": {},
   "outputs": [
    {
     "data": {
      "image/png": "[encoded data removed]",
      "text/plain": [
       "<Figure size 864x432 with 1 Axes>"
      ]
     },
     "metadata": {},
     "output_type": "display_data"
    }
   ],
   "source": [
    "# https://datatofish.com/line-chart-python-matplotlib/\n",
    "# https://stackoverflow.com/questions/24108063/matplotlib-two-different-colors-in-the-same-annotate\n",
    "import matplotlib.pyplot as plt\n",
    "\n",
    "verified_count_sum = sum(verf_count_list)\n",
    "avg_post_per_unit = verified_count_sum / len(verf_count_list)\n",
    "plt.rcParams['figure.figsize'] = [12, 6]\n",
    "x_axis_values = list(map(lambda do: do.strftime('%m/%d'), time_info_list))\n",
    "plt.plot(x_axis_values, tota_count_list, color='blue', marker='x', label='Total')\n",
    "plt.plot(x_axis_values, post_count_list, color='red', marker='.', label='Classified as BT')\n",
    "plt.plot(x_axis_values, verf_count_list, color='green', marker='o', label='Verified as BT')\n",
    "plt.title(f'Collected BT related post: Total={verified_count_sum}, Daily average={avg_post_per_unit:.02f}', fontsize=14)\n",
    "\n",
    "for i, num in enumerate(verf_count_list):\n",
    "    plt.annotate(num, (x_axis_values[i], verf_count_list[i]+20), color='green')\n",
    "    \n",
    "plt.xlabel('Date', fontsize=14)\n",
    "plt.ylabel('Post count', fontsize=14)\n",
    "plt.xticks(rotation=45)\n",
    "plt.grid(True)\n",
    "plt.legend()\n",
    "plt.show()"
   ]
  },
  {
   "cell_type": "markdown",
   "metadata": {},
   "source": [
    "<a id='sect3'></a>\n",
    "## <font color='darkblue'>Word2vec Solution</font> ([back](#sect0))\n",
    "* [**Fasttext**](#sect2_1)\n",
    "* [**Gensim**](#sect2_2)\n",
    "\n",
    "[**Word2vec**](https://en.wikipedia.org/wiki/Word2vec) is a technique for [natural language processing](https://en.wikipedia.org/wiki/Natural_language_processing). The word2vec algorithm uses a neural network model to learn word associations from a large [corpus of text](https://en.wikipedia.org/wiki/Corpus_of_text). Once trained, such a model can detect synonymous words or suggest additional words for a partial sentence.\n",
    "![1.png](images/1.png)\n",
    "<br/>"
   ]
  },
  {
   "cell_type": "markdown",
   "metadata": {},
   "source": [
    "<a id='sect2_1'></a>\n",
    "### <font color='darkgreen'>Fasttext - Word to vector</font>\n",
    "Here we will leverage [**Fasttext**](https://github.com/facebookresearch/fastText) package to help us to translate word into vector for later ML training. Instead of re-training a new Fasttext model, we will use exist trained model [here](https://fasttext.cc/docs/en/crawl-vectors.html) [cc.en.300.bin.gz](https://dl.fbaipublicfiles.com/fasttext/vectors-crawl/cc.en.300.bin.gz). Please click the link and download it:"
   ]
  },
  {
   "cell_type": "code",
   "execution_count": 15,
   "metadata": {},
   "outputs": [],
   "source": [
    "#!pip install fasttext"
   ]
  },
  {
   "cell_type": "code",
   "execution_count": 16,
   "metadata": {},
   "outputs": [],
   "source": [
    "#import fasttext.util\n",
    "\n",
    "#fasttext.util.download_model('en', if_exists='ignore')  # English\n",
    "#ft = fasttext.load_model('cc.en.300.bin')"
   ]
  },
  {
   "cell_type": "markdown",
   "metadata": {},
   "source": [
    "After that, below code will load the downloaded model:"
   ]
  },
  {
   "cell_type": "code",
   "execution_count": 17,
   "metadata": {},
   "outputs": [],
   "source": [
    "#import fasttext\n",
    "#import fasttext.util"
   ]
  },
  {
   "cell_type": "markdown",
   "metadata": {},
   "source": [
    "<a id='sect2_2'></a>\n",
    "### <font color='darkgreen'>Gensim - Word to vector</font>\n",
    "Here we will leverage [**Gensim**](https://radimrehurek.com/gensim/auto_examples/tutorials/run_word2vec.html) to help us to translate word into vector for later ML training."
   ]
  },
  {
   "cell_type": "code",
   "execution_count": 18,
   "metadata": {},
   "outputs": [
    {
     "name": "stderr",
     "output_type": "stream",
     "text": [
      "c:\\users\\john\\appdata\\local\\programs\\python\\python38\\lib\\site-packages\\gensim\\similarities\\__init__.py:15: UserWarning: The gensim.similarities.levenshtein submodule is disabled, because the optional Levenshtein package <https://pypi.org/project/python-Levenshtein/> is unavailable. Install Levenhstein (e.g. `pip install python-Levenshtein`) to suppress this warning.\n",
      "  warnings.warn(msg)\n"
     ]
    }
   ],
   "source": [
    "# Load in word vector translator\n",
    "import gensim.downloader as api\n",
    "\n",
    "wv = api.load('word2vec-google-news-300')"
   ]
  },
  {
   "cell_type": "code",
   "execution_count": 19,
   "metadata": {},
   "outputs": [
    {
     "name": "stdout",
     "output_type": "stream",
     "text": [
      "Total 12 unknown word(s) found!\n",
      "{'Buds+', '2015', '102', '2013', 'Airlinks', 'wh-1000mx4', '10', 'OnePlus', '35', 'P4a5g', '11', 'smartwatch'}\n"
     ]
    }
   ],
   "source": [
    "unknown_word_set = set()\n",
    "for w in word_set:\n",
    "    try:\n",
    "        wv[w]\n",
    "    except:\n",
    "        unknown_word_set.add(w)\n",
    "        \n",
    "print(f\"Total {len(unknown_word_set)} unknown word(s) found!\")\n",
    "print(unknown_word_set)"
   ]
  },
  {
   "cell_type": "markdown",
   "metadata": {},
   "source": [
    "<a id='sect4'></a>\n",
    "## <font color='darkblue'>ML Models</font>\n",
    "Here we are going to explore some ML solutions to deal with NER problem."
   ]
  },
  {
   "cell_type": "code",
   "execution_count": 20,
   "metadata": {},
   "outputs": [],
   "source": [
    "#!pip uninstall sklearn\n",
    "#!pip install scikit-learn==0.23.0\n",
    "#!pip install scikit-learn\n",
    "#!pip install -U imbalanced-learn\n",
    "#!pip install deslib"
   ]
  },
  {
   "cell_type": "markdown",
   "metadata": {},
   "source": [
    "Some good sources to collect BT related posts:\n",
    "* https://support.google.com/pixelphone/search?q=Bluetooth+issue&from_promoted_search=true&count=176"
   ]
  },
  {
   "cell_type": "markdown",
   "metadata": {},
   "source": [
    "<a id='sect4_1'></a>\n",
    "### <font color='darkgreen'>Post classifier</font>\n",
    "We need a classifier to help us select post of Reddit from the dump collection to save our time to check all post. We put the interested posts under folder `pos` and others in folder `neg`. Below we will train a classifier to help us identify the post as those posts in folder `pos` (with label as `1`)."
   ]
  },
  {
   "cell_type": "markdown",
   "metadata": {},
   "source": [
    "#### Preprocess"
   ]
  },
  {
   "cell_type": "code",
   "execution_count": 21,
   "metadata": {},
   "outputs": [
    {
     "name": "stderr",
     "output_type": "stream",
     "text": [
      "c:\\users\\john\\appdata\\local\\programs\\python\\python38\\lib\\site-packages\\setuptools\\distutils_patch.py:25: UserWarning: Distutils was imported before Setuptools. This usage is discouraged and may exhibit undesirable behaviors or errors. Please use Setuptools' objects directly or at least import Setuptools first.\n",
      "  warnings.warn(\n"
     ]
    },
    {
     "name": "stdout",
     "output_type": "stream",
     "text": [
      "\n",
      "System:\n",
      "    python: 3.8.7 (tags/v3.8.7:6503f05, Dec 21 2020, 17:59:51) [MSC v.1928 64 bit (AMD64)]\n",
      "executable: c:\\users\\john\\appdata\\local\\programs\\python\\python38\\python.exe\n",
      "   machine: Windows-10-10.0.19041-SP0\n",
      "\n",
      "Python dependencies:\n",
      "       pip: 21.1.1\n",
      "setuptools: 49.2.1\n",
      "   sklearn: 0.23.0\n",
      "     numpy: 1.20.2\n",
      "     scipy: 1.5.2\n",
      "    Cython: 0.29.21\n",
      "    pandas: 1.1.5\n",
      "matplotlib: 3.3.2\n",
      "    joblib: 1.0.0\n",
      "\n",
      "Built with OpenMP: True\n",
      "None\n"
     ]
    }
   ],
   "source": [
    "import nltk\n",
    "import pickle\n",
    "import pandas as pd\n",
    "import numpy as np\n",
    "import sklearn\n",
    "import seaborn as sns\n",
    "from collections import Counter\n",
    "from nltk import pos_tag\n",
    "from nltk.tokenize import word_tokenize\n",
    "from nltk.tokenize import sent_tokenize\n",
    "from nltk.stem import WordNetLemmatizer\n",
    "import matplotlib.pyplot as plt\n",
    "from numpy import mean\n",
    "from numpy import std\n",
    "from sklearn.datasets import make_classification\n",
    "from sklearn.metrics import accuracy_score\n",
    "from sklearn.model_selection import cross_val_score\n",
    "from sklearn.model_selection import RepeatedStratifiedKFold\n",
    "from sklearn.model_selection import train_test_split\n",
    "from sklearn.linear_model import LogisticRegression\n",
    "from sklearn.ensemble import RandomForestClassifier\n",
    "from sklearn.ensemble import GradientBoostingClassifier\n",
    "from sklearn.neighbors import KNeighborsClassifier\n",
    "from sklearn.neural_network import MLPClassifier\n",
    "from sklearn.svm import SVC\n",
    "from sklearn.tree import DecisionTreeClassifier\n",
    "from sklearn.naive_bayes import GaussianNB\n",
    "from sklearn.datasets import make_classification\n",
    "from sklearn.ensemble import StackingClassifier\n",
    "from sklearn.model_selection import train_test_split\n",
    "from sklearn.metrics import plot_precision_recall_curve\n",
    "from sklearn.metrics import average_precision_score\n",
    "from deslib.des.knora_e import KNORAE\n",
    "from deslib.des.knora_u import KNORAU\n",
    "#nltk.download('averaged_perceptron_tagger')\n",
    "#nltk.download('wordnet')\n",
    "\n",
    "wnl = WordNetLemmatizer()\n",
    "\n",
    "def read_post_from_file(fn):\n",
    "    ''' Read Reddit post from file'''\n",
    "    title = body = url = ''\n",
    "    with open(fn, 'r', encoding='utf-8') as fo:\n",
    "        url = fo.readline().strip()\n",
    "        fo.readline()\n",
    "        title = fo.readline().strip()\n",
    "        fo.readline()\n",
    "        body = fo.read().strip()\n",
    "\n",
    "    return (title, body, url)\n",
    "\n",
    "print(sklearn.show_versions())"
   ]
  },
  {
   "cell_type": "code",
   "execution_count": 22,
   "metadata": {},
   "outputs": [
    {
     "name": "stdout",
     "output_type": "stream",
     "text": [
      "Total 1956 posts being handled!\n",
      "Wall time: 32.2 s\n"
     ]
    }
   ],
   "source": [
    "%%time\n",
    "VSET_SERIALIZED_FILENAME = 'reddit_vset.pkl'\n",
    "MIN_V_SIZE = 3\n",
    "MIN_N_SIZE = 2\n",
    "MAX_W_SIZE = 25\n",
    "BT_KW_SET = {'bt', 'bluetooth', 'a2dp', 'hfp'}\n",
    "NN_KW_SET = {'disconnection', 'bluetooth/car', 'avrcp', 'a2dp', 'wh-1000mx4', 'wh-1000xm4', 'wh1000xm3', 'pairing'}\n",
    "vset = set()\n",
    "''' verb set'''\n",
    "pw_cnt = Counter()\n",
    "''' positive post word counter'''\n",
    "nw_set = set()\n",
    "''' negative post word set'''\n",
    "post_list = []\n",
    "doc_count = 0\n",
    "for label, td in [(1, 'reddit_post_dumps/pos'), (0, 'reddit_post_dumps/neg')]:\n",
    "    for f in os.listdir(td):\n",
    "        doc_count += 1\n",
    "        fp = os.path.join(td, f)\n",
    "        post_list.append((label, fp))\n",
    "        title, body, url = read_post_from_file(fp)\n",
    "        text = title + '\\n' + body\n",
    "        for sent in sent_tokenize(text):\n",
    "            words = word_tokenize(sent)\n",
    "            wt_pairs = pos_tag(words)\n",
    "            for w, t in wt_pairs:                \n",
    "                w = wnl.lemmatize(w)\n",
    "                if len(w) > MAX_W_SIZE:\n",
    "                    continue\n",
    "                    \n",
    "                if len(w) > MIN_V_SIZE and t.startswith('V'):\n",
    "                    vset.add(w.lower())\n",
    "                    \n",
    "                if len(w) > MIN_N_SIZE and t.startswith('N'):\n",
    "                    if label == 1:\n",
    "                        pw_cnt[w.lower()] += 1\n",
    "                    else:\n",
    "                        nw_set.add(w.lower())\n",
    "                    \n",
    "print(f\"Total {doc_count} posts being handled!\")"
   ]
  },
  {
   "cell_type": "code",
   "execution_count": 23,
   "metadata": {},
   "outputs": [
    {
     "data": {
      "text/plain": [
       "[('vehicle', 13),\n",
       " ('van', 12),\n",
       " ('avrcp', 11),\n",
       " ('pairing', 7),\n",
       " ('sec', 7),\n",
       " ('headset', 6),\n",
       " ('prius', 6),\n",
       " ('antivirus', 5),\n",
       " ('disconnecting', 5),\n",
       " ('bolt', 5),\n",
       " ('rogue', 5),\n",
       " (',it', 4),\n",
       " ('rog', 4),\n",
       " ('garmin', 4),\n",
       " ('pos', 4),\n",
       " ('tws', 4),\n",
       " ('gl=us', 4),\n",
       " ('anker', 4),\n",
       " ('installer', 4),\n",
       " ('airlinks', 4)]"
      ]
     },
     "execution_count": 23,
     "metadata": {},
     "output_type": "execute_result"
    }
   ],
   "source": [
    "sorted(map(lambda k: (k, pw_cnt[k]), list(pw_cnt.keys() - nw_set)), key=lambda t: t[1], reverse=True)[:20]"
   ]
  },
  {
   "cell_type": "code",
   "execution_count": 24,
   "metadata": {},
   "outputs": [
    {
     "data": {
      "text/plain": [
       "2621"
      ]
     },
     "execution_count": 24,
     "metadata": {},
     "output_type": "execute_result"
    }
   ],
   "source": [
    "with open(VSET_SERIALIZED_FILENAME, 'wb') as fw:\n",
    "    pickle.dump(vset, fw)\n",
    "    \n",
    "len(vset)"
   ]
  },
  {
   "cell_type": "code",
   "execution_count": 25,
   "metadata": {},
   "outputs": [],
   "source": [
    "def file2vec(fp):\n",
    "    '''\n",
    "    Feature vector = [\n",
    "        title_wv_300,\n",
    "        body_wv_300,\n",
    "        ohe_of_vset,\n",
    "        ohe_of_nset,\n",
    "        num_of_bt,\n",
    "        title_wset_size,\n",
    "        body_wset_size\n",
    "    ]\n",
    "    '''\n",
    "    feats = []\n",
    "    title_wset = set()\n",
    "    body_wset = set()\n",
    "    title_vec = np.zeros(300)\n",
    "    body_vec = np.zeros(300)\n",
    "    bt_count = 0\n",
    "    title, body, url = read_post_from_file(fp)\n",
    "    # body_wv_300\n",
    "    for sent in nltk.sent_tokenize(body):\n",
    "            for w in nltk.tokenize.word_tokenize(sent):\n",
    "                w = w.lower()\n",
    "                if len(w) > MAX_W_SIZE:\n",
    "                    continue\n",
    "                    \n",
    "                if w in BT_KW_SET:\n",
    "                    bt_count += 1\n",
    "                try:\n",
    "                    body_vec += wv[w]\n",
    "                    body_wset.add(wnl.lemmatize(w))                    \n",
    "                except:\n",
    "                    pass\n",
    "                \n",
    "    # title_wv_300\n",
    "    for w in nltk.tokenize.word_tokenize(title):\n",
    "        w = w.lower()\n",
    "        if len(w) > MAX_W_SIZE:\n",
    "            continue\n",
    "                \n",
    "        if w in BT_KW_SET:\n",
    "            bt_count += 1\n",
    "        try:\n",
    "            title_vec += wv[w]\n",
    "            title_wset.add(wnl.lemmatize(w))\n",
    "        except:\n",
    "            pass\n",
    "        \n",
    "    feats.extend(title_vec.copy())\n",
    "    feats.extend(body_vec.copy()) \n",
    "    \n",
    "    # ohe_of_vset\n",
    "    for v in vset:\n",
    "        if v in body_wset or v in title_wset:\n",
    "            feats.append(1)            \n",
    "        else:\n",
    "            feats.append(0)\n",
    "            \n",
    "    # ohe_of_nset\n",
    "    for n in NN_KW_SET:\n",
    "        if n in body_wset or v in title_wset:\n",
    "            feats.append(1)            \n",
    "        else:\n",
    "            feats.append(0)\n",
    "            \n",
    "    # num_of_bt\n",
    "    feats.append(bt_count)\n",
    "    \n",
    "    # title_wset_size\n",
    "    feats.append(len(title_wset))\n",
    "    \n",
    "    # body_wset_size\n",
    "    feats.append(len(body_wset))\n",
    "    return feats"
   ]
  },
  {
   "cell_type": "code",
   "execution_count": 26,
   "metadata": {},
   "outputs": [
    {
     "name": "stdout",
     "output_type": "stream",
     "text": [
      "Fector of reddit_post_dumps/pos\\20210507070501_mt45yy_bluetooth_issues_since_april_update.txt\n"
     ]
    },
    {
     "data": {
      "text/plain": [
       "3232"
      ]
     },
     "execution_count": 26,
     "metadata": {},
     "output_type": "execute_result"
    }
   ],
   "source": [
    "# Check vector size\n",
    "print(f\"Fector of {post_list[0][1]}\")\n",
    "len(file2vec(post_list[0][1]))"
   ]
  },
  {
   "cell_type": "code",
   "execution_count": 27,
   "metadata": {},
   "outputs": [],
   "source": [
    "# Build training/testing dataset X, y\n",
    "# Feature vector = [title_wv_300, body_wv_300, ohe_of_vset, num_of_bt]\n",
    "import pandas as pd\n",
    "\n",
    "def get_dataset():\n",
    "    df_columns = []\n",
    "    df_columns.extend([f\"title_wv_{i}\" for i in range(300)])\n",
    "    df_columns.extend([f\"body_wv_{i}\" for i in range(300)])\n",
    "    df_columns.extend([f\"vest_ohe_{i}\" for i in range(len(vset))])\n",
    "    df_columns.extend([f\"nest_ohe_{i}\" for i in range(len(NN_KW_SET))])\n",
    "    df_columns.append('num_of_bt')\n",
    "    df_columns.append('title_wset_size')\n",
    "    df_columns.append('body_wset_size')\n",
    "    df_columns.append('target')\n",
    "    df_columns.append('source')\n",
    "    rows = []\n",
    "    for label, fp in post_list:\n",
    "        feat = file2vec(fp)\n",
    "        feat.append(label)\n",
    "        feat.append(fp)\n",
    "        rows.append(feat)\n",
    "        \n",
    "    \n",
    "    df = pd.DataFrame(\n",
    "        data=rows, \n",
    "        columns=df_columns\n",
    "    )\n",
    "\n",
    "    X = df.drop(['target', 'source'], axis=1)\n",
    "    y = df['target']\n",
    "    return X, y, df"
   ]
  },
  {
   "cell_type": "code",
   "execution_count": 28,
   "metadata": {},
   "outputs": [
    {
     "data": {
      "text/html": [
       "<div>\n",
       "<style scoped>\n",
       "    .dataframe tbody tr th:only-of-type {\n",
       "        vertical-align: middle;\n",
       "    }\n",
       "\n",
       "    .dataframe tbody tr th {\n",
       "        vertical-align: top;\n",
       "    }\n",
       "\n",
       "    .dataframe thead th {\n",
       "        text-align: right;\n",
       "    }\n",
       "</style>\n",
       "<table border=\"1\" class=\"dataframe\">\n",
       "  <thead>\n",
       "    <tr style=\"text-align: right;\">\n",
       "      <th></th>\n",
       "      <th>title_wv_0</th>\n",
       "      <th>title_wv_1</th>\n",
       "      <th>title_wv_2</th>\n",
       "      <th>title_wv_3</th>\n",
       "      <th>title_wv_4</th>\n",
       "      <th>title_wv_5</th>\n",
       "      <th>title_wv_6</th>\n",
       "      <th>title_wv_7</th>\n",
       "      <th>title_wv_8</th>\n",
       "      <th>title_wv_9</th>\n",
       "      <th>...</th>\n",
       "      <th>nest_ohe_1</th>\n",
       "      <th>nest_ohe_2</th>\n",
       "      <th>nest_ohe_3</th>\n",
       "      <th>nest_ohe_4</th>\n",
       "      <th>nest_ohe_5</th>\n",
       "      <th>nest_ohe_6</th>\n",
       "      <th>nest_ohe_7</th>\n",
       "      <th>num_of_bt</th>\n",
       "      <th>title_wset_size</th>\n",
       "      <th>body_wset_size</th>\n",
       "    </tr>\n",
       "  </thead>\n",
       "  <tbody>\n",
       "    <tr>\n",
       "      <th>629</th>\n",
       "      <td>0.286377</td>\n",
       "      <td>-0.414551</td>\n",
       "      <td>0.419678</td>\n",
       "      <td>-0.017578</td>\n",
       "      <td>-0.306030</td>\n",
       "      <td>0.116028</td>\n",
       "      <td>0.279785</td>\n",
       "      <td>-0.259644</td>\n",
       "      <td>0.084961</td>\n",
       "      <td>-0.093506</td>\n",
       "      <td>...</td>\n",
       "      <td>0</td>\n",
       "      <td>0</td>\n",
       "      <td>0</td>\n",
       "      <td>0</td>\n",
       "      <td>0</td>\n",
       "      <td>0</td>\n",
       "      <td>0</td>\n",
       "      <td>0</td>\n",
       "      <td>3</td>\n",
       "      <td>16</td>\n",
       "    </tr>\n",
       "    <tr>\n",
       "      <th>1663</th>\n",
       "      <td>0.129883</td>\n",
       "      <td>-0.601807</td>\n",
       "      <td>0.300049</td>\n",
       "      <td>0.523438</td>\n",
       "      <td>-0.530090</td>\n",
       "      <td>-0.054932</td>\n",
       "      <td>0.639771</td>\n",
       "      <td>-0.160522</td>\n",
       "      <td>-0.203369</td>\n",
       "      <td>0.009888</td>\n",
       "      <td>...</td>\n",
       "      <td>0</td>\n",
       "      <td>0</td>\n",
       "      <td>0</td>\n",
       "      <td>0</td>\n",
       "      <td>0</td>\n",
       "      <td>0</td>\n",
       "      <td>0</td>\n",
       "      <td>0</td>\n",
       "      <td>5</td>\n",
       "      <td>34</td>\n",
       "    </tr>\n",
       "    <tr>\n",
       "      <th>1503</th>\n",
       "      <td>0.152344</td>\n",
       "      <td>-0.669922</td>\n",
       "      <td>0.847412</td>\n",
       "      <td>-0.166016</td>\n",
       "      <td>-0.170105</td>\n",
       "      <td>0.144531</td>\n",
       "      <td>0.204102</td>\n",
       "      <td>0.044678</td>\n",
       "      <td>-0.718262</td>\n",
       "      <td>-0.257324</td>\n",
       "      <td>...</td>\n",
       "      <td>0</td>\n",
       "      <td>0</td>\n",
       "      <td>0</td>\n",
       "      <td>0</td>\n",
       "      <td>0</td>\n",
       "      <td>0</td>\n",
       "      <td>0</td>\n",
       "      <td>0</td>\n",
       "      <td>3</td>\n",
       "      <td>36</td>\n",
       "    </tr>\n",
       "    <tr>\n",
       "      <th>257</th>\n",
       "      <td>0.089355</td>\n",
       "      <td>-0.291992</td>\n",
       "      <td>0.396240</td>\n",
       "      <td>-0.203857</td>\n",
       "      <td>-0.122803</td>\n",
       "      <td>0.184387</td>\n",
       "      <td>0.340210</td>\n",
       "      <td>-0.170532</td>\n",
       "      <td>-0.105957</td>\n",
       "      <td>-0.069458</td>\n",
       "      <td>...</td>\n",
       "      <td>0</td>\n",
       "      <td>0</td>\n",
       "      <td>0</td>\n",
       "      <td>0</td>\n",
       "      <td>0</td>\n",
       "      <td>0</td>\n",
       "      <td>0</td>\n",
       "      <td>0</td>\n",
       "      <td>3</td>\n",
       "      <td>7</td>\n",
       "    </tr>\n",
       "    <tr>\n",
       "      <th>1525</th>\n",
       "      <td>0.224121</td>\n",
       "      <td>-0.154541</td>\n",
       "      <td>0.098633</td>\n",
       "      <td>-0.179821</td>\n",
       "      <td>0.095459</td>\n",
       "      <td>0.177307</td>\n",
       "      <td>0.479492</td>\n",
       "      <td>-0.202759</td>\n",
       "      <td>0.244141</td>\n",
       "      <td>0.033203</td>\n",
       "      <td>...</td>\n",
       "      <td>0</td>\n",
       "      <td>0</td>\n",
       "      <td>0</td>\n",
       "      <td>0</td>\n",
       "      <td>0</td>\n",
       "      <td>0</td>\n",
       "      <td>0</td>\n",
       "      <td>0</td>\n",
       "      <td>3</td>\n",
       "      <td>52</td>\n",
       "    </tr>\n",
       "  </tbody>\n",
       "</table>\n",
       "<p>5 rows × 3232 columns</p>\n",
       "</div>"
      ],
      "text/plain": [
       "      title_wv_0  title_wv_1  title_wv_2  title_wv_3  title_wv_4  title_wv_5  \\\n",
       "629     0.286377   -0.414551    0.419678   -0.017578   -0.306030    0.116028   \n",
       "1663    0.129883   -0.601807    0.300049    0.523438   -0.530090   -0.054932   \n",
       "1503    0.152344   -0.669922    0.847412   -0.166016   -0.170105    0.144531   \n",
       "257     0.089355   -0.291992    0.396240   -0.203857   -0.122803    0.184387   \n",
       "1525    0.224121   -0.154541    0.098633   -0.179821    0.095459    0.177307   \n",
       "\n",
       "      title_wv_6  title_wv_7  title_wv_8  title_wv_9  ...  nest_ohe_1  \\\n",
       "629     0.279785   -0.259644    0.084961   -0.093506  ...           0   \n",
       "1663    0.639771   -0.160522   -0.203369    0.009888  ...           0   \n",
       "1503    0.204102    0.044678   -0.718262   -0.257324  ...           0   \n",
       "257     0.340210   -0.170532   -0.105957   -0.069458  ...           0   \n",
       "1525    0.479492   -0.202759    0.244141    0.033203  ...           0   \n",
       "\n",
       "      nest_ohe_2  nest_ohe_3  nest_ohe_4  nest_ohe_5  nest_ohe_6  nest_ohe_7  \\\n",
       "629            0           0           0           0           0           0   \n",
       "1663           0           0           0           0           0           0   \n",
       "1503           0           0           0           0           0           0   \n",
       "257            0           0           0           0           0           0   \n",
       "1525           0           0           0           0           0           0   \n",
       "\n",
       "      num_of_bt  title_wset_size  body_wset_size  \n",
       "629           0                3              16  \n",
       "1663          0                5              34  \n",
       "1503          0                3              36  \n",
       "257           0                3               7  \n",
       "1525          0                3              52  \n",
       "\n",
       "[5 rows x 3232 columns]"
      ]
     },
     "execution_count": 28,
     "metadata": {},
     "output_type": "execute_result"
    }
   ],
   "source": [
    "# Get training/testing data\n",
    "X, y, df = get_dataset()\n",
    "\n",
    "# split the dataset into train and test sets\n",
    "X_train, X_test, y_train, y_test = train_test_split(X, y, test_size=0.2, random_state=1)\n",
    "X.sample(n=5)"
   ]
  },
  {
   "cell_type": "code",
   "execution_count": 29,
   "metadata": {},
   "outputs": [
    {
     "data": {
      "image/png": "[encoded data removed]",
      "text/plain": [
       "<Figure size 864x432 with 1 Axes>"
      ]
     },
     "metadata": {
      "needs_background": "light"
     },
     "output_type": "display_data"
    }
   ],
   "source": [
    "# Check if there is a scenario of imbalance dataset\n",
    "# More: https://github.com/johnklee/ml_articles/tree/master/others/imbalance_data_by_smote\n",
    "ax = sns.countplot(x='target', data=df)"
   ]
  },
  {
   "cell_type": "code",
   "execution_count": 30,
   "metadata": {},
   "outputs": [],
   "source": [
    "# === Now, let's train the classifiers and pickup the best one ===\n",
    "\n",
    "# get a stacking ensemble of models\n",
    "def get_stacking():\n",
    "    # define the base models\n",
    "    level0 = list()\n",
    "    level0.append(('lr', LogisticRegression(solver='liblinear')))\n",
    "    level0.append(('knn', KNeighborsClassifier(n_neighbors=7)))\n",
    "    level0.append(('cart', DecisionTreeClassifier()))\n",
    "    level0.append(('svm', SVC(C=10)))\n",
    "    level0.append(('bayes', GaussianNB()))\n",
    "\n",
    "    # define meta learner model\n",
    "    level1 = LogisticRegression()\n",
    "\n",
    "    # define the stacking ensemble\n",
    "    model = StackingClassifier(estimators=level0, final_estimator=level1, cv=5)\n",
    "    return model"
   ]
  },
  {
   "cell_type": "code",
   "execution_count": 31,
   "metadata": {},
   "outputs": [],
   "source": [
    "# get a list of models to evaluate\n",
    "# https://scikit-learn.org/stable/auto_examples/classification/plot_classifier_comparison.html\n",
    "def get_models():\n",
    "    models = dict()\n",
    "    models['lr'] = LogisticRegression(solver='liblinear')\n",
    "    models['knn'] = KNeighborsClassifier(n_neighbors=7)\n",
    "    models['cart'] = DecisionTreeClassifier()\n",
    "    models['svm'] = SVC(C=10)\n",
    "    models['bayes'] = GaussianNB()\n",
    "    models['stacking'] = get_stacking()\n",
    "    return models"
   ]
  },
  {
   "cell_type": "code",
   "execution_count": 32,
   "metadata": {},
   "outputs": [],
   "source": [
    "# evaluate a given model using cross-validation\n",
    "def evaluate_model(model, X, y):\n",
    "    cv = RepeatedStratifiedKFold(n_splits=10, n_repeats=3, random_state=1)\n",
    "    scores = cross_val_score(model, X, y, scoring='accuracy', cv=cv, n_jobs=-1, error_score='raise')\n",
    "    return scores"
   ]
  },
  {
   "cell_type": "code",
   "execution_count": 33,
   "metadata": {},
   "outputs": [
    {
     "name": "stdout",
     "output_type": "stream",
     "text": [
      ">lr 0.9823 (0.0074)\n",
      ">knn 0.9330 (0.0122)\n",
      ">cart 0.9823 (0.0077)\n",
      ">svm 0.9692 (0.0095)\n",
      ">bayes 0.8185 (0.0254)\n",
      ">stacking 0.9876 (0.0084)\n",
      "Wall time: 6min 11s\n"
     ]
    }
   ],
   "source": [
    "%%time\n",
    "# define dataset\n",
    "X, y, _ = get_dataset()\n",
    "\n",
    "# get the models to evaluate\n",
    "models = get_models()\n",
    "\n",
    "# evaluate the models and store results\n",
    "results = list()\n",
    "for name, model in models.items():\n",
    "    scores = evaluate_model(model, X, y)\n",
    "    mean_score = mean(scores)\n",
    "    std_score = std(scores)\n",
    "    results.append((mean_score, name, scores))    \n",
    "    print('>%s %.4f (%.4f)' % (name, mean_score, std_score))"
   ]
  },
  {
   "cell_type": "code",
   "execution_count": 34,
   "metadata": {},
   "outputs": [
    {
     "data": {
      "image/png": "[encoded data removed]",
      "text/plain": [
       "<Figure size 720x360 with 1 Axes>"
      ]
     },
     "metadata": {
      "needs_background": "light"
     },
     "output_type": "display_data"
    }
   ],
   "source": [
    "# Sorting the result according to mean score\n",
    "sorted_scores, names = list(), list()\n",
    "for mean_score, name, scores in sorted(results, key=lambda t: t[0], reverse=True):\n",
    "    sorted_scores.append(scores)\n",
    "    names.append(name)\n",
    "\n",
    "# plot model performance for comparison\n",
    "plt.rcParams['figure.figsize'] = [10, 5]\n",
    "plt.boxplot(sorted_scores, labels=names, showmeans=True)\n",
    "plt.show()"
   ]
  },
  {
   "cell_type": "markdown",
   "metadata": {},
   "source": [
    "From above, [**stacking**](https://en.wikipedia.org/wiki/Ensemble_learning#Stacking) ([more](https://machinelearningmastery.com/stacking-ensemble-machine-learning-with-python/)) perform the best. Let's check the confusion matrix of it:"
   ]
  },
  {
   "cell_type": "code",
   "execution_count": 35,
   "metadata": {},
   "outputs": [
    {
     "data": {
      "text/html": [
       "<div>\n",
       "<style scoped>\n",
       "    .dataframe tbody tr th:only-of-type {\n",
       "        vertical-align: middle;\n",
       "    }\n",
       "\n",
       "    .dataframe tbody tr th {\n",
       "        vertical-align: top;\n",
       "    }\n",
       "\n",
       "    .dataframe thead th {\n",
       "        text-align: right;\n",
       "    }\n",
       "</style>\n",
       "<table border=\"1\" class=\"dataframe\">\n",
       "  <thead>\n",
       "    <tr style=\"text-align: right;\">\n",
       "      <th></th>\n",
       "      <th>title_wv_0</th>\n",
       "      <th>title_wv_1</th>\n",
       "      <th>title_wv_2</th>\n",
       "      <th>title_wv_3</th>\n",
       "      <th>title_wv_4</th>\n",
       "      <th>title_wv_5</th>\n",
       "      <th>title_wv_6</th>\n",
       "      <th>title_wv_7</th>\n",
       "      <th>title_wv_8</th>\n",
       "      <th>title_wv_9</th>\n",
       "      <th>...</th>\n",
       "      <th>nest_ohe_1</th>\n",
       "      <th>nest_ohe_2</th>\n",
       "      <th>nest_ohe_3</th>\n",
       "      <th>nest_ohe_4</th>\n",
       "      <th>nest_ohe_5</th>\n",
       "      <th>nest_ohe_6</th>\n",
       "      <th>nest_ohe_7</th>\n",
       "      <th>num_of_bt</th>\n",
       "      <th>title_wset_size</th>\n",
       "      <th>body_wset_size</th>\n",
       "    </tr>\n",
       "  </thead>\n",
       "  <tbody>\n",
       "    <tr>\n",
       "      <th>793</th>\n",
       "      <td>0.716766</td>\n",
       "      <td>0.106337</td>\n",
       "      <td>0.255493</td>\n",
       "      <td>2.016907</td>\n",
       "      <td>-1.708557</td>\n",
       "      <td>0.422241</td>\n",
       "      <td>0.658951</td>\n",
       "      <td>-1.243286</td>\n",
       "      <td>2.194397</td>\n",
       "      <td>0.461426</td>\n",
       "      <td>...</td>\n",
       "      <td>0</td>\n",
       "      <td>0</td>\n",
       "      <td>0</td>\n",
       "      <td>0</td>\n",
       "      <td>0</td>\n",
       "      <td>0</td>\n",
       "      <td>0</td>\n",
       "      <td>0</td>\n",
       "      <td>19</td>\n",
       "      <td>2</td>\n",
       "    </tr>\n",
       "    <tr>\n",
       "      <th>1931</th>\n",
       "      <td>1.242554</td>\n",
       "      <td>0.429565</td>\n",
       "      <td>0.857231</td>\n",
       "      <td>1.147217</td>\n",
       "      <td>-1.563568</td>\n",
       "      <td>0.080566</td>\n",
       "      <td>0.974792</td>\n",
       "      <td>-0.740307</td>\n",
       "      <td>-0.010186</td>\n",
       "      <td>0.404205</td>\n",
       "      <td>...</td>\n",
       "      <td>0</td>\n",
       "      <td>0</td>\n",
       "      <td>0</td>\n",
       "      <td>0</td>\n",
       "      <td>0</td>\n",
       "      <td>0</td>\n",
       "      <td>0</td>\n",
       "      <td>0</td>\n",
       "      <td>12</td>\n",
       "      <td>55</td>\n",
       "    </tr>\n",
       "    <tr>\n",
       "      <th>866</th>\n",
       "      <td>0.359375</td>\n",
       "      <td>-0.516113</td>\n",
       "      <td>0.495361</td>\n",
       "      <td>0.443848</td>\n",
       "      <td>-0.253723</td>\n",
       "      <td>-0.202637</td>\n",
       "      <td>0.063965</td>\n",
       "      <td>-0.221802</td>\n",
       "      <td>-0.533203</td>\n",
       "      <td>-0.018957</td>\n",
       "      <td>...</td>\n",
       "      <td>0</td>\n",
       "      <td>0</td>\n",
       "      <td>0</td>\n",
       "      <td>0</td>\n",
       "      <td>0</td>\n",
       "      <td>0</td>\n",
       "      <td>0</td>\n",
       "      <td>0</td>\n",
       "      <td>5</td>\n",
       "      <td>34</td>\n",
       "    </tr>\n",
       "    <tr>\n",
       "      <th>810</th>\n",
       "      <td>0.270386</td>\n",
       "      <td>-0.272461</td>\n",
       "      <td>0.553406</td>\n",
       "      <td>0.177979</td>\n",
       "      <td>-0.245728</td>\n",
       "      <td>0.305786</td>\n",
       "      <td>0.367004</td>\n",
       "      <td>-0.573608</td>\n",
       "      <td>-0.026855</td>\n",
       "      <td>-0.155273</td>\n",
       "      <td>...</td>\n",
       "      <td>0</td>\n",
       "      <td>0</td>\n",
       "      <td>0</td>\n",
       "      <td>0</td>\n",
       "      <td>0</td>\n",
       "      <td>0</td>\n",
       "      <td>0</td>\n",
       "      <td>0</td>\n",
       "      <td>5</td>\n",
       "      <td>78</td>\n",
       "    </tr>\n",
       "    <tr>\n",
       "      <th>1830</th>\n",
       "      <td>-0.017578</td>\n",
       "      <td>0.133789</td>\n",
       "      <td>0.065430</td>\n",
       "      <td>0.750977</td>\n",
       "      <td>-0.577148</td>\n",
       "      <td>0.715332</td>\n",
       "      <td>0.130859</td>\n",
       "      <td>-0.105957</td>\n",
       "      <td>0.299011</td>\n",
       "      <td>0.437744</td>\n",
       "      <td>...</td>\n",
       "      <td>0</td>\n",
       "      <td>0</td>\n",
       "      <td>0</td>\n",
       "      <td>0</td>\n",
       "      <td>0</td>\n",
       "      <td>0</td>\n",
       "      <td>0</td>\n",
       "      <td>0</td>\n",
       "      <td>3</td>\n",
       "      <td>55</td>\n",
       "    </tr>\n",
       "    <tr>\n",
       "      <th>1371</th>\n",
       "      <td>0.080078</td>\n",
       "      <td>0.114441</td>\n",
       "      <td>0.259277</td>\n",
       "      <td>-0.297943</td>\n",
       "      <td>0.045898</td>\n",
       "      <td>0.400452</td>\n",
       "      <td>0.394043</td>\n",
       "      <td>0.039062</td>\n",
       "      <td>0.278809</td>\n",
       "      <td>0.104980</td>\n",
       "      <td>...</td>\n",
       "      <td>0</td>\n",
       "      <td>0</td>\n",
       "      <td>0</td>\n",
       "      <td>0</td>\n",
       "      <td>0</td>\n",
       "      <td>0</td>\n",
       "      <td>0</td>\n",
       "      <td>0</td>\n",
       "      <td>4</td>\n",
       "      <td>27</td>\n",
       "    </tr>\n",
       "    <tr>\n",
       "      <th>1639</th>\n",
       "      <td>-0.029327</td>\n",
       "      <td>-0.752808</td>\n",
       "      <td>0.744568</td>\n",
       "      <td>0.592331</td>\n",
       "      <td>-0.555115</td>\n",
       "      <td>-0.449036</td>\n",
       "      <td>0.545166</td>\n",
       "      <td>-0.070129</td>\n",
       "      <td>0.492188</td>\n",
       "      <td>0.313354</td>\n",
       "      <td>...</td>\n",
       "      <td>0</td>\n",
       "      <td>0</td>\n",
       "      <td>0</td>\n",
       "      <td>0</td>\n",
       "      <td>0</td>\n",
       "      <td>0</td>\n",
       "      <td>0</td>\n",
       "      <td>0</td>\n",
       "      <td>10</td>\n",
       "      <td>29</td>\n",
       "    </tr>\n",
       "    <tr>\n",
       "      <th>653</th>\n",
       "      <td>0.399902</td>\n",
       "      <td>0.258667</td>\n",
       "      <td>-0.644165</td>\n",
       "      <td>0.400314</td>\n",
       "      <td>-0.469910</td>\n",
       "      <td>0.415771</td>\n",
       "      <td>-0.146759</td>\n",
       "      <td>-0.397217</td>\n",
       "      <td>0.936646</td>\n",
       "      <td>0.351624</td>\n",
       "      <td>...</td>\n",
       "      <td>0</td>\n",
       "      <td>0</td>\n",
       "      <td>0</td>\n",
       "      <td>0</td>\n",
       "      <td>0</td>\n",
       "      <td>0</td>\n",
       "      <td>0</td>\n",
       "      <td>0</td>\n",
       "      <td>10</td>\n",
       "      <td>36</td>\n",
       "    </tr>\n",
       "    <tr>\n",
       "      <th>1621</th>\n",
       "      <td>0.106934</td>\n",
       "      <td>-0.648438</td>\n",
       "      <td>0.336914</td>\n",
       "      <td>0.085938</td>\n",
       "      <td>-0.265442</td>\n",
       "      <td>-0.075623</td>\n",
       "      <td>-0.093262</td>\n",
       "      <td>-0.151245</td>\n",
       "      <td>-0.363281</td>\n",
       "      <td>-0.174561</td>\n",
       "      <td>...</td>\n",
       "      <td>0</td>\n",
       "      <td>0</td>\n",
       "      <td>0</td>\n",
       "      <td>0</td>\n",
       "      <td>0</td>\n",
       "      <td>0</td>\n",
       "      <td>0</td>\n",
       "      <td>0</td>\n",
       "      <td>3</td>\n",
       "      <td>23</td>\n",
       "    </tr>\n",
       "    <tr>\n",
       "      <th>1757</th>\n",
       "      <td>-0.332916</td>\n",
       "      <td>-0.247803</td>\n",
       "      <td>-0.167236</td>\n",
       "      <td>0.802246</td>\n",
       "      <td>-0.710388</td>\n",
       "      <td>-0.413086</td>\n",
       "      <td>0.410278</td>\n",
       "      <td>-0.645996</td>\n",
       "      <td>0.483643</td>\n",
       "      <td>0.035645</td>\n",
       "      <td>...</td>\n",
       "      <td>0</td>\n",
       "      <td>0</td>\n",
       "      <td>0</td>\n",
       "      <td>0</td>\n",
       "      <td>0</td>\n",
       "      <td>0</td>\n",
       "      <td>0</td>\n",
       "      <td>0</td>\n",
       "      <td>5</td>\n",
       "      <td>51</td>\n",
       "    </tr>\n",
       "  </tbody>\n",
       "</table>\n",
       "<p>10 rows × 3232 columns</p>\n",
       "</div>"
      ],
      "text/plain": [
       "      title_wv_0  title_wv_1  title_wv_2  title_wv_3  title_wv_4  title_wv_5  \\\n",
       "793     0.716766    0.106337    0.255493    2.016907   -1.708557    0.422241   \n",
       "1931    1.242554    0.429565    0.857231    1.147217   -1.563568    0.080566   \n",
       "866     0.359375   -0.516113    0.495361    0.443848   -0.253723   -0.202637   \n",
       "810     0.270386   -0.272461    0.553406    0.177979   -0.245728    0.305786   \n",
       "1830   -0.017578    0.133789    0.065430    0.750977   -0.577148    0.715332   \n",
       "1371    0.080078    0.114441    0.259277   -0.297943    0.045898    0.400452   \n",
       "1639   -0.029327   -0.752808    0.744568    0.592331   -0.555115   -0.449036   \n",
       "653     0.399902    0.258667   -0.644165    0.400314   -0.469910    0.415771   \n",
       "1621    0.106934   -0.648438    0.336914    0.085938   -0.265442   -0.075623   \n",
       "1757   -0.332916   -0.247803   -0.167236    0.802246   -0.710388   -0.413086   \n",
       "\n",
       "      title_wv_6  title_wv_7  title_wv_8  title_wv_9  ...  nest_ohe_1  \\\n",
       "793     0.658951   -1.243286    2.194397    0.461426  ...           0   \n",
       "1931    0.974792   -0.740307   -0.010186    0.404205  ...           0   \n",
       "866     0.063965   -0.221802   -0.533203   -0.018957  ...           0   \n",
       "810     0.367004   -0.573608   -0.026855   -0.155273  ...           0   \n",
       "1830    0.130859   -0.105957    0.299011    0.437744  ...           0   \n",
       "1371    0.394043    0.039062    0.278809    0.104980  ...           0   \n",
       "1639    0.545166   -0.070129    0.492188    0.313354  ...           0   \n",
       "653    -0.146759   -0.397217    0.936646    0.351624  ...           0   \n",
       "1621   -0.093262   -0.151245   -0.363281   -0.174561  ...           0   \n",
       "1757    0.410278   -0.645996    0.483643    0.035645  ...           0   \n",
       "\n",
       "      nest_ohe_2  nest_ohe_3  nest_ohe_4  nest_ohe_5  nest_ohe_6  nest_ohe_7  \\\n",
       "793            0           0           0           0           0           0   \n",
       "1931           0           0           0           0           0           0   \n",
       "866            0           0           0           0           0           0   \n",
       "810            0           0           0           0           0           0   \n",
       "1830           0           0           0           0           0           0   \n",
       "1371           0           0           0           0           0           0   \n",
       "1639           0           0           0           0           0           0   \n",
       "653            0           0           0           0           0           0   \n",
       "1621           0           0           0           0           0           0   \n",
       "1757           0           0           0           0           0           0   \n",
       "\n",
       "      num_of_bt  title_wset_size  body_wset_size  \n",
       "793           0               19               2  \n",
       "1931          0               12              55  \n",
       "866           0                5              34  \n",
       "810           0                5              78  \n",
       "1830          0                3              55  \n",
       "1371          0                4              27  \n",
       "1639          0               10              29  \n",
       "653           0               10              36  \n",
       "1621          0                3              23  \n",
       "1757          0                5              51  \n",
       "\n",
       "[10 rows x 3232 columns]"
      ]
     },
     "execution_count": 35,
     "metadata": {},
     "output_type": "execute_result"
    }
   ],
   "source": [
    "from sklearn.metrics import confusion_matrix\n",
    "import pandas as pd\n",
    "import seaborn as sn\n",
    "import matplotlib.pyplot as plt\n",
    "%matplotlib inline\n",
    "import numpy as np\n",
    "\n",
    "model = get_stacking()\n",
    "model.fit(X_train, y_train)\n",
    "y_pred = model.predict(X_test)\n",
    "y_pred_prob = model.predict_proba(X_test)\n",
    "X_test.sample(n=10)"
   ]
  },
  {
   "cell_type": "code",
   "execution_count": 36,
   "metadata": {},
   "outputs": [
    {
     "name": "stdout",
     "output_type": "stream",
     "text": [
      "Ans=1; Predict=0; Prob=0.61, 0.39 (reddit_post_dumps/pos\\cc_88.txt)\n",
      "Ans=1; Predict=0; Prob=0.99, 0.01 (reddit_post_dumps/pos\\20210512000502_na7qfc_numerous_problems_with_4a_what_can_i_do.txt)\n"
     ]
    }
   ],
   "source": [
    "for i, (ans, pred, prob) in enumerate(zip(y_test.tolist(), y_pred.tolist(), y_pred_prob.tolist())):\n",
    "    if ans != pred:\n",
    "        print(f\"Ans={ans}; Predict={pred}; Prob={prob[0]:.02f}, {prob[1]:.02f} ({df.iloc[X_test.index[i]].source})\")"
   ]
  },
  {
   "cell_type": "code",
   "execution_count": 37,
   "metadata": {},
   "outputs": [],
   "source": [
    "def draw_cm(y_test, y_pred):\n",
    "    ''' Draw Confusion Matrix'''\n",
    "    # https://www.kaggle.com/agungor2/various-confusion-matrix-plots\n",
    "    data = confusion_matrix(y_test, y_pred)\n",
    "    df_cm = pd.DataFrame(data, columns=np.unique(y_test), index = np.unique(y_test))\n",
    "    df_cm.index.name = 'Actual'\n",
    "    df_cm.columns.name = 'Predicted'\n",
    "    plt.figure(figsize = (8,6))\n",
    "    sn.set(font_scale=1.4)#for label size\n",
    "    sn.heatmap(df_cm, cmap=\"Blues\", annot=True,annot_kws={\"size\": 16})# font size"
   ]
  },
  {
   "cell_type": "code",
   "execution_count": 38,
   "metadata": {},
   "outputs": [
    {
     "data": {
      "image/png": "[encoded data removed]",
      "text/plain": [
       "<Figure size 576x432 with 2 Axes>"
      ]
     },
     "metadata": {
      "needs_background": "light"
     },
     "output_type": "display_data"
    }
   ],
   "source": [
    "draw_cm(y_test, y_pred)"
   ]
  },
  {
   "cell_type": "code",
   "execution_count": 39,
   "metadata": {},
   "outputs": [
    {
     "name": "stdout",
     "output_type": "stream",
     "text": [
      "Precision=100.0; Recall=93.9\n"
     ]
    }
   ],
   "source": [
    "from sklearn.metrics import precision_score, recall_score\n",
    "\n",
    "precision, recall = precision_score(y_test, y_pred)*100, recall_score(y_test, y_pred)*100, \n",
    "print(f\"Precision={precision:.01f}; Recall={recall:.01f}\")"
   ]
  },
  {
   "cell_type": "markdown",
   "metadata": {},
   "source": [
    "Let's check the Precision-Recall chart to see the trade-off:"
   ]
  },
  {
   "cell_type": "code",
   "execution_count": 40,
   "metadata": {},
   "outputs": [
    {
     "data": {
      "text/plain": [
       "Text(0.5, 1.0, 'Precision-Recall curve')"
      ]
     },
     "execution_count": 40,
     "metadata": {},
     "output_type": "execute_result"
    },
    {
     "data": {
      "image/png": "[encoded data removed]",
      "text/plain": [
       "<Figure size 504x360 with 1 Axes>"
      ]
     },
     "metadata": {},
     "output_type": "display_data"
    }
   ],
   "source": [
    "# Plot the Precision-Recall curve\n",
    "# https://machinelearningmastery.com/roc-curves-and-precision-recall-curves-for-classification-in-python/\n",
    "# https://scikit-learn.org/stable/auto_examples/model_selection/plot_precision_recall.html\n",
    "plt.rcParams['figure.figsize'] = [7, 5] \n",
    "# average_precision = average_precision_score(y_test, y_pred)\n",
    "disp = plot_precision_recall_curve(model, X_test, y_test)\n",
    "disp.ax_.set_title('Precision-Recall curve')"
   ]
  },
  {
   "cell_type": "markdown",
   "metadata": {},
   "source": [
    "The confusion matrix of model [LGTM](https://www.dictionary.com/e/acronyms/lgtm/)! Let's seralized the model for future usage:"
   ]
  },
  {
   "cell_type": "code",
   "execution_count": 41,
   "metadata": {},
   "outputs": [],
   "source": [
    "import pickle\n",
    "\n",
    "# Retrain the model with full dataset\n",
    "model = get_stacking()\n",
    "model.fit(X, y)\n",
    "\n",
    "POST_CLASSIFIER_PKL_NAME = 'reddit_post_classifier.pkl'\n",
    "with open(POST_CLASSIFIER_PKL_NAME, 'wb') as fw:\n",
    "    pickle.dump(model, fw)"
   ]
  },
  {
   "cell_type": "code",
   "execution_count": 42,
   "metadata": {},
   "outputs": [
    {
     "data": {
      "image/png": "[encoded data removed]",
      "text/plain": [
       "<Figure size 576x432 with 2 Axes>"
      ]
     },
     "metadata": {},
     "output_type": "display_data"
    }
   ],
   "source": [
    "# Load the serialized model back for evaluation\n",
    "with open(POST_CLASSIFIER_PKL_NAME, 'rb') as fo:\n",
    "    model = pickle.load(fo)\n",
    "    \n",
    "y_pred = model.predict(X_test)\n",
    "y_pred_prob = model.predict_proba(X_test)\n",
    "draw_cm(y_test, y_pred)"
   ]
  },
  {
   "cell_type": "code",
   "execution_count": 43,
   "metadata": {},
   "outputs": [],
   "source": [
    "for i, (ans, pred, prob) in enumerate(zip(y_test.tolist(), y_pred.tolist(), y_pred_prob.tolist())):\n",
    "    if ans != pred:\n",
    "        print(f\"Ans={ans}; Predict={pred}; Prob={prob[0]:.02f}, {prob[1]:.02f} ({df.iloc[X_test.index[i]].source})\")"
   ]
  },
  {
   "cell_type": "markdown",
   "metadata": {},
   "source": [
    "### <font color='darkgreen'>CRF </font>\n",
    "Pleae refer to this [notebook](https://nbviewer.jupyter.org/github/johnklee/ml_articles/blob/master/medium/NLP_Guide_Identifying_Part_of_Speech_Tags_using_Conditional_Random_Fields/notebook.ipynb) for more details."
   ]
  },
  {
   "cell_type": "code",
   "execution_count": 44,
   "metadata": {},
   "outputs": [],
   "source": [
    "import nltk, re, pprint\n",
    "import numpy as np\n",
    "import pandas as pd\n",
    "import requests\n",
    "import matplotlib.pyplot as plt\n",
    "import seaborn as sns\n",
    "import pprint, time\n",
    "import random\n",
    "from sklearn.model_selection import train_test_split\n",
    "from nltk.tokenize import word_tokenize\n",
    "from sklearn_crfsuite import CRF\n",
    "from sklearn_crfsuite import metrics\n",
    "from sklearn_crfsuite import scorers\n",
    "from sklearn.model_selection import learning_curve\n",
    "from sklearn.model_selection import KFold,StratifiedKFold\n",
    "from collections import Counter\n",
    "import nltk\n",
    "#nltk.download(\"punkt\")"
   ]
  },
  {
   "cell_type": "code",
   "execution_count": 45,
   "metadata": {},
   "outputs": [],
   "source": [
    "def is_car_brand(sentence, index):\n",
    "    for car_brand in car_brand_set:\n",
    "        if ' '.join(car_brand) == ' '.join(list(map(lambda w: w.lower(), sentence[index:index+len(car_brand)]))):\n",
    "            return 1\n",
    "        \n",
    "    return 0\n",
    "\n",
    "def crf_features(sentence, index):\n",
    "    ### sentence is of the form [w1,w2,w3,..], index is the position of the word in the sentence\n",
    "    return {\n",
    "        'is_car_brand': is_car_brand(sentence, index),\n",
    "        'is_first_capital':int(sentence[index][0].isupper()),\n",
    "        'is_first_word': int(index==0),\n",
    "        'is_last_word':int(index==len(sentence)-1),\n",
    "        'is_complete_capital': int(sentence[index].upper()==sentence[index]),\n",
    "        'prev_word':'' if index==0 else sentence[index-1],\n",
    "        'prev_2word':'' if index<=1 else ''.join(sentence[index-2:index]),\n",
    "        'prev_3word':'' if index<=2 else ''.join(sentence[index-3:index]),\n",
    "        'next_word':'' if index<=len(sentence)-1 else sentence[index+1],\n",
    "        'next_2word':'' if index<=len(sentence)-2 else sentence[index+1:index+2],\n",
    "        'next_3word':'' if index<=len(sentence)-3 else sentence[index+1:index+3],\n",
    "        'is_numeric':int(sentence[index].isdigit()),\n",
    "        'is_alphanumeric': int(bool((re.match('^(?=.*[0-9]$)(?=.*[a-zA-Z])',sentence[index])))),\n",
    "        'prefix_1':sentence[index][0],\n",
    "        'prefix_2': sentence[index][:2],\n",
    "        'prefix_3':sentence[index][:3],\n",
    "        'prefix_4':sentence[index][:4],\n",
    "        'suffix_1':sentence[index][-1],\n",
    "        'suffix_2':sentence[index][-2:],\n",
    "        'suffix_3':sentence[index][-3:],\n",
    "        'suffix_4':sentence[index][-4:],\n",
    "        'word_has_hyphen': 1 if '-' in sentence[index] else 0  \n",
    "    }"
   ]
  },
  {
   "cell_type": "code",
   "execution_count": 46,
   "metadata": {},
   "outputs": [
    {
     "ename": "AttributeError",
     "evalue": "'Series' object has no attribute 'sentence'",
     "output_type": "error",
     "traceback": [
      "\u001b[1;31m---------------------------------------------------------------------------\u001b[0m",
      "\u001b[1;31mAttributeError\u001b[0m                            Traceback (most recent call last)",
      "\u001b[1;32m<ipython-input-46-43aa25696033>\u001b[0m in \u001b[0;36m<module>\u001b[1;34m\u001b[0m\n\u001b[0;32m      1\u001b[0m \u001b[1;31m# See how a sentence is translated into CRF feature vector\u001b[0m\u001b[1;33m\u001b[0m\u001b[1;33m\u001b[0m\u001b[1;33m\u001b[0m\u001b[0m\n\u001b[0;32m      2\u001b[0m \u001b[1;32mfor\u001b[0m \u001b[0mri\u001b[0m\u001b[1;33m,\u001b[0m \u001b[0mr\u001b[0m \u001b[1;32min\u001b[0m \u001b[0mdf\u001b[0m\u001b[1;33m.\u001b[0m\u001b[0miterrows\u001b[0m\u001b[1;33m(\u001b[0m\u001b[1;33m)\u001b[0m\u001b[1;33m:\u001b[0m\u001b[1;33m\u001b[0m\u001b[1;33m\u001b[0m\u001b[0m\n\u001b[1;32m----> 3\u001b[1;33m     \u001b[1;32mif\u001b[0m \u001b[1;34m'\\_a'\u001b[0m \u001b[1;32min\u001b[0m \u001b[0mr\u001b[0m\u001b[1;33m.\u001b[0m\u001b[0msentence\u001b[0m \u001b[1;32mand\u001b[0m \u001b[1;34m'\\_h'\u001b[0m \u001b[1;32min\u001b[0m \u001b[0mr\u001b[0m\u001b[1;33m.\u001b[0m\u001b[0msentence\u001b[0m\u001b[1;33m:\u001b[0m\u001b[1;33m\u001b[0m\u001b[1;33m\u001b[0m\u001b[0m\n\u001b[0m\u001b[0;32m      4\u001b[0m         \u001b[0mprint\u001b[0m\u001b[1;33m(\u001b[0m\u001b[0mr\u001b[0m\u001b[1;33m.\u001b[0m\u001b[0msentence\u001b[0m\u001b[1;33m)\u001b[0m\u001b[1;33m\u001b[0m\u001b[1;33m\u001b[0m\u001b[0m\n\u001b[0;32m      5\u001b[0m         \u001b[0mwords_with_label\u001b[0m \u001b[1;33m=\u001b[0m \u001b[0mnltk\u001b[0m\u001b[1;33m.\u001b[0m\u001b[0mtokenize\u001b[0m\u001b[1;33m.\u001b[0m\u001b[0mword_tokenize\u001b[0m\u001b[1;33m(\u001b[0m\u001b[0mr\u001b[0m\u001b[1;33m.\u001b[0m\u001b[0msentence\u001b[0m\u001b[1;33m)\u001b[0m\u001b[1;33m\u001b[0m\u001b[1;33m\u001b[0m\u001b[0m\n",
      "\u001b[1;32mc:\\users\\john\\appdata\\local\\programs\\python\\python38\\lib\\site-packages\\pandas\\core\\generic.py\u001b[0m in \u001b[0;36m__getattr__\u001b[1;34m(self, name)\u001b[0m\n\u001b[0;32m   5139\u001b[0m             \u001b[1;32mif\u001b[0m \u001b[0mself\u001b[0m\u001b[1;33m.\u001b[0m\u001b[0m_info_axis\u001b[0m\u001b[1;33m.\u001b[0m\u001b[0m_can_hold_identifiers_and_holds_name\u001b[0m\u001b[1;33m(\u001b[0m\u001b[0mname\u001b[0m\u001b[1;33m)\u001b[0m\u001b[1;33m:\u001b[0m\u001b[1;33m\u001b[0m\u001b[1;33m\u001b[0m\u001b[0m\n\u001b[0;32m   5140\u001b[0m                 \u001b[1;32mreturn\u001b[0m \u001b[0mself\u001b[0m\u001b[1;33m[\u001b[0m\u001b[0mname\u001b[0m\u001b[1;33m]\u001b[0m\u001b[1;33m\u001b[0m\u001b[1;33m\u001b[0m\u001b[0m\n\u001b[1;32m-> 5141\u001b[1;33m             \u001b[1;32mreturn\u001b[0m \u001b[0mobject\u001b[0m\u001b[1;33m.\u001b[0m\u001b[0m__getattribute__\u001b[0m\u001b[1;33m(\u001b[0m\u001b[0mself\u001b[0m\u001b[1;33m,\u001b[0m \u001b[0mname\u001b[0m\u001b[1;33m)\u001b[0m\u001b[1;33m\u001b[0m\u001b[1;33m\u001b[0m\u001b[0m\n\u001b[0m\u001b[0;32m   5142\u001b[0m \u001b[1;33m\u001b[0m\u001b[0m\n\u001b[0;32m   5143\u001b[0m     \u001b[1;32mdef\u001b[0m \u001b[0m__setattr__\u001b[0m\u001b[1;33m(\u001b[0m\u001b[0mself\u001b[0m\u001b[1;33m,\u001b[0m \u001b[0mname\u001b[0m\u001b[1;33m:\u001b[0m \u001b[0mstr\u001b[0m\u001b[1;33m,\u001b[0m \u001b[0mvalue\u001b[0m\u001b[1;33m)\u001b[0m \u001b[1;33m->\u001b[0m \u001b[1;32mNone\u001b[0m\u001b[1;33m:\u001b[0m\u001b[1;33m\u001b[0m\u001b[1;33m\u001b[0m\u001b[0m\n",
      "\u001b[1;31mAttributeError\u001b[0m: 'Series' object has no attribute 'sentence'"
     ]
    }
   ],
   "source": [
    "# See how a sentence is translated into CRF feature vector\n",
    "for ri, r in df.iterrows():\n",
    "    if '\\_a' in r.sentence and '\\_h' in r.sentence:\n",
    "        print(r.sentence)\n",
    "        words_with_label = nltk.tokenize.word_tokenize(r.sentence)\n",
    "        words, tags = [], []\n",
    "        for w in words_with_label:\n",
    "            if w.endswith('\\_h'):\n",
    "                tags.append('c')\n",
    "                w = w [:-3]\n",
    "            elif w.endswith('\\_a'):\n",
    "                tags.append('a')\n",
    "                w = w [:-3]\n",
    "            else:\n",
    "                tags.append('o')\n",
    "            words.append(w)\n",
    "          \n",
    "        print(f\"words: {words}\\nlabels: {tags}\\n\")\n",
    "        feat_4word = [crf_features(words, i) for i in range(len(words))][3]        \n",
    "        print(json.dumps(feat_4word, sort_keys=True, indent=4))\n",
    "        # y.append(tags)\n",
    "        break"
   ]
  },
  {
   "cell_type": "code",
   "execution_count": null,
   "metadata": {},
   "outputs": [],
   "source": [
    "class_names = ['o', 'c', 'a']\n",
    "\n",
    "def get_crf_data():    \n",
    "    X, y = [], []\n",
    "    for ri, r in df.iterrows():\n",
    "        words_with_label = nltk.tokenize.word_tokenize(r.sentence)\n",
    "        words, tags = [], []\n",
    "        for w in words_with_label:\n",
    "            if w.endswith('\\_h'):\n",
    "                tags.append('c')\n",
    "                w = w [:-3]\n",
    "            elif w.endswith('\\_a'):\n",
    "                tags.append('a')\n",
    "                w = w [:-3]\n",
    "            else:\n",
    "                tags.append('o')\n",
    "            words.append(w)\n",
    "            \n",
    "        X.append([crf_features(words, i) for i in range(len(words))])\n",
    "        y.append(tags)\n",
    "        \n",
    "    for f in os.listdir(NEGATIVE_DIR_PATH):\n",
    "        fp = os.path.join(NEGATIVE_DIR_PATH, f)\n",
    "        with open(fp, 'r', encoding='utf8') as fo:\n",
    "            for i in range(4):\n",
    "                fo.readline()  # Skip URL and title\n",
    "                \n",
    "            post_content = fo.read()\n",
    "            sentences = list(filter(lambda s: s, map(lambda s: s.strip(), nltk.sent_tokenize(post_content))))\n",
    "            for sent in sentences:\n",
    "                tokens = nltk.tokenize.word_tokenize(sent)\n",
    "                X.append([crf_features(tokens, i) for i in range(len(tokens))])\n",
    "                y.append(['o'] * len(tokens))\n",
    "                    \n",
    "    return X, y"
   ]
  },
  {
   "cell_type": "code",
   "execution_count": null,
   "metadata": {},
   "outputs": [],
   "source": [
    "# https://ithelp.ithome.com.tw/articles/10222958\n",
    "def plot_learning_curve(estimator, title, X, y, ylim=None, cv=None,\n",
    "                        n_jobs=-1, train_sizes=np.linspace(.1, 1.0, 5)):\n",
    "    \"\"\"\n",
    "    Generate a simple plot of the test and training learning curve.\n",
    "\n",
    "    Parameters\n",
    "    ----------\n",
    "    estimator : object type that implements the \"fit\" and \"predict\" methods\n",
    "        An object of that type which is cloned for each validation.\n",
    "\n",
    "    title : string\n",
    "        Title for the chart.\n",
    "\n",
    "    X : array-like, shape (n_samples, n_features)\n",
    "        Training vector, where n_samples is the number of samples and\n",
    "        n_features is the number of features.\n",
    "\n",
    "    y : array-like, shape (n_samples) or (n_samples, n_features), optional\n",
    "        Target relative to X for classification or regression;\n",
    "        None for unsupervised learning.\n",
    "\n",
    "    ylim : tuple, shape (ymin, ymax), optional\n",
    "        Defines minimum and maximum yvalues plotted.\n",
    "\n",
    "    cv : int, cross-validation generator or an iterable, optional\n",
    "        Determines the cross-validation splitting strategy.\n",
    "        Possible inputs for cv are:\n",
    "          - None, to use the default 3-fold cross-validation,\n",
    "          - integer, to specify the number of folds.\n",
    "          - An object to be used as a cross-validation generator.\n",
    "          - An iterable yielding train/test splits.\n",
    "\n",
    "        For integer/None inputs, if ``y`` is binary or multiclass,\n",
    "        :class:`StratifiedKFold` used. If the estimator is not a classifier\n",
    "        or if ``y`` is neither binary nor multiclass, :class:`KFold` is used.\n",
    "\n",
    "        Refer :ref:`User Guide <cross_validation>` for the various\n",
    "        cross-validators that can be used here.\n",
    "\n",
    "    n_jobs : integer, optional\n",
    "        Number of jobs to run in parallel (default 1).\n",
    "    \"\"\"\n",
    "    plt.figure(figsize=(12,6))  #調整圖的大小\n",
    "    plt.title(title)\n",
    "    if ylim is not None:\n",
    "        plt.ylim(*ylim)\n",
    "    plt.xlabel(\"Training examples\")\n",
    "    plt.ylabel(\"Score\")\n",
    "    train_sizes, train_scores, test_scores = learning_curve(\n",
    "        estimator, \n",
    "        X, \n",
    "        y, \n",
    "        cv=cv, \n",
    "        n_jobs=n_jobs, \n",
    "        train_sizes=train_sizes\n",
    "    )\n",
    "    train_scores_mean = np.mean(train_scores, axis=1)\n",
    "    train_scores_std = np.std(train_scores, axis=1)\n",
    "    test_scores_mean = np.mean(test_scores, axis=1)\n",
    "    test_scores_std = np.std(test_scores, axis=1)\n",
    "    plt.grid()\n",
    "\n",
    "    plt.fill_between(train_sizes, train_scores_mean - train_scores_std,\n",
    "                     train_scores_mean + train_scores_std, alpha=0.1,\n",
    "                     color=\"r\")\n",
    "    plt.fill_between(train_sizes, test_scores_mean - test_scores_std,\n",
    "                     test_scores_mean + test_scores_std, alpha=0.1, color=\"g\")\n",
    "    plt.plot(train_sizes, train_scores_mean, 'o-', color=\"r\",\n",
    "             label=\"Training score\")\n",
    "    plt.plot(train_sizes, test_scores_mean, 'o-', color=\"g\",\n",
    "             label=\"Cross-validation score\")\n",
    "\n",
    "    plt.legend(loc=\"best\")\n",
    "    return plt"
   ]
  },
  {
   "cell_type": "code",
   "execution_count": null,
   "metadata": {},
   "outputs": [],
   "source": [
    "X, y = get_crf_data()\n",
    "print(f\"We total have {len(X):,d} records for training!\")"
   ]
  },
  {
   "cell_type": "code",
   "execution_count": null,
   "metadata": {},
   "outputs": [],
   "source": [
    "def crf_train_test_split(X, y, test_size, random_state=RANDOM_STATE):\n",
    "    X_train, X_test, y_train, y_test = [], [], [], []\n",
    "    yi_has_ca_label = []\n",
    "    yi_only_o_label = []\n",
    "    for yi in range(len(y)):\n",
    "        y_labels = y[yi]\n",
    "        if all(list(map(lambda t: t=='0', y_labels))):\n",
    "            yi_only_o_label.append(yi)\n",
    "        else:\n",
    "            yi_has_ca_label.append(yi)\n",
    "            \n",
    "    random.seed(random_state)\n",
    "    for yi_group in [yi_has_ca_label, yi_only_o_label]:\n",
    "        for i in yi_group:\n",
    "            if random.random() > test_size:\n",
    "                X_train.append(X[i])\n",
    "                y_train.append(y[i])\n",
    "            else:\n",
    "                X_test.append(X[i])\n",
    "                y_test.append(y[i])\n",
    "                \n",
    "    return X_train, X_test, y_train, y_test"
   ]
  },
  {
   "cell_type": "code",
   "execution_count": null,
   "metadata": {},
   "outputs": [],
   "source": [
    "X_train, X_test, y_train, y_test = crf_train_test_split(X, y, 0.2)"
   ]
  },
  {
   "cell_type": "code",
   "execution_count": null,
   "metadata": {},
   "outputs": [],
   "source": [
    "%%time\n",
    "crf = CRF(\n",
    "    algorithm='lbfgs',\n",
    "    c1=0.01,\n",
    "    c2=0.1,\n",
    "    max_iterations=100,\n",
    "    all_possible_transitions=True\n",
    ")\n",
    "\n",
    "crf.fit(X_train, y_train)"
   ]
  },
  {
   "cell_type": "code",
   "execution_count": null,
   "metadata": {},
   "outputs": [],
   "source": [
    "y_pred=crf.predict(X_test)\n",
    "print(\"F1 score on Test Data \")\n",
    "print(f\"{metrics.flat_f1_score(y_test, y_pred,average='weighted', labels=crf.classes_):.05f}\")\n",
    "\n",
    "### Look at class wise score\n",
    "print(metrics.flat_classification_report(\n",
    "    y_test, y_pred, labels=crf.classes_, digits=3\n",
    "))"
   ]
  },
  {
   "cell_type": "code",
   "execution_count": null,
   "metadata": {},
   "outputs": [],
   "source": [
    "y_test_1d, y_pred_1d = [], []\n",
    "for yorig, ynew in [(y_test, y_test_1d), (y_pred, y_pred_1d)]:\n",
    "    for tags in yorig:\n",
    "        for t in tags:\n",
    "            ynew.append(t)\n",
    "            \n",
    "data = confusion_matrix(y_test_1d, y_pred_1d)\n",
    "df_cm = pd.DataFrame(data, columns=np.unique(y_test_1d), index = np.unique(y_test_1d))\n",
    "df_cm.index.name = 'Actual'\n",
    "df_cm.columns.name = 'Predicted'\n",
    "plt.figure(figsize = (7,5))\n",
    "sn.set(font_scale=1.4)#for label size\n",
    "sn.heatmap(df_cm, cmap=\"Blues\", annot=True,annot_kws={\"size\": 16})# font size"
   ]
  },
  {
   "cell_type": "code",
   "execution_count": null,
   "metadata": {},
   "outputs": [],
   "source": [
    "print(\"Number of Transition Features \")\n",
    "len(crf.transition_features_)"
   ]
  },
  {
   "cell_type": "code",
   "execution_count": null,
   "metadata": {},
   "outputs": [],
   "source": [
    "Counter(crf.transition_features_).most_common(20)"
   ]
  },
  {
   "cell_type": "code",
   "execution_count": null,
   "metadata": {},
   "outputs": [],
   "source": [
    "print(\"Number of State Features \",len(crf.state_features_))"
   ]
  },
  {
   "cell_type": "code",
   "execution_count": null,
   "metadata": {},
   "outputs": [],
   "source": [
    "Counter(crf.state_features_).most_common(20)"
   ]
  },
  {
   "cell_type": "markdown",
   "metadata": {},
   "source": [
    "Next, let's check how model improve along with the increase of training data size:"
   ]
  },
  {
   "cell_type": "code",
   "execution_count": null,
   "metadata": {},
   "outputs": [],
   "source": [
    "%%time\n",
    "cv = KFold(\n",
    "    n_splits=5,\n",
    "    random_state=RANDOM_STATE, \n",
    "    shuffle=True\n",
    ")\n",
    "\n",
    "estimator = crf\n",
    "\n",
    "plot_learning_curve(\n",
    "    estimator, \"CRF\",\n",
    "    X, \n",
    "    y, \n",
    "    cv=cv, \n",
    "    train_sizes=np.linspace(0.2, 1.0, 10)\n",
    ")"
   ]
  },
  {
   "cell_type": "markdown",
   "metadata": {},
   "source": [
    "#### Evaluation of model manually\n",
    "Let's feed in our own sentence(s) and check how model perform in real world:"
   ]
  },
  {
   "cell_type": "code",
   "execution_count": null,
   "metadata": {},
   "outputs": [],
   "source": [
    "def sent2crf_feature(sent):\n",
    "    words = list(nltk.tokenize.word_tokenize(sent))\n",
    "    sent_crf_feat = [crf_features(words, i) for i in range(len(words))]\n",
    "    return words, [sent_crf_feat]\n",
    "\n",
    "\n",
    "def predict(sent):\n",
    "    words, crf_feats = sent2crf_feature(sent)\n",
    "    tags = crf.predict(crf_feats)[0]\n",
    "    print(f\"words={words}\\ntags={tags}\\n\")\n",
    "    colorful_words = []\n",
    "    for w, t in zip(words, tags):\n",
    "        if t == 'c':\n",
    "            w = f\"{color.BOLD}{color.BLUE}{w}{color.END}\"\n",
    "        elif t == 'a':\n",
    "            w = f\"{color.BOLD}{color.RED}{w}{color.END}\"        \n",
    "            \n",
    "        colorful_words.append(w)\n",
    "    \n",
    "    print(\" \".join(colorful_words))\n",
    "    "
   ]
  },
  {
   "cell_type": "code",
   "execution_count": null,
   "metadata": {},
   "outputs": [],
   "source": [
    "my_sent=\"My car MAZDA MX-5 RF has bluetooth pairing issue.\"\n",
    "predict(my_sent)"
   ]
  },
  {
   "cell_type": "code",
   "execution_count": null,
   "metadata": {},
   "outputs": [],
   "source": [
    "my_sent=\"Though my 2015 Subaru connected just fine even w/o needing that step.\"\n",
    "predict(my_sent)"
   ]
  },
  {
   "cell_type": "code",
   "execution_count": null,
   "metadata": {},
   "outputs": [],
   "source": [
    "my_sent=\"I’ve had exactly the same results with a ‘20 Chevy. \"\n",
    "predict(my_sent)"
   ]
  },
  {
   "cell_type": "markdown",
   "metadata": {},
   "source": [
    "## <font color='darkblue'>Supplement</font>\n",
    "* [All Car Brands](https://www.carlogos.org/car-brands/)\n",
    "* [Wiki - Bluetooth Profiles](https://en.wikipedia.org/wiki/List_of_Bluetooth_profiles)\n",
    "* [FAQ - How to handle unknown word in Gensim?](https://stackoverflow.com/questions/54709178/how-to-handle-words-that-are-not-in-word2vecs-vocab-optimally)\n",
    "* [FAQ - How to use PRAW to read the newest post from a subreddit and display the body?](https://www.reddit.com/r/learnpython/comments/90asqi/how_to_use_praw_to_read_the_newest_post_from_a/)\n",
    "* [FAQ - python - AttributeError : 'str' object has no attribute 'decode' in fitting Logistic Regression Model](https://www.coder.work/article/7535477)\n",
    "* [Medium - Named Entity Recognition and Classification with Scikit-Learn](https://towardsdatascience.com/named-entity-recognition-and-classification-with-scikit-learn-f05372f07ba2) ([notebook](https://github.com/susanli2016/NLP-with-Python/blob/master/NER_sklearn.ipynb))\n",
    "* [Medium - Multi Class Text Classification with Keras and LSTM](https://djajafer.medium.com/multi-class-text-classification-with-keras-and-lstm-4c5525bef592)"
   ]
  }
 ],
 "metadata": {
  "kernelspec": {
   "display_name": "Python 3",
   "language": "python",
   "name": "python3"
  },
  "language_info": {
   "codemirror_mode": {
    "name": "ipython",
    "version": 3
   },
   "file_extension": ".py",
   "mimetype": "text/x-python",
   "name": "python",
   "nbconvert_exporter": "python",
   "pygments_lexer": "ipython3",
   "version": "3.8.7"
  }
 },
 "nbformat": 4,
 "nbformat_minor": 4
}
