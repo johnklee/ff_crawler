{
 "cells": [
  {
   "cell_type": "markdown",
   "metadata": {},
   "source": [
    "<a id='sect0'></a>\n",
    "## <font color='darkblue'>Preface</font>\n",
    "From [**Issue4**](https://github.com/johnklee/ff_crawler/issues/4), we are going to work on the model to extract NER from article/post of Reddit based on inital labelled document [here](https://docs.google.com/document/d/1ACU5iDe6QkLZuMzyzaR0e_TUtw8Bht_IvQpO6_AZuCI/edit?usp=sharing&resourcekey=0-7WPgbTf3MfSIWZnIugZjxg):\n",
    "* <font color='orange'>**Pixel phone model**</font>: T1\n",
    "* <font color='green'>**Remote model**</font>: T2\n",
    "* <font color='LightCoral'>**Symptom**</font>: T3\n",
    "* <font color='Indigo'>**Recover way**</font>: T4\n",
    "* <font color='LightSkyBlue'>**Build**</font>: T5\n",
    "* <font color='Khaki'>**Reference phone**</font>: T6"
   ]
  },
  {
   "cell_type": "code",
   "execution_count": 1,
   "metadata": {},
   "outputs": [],
   "source": [
    "import os\n",
    "import json\n",
    "import pandas as pd\n",
    "import seaborn as sn\n",
    "from sklearn.metrics import confusion_matrix\n",
    "pd.set_option('display.max_colwidth', None)\n",
    "\n",
    "RANDOM_STATE = 1\n",
    "TEST_SIZE = 0.2\n",
    "\n",
    "# https://www.w3schools.com/colors/colors_names.asp\n",
    "# https://gist.github.com/jonsuh/3c89c004888dfc7352be\n",
    "class color:\n",
    "   LIGHTCORAL='\\033[38;2;240;128;128m'\n",
    "   LIGHTSKYBLUE='\\033[38;2;135;206;250m'\n",
    "   KHAKI='\\033[38;2;240;230;140m'\n",
    "   INDIGO='\\033[38;2;72;0;130m'\n",
    "   ORANGE='\\033[38;2;255;165;0m'\n",
    "   LIGHTRED='\\033[1;31m'\n",
    "   PURPLE = '\\033[95m'\n",
    "   CYAN = '\\033[96m'\n",
    "   DARKCYAN = '\\033[36m'\n",
    "   BLUE = '\\033[94m'\n",
    "   GREEN = '\\033[92m'\n",
    "   YELLOW = '\\033[93m'\n",
    "   RED = '\\033[91m'\n",
    "   BOLD = '\\033[1m'\n",
    "   UNDERLINE = '\\033[4m'\n",
    "   END = '\\033[0m'"
   ]
  },
  {
   "cell_type": "markdown",
   "metadata": {},
   "source": [
    "### <font color='darkgreen'>Agenda</font>\n",
    "* <font size='3ptx'>[**Data Set**](#sect1)</font>\n",
    "* <font size='3ptx'>[**Reddit APIs**](#sect2)</font>\n",
    "  * [PRAW APIs to pull posts](#sect2_1)\n",
    "* <font size='3ptx'>[**Word2vec Solution**](#sect3)</font>\n",
    "* <font size='3ptx'>[**ML Models**](#sect4)</font>"
   ]
  },
  {
   "cell_type": "markdown",
   "metadata": {},
   "source": [
    "## <font color='darkblue'>Data Set</font> ([back](#sect0))\n",
    "We collect and label our data from dumped data [here](https://drive.google.com/file/d/1LTyPKtafRQnQp-DslpjBM5QUWoxAtSTY/view?usp=sharing). Let's load labelling data back for future process:"
   ]
  },
  {
   "cell_type": "code",
   "execution_count": 2,
   "metadata": {},
   "outputs": [
    {
     "data": {
      "text/html": [
       "<div>\n",
       "<style scoped>\n",
       "    .dataframe tbody tr th:only-of-type {\n",
       "        vertical-align: middle;\n",
       "    }\n",
       "\n",
       "    .dataframe tbody tr th {\n",
       "        vertical-align: top;\n",
       "    }\n",
       "\n",
       "    .dataframe thead th {\n",
       "        text-align: right;\n",
       "    }\n",
       "</style>\n",
       "<table border=\"1\" class=\"dataframe\">\n",
       "  <thead>\n",
       "    <tr style=\"text-align: right;\">\n",
       "      <th></th>\n",
       "      <th>source</th>\n",
       "      <th>sentence</th>\n",
       "    </tr>\n",
       "  </thead>\n",
       "  <tbody>\n",
       "    <tr>\n",
       "      <th>0</th>\n",
       "      <td>https://www.reddit.com/r/GooglePixel/comments/kspwba/bluetooth_is_terrible/</td>\n",
       "      <td>My P4a5g\\_T1 keeps having bluetooth problems .</td>\n",
       "    </tr>\n",
       "    <tr>\n",
       "      <th>1</th>\n",
       "      <td>https://www.reddit.com/r/GooglePixel/comments/kspwba/bluetooth_is_terrible/</td>\n",
       "      <td>I have the sony\\_T2 wh-1000mx4\\_T2 and they just keep\\_T3 disconnecting\\_T3 .</td>\n",
       "    </tr>\n",
       "    <tr>\n",
       "      <th>2</th>\n",
       "      <td>https://www.reddit.com/r/GooglePixel/comments/kspwba/bluetooth_is_terrible/</td>\n",
       "      <td>But once I pause\\_T3 the\\_T3 media\\_T3 it\\_T3 disconnects\\_T3 and I have to restart\\_T4 the\\_T4 bluetooth\\_T4 on\\_T4 my\\_T4 phone\\_T4 to\\_T4 get\\_T4 it\\_T4 to\\_T4 reconnect\\_T4 .</td>\n",
       "    </tr>\n",
       "    <tr>\n",
       "      <th>3</th>\n",
       "      <td>https://www.reddit.com/r/GooglePixel/comments/kspwba/bluetooth_is_terrible/</td>\n",
       "      <td>Does anyone else having this problem or are my settings wrong somewhere .</td>\n",
       "    </tr>\n",
       "    <tr>\n",
       "      <th>4</th>\n",
       "      <td>https://www.reddit.com/r/GooglePixel/comments/lgofla/pixel_4a_5g_bluetooth_issues/</td>\n",
       "      <td>Pixel\\_T1 4a\\_T1 5g\\_T1 Bluetooth issues</td>\n",
       "    </tr>\n",
       "    <tr>\n",
       "      <th>5</th>\n",
       "      <td>https://www.reddit.com/r/GooglePixel/comments/lgofla/pixel_4a_5g_bluetooth_issues/</td>\n",
       "      <td>I have been having issues\\_T3 with\\_T3 Bluetooth\\_T3 connectivity\\_T3 with the new pixel\\_T1 4a\\_T1 5g\\_T1 .</td>\n",
       "    </tr>\n",
       "    <tr>\n",
       "      <th>6</th>\n",
       "      <td>https://www.reddit.com/r/GooglePixel/comments/lgofla/pixel_4a_5g_bluetooth_issues/</td>\n",
       "      <td>1st it started with my Fitbit\\_T2 where the\\_T3 app\\_T3 would\\_T3 occasionally\\_T3 not\\_T3 find\\_T3 the\\_T3 device\\_T3 and I would need to forget\\_T4 and\\_T4 add\\_T4 the\\_T4 Fitbit\\_T4 again\\_T4 .</td>\n",
       "    </tr>\n",
       "    <tr>\n",
       "      <th>7</th>\n",
       "      <td>https://www.reddit.com/r/GooglePixel/comments/lgofla/pixel_4a_5g_bluetooth_issues/</td>\n",
       "      <td>More recently it has issues where the Bluetooth\\_T3 connection\\_T3 to\\_T3 car\\_T3 audio\\_T3 or\\_T3 wireless\\_T3 earphones\\_T3 keeps\\_T3 dropping\\_T3 whenever\\_T3 I\\_T3 switch\\_T3 between\\_T3 apps\\_T3 like\\_T3 spotify\\_T3 and\\_T3 Google\\_T3 maps\\_T3 or\\_T3 podcasts\\_T3 and\\_T3 Strava\\_T3 .</td>\n",
       "    </tr>\n",
       "    <tr>\n",
       "      <th>8</th>\n",
       "      <td>https://www.reddit.com/r/GooglePixel/comments/kdf2tc/pixel_4a_5g_constantly_dropping_bluetooth/</td>\n",
       "      <td>Pixel\\_T1 4a\\_T1 5g\\_T1 constantly\\_T3 dropping\\_T3 bluetooth\\_T3</td>\n",
       "    </tr>\n",
       "    <tr>\n",
       "      <th>9</th>\n",
       "      <td>https://www.reddit.com/r/GooglePixel/comments/kdf2tc/pixel_4a_5g_constantly_dropping_bluetooth/</td>\n",
       "      <td>Both my Bose\\_T2 QC\\_T2 35\\_T2 headphones and a bluetooth\\_T2 speaker\\_T2 disconnect\\_T3 and\\_T3 reconnect\\_T3 when\\_T3 no\\_T3 audio\\_T3 is\\_T3 playing\\_T3 .</td>\n",
       "    </tr>\n",
       "    <tr>\n",
       "      <th>10</th>\n",
       "      <td>https://www.reddit.com/r/GooglePixel/comments/kdf2tc/pixel_4a_5g_constantly_dropping_bluetooth/</td>\n",
       "      <td>This did not happen on my Pixel\\_T6 3a\\_T6 , Nexus\\_T6 6P\\_T6 or Galaxy\\_T6 S7\\_T6 .</td>\n",
       "    </tr>\n",
       "    <tr>\n",
       "      <th>11</th>\n",
       "      <td>https://www.reddit.com/r/GooglePixel/comments/jma634/song_information_over_bluetooth_with_pixel_5/</td>\n",
       "      <td>Song information over Bluetooth with Pixel\\_T1 5\\_T1 ?</td>\n",
       "    </tr>\n",
       "    <tr>\n",
       "      <th>12</th>\n",
       "      <td>https://www.reddit.com/r/GooglePixel/comments/jma634/song_information_over_bluetooth_with_pixel_5/</td>\n",
       "      <td>Has anyone with Ford\\_T2 sync\\_T2 in their car had any luck getting song titles and info to appear on their infotainment system ?</td>\n",
       "    </tr>\n",
       "    <tr>\n",
       "      <th>13</th>\n",
       "      <td>https://www.reddit.com/r/GooglePixel/comments/jma634/song_information_over_bluetooth_with_pixel_5/</td>\n",
       "      <td>Whenever I connect my phone over Bluetooth , the\\_T3 media\\_T3 player\\_T3 detects\\_T3 whatever\\_T3 media\\_T3 I'm\\_T3 playing\\_T3 as\\_T3 just\\_T3 \" Pixel\\_T1 5\\_T1 \" .</td>\n",
       "    </tr>\n",
       "    <tr>\n",
       "      <th>14</th>\n",
       "      <td>https://www.reddit.com/r/GooglePixel/comments/jma634/song_information_over_bluetooth_with_pixel_5/</td>\n",
       "      <td>Normally I would assume that this is just how the Sync OS handled metadata over Bluetooth and call it a day, but my old\\_T6 Pixel\\_T6 3\\_T6 displayed the info correctly so I'm wondering if there is anything I could do on my end to fix this ?</td>\n",
       "    </tr>\n",
       "    <tr>\n",
       "      <th>15</th>\n",
       "      <td>https://www.reddit.com/r/GooglePixel/comments/jo8x3d/wear_os_freezing_during_connection/</td>\n",
       "      <td>Hi all , I recently switched to a Pixel\\_T1 5\\_T1 from my old trusty 2XL, and I'm trying to switch over my Fossil\\_T2 Sport\\_T2 smartwatch\\_T2 to my new phone .</td>\n",
       "    </tr>\n",
       "    <tr>\n",
       "      <th>16</th>\n",
       "      <td>https://www.reddit.com/r/GooglePixel/comments/jo8x3d/wear_os_freezing_during_connection/</td>\n",
       "      <td>Unfortunately, I'm having an issue\\_T3 where\\_T3 when\\_T3 I\\_T3 try\\_T3 connecting\\_T3 my\\_T3 watch\\_T3 to\\_T3 my\\_T3 pixel\\_T3 , the\\_T3 watch\\_T3 gets\\_T3 stuck\\_T3 at\\_T3 the\\_T3 pairing\\_T3 screen\\_T3 , when\\_T3 it\\_T3 shows\\_T3 a\\_T3 6-digit\\_T3 string\\_T3 and\\_T3 \" pixel\\_T1 5\\_T1 would\\_T3 like\\_T3 to\\_T3 connect\\_T3 \" .</td>\n",
       "    </tr>\n",
       "    <tr>\n",
       "      <th>17</th>\n",
       "      <td>https://www.reddit.com/r/GooglePixel/comments/jo8x3d/wear_os_freezing_during_connection/</td>\n",
       "      <td>My\\_T3 phone\\_T3 shows\\_T3 the\\_T3 matching\\_T3 pairing\\_T3 prompt\\_T3 as\\_T3 expected\\_T3 , but\\_T3 the\\_T3 watch\\_T3 doesn't\\_T3 show\\_T3 the\\_T3 usual\\_T3 ✓\\_T3 and\\_T3 X\\_T3 icons\\_T3 on\\_T3 its\\_T3 pairing\\_T3 prompt\\_T3</td>\n",
       "    </tr>\n",
       "    <tr>\n",
       "      <th>18</th>\n",
       "      <td>https://www.reddit.com/r/GooglePixel/comments/m8usbv/bluetooth_issue/</td>\n",
       "      <td>Hey there, I'm using a Pixel\\_T1 2\\_T1 For nearly 2 years and this is the first time I'm facing this issue .</td>\n",
       "    </tr>\n",
       "    <tr>\n",
       "      <th>19</th>\n",
       "      <td>https://www.reddit.com/r/GooglePixel/comments/m8usbv/bluetooth_issue/</td>\n",
       "      <td>The bluetooth\\_T3 keeps\\_T3 turning\\_T3 Back\\_T3 on\\_T3 everytime\\_T3 I\\_T3 switch\\_T3 it\\_T3 off\\_T3 .</td>\n",
       "    </tr>\n",
       "    <tr>\n",
       "      <th>20</th>\n",
       "      <td>https://www.reddit.com/r/GooglePixel/comments/m8usbv/bluetooth_issue/</td>\n",
       "      <td>It's updated to the recent most Android\\_T5 11\\_T5 .</td>\n",
       "    </tr>\n",
       "    <tr>\n",
       "      <th>21</th>\n",
       "      <td>https://www.reddit.com/r/GooglePixel/comments/liqdkv/pixel_3_android_11_will_no_longer_connect_to/</td>\n",
       "      <td>Pixel\\_T1 3\\_T1 ( Android\\_T5 11\\_T5 ) will no longer connect to Windows\\_T2 10\\_T2 PC\\_T2 via Bluetooth .</td>\n",
       "    </tr>\n",
       "    <tr>\n",
       "      <th>22</th>\n",
       "      <td>https://www.reddit.com/r/GooglePixel/comments/liqdkv/pixel_3_android_11_will_no_longer_connect_to/</td>\n",
       "      <td>I've been connecting my Pixel\\_T1 3\\_T1 on Android\\_T5 11\\_T5 to my Windows\\_T2 10\\_T2 desktop\\_T2 via Bluetooth for months to take calls, message etc via Windows 10's Your Phone app .</td>\n",
       "    </tr>\n",
       "    <tr>\n",
       "      <th>23</th>\n",
       "      <td>https://www.reddit.com/r/GooglePixel/comments/liqdkv/pixel_3_android_11_will_no_longer_connect_to/</td>\n",
       "      <td>Then a few months ago , my\\_T3 phone\\_T3 refused\\_T3 to\\_T3 communicate\\_T3 with\\_T3 the\\_T3 PC\\_T3 over\\_T3 BT\\_T3 .</td>\n",
       "    </tr>\n",
       "    <tr>\n",
       "      <th>24</th>\n",
       "      <td>https://www.reddit.com/r/GooglePixel/comments/liqdkv/pixel_3_android_11_will_no_longer_connect_to/</td>\n",
       "      <td>It\\_T3 will\\_T3 still\\_T3 pair\\_T3 , but\\_T3 won't\\_T3 remain\\_T3 connected\\_T3</td>\n",
       "    </tr>\n",
       "    <tr>\n",
       "      <th>25</th>\n",
       "      <td>https://www.reddit.com/r/GooglePixel/comments/liqdkv/pixel_3_android_11_will_no_longer_connect_to/</td>\n",
       "      <td>I just found this isn't limited to my desktop PC either - the\\_T3 Pixel\\_T3 also\\_T3 won't\\_T3 connect\\_T3 to\\_T3 another\\_T3 W10\\_T3 laptop\\_T3 .</td>\n",
       "    </tr>\n",
       "    <tr>\n",
       "      <th>26</th>\n",
       "      <td>https://www.reddit.com/r/GooglePixel/comments/liqdkv/pixel_3_android_11_will_no_longer_connect_to/</td>\n",
       "      <td>Seems\\_T3 to\\_T3 be\\_T3 rejecting\\_T3 connecting\\_T3 to\\_T3 W10\\_T3 in\\_T3 general\\_T3 .</td>\n",
       "    </tr>\n",
       "  </tbody>\n",
       "</table>\n",
       "</div>"
      ],
      "text/plain": [
       "                                                                                                source  \\\n",
       "0                          https://www.reddit.com/r/GooglePixel/comments/kspwba/bluetooth_is_terrible/   \n",
       "1                          https://www.reddit.com/r/GooglePixel/comments/kspwba/bluetooth_is_terrible/   \n",
       "2                          https://www.reddit.com/r/GooglePixel/comments/kspwba/bluetooth_is_terrible/   \n",
       "3                          https://www.reddit.com/r/GooglePixel/comments/kspwba/bluetooth_is_terrible/   \n",
       "4                   https://www.reddit.com/r/GooglePixel/comments/lgofla/pixel_4a_5g_bluetooth_issues/   \n",
       "5                   https://www.reddit.com/r/GooglePixel/comments/lgofla/pixel_4a_5g_bluetooth_issues/   \n",
       "6                   https://www.reddit.com/r/GooglePixel/comments/lgofla/pixel_4a_5g_bluetooth_issues/   \n",
       "7                   https://www.reddit.com/r/GooglePixel/comments/lgofla/pixel_4a_5g_bluetooth_issues/   \n",
       "8      https://www.reddit.com/r/GooglePixel/comments/kdf2tc/pixel_4a_5g_constantly_dropping_bluetooth/   \n",
       "9      https://www.reddit.com/r/GooglePixel/comments/kdf2tc/pixel_4a_5g_constantly_dropping_bluetooth/   \n",
       "10     https://www.reddit.com/r/GooglePixel/comments/kdf2tc/pixel_4a_5g_constantly_dropping_bluetooth/   \n",
       "11  https://www.reddit.com/r/GooglePixel/comments/jma634/song_information_over_bluetooth_with_pixel_5/   \n",
       "12  https://www.reddit.com/r/GooglePixel/comments/jma634/song_information_over_bluetooth_with_pixel_5/   \n",
       "13  https://www.reddit.com/r/GooglePixel/comments/jma634/song_information_over_bluetooth_with_pixel_5/   \n",
       "14  https://www.reddit.com/r/GooglePixel/comments/jma634/song_information_over_bluetooth_with_pixel_5/   \n",
       "15            https://www.reddit.com/r/GooglePixel/comments/jo8x3d/wear_os_freezing_during_connection/   \n",
       "16            https://www.reddit.com/r/GooglePixel/comments/jo8x3d/wear_os_freezing_during_connection/   \n",
       "17            https://www.reddit.com/r/GooglePixel/comments/jo8x3d/wear_os_freezing_during_connection/   \n",
       "18                               https://www.reddit.com/r/GooglePixel/comments/m8usbv/bluetooth_issue/   \n",
       "19                               https://www.reddit.com/r/GooglePixel/comments/m8usbv/bluetooth_issue/   \n",
       "20                               https://www.reddit.com/r/GooglePixel/comments/m8usbv/bluetooth_issue/   \n",
       "21  https://www.reddit.com/r/GooglePixel/comments/liqdkv/pixel_3_android_11_will_no_longer_connect_to/   \n",
       "22  https://www.reddit.com/r/GooglePixel/comments/liqdkv/pixel_3_android_11_will_no_longer_connect_to/   \n",
       "23  https://www.reddit.com/r/GooglePixel/comments/liqdkv/pixel_3_android_11_will_no_longer_connect_to/   \n",
       "24  https://www.reddit.com/r/GooglePixel/comments/liqdkv/pixel_3_android_11_will_no_longer_connect_to/   \n",
       "25  https://www.reddit.com/r/GooglePixel/comments/liqdkv/pixel_3_android_11_will_no_longer_connect_to/   \n",
       "26  https://www.reddit.com/r/GooglePixel/comments/liqdkv/pixel_3_android_11_will_no_longer_connect_to/   \n",
       "\n",
       "                                                                                                                                                                                                                                                                                                                                     sentence  \n",
       "0                                                                                                                                                                                                                                                                                              My P4a5g\\_T1 keeps having bluetooth problems .  \n",
       "1                                                                                                                                                                                                                                                               I have the sony\\_T2 wh-1000mx4\\_T2 and they just keep\\_T3 disconnecting\\_T3 .  \n",
       "2                                                                                                                                                          But once I pause\\_T3 the\\_T3 media\\_T3 it\\_T3 disconnects\\_T3 and I have to restart\\_T4 the\\_T4 bluetooth\\_T4 on\\_T4 my\\_T4 phone\\_T4 to\\_T4 get\\_T4 it\\_T4 to\\_T4 reconnect\\_T4 .  \n",
       "3                                                                                                                                                                                                                                                                   Does anyone else having this problem or are my settings wrong somewhere .  \n",
       "4                                                                                                                                                                                                                                                                                                    Pixel\\_T1 4a\\_T1 5g\\_T1 Bluetooth issues  \n",
       "5                                                                                                                                                                                                                                I have been having issues\\_T3 with\\_T3 Bluetooth\\_T3 connectivity\\_T3 with the new pixel\\_T1 4a\\_T1 5g\\_T1 .  \n",
       "6                                                                                                                                        1st it started with my Fitbit\\_T2 where the\\_T3 app\\_T3 would\\_T3 occasionally\\_T3 not\\_T3 find\\_T3 the\\_T3 device\\_T3 and I would need to forget\\_T4 and\\_T4 add\\_T4 the\\_T4 Fitbit\\_T4 again\\_T4 .  \n",
       "7                                           More recently it has issues where the Bluetooth\\_T3 connection\\_T3 to\\_T3 car\\_T3 audio\\_T3 or\\_T3 wireless\\_T3 earphones\\_T3 keeps\\_T3 dropping\\_T3 whenever\\_T3 I\\_T3 switch\\_T3 between\\_T3 apps\\_T3 like\\_T3 spotify\\_T3 and\\_T3 Google\\_T3 maps\\_T3 or\\_T3 podcasts\\_T3 and\\_T3 Strava\\_T3 .  \n",
       "8                                                                                                                                                                                                                                                                           Pixel\\_T1 4a\\_T1 5g\\_T1 constantly\\_T3 dropping\\_T3 bluetooth\\_T3  \n",
       "9                                                                                                                                                                               Both my Bose\\_T2 QC\\_T2 35\\_T2 headphones and a bluetooth\\_T2 speaker\\_T2 disconnect\\_T3 and\\_T3 reconnect\\_T3 when\\_T3 no\\_T3 audio\\_T3 is\\_T3 playing\\_T3 .  \n",
       "10                                                                                                                                                                                                                                                       This did not happen on my Pixel\\_T6 3a\\_T6 , Nexus\\_T6 6P\\_T6 or Galaxy\\_T6 S7\\_T6 .  \n",
       "11                                                                                                                                                                                                                                                                                     Song information over Bluetooth with Pixel\\_T1 5\\_T1 ?  \n",
       "12                                                                                                                                                                                                          Has anyone with Ford\\_T2 sync\\_T2 in their car had any luck getting song titles and info to appear on their infotainment system ?  \n",
       "13                                                                                                                                                                     Whenever I connect my phone over Bluetooth , the\\_T3 media\\_T3 player\\_T3 detects\\_T3 whatever\\_T3 media\\_T3 I'm\\_T3 playing\\_T3 as\\_T3 just\\_T3 \" Pixel\\_T1 5\\_T1 \" .  \n",
       "14                                                                                          Normally I would assume that this is just how the Sync OS handled metadata over Bluetooth and call it a day, but my old\\_T6 Pixel\\_T6 3\\_T6 displayed the info correctly so I'm wondering if there is anything I could do on my end to fix this ?  \n",
       "15                                                                                                                                                                           Hi all , I recently switched to a Pixel\\_T1 5\\_T1 from my old trusty 2XL, and I'm trying to switch over my Fossil\\_T2 Sport\\_T2 smartwatch\\_T2 to my new phone .  \n",
       "16  Unfortunately, I'm having an issue\\_T3 where\\_T3 when\\_T3 I\\_T3 try\\_T3 connecting\\_T3 my\\_T3 watch\\_T3 to\\_T3 my\\_T3 pixel\\_T3 , the\\_T3 watch\\_T3 gets\\_T3 stuck\\_T3 at\\_T3 the\\_T3 pairing\\_T3 screen\\_T3 , when\\_T3 it\\_T3 shows\\_T3 a\\_T3 6-digit\\_T3 string\\_T3 and\\_T3 \" pixel\\_T1 5\\_T1 would\\_T3 like\\_T3 to\\_T3 connect\\_T3 \" .  \n",
       "17                                                                                                          My\\_T3 phone\\_T3 shows\\_T3 the\\_T3 matching\\_T3 pairing\\_T3 prompt\\_T3 as\\_T3 expected\\_T3 , but\\_T3 the\\_T3 watch\\_T3 doesn't\\_T3 show\\_T3 the\\_T3 usual\\_T3 ✓\\_T3 and\\_T3 X\\_T3 icons\\_T3 on\\_T3 its\\_T3 pairing\\_T3 prompt\\_T3  \n",
       "18                                                                                                                                                                                                                               Hey there, I'm using a Pixel\\_T1 2\\_T1 For nearly 2 years and this is the first time I'm facing this issue .  \n",
       "19                                                                                                                                                                                                                                    The bluetooth\\_T3 keeps\\_T3 turning\\_T3 Back\\_T3 on\\_T3 everytime\\_T3 I\\_T3 switch\\_T3 it\\_T3 off\\_T3 .  \n",
       "20                                                                                                                                                                                                                                                                                       It's updated to the recent most Android\\_T5 11\\_T5 .  \n",
       "21                                                                                                                                                                                                                                 Pixel\\_T1 3\\_T1 ( Android\\_T5 11\\_T5 ) will no longer connect to Windows\\_T2 10\\_T2 PC\\_T2 via Bluetooth .  \n",
       "22                                                                                                                                                   I've been connecting my Pixel\\_T1 3\\_T1 on Android\\_T5 11\\_T5 to my Windows\\_T2 10\\_T2 desktop\\_T2 via Bluetooth for months to take calls, message etc via Windows 10's Your Phone app .  \n",
       "23                                                                                                                                                                                                                      Then a few months ago , my\\_T3 phone\\_T3 refused\\_T3 to\\_T3 communicate\\_T3 with\\_T3 the\\_T3 PC\\_T3 over\\_T3 BT\\_T3 .  \n",
       "24                                                                                                                                                                                                                                                            It\\_T3 will\\_T3 still\\_T3 pair\\_T3 , but\\_T3 won't\\_T3 remain\\_T3 connected\\_T3  \n",
       "25                                                                                                                                                                                         I just found this isn't limited to my desktop PC either - the\\_T3 Pixel\\_T3 also\\_T3 won't\\_T3 connect\\_T3 to\\_T3 another\\_T3 W10\\_T3 laptop\\_T3 .  \n",
       "26                                                                                                                                                                                                                                                   Seems\\_T3 to\\_T3 be\\_T3 rejecting\\_T3 connecting\\_T3 to\\_T3 W10\\_T3 in\\_T3 general\\_T3 .  "
      ]
     },
     "execution_count": 2,
     "metadata": {},
     "output_type": "execute_result"
    }
   ],
   "source": [
    "df = pd.read_csv(\"issue4_data.csv\")\n",
    "df.head(n=100)"
   ]
  },
  {
   "cell_type": "code",
   "execution_count": 3,
   "metadata": {},
   "outputs": [
    {
     "name": "stdout",
     "output_type": "stream",
     "text": [
      "My \u001b[1m\u001b[38;2;255;165;0mP4a5g\u001b[0m keeps having bluetooth problems .\n",
      "I have the \u001b[1m\u001b[92msony\u001b[0m \u001b[1m\u001b[92mwh-1000mx4\u001b[0m and they just \u001b[1m\u001b[38;2;240;128;128mkeep\u001b[0m \u001b[1m\u001b[38;2;240;128;128mdisconnecting\u001b[0m .\n",
      "But once I \u001b[1m\u001b[38;2;240;128;128mpause\u001b[0m \u001b[1m\u001b[38;2;240;128;128mthe\u001b[0m \u001b[1m\u001b[38;2;240;128;128mmedia\u001b[0m \u001b[1m\u001b[38;2;240;128;128mit\u001b[0m \u001b[1m\u001b[38;2;240;128;128mdisconnects\u001b[0m and I have to \u001b[1m\u001b[38;2;72;0;130mrestart\u001b[0m \u001b[1m\u001b[38;2;72;0;130mthe\u001b[0m \u001b[1m\u001b[38;2;72;0;130mbluetooth\u001b[0m \u001b[1m\u001b[38;2;72;0;130mon\u001b[0m \u001b[1m\u001b[38;2;72;0;130mmy\u001b[0m \u001b[1m\u001b[38;2;72;0;130mphone\u001b[0m \u001b[1m\u001b[38;2;72;0;130mto\u001b[0m \u001b[1m\u001b[38;2;72;0;130mget\u001b[0m \u001b[1m\u001b[38;2;72;0;130mit\u001b[0m \u001b[1m\u001b[38;2;72;0;130mto\u001b[0m \u001b[1m\u001b[38;2;72;0;130mreconnect\u001b[0m .\n",
      "Does anyone else having this problem or are my settings wrong somewhere .\n",
      "\u001b[1m\u001b[38;2;255;165;0mPixel\u001b[0m \u001b[1m\u001b[38;2;255;165;0m4a\u001b[0m \u001b[1m\u001b[38;2;255;165;0m5g\u001b[0m Bluetooth issues\n",
      "I have been having \u001b[1m\u001b[38;2;240;128;128missues\u001b[0m \u001b[1m\u001b[38;2;240;128;128mwith\u001b[0m \u001b[1m\u001b[38;2;240;128;128mBluetooth\u001b[0m \u001b[1m\u001b[38;2;240;128;128mconnectivity\u001b[0m with the new \u001b[1m\u001b[38;2;255;165;0mpixel\u001b[0m \u001b[1m\u001b[38;2;255;165;0m4a\u001b[0m \u001b[1m\u001b[38;2;255;165;0m5g\u001b[0m .\n",
      "1st it started with my \u001b[1m\u001b[92mFitbit\u001b[0m where \u001b[1m\u001b[38;2;240;128;128mthe\u001b[0m \u001b[1m\u001b[38;2;240;128;128mapp\u001b[0m \u001b[1m\u001b[38;2;240;128;128mwould\u001b[0m \u001b[1m\u001b[38;2;240;128;128moccasionally\u001b[0m \u001b[1m\u001b[38;2;240;128;128mnot\u001b[0m \u001b[1m\u001b[38;2;240;128;128mfind\u001b[0m \u001b[1m\u001b[38;2;240;128;128mthe\u001b[0m \u001b[1m\u001b[38;2;240;128;128mdevice\u001b[0m and I would need to \u001b[1m\u001b[38;2;72;0;130mforget\u001b[0m \u001b[1m\u001b[38;2;72;0;130mand\u001b[0m \u001b[1m\u001b[38;2;72;0;130madd\u001b[0m \u001b[1m\u001b[38;2;72;0;130mthe\u001b[0m \u001b[1m\u001b[38;2;72;0;130mFitbit\u001b[0m \u001b[1m\u001b[38;2;72;0;130magain\u001b[0m .\n",
      "More recently it has issues where the \u001b[1m\u001b[38;2;240;128;128mBluetooth\u001b[0m \u001b[1m\u001b[38;2;240;128;128mconnection\u001b[0m \u001b[1m\u001b[38;2;240;128;128mto\u001b[0m \u001b[1m\u001b[38;2;240;128;128mcar\u001b[0m \u001b[1m\u001b[38;2;240;128;128maudio\u001b[0m \u001b[1m\u001b[38;2;240;128;128mor\u001b[0m \u001b[1m\u001b[38;2;240;128;128mwireless\u001b[0m \u001b[1m\u001b[38;2;240;128;128mearphones\u001b[0m \u001b[1m\u001b[38;2;240;128;128mkeeps\u001b[0m \u001b[1m\u001b[38;2;240;128;128mdropping\u001b[0m \u001b[1m\u001b[38;2;240;128;128mwhenever\u001b[0m \u001b[1m\u001b[38;2;240;128;128mI\u001b[0m \u001b[1m\u001b[38;2;240;128;128mswitch\u001b[0m \u001b[1m\u001b[38;2;240;128;128mbetween\u001b[0m \u001b[1m\u001b[38;2;240;128;128mapps\u001b[0m \u001b[1m\u001b[38;2;240;128;128mlike\u001b[0m \u001b[1m\u001b[38;2;240;128;128mspotify\u001b[0m \u001b[1m\u001b[38;2;240;128;128mand\u001b[0m \u001b[1m\u001b[38;2;240;128;128mGoogle\u001b[0m \u001b[1m\u001b[38;2;240;128;128mmaps\u001b[0m \u001b[1m\u001b[38;2;240;128;128mor\u001b[0m \u001b[1m\u001b[38;2;240;128;128mpodcasts\u001b[0m \u001b[1m\u001b[38;2;240;128;128mand\u001b[0m \u001b[1m\u001b[38;2;240;128;128mStrava\u001b[0m .\n",
      "\u001b[1m\u001b[38;2;255;165;0mPixel\u001b[0m \u001b[1m\u001b[38;2;255;165;0m4a\u001b[0m \u001b[1m\u001b[38;2;255;165;0m5g\u001b[0m \u001b[1m\u001b[38;2;240;128;128mconstantly\u001b[0m \u001b[1m\u001b[38;2;240;128;128mdropping\u001b[0m \u001b[1m\u001b[38;2;240;128;128mbluetooth\u001b[0m\n",
      "Both my \u001b[1m\u001b[92mBose\u001b[0m \u001b[1m\u001b[92mQC\u001b[0m \u001b[1m\u001b[92m35\u001b[0m headphones and a \u001b[1m\u001b[92mbluetooth\u001b[0m \u001b[1m\u001b[92mspeaker\u001b[0m \u001b[1m\u001b[38;2;240;128;128mdisconnect\u001b[0m \u001b[1m\u001b[38;2;240;128;128mand\u001b[0m \u001b[1m\u001b[38;2;240;128;128mreconnect\u001b[0m \u001b[1m\u001b[38;2;240;128;128mwhen\u001b[0m \u001b[1m\u001b[38;2;240;128;128mno\u001b[0m \u001b[1m\u001b[38;2;240;128;128maudio\u001b[0m \u001b[1m\u001b[38;2;240;128;128mis\u001b[0m \u001b[1m\u001b[38;2;240;128;128mplaying\u001b[0m .\n",
      "This did not happen on my \u001b[1m\u001b[38;2;240;230;140mPixel\u001b[0m \u001b[1m\u001b[38;2;240;230;140m3a\u001b[0m , \u001b[1m\u001b[38;2;240;230;140mNexus\u001b[0m \u001b[1m\u001b[38;2;240;230;140m6P\u001b[0m or \u001b[1m\u001b[38;2;240;230;140mGalaxy\u001b[0m \u001b[1m\u001b[38;2;240;230;140mS7\u001b[0m .\n",
      "Song information over Bluetooth with \u001b[1m\u001b[38;2;255;165;0mPixel\u001b[0m \u001b[1m\u001b[38;2;255;165;0m5\u001b[0m ?\n",
      "Has anyone with \u001b[1m\u001b[92mFord\u001b[0m \u001b[1m\u001b[92msync\u001b[0m in their car had any luck getting song titles and info to appear on their infotainment system ?\n",
      "Whenever I connect my phone over Bluetooth , \u001b[1m\u001b[38;2;240;128;128mthe\u001b[0m \u001b[1m\u001b[38;2;240;128;128mmedia\u001b[0m \u001b[1m\u001b[38;2;240;128;128mplayer\u001b[0m \u001b[1m\u001b[38;2;240;128;128mdetects\u001b[0m \u001b[1m\u001b[38;2;240;128;128mwhatever\u001b[0m \u001b[1m\u001b[38;2;240;128;128mmedia\u001b[0m \u001b[1m\u001b[38;2;240;128;128mI'm\u001b[0m \u001b[1m\u001b[38;2;240;128;128mplaying\u001b[0m \u001b[1m\u001b[38;2;240;128;128mas\u001b[0m \u001b[1m\u001b[38;2;240;128;128mjust\u001b[0m \" \u001b[1m\u001b[38;2;255;165;0mPixel\u001b[0m \u001b[1m\u001b[38;2;255;165;0m5\u001b[0m \" .\n",
      "Normally I would assume that this is just how the Sync OS handled metadata over Bluetooth and call it a day, but my \u001b[1m\u001b[38;2;240;230;140mold\u001b[0m \u001b[1m\u001b[38;2;240;230;140mPixel\u001b[0m \u001b[1m\u001b[38;2;240;230;140m3\u001b[0m displayed the info correctly so I'm wondering if there is anything I could do on my end to fix this ?\n",
      "Hi all , I recently switched to a \u001b[1m\u001b[38;2;255;165;0mPixel\u001b[0m \u001b[1m\u001b[38;2;255;165;0m5\u001b[0m from my old trusty 2XL, and I'm trying to switch over my \u001b[1m\u001b[92mFossil\u001b[0m \u001b[1m\u001b[92mSport\u001b[0m \u001b[1m\u001b[92msmartwatch\u001b[0m to my new phone .\n",
      "Unfortunately, I'm having an \u001b[1m\u001b[38;2;240;128;128missue\u001b[0m \u001b[1m\u001b[38;2;240;128;128mwhere\u001b[0m \u001b[1m\u001b[38;2;240;128;128mwhen\u001b[0m \u001b[1m\u001b[38;2;240;128;128mI\u001b[0m \u001b[1m\u001b[38;2;240;128;128mtry\u001b[0m \u001b[1m\u001b[38;2;240;128;128mconnecting\u001b[0m \u001b[1m\u001b[38;2;240;128;128mmy\u001b[0m \u001b[1m\u001b[38;2;240;128;128mwatch\u001b[0m \u001b[1m\u001b[38;2;240;128;128mto\u001b[0m \u001b[1m\u001b[38;2;240;128;128mmy\u001b[0m \u001b[1m\u001b[38;2;240;128;128mpixel\u001b[0m , \u001b[1m\u001b[38;2;240;128;128mthe\u001b[0m \u001b[1m\u001b[38;2;240;128;128mwatch\u001b[0m \u001b[1m\u001b[38;2;240;128;128mgets\u001b[0m \u001b[1m\u001b[38;2;240;128;128mstuck\u001b[0m \u001b[1m\u001b[38;2;240;128;128mat\u001b[0m \u001b[1m\u001b[38;2;240;128;128mthe\u001b[0m \u001b[1m\u001b[38;2;240;128;128mpairing\u001b[0m \u001b[1m\u001b[38;2;240;128;128mscreen\u001b[0m , \u001b[1m\u001b[38;2;240;128;128mwhen\u001b[0m \u001b[1m\u001b[38;2;240;128;128mit\u001b[0m \u001b[1m\u001b[38;2;240;128;128mshows\u001b[0m \u001b[1m\u001b[38;2;240;128;128ma\u001b[0m \u001b[1m\u001b[38;2;240;128;128m6-digit\u001b[0m \u001b[1m\u001b[38;2;240;128;128mstring\u001b[0m \u001b[1m\u001b[38;2;240;128;128mand\u001b[0m \" \u001b[1m\u001b[38;2;255;165;0mpixel\u001b[0m \u001b[1m\u001b[38;2;255;165;0m5\u001b[0m \u001b[1m\u001b[38;2;240;128;128mwould\u001b[0m \u001b[1m\u001b[38;2;240;128;128mlike\u001b[0m \u001b[1m\u001b[38;2;240;128;128mto\u001b[0m \u001b[1m\u001b[38;2;240;128;128mconnect\u001b[0m \" .\n",
      "\u001b[1m\u001b[38;2;240;128;128mMy\u001b[0m \u001b[1m\u001b[38;2;240;128;128mphone\u001b[0m \u001b[1m\u001b[38;2;240;128;128mshows\u001b[0m \u001b[1m\u001b[38;2;240;128;128mthe\u001b[0m \u001b[1m\u001b[38;2;240;128;128mmatching\u001b[0m \u001b[1m\u001b[38;2;240;128;128mpairing\u001b[0m \u001b[1m\u001b[38;2;240;128;128mprompt\u001b[0m \u001b[1m\u001b[38;2;240;128;128mas\u001b[0m \u001b[1m\u001b[38;2;240;128;128mexpected\u001b[0m , \u001b[1m\u001b[38;2;240;128;128mbut\u001b[0m \u001b[1m\u001b[38;2;240;128;128mthe\u001b[0m \u001b[1m\u001b[38;2;240;128;128mwatch\u001b[0m \u001b[1m\u001b[38;2;240;128;128mdoesn't\u001b[0m \u001b[1m\u001b[38;2;240;128;128mshow\u001b[0m \u001b[1m\u001b[38;2;240;128;128mthe\u001b[0m \u001b[1m\u001b[38;2;240;128;128musual\u001b[0m \u001b[1m\u001b[38;2;240;128;128m✓\u001b[0m \u001b[1m\u001b[38;2;240;128;128mand\u001b[0m \u001b[1m\u001b[38;2;240;128;128mX\u001b[0m \u001b[1m\u001b[38;2;240;128;128micons\u001b[0m \u001b[1m\u001b[38;2;240;128;128mon\u001b[0m \u001b[1m\u001b[38;2;240;128;128mits\u001b[0m \u001b[1m\u001b[38;2;240;128;128mpairing\u001b[0m \u001b[1m\u001b[38;2;240;128;128mprompt\u001b[0m\n",
      "Hey there, I'm using a \u001b[1m\u001b[38;2;255;165;0mPixel\u001b[0m \u001b[1m\u001b[38;2;255;165;0m2\u001b[0m For nearly 2 years and this is the first time I'm facing this issue .\n",
      "The \u001b[1m\u001b[38;2;240;128;128mbluetooth\u001b[0m \u001b[1m\u001b[38;2;240;128;128mkeeps\u001b[0m \u001b[1m\u001b[38;2;240;128;128mturning\u001b[0m \u001b[1m\u001b[38;2;240;128;128mBack\u001b[0m \u001b[1m\u001b[38;2;240;128;128mon\u001b[0m \u001b[1m\u001b[38;2;240;128;128meverytime\u001b[0m \u001b[1m\u001b[38;2;240;128;128mI\u001b[0m \u001b[1m\u001b[38;2;240;128;128mswitch\u001b[0m \u001b[1m\u001b[38;2;240;128;128mit\u001b[0m \u001b[1m\u001b[38;2;240;128;128moff\u001b[0m .\n",
      "It's updated to the recent most \u001b[1m\u001b[38;2;135;206;250mAndroid\u001b[0m \u001b[1m\u001b[38;2;135;206;250m11\u001b[0m .\n",
      "\u001b[1m\u001b[38;2;255;165;0mPixel\u001b[0m \u001b[1m\u001b[38;2;255;165;0m3\u001b[0m  \u001b[1m\u001b[38;2;135;206;250mAndroid\u001b[0m \u001b[1m\u001b[38;2;135;206;250m11\u001b[0m  will no longer connect to \u001b[1m\u001b[92mWindows\u001b[0m \u001b[1m\u001b[92m10\u001b[0m \u001b[1m\u001b[92mPC\u001b[0m via Bluetooth .\n",
      "I've been connecting my \u001b[1m\u001b[38;2;255;165;0mPixel\u001b[0m \u001b[1m\u001b[38;2;255;165;0m3\u001b[0m on \u001b[1m\u001b[38;2;135;206;250mAndroid\u001b[0m \u001b[1m\u001b[38;2;135;206;250m11\u001b[0m to my \u001b[1m\u001b[92mWindows\u001b[0m \u001b[1m\u001b[92m10\u001b[0m \u001b[1m\u001b[92mdesktop\u001b[0m via Bluetooth for months to take calls, message etc via Windows 10's Your Phone app .\n",
      "Then a few months ago , \u001b[1m\u001b[38;2;240;128;128mmy\u001b[0m \u001b[1m\u001b[38;2;240;128;128mphone\u001b[0m \u001b[1m\u001b[38;2;240;128;128mrefused\u001b[0m \u001b[1m\u001b[38;2;240;128;128mto\u001b[0m \u001b[1m\u001b[38;2;240;128;128mcommunicate\u001b[0m \u001b[1m\u001b[38;2;240;128;128mwith\u001b[0m \u001b[1m\u001b[38;2;240;128;128mthe\u001b[0m \u001b[1m\u001b[38;2;240;128;128mPC\u001b[0m \u001b[1m\u001b[38;2;240;128;128mover\u001b[0m \u001b[1m\u001b[38;2;240;128;128mBT\u001b[0m .\n",
      "\u001b[1m\u001b[38;2;240;128;128mIt\u001b[0m \u001b[1m\u001b[38;2;240;128;128mwill\u001b[0m \u001b[1m\u001b[38;2;240;128;128mstill\u001b[0m \u001b[1m\u001b[38;2;240;128;128mpair\u001b[0m , \u001b[1m\u001b[38;2;240;128;128mbut\u001b[0m \u001b[1m\u001b[38;2;240;128;128mwon't\u001b[0m \u001b[1m\u001b[38;2;240;128;128mremain\u001b[0m \u001b[1m\u001b[38;2;240;128;128mconnected\u001b[0m\n",
      "I just found this isn't limited to my desktop PC either - \u001b[1m\u001b[38;2;240;128;128mthe\u001b[0m \u001b[1m\u001b[38;2;240;128;128mPixel\u001b[0m \u001b[1m\u001b[38;2;240;128;128malso\u001b[0m \u001b[1m\u001b[38;2;240;128;128mwon't\u001b[0m \u001b[1m\u001b[38;2;240;128;128mconnect\u001b[0m \u001b[1m\u001b[38;2;240;128;128mto\u001b[0m \u001b[1m\u001b[38;2;240;128;128manother\u001b[0m \u001b[1m\u001b[38;2;240;128;128mW10\u001b[0m \u001b[1m\u001b[38;2;240;128;128mlaptop\u001b[0m .\n",
      "\u001b[1m\u001b[38;2;240;128;128mSeems\u001b[0m \u001b[1m\u001b[38;2;240;128;128mto\u001b[0m \u001b[1m\u001b[38;2;240;128;128mbe\u001b[0m \u001b[1m\u001b[38;2;240;128;128mrejecting\u001b[0m \u001b[1m\u001b[38;2;240;128;128mconnecting\u001b[0m \u001b[1m\u001b[38;2;240;128;128mto\u001b[0m \u001b[1m\u001b[38;2;240;128;128mW10\u001b[0m \u001b[1m\u001b[38;2;240;128;128min\u001b[0m \u001b[1m\u001b[38;2;240;128;128mgeneral\u001b[0m .\n"
     ]
    }
   ],
   "source": [
    "word_set = set()\n",
    "label_t1 = label_t2 = label_t3 = label_t4 = label_t5 = label_t6 = label_o = 0\n",
    "for ri, r in df.iterrows():\n",
    "    words = r.sentence.split()\n",
    "    for i in range(len(words)):                \n",
    "        # if words[i][-1] in \",.!?\":\n",
    "        #    words[i] = words[i][:-1]\n",
    "        #elif words[i][-2:] == \"'s\":\n",
    "        #    words[i] = words[i][:-2]\n",
    "            \n",
    "        if words[i].startswith('('):\n",
    "            words[i] = words[i][1:]\n",
    "            \n",
    "        if words[i].endswith(')'):\n",
    "            words[i] = words[i][:-1]\n",
    "            \n",
    "    new_words = []\n",
    "    for w in words:\n",
    "        if w.endswith('\\_T1'):\n",
    "            w = w[:-4]\n",
    "            word_set.add(w)\n",
    "            w = f\"{color.BOLD}{color.ORANGE}{w}{color.END}\"\n",
    "            label_t1 += 1\n",
    "            \n",
    "        elif w.endswith('\\_T2'):\n",
    "            w = w[:-4]\n",
    "            word_set.add(w)\n",
    "            w = f\"{color.BOLD}{color.GREEN}{w}{color.END}\"\n",
    "            label_t2 += 1\n",
    "            \n",
    "        elif w.endswith('\\_T3'):\n",
    "            w = w[:-4]\n",
    "            word_set.add(w)\n",
    "            w = f\"{color.BOLD}{color.LIGHTCORAL}{w}{color.END}\"\n",
    "            label_t3 += 1\n",
    "            \n",
    "        elif w.endswith('\\_T4'):\n",
    "            w = w[:-4]\n",
    "            word_set.add(w)\n",
    "            w = f\"{color.BOLD}{color.INDIGO}{w}{color.END}\"\n",
    "            label_t4 += 1\n",
    "            \n",
    "        elif w.endswith('\\_T5'):\n",
    "            w = w[:-4]\n",
    "            word_set.add(w)\n",
    "            w = f\"{color.BOLD}{color.LIGHTSKYBLUE}{w}{color.END}\"\n",
    "            label_t5 += 1\n",
    "            \n",
    "        elif w.endswith('\\_T6'):\n",
    "            w = w[:-4]\n",
    "            word_set.add(w)\n",
    "            w = f\"{color.BOLD}{color.KHAKI}{w}{color.END}\"\n",
    "            label_t6 += 1\n",
    "            \n",
    "        else:\n",
    "            label_o += 1\n",
    "            \n",
    "        new_words.append(w)\n",
    "        \n",
    "    print(\" \".join(new_words))"
   ]
  },
  {
   "cell_type": "code",
   "execution_count": 4,
   "metadata": {},
   "outputs": [
    {
     "name": "stdout",
     "output_type": "stream",
     "text": [
      "label_o: 280\n",
      "label_t1: 24\n",
      "label_t2: 19\n",
      "label_t3: 164\n",
      "label_t4: 17\n",
      "label_t5: 6\n",
      "label_t6: 9\n"
     ]
    }
   ],
   "source": [
    "for n, v in sorted(\n",
    "        [(n, v) for n, v in globals().items() if n.startswith('label_t') or n.startswith('label_o')],\n",
    "        key=lambda t: t[0]):\n",
    "    print(f\"{n}: {v}\")"
   ]
  },
  {
   "cell_type": "markdown",
   "metadata": {},
   "source": [
    "We store a list of car brands for future reference and process in file `car_brand_list.txt`."
   ]
  },
  {
   "cell_type": "code",
   "execution_count": 5,
   "metadata": {},
   "outputs": [
    {
     "data": {
      "text/plain": [
       "[('apple',), ('galaxy',), ('nexus',), ('pixel',)]"
      ]
     },
     "execution_count": 5,
     "metadata": {},
     "output_type": "execute_result"
    }
   ],
   "source": [
    "phone_brand_set = set()\n",
    "with open('phone_brands.txt', 'r') as fo:\n",
    "    for line in fo:\n",
    "        line = line.lower()\n",
    "        phone_brand_set.add(tuple(list(map(lambda w: w.lower(), line.split()))))\n",
    "    \n",
    "list(phone_brand_set)[:10]"
   ]
  },
  {
   "cell_type": "code",
   "execution_count": 6,
   "metadata": {},
   "outputs": [
    {
     "data": {
      "text/plain": [
       "[('fitbit',)]"
      ]
     },
     "execution_count": 6,
     "metadata": {},
     "output_type": "execute_result"
    }
   ],
   "source": [
    "device_brand_set = set()\n",
    "with open('remote_device_brands.txt', 'r') as fo:\n",
    "    for line in fo:\n",
    "        line = line.lower()\n",
    "        device_brand_set.add(tuple(list(map(lambda w: w.lower(), line.split()))))\n",
    "    \n",
    "list(device_brand_set)[:10]"
   ]
  },
  {
   "cell_type": "markdown",
   "metadata": {},
   "source": [
    "We also keep many post to hold content without desired entity which can be used for training in directory `negative_posts`:"
   ]
  },
  {
   "cell_type": "code",
   "execution_count": 7,
   "metadata": {},
   "outputs": [],
   "source": [
    "NEGATIVE_DIR_PATH = 'negative_posts'"
   ]
  },
  {
   "cell_type": "markdown",
   "metadata": {},
   "source": [
    "## <font color='darkblue'>Reddit APIs</font>\n",
    "Here we are going to pull posts/articles from [**Reddits**](https://www.reddit.com/) by APIs of [**PRAW**](https://praw.readthedocs.io/en/latest/) to help us collect more posts/articles for labelling process:\n",
    "1. Pull posts from Reddit by open API\n",
    "2. Train a classifier to select the post we are interested (contains the labels we want)"
   ]
  },
  {
   "cell_type": "code",
   "execution_count": 8,
   "metadata": {},
   "outputs": [],
   "source": [
    "#!pip install praw"
   ]
  },
  {
   "cell_type": "markdown",
   "metadata": {},
   "source": [
    "<a id='sect2_1'></a>\n",
    "### <font color='darkgreen'>PRAW APIs to pull posts</font>\n",
    "First step, we are going to pull posts from Reddit and then do manual labelling to separate the wanted posts and others:\n",
    "* Follow [this post](https://www.jcchouinard.com/get-reddit-api-credentials-with-praw/) to retrieve the client id, secret which will be provided into API later. (We store the credentials in `client_secrets.json` here. If this is your first time to use this script, try to create a reddit app [here](https://www.reddit.com/prefs/apps/))"
   ]
  },
  {
   "cell_type": "code",
   "execution_count": 9,
   "metadata": {},
   "outputs": [
    {
     "data": {
      "text/plain": [
       "Redditor(name='johnkclee')"
      ]
     },
     "execution_count": 9,
     "metadata": {},
     "output_type": "execute_result"
    }
   ],
   "source": [
    "import logging\n",
    "import praw\n",
    "import json\n",
    "\n",
    "with open('client_secrets.json', 'r') as fo:\n",
    "    reddit_credentials = json.load(fo)\n",
    "    rdt_agent = praw.Reddit(**reddit_credentials)\n",
    "\n",
    "\n",
    "# Make sure you can see your name to indicate that you are ready to use APIs\n",
    "rdt_agent.user.me()"
   ]
  },
  {
   "cell_type": "markdown",
   "metadata": {},
   "source": [
    "* Now our PRAW APIs are ready to use. Let's pull a few post for our reference as prior run:\n",
    "  * [**Reddit** (rdt_agent)](https://praw.readthedocs.io/en/latest/code_overview/reddit_instance.html?highlight=Reddit#the-reddit-instance): The Reddit class provides convenient access to Reddit’s API.\n",
    "  * [**Subreddit** (st_googlepixel)](https://praw.readthedocs.io/en/latest/code_overview/models/subreddit.html?highlight=Subreddit#subreddit): A class for Subreddits.\n",
    "  * [**Submission** (submission)](https://praw.readthedocs.io/en/latest/code_overview/models/submission.html#praw.models.Submission): A class for submissions to reddit."
   ]
  },
  {
   "cell_type": "code",
   "execution_count": 10,
   "metadata": {},
   "outputs": [
    {
     "name": "stdout",
     "output_type": "stream",
     "text": [
      "GooglePixel\n"
     ]
    }
   ],
   "source": [
    "# Create a sub-reddit object for topic we are interested in (r/GooglePixel)\n",
    "st_googlepixel = rdt_agent.subreddit(\"GooglePixel\")\n",
    "\n",
    "print(st_googlepixel.display_name)\n",
    "# Output: redditdev\n",
    "#print(st_googlepixel.title)\n",
    "# Output: reddit development\n",
    "#print(st_googlepixel.description)\n",
    "# Output: a subreddit for discussion of ..."
   ]
  },
  {
   "cell_type": "code",
   "execution_count": 11,
   "metadata": {},
   "outputs": [
    {
     "name": "stdout",
     "output_type": "stream",
     "text": [
      "\u001b[1mPlease help me, I have a Google Pixel 3a XL. It has an issues where it switched between charging and not charging.\u001b[0m\n",
      "3\n",
      "n8qe5v\n",
      "https://www.reddit.com/r/GooglePixel/comments/n8qe5v/please_help_me_i_have_a_google_pixel_3a_xl_it_has/\n",
      "\n",
      "The title basically says it all. I plug my phone in and it starts, then stops charging. Then it repeats for infinity. Please share some ways I can fic/troubleshoot this issue. I just bought this phone a little over a year ago and really don't want to break the charging port and be forced to buy a new phone. Thank you!\n",
      "\n",
      "\n",
      "\u001b[1mHow do the pixel buds 2 still have so many problems?\u001b[0m\n",
      "0\n",
      "n8q2h0\n",
      "https://www.reddit.com/r/GooglePixel/comments/n8q2h0/how_do_the_pixel_buds_2_still_have_so_many/\n",
      "\n",
      "Took a chance and picked them up. In two weeks I've used them so little the case is still at 40 percent charge without being plugged in one. I have been using them with a Pixel 4 5G and they have constant issues cutting in and out which is only solved resetting the phone, now the left ear just cuts off and never connects again. I've tried factory resetting, reconnects to phone and it just keeps cutting out. \n",
      "\n",
      "At this point I'm 100 percent out of ideas.\n",
      "\n",
      "\n",
      "\u001b[1mVolume slider sticks around too long\u001b[0m\n",
      "2\n",
      "n8q0ge\n",
      "https://www.reddit.com/r/GooglePixel/comments/n8q0ge/volume_slider_sticks_around_too_long/\n",
      "\n",
      "It's been the same since I got the phone, and it seems to just stick around on the side for too long. Is there any way to adjust this in the settings?\n",
      "\n",
      "\n"
     ]
    }
   ],
   "source": [
    "# Obtain Submission Instances from a sub-reddit\n",
    "for submission in st_googlepixel.new(limit=3):\n",
    "    print(color.BOLD + submission.title + color.END)\n",
    "    # Output: the submission's title\n",
    "    print(submission.score)\n",
    "    # Output: the submission's score\n",
    "    print(submission.id)\n",
    "    # Output: the submission's ID\n",
    "    print(submission.url)\n",
    "    # Output: the URL the submission points to or the submission's URL if it's a self post\n",
    "    print(\"\\n\" + submission.selftext + \"\\n\\n\")\n",
    "    # Output: The body of submission"
   ]
  },
  {
   "cell_type": "markdown",
   "metadata": {},
   "source": [
    "* If you can see pulled posts from above code snippet, then it is ready to pull volume of posts now (Set `enable_demo=True`):"
   ]
  },
  {
   "cell_type": "code",
   "execution_count": 12,
   "metadata": {},
   "outputs": [],
   "source": [
    "import pickle\n",
    "import os\n",
    "import time\n",
    "from logb import get_logger\n",
    "from datetime import datetime\n",
    "from typing import Dict\n",
    "from tqdm import tqdm\n",
    "\n",
    "ROOT_PATH = os.getcwd()\n",
    "CACHE_PKL_NAME = os.path.join(ROOT_PATH, 'reddit_pulled_post_cache.pkl')\n",
    "DUMP_DIR_PATH = os.path.join(ROOT_PATH, \"reddit_post_dumps\")\n",
    "PULL_SIZE_LIMIT = 1000\n",
    "logger = get_logger(\"issue4\")\n",
    "enable_demo = False\n",
    "\n",
    "\n",
    "def get_ts() -> int:\n",
    "    return int(datetime.now().timestamp())\n",
    "\n",
    "def get_datestr() -> str:\n",
    "    return datetime.now().strftime(\"%Y%m%d%H%M%S\")\n",
    "\n",
    "def dump_reddit_post(datestr, submission):\n",
    "    url = submission.url.split('?')[0]\n",
    "    if url.endswith('/'):\n",
    "        url = url[:-1]\n",
    "        \n",
    "    def _save(fn):\n",
    "        with open(os.path.join(DUMP_DIR_PATH, fn), 'w', encoding='utf-8') as fw:\n",
    "            fw.write(submission.url + \"\\n\\n\")\n",
    "            fw.write(submission.title + \"\\n\\n\")\n",
    "            fw.write(submission.selftext)\n",
    "            \n",
    "    try:\n",
    "        id_with_title = '_'.join(url.split('/')[-2:])\n",
    "        fn = f\"{datestr}_{id_with_title}.txt\"\n",
    "        _save(fn)\n",
    "    except Exception:\n",
    "        logger.warning(f\"Fail to use fn={fn} with URL={url}\")\n",
    "        fn = f\"{datestr}_{submission.id}.txt\"\n",
    "        logger.warning(f\"Using fn={fn} instead...\")\n",
    "        _save(fn)\n",
    "\n",
    "def load_rpp_cache() -> Dict[str, float]:\n",
    "    \"\"\" Load Reddit pulled post cache\"\"\"\n",
    "    cache_dict = {} # Key as URL, value as pulling stamp    \n",
    "    if os.path.isfile(CACHE_PKL_NAME):\n",
    "        try:\n",
    "            with open(CACHE_PKL_NAME, 'rb') as fo:\n",
    "                cache_dict = pickle.load(fo)\n",
    "        except:\n",
    "            logger.warning(f\"Fail to load back {CACHE_PKL_NAME}!\")            \n",
    "            os.remove(CACHE_PKL_NAME)\n",
    "            return {}\n",
    "    \n",
    "    return cache_dict\n",
    "        \n",
    "def save_rpp_cache(cache_dict:Dict[str,float]):\n",
    "    \"\"\" Save Reddit pulled post cache\"\"\"\n",
    "    with open(CACHE_PKL_NAME, 'wb') as fw:\n",
    "        pickle.dump(cache_dict, fw)\n",
    "        \n",
    "\n",
    "if enable_demo:\n",
    "    ### Start the Reddit dump process\n",
    "    rppc_cache = load_rpp_cache()\n",
    "\n",
    "    if not os.path.isdir(DUMP_DIR_PATH):\n",
    "        os.makedirs(DUMP_DIR_PATH)\n",
    "    \n",
    "    st = datetime.now()\n",
    "    datestr = get_datestr()\n",
    "    print(f\"Start Reddit dumping at {datestr}...\")\n",
    "    time.sleep(1)\n",
    "    # Obtain Submission Instances from a sub-reddit\n",
    "    new_post_count = 0\n",
    "    with tqdm(total=PULL_SIZE_LIMIT) as pbar:\n",
    "        pc = 0\n",
    "        for submission in st_googlepixel.new(limit=PULL_SIZE_LIMIT):\n",
    "            if submission.url not in rppc_cache:\n",
    "                rppc_cache[submission.url] = get_ts()\n",
    "                dump_reddit_post(datestr, submission)\n",
    "                new_post_count += 1\n",
    "            \n",
    "            pbar.update(1)\n",
    "            pc += 1\n",
    "        \n",
    "        pbar.update(PULL_SIZE_LIMIT - pc)\n",
    "    \n",
    "    logger.info(f\"Total {new_post_count:,d} new post collected! ({datetime.now() - st})\")\n",
    "    save_rpp_cache(rppc_cache)"
   ]
  },
  {
   "cell_type": "markdown",
   "metadata": {},
   "source": [
    "Above code has been refactored and we will use script `reddit_dumper.py` to dump posts of Reddit instead in server."
   ]
  },
  {
   "cell_type": "markdown",
   "metadata": {},
   "source": [
    "### <font color='darkgreen'>Dump Statistic Info</font>\n",
    "Let's check the statistic information from the post dumping activity:"
   ]
  },
  {
   "cell_type": "code",
   "execution_count": 33,
   "metadata": {},
   "outputs": [],
   "source": [
    "from datetime import datetime\n",
    "\n",
    "STAT_FILE = 'reddit_dump_stat.txt'\n",
    "\n",
    "time_info_list = []\n",
    "post_count_list = []\n",
    "with open(STAT_FILE) as fo:\n",
    "    for line in fo:\n",
    "        time_info, post_count = line.split(':')\n",
    "        time_info_list.append(datetime.strptime(time_info.strip(), '%Y%m%d%H%M%S'))\n",
    "        post_count_list.append(int(post_count))"
   ]
  },
  {
   "cell_type": "code",
   "execution_count": 37,
   "metadata": {},
   "outputs": [
    {
     "data": {
      "image/png": "[encoded data removed]",
      "text/plain": [
       "<Figure size 864x360 with 1 Axes>"
      ]
     },
     "metadata": {
      "needs_background": "light"
     },
     "output_type": "display_data"
    }
   ],
   "source": [
    "# https://datatofish.com/line-chart-python-matplotlib/\n",
    "import matplotlib.pyplot as plt\n",
    "\n",
    "total_collected_post = sum(post_count_list)\n",
    "avg_post_per_unit = total_collected_post / len(post_count_list)\n",
    "plt.rcParams['figure.figsize'] = [12, 5]    \n",
    "plt.plot(list(map(lambda do: do.strftime('%m/%d %H'), time_info_list)), post_count_list, color='red', marker='o')\n",
    "plt.title(f'Post her two hours (Total={total_collected_post}, Average={avg_post_per_unit:.02f})', fontsize=14)\n",
    "plt.xlabel('Time', fontsize=14)\n",
    "plt.ylabel('Post count', fontsize=14)\n",
    "plt.xticks(rotation=90)\n",
    "plt.grid(True)\n",
    "plt.show()"
   ]
  },
  {
   "cell_type": "markdown",
   "metadata": {},
   "source": [
    "<a id='sect3'></a>\n",
    "## <font color='darkblue'>Word2vec Solution</font> ([back](#sect0))\n",
    "* [**Fasttext**](#sect2_1)\n",
    "* [**Gensim**](#sect2_2)\n",
    "\n",
    "[**Word2vec**](https://en.wikipedia.org/wiki/Word2vec) is a technique for [natural language processing](https://en.wikipedia.org/wiki/Natural_language_processing). The word2vec algorithm uses a neural network model to learn word associations from a large [corpus of text](https://en.wikipedia.org/wiki/Corpus_of_text). Once trained, such a model can detect synonymous words or suggest additional words for a partial sentence.\n",
    "![1.png](images/1.png)\n",
    "<br/>"
   ]
  },
  {
   "cell_type": "markdown",
   "metadata": {},
   "source": [
    "<a id='sect2_1'></a>\n",
    "### <font color='darkgreen'>Fasttext - Word to vector</font>\n",
    "Here we will leverage [**Fasttext**](https://github.com/facebookresearch/fastText) package to help us to translate word into vector for later ML training. Instead of re-training a new Fasttext model, we will use exist trained model [here](https://fasttext.cc/docs/en/crawl-vectors.html) [cc.en.300.bin.gz](https://dl.fbaipublicfiles.com/fasttext/vectors-crawl/cc.en.300.bin.gz). Please click the link and download it:"
   ]
  },
  {
   "cell_type": "code",
   "execution_count": 13,
   "metadata": {},
   "outputs": [],
   "source": [
    "#!pip install fasttext"
   ]
  },
  {
   "cell_type": "code",
   "execution_count": 14,
   "metadata": {},
   "outputs": [],
   "source": [
    "#import fasttext.util\n",
    "\n",
    "#fasttext.util.download_model('en', if_exists='ignore')  # English\n",
    "#ft = fasttext.load_model('cc.en.300.bin')"
   ]
  },
  {
   "cell_type": "markdown",
   "metadata": {},
   "source": [
    "After that, below code will load the downloaded model:"
   ]
  },
  {
   "cell_type": "code",
   "execution_count": 15,
   "metadata": {},
   "outputs": [],
   "source": [
    "#import fasttext\n",
    "#import fasttext.util"
   ]
  },
  {
   "cell_type": "markdown",
   "metadata": {},
   "source": [
    "<a id='sect2_2'></a>\n",
    "### <font color='darkgreen'>Gensim - Word to vector</font>\n",
    "Here we will leverage [**Gensim**](https://radimrehurek.com/gensim/auto_examples/tutorials/run_word2vec.html) to help us to translate word into vector for later ML training."
   ]
  },
  {
   "cell_type": "code",
   "execution_count": 16,
   "metadata": {},
   "outputs": [
    {
     "name": "stderr",
     "output_type": "stream",
     "text": [
      "/usr/local/google/home/johnkclee/Github/ff_crawler/env/lib/python3.9/site-packages/gensim/similarities/__init__.py:15: UserWarning: The gensim.similarities.levenshtein submodule is disabled, because the optional Levenshtein package <https://pypi.org/project/python-Levenshtein/> is unavailable. Install Levenhstein (e.g. `pip install python-Levenshtein`) to suppress this warning.\n",
      "  warnings.warn(msg)\n"
     ]
    }
   ],
   "source": [
    "# Load in word vector translator\n",
    "import gensim.downloader as api\n",
    "\n",
    "wv = api.load('word2vec-google-news-300')"
   ]
  },
  {
   "cell_type": "code",
   "execution_count": 17,
   "metadata": {},
   "outputs": [
    {
     "name": "stdout",
     "output_type": "stream",
     "text": [
      "Total 12 unknown word(s) found!\n",
      "{'P4a5g', '11', 'a', 'and', 'smartwatch', 'spotify', 'to', 'wh-1000mx4', '10', '6-digit', '35', 'W10'}\n"
     ]
    }
   ],
   "source": [
    "unknown_word_set = set()\n",
    "for w in word_set:\n",
    "    try:\n",
    "        wv[w]\n",
    "    except:\n",
    "        unknown_word_set.add(w)\n",
    "        \n",
    "print(f\"Total {len(unknown_word_set)} unknown word(s) found!\")\n",
    "print(unknown_word_set)"
   ]
  },
  {
   "cell_type": "markdown",
   "metadata": {},
   "source": [
    "<a id='sect4'></a>\n",
    "## <font color='darkblue'>ML Models</font>\n",
    "Here we are going to explore some ML solutions to deal with NER problem."
   ]
  },
  {
   "cell_type": "code",
   "execution_count": 21,
   "metadata": {},
   "outputs": [],
   "source": [
    "#!pip uninstall sklearn\n",
    "#!pip install scikit-learn==0.23.0\n",
    "#!pip install scikit-learn\n",
    "#!pip install -U imbalanced-learn\n",
    "#!pip install deslib"
   ]
  },
  {
   "cell_type": "markdown",
   "metadata": {},
   "source": [
    "### <font color='darkgreen'>Post classifier</font>\n",
    "We need a classifier to help us select post of Reddit from the dump collection to save our time to check all post. We put the interested posts under folder `pos` and others in folder `neg`. Below we will train a classifier to help us identify the post as those posts in folder `pos` (with label as `1`)."
   ]
  },
  {
   "cell_type": "markdown",
   "metadata": {},
   "source": [
    "#### Preprocess"
   ]
  },
  {
   "cell_type": "code",
   "execution_count": 24,
   "metadata": {},
   "outputs": [
    {
     "name": "stderr",
     "output_type": "stream",
     "text": [
      "[nltk_data] Downloading package averaged_perceptron_tagger to\n",
      "[nltk_data]     /usr/local/google/home/johnkclee/nltk_data...\n",
      "[nltk_data]   Package averaged_perceptron_tagger is already up-to-\n",
      "[nltk_data]       date!\n",
      "[nltk_data] Downloading package wordnet to\n",
      "[nltk_data]     /usr/local/google/home/johnkclee/nltk_data...\n"
     ]
    },
    {
     "name": "stdout",
     "output_type": "stream",
     "text": [
      "\n",
      "System:\n",
      "    python: 3.9.2 (default, Feb 28 2021, 17:03:44)  [GCC 10.2.1 20210110]\n",
      "executable: /usr/local/google/home/johnkclee/Github/ff_crawler/env/bin/python\n",
      "   machine: Linux-5.10.26-1rodete1-amd64-x86_64-with-glibc2.31\n",
      "\n",
      "Python dependencies:\n",
      "          pip: 21.0.1\n",
      "   setuptools: 54.2.0\n",
      "      sklearn: 0.24.2\n",
      "        numpy: 1.20.2\n",
      "        scipy: 1.6.2\n",
      "       Cython: None\n",
      "       pandas: 1.2.4\n",
      "   matplotlib: 3.4.1\n",
      "       joblib: 1.0.1\n",
      "threadpoolctl: 2.1.0\n",
      "\n",
      "Built with OpenMP: True\n",
      "None\n"
     ]
    },
    {
     "name": "stderr",
     "output_type": "stream",
     "text": [
      "[nltk_data]   Unzipping corpora/wordnet.zip.\n"
     ]
    }
   ],
   "source": [
    "import nltk\n",
    "import pickle\n",
    "import pandas as pd\n",
    "import numpy as np\n",
    "import sklearn\n",
    "import seaborn as sns\n",
    "from nltk import pos_tag\n",
    "from nltk.tokenize import word_tokenize\n",
    "from nltk.tokenize import sent_tokenize\n",
    "from nltk.stem import WordNetLemmatizer\n",
    "import matplotlib.pyplot as plt\n",
    "from numpy import mean\n",
    "from numpy import std\n",
    "from sklearn.datasets import make_classification\n",
    "from sklearn.metrics import accuracy_score\n",
    "from sklearn.model_selection import cross_val_score\n",
    "from sklearn.model_selection import RepeatedStratifiedKFold\n",
    "from sklearn.model_selection import train_test_split\n",
    "from sklearn.linear_model import LogisticRegression\n",
    "from sklearn.ensemble import RandomForestClassifier\n",
    "from sklearn.ensemble import GradientBoostingClassifier\n",
    "from sklearn.neighbors import KNeighborsClassifier\n",
    "from sklearn.svm import SVC\n",
    "from sklearn.tree import DecisionTreeClassifier\n",
    "from sklearn.naive_bayes import GaussianNB\n",
    "from sklearn.datasets import make_classification\n",
    "from sklearn.ensemble import StackingClassifier\n",
    "from deslib.des.knora_e import KNORAE\n",
    "from deslib.des.knora_u import KNORAU\n",
    "nltk.download('averaged_perceptron_tagger')\n",
    "nltk.download('wordnet')\n",
    "\n",
    "wnl = WordNetLemmatizer()\n",
    "\n",
    "def read_post_from_file(fn):\n",
    "    ''' Read Reddit post from file'''\n",
    "    title = body = url = ''\n",
    "    with open(fn, 'r', encoding='utf-8') as fo:\n",
    "        url = fo.readline().strip()\n",
    "        fo.readline()\n",
    "        title = fo.readline().strip()\n",
    "        fo.readline()\n",
    "        body = fo.read().strip()\n",
    "\n",
    "    return (title, body, url)\n",
    "\n",
    "print(sklearn.show_versions())"
   ]
  },
  {
   "cell_type": "code",
   "execution_count": 23,
   "metadata": {},
   "outputs": [
    {
     "ename": "LookupError",
     "evalue": "\n**********************************************************************\n  Resource \u001b[93mwordnet\u001b[0m not found.\n  Please use the NLTK Downloader to obtain the resource:\n\n  \u001b[31m>>> import nltk\n  >>> nltk.download('wordnet')\n  \u001b[0m\n  For more information see: https://www.nltk.org/data.html\n\n  Attempted to load \u001b[93mcorpora/wordnet\u001b[0m\n\n  Searched in:\n    - '/usr/local/google/home/johnkclee/nltk_data'\n    - '/usr/local/google/home/johnkclee/Github/ff_crawler/env/nltk_data'\n    - '/usr/local/google/home/johnkclee/Github/ff_crawler/env/share/nltk_data'\n    - '/usr/local/google/home/johnkclee/Github/ff_crawler/env/lib/nltk_data'\n    - '/usr/share/nltk_data'\n    - '/usr/local/share/nltk_data'\n    - '/usr/lib/nltk_data'\n    - '/usr/local/lib/nltk_data'\n**********************************************************************\n",
     "output_type": "error",
     "traceback": [
      "\u001b[0;31m---------------------------------------------------------------------------\u001b[0m",
      "\u001b[0;31mLookupError\u001b[0m                               Traceback (most recent call last)",
      "\u001b[0;32m~/Github/ff_crawler/env/lib/python3.9/site-packages/nltk/corpus/util.py\u001b[0m in \u001b[0;36m__load\u001b[0;34m(self)\u001b[0m\n\u001b[1;32m     82\u001b[0m                 \u001b[0;32mtry\u001b[0m\u001b[0;34m:\u001b[0m\u001b[0;34m\u001b[0m\u001b[0;34m\u001b[0m\u001b[0m\n\u001b[0;32m---> 83\u001b[0;31m                     \u001b[0mroot\u001b[0m \u001b[0;34m=\u001b[0m \u001b[0mnltk\u001b[0m\u001b[0;34m.\u001b[0m\u001b[0mdata\u001b[0m\u001b[0;34m.\u001b[0m\u001b[0mfind\u001b[0m\u001b[0;34m(\u001b[0m\u001b[0;34m\"{}/{}\"\u001b[0m\u001b[0;34m.\u001b[0m\u001b[0mformat\u001b[0m\u001b[0;34m(\u001b[0m\u001b[0mself\u001b[0m\u001b[0;34m.\u001b[0m\u001b[0msubdir\u001b[0m\u001b[0;34m,\u001b[0m \u001b[0mzip_name\u001b[0m\u001b[0;34m)\u001b[0m\u001b[0;34m)\u001b[0m\u001b[0;34m\u001b[0m\u001b[0;34m\u001b[0m\u001b[0m\n\u001b[0m\u001b[1;32m     84\u001b[0m                 \u001b[0;32mexcept\u001b[0m \u001b[0mLookupError\u001b[0m\u001b[0;34m:\u001b[0m\u001b[0;34m\u001b[0m\u001b[0;34m\u001b[0m\u001b[0m\n",
      "\u001b[0;32m~/Github/ff_crawler/env/lib/python3.9/site-packages/nltk/data.py\u001b[0m in \u001b[0;36mfind\u001b[0;34m(resource_name, paths)\u001b[0m\n\u001b[1;32m    582\u001b[0m     \u001b[0mresource_not_found\u001b[0m \u001b[0;34m=\u001b[0m \u001b[0;34m\"\\n%s\\n%s\\n%s\\n\"\u001b[0m \u001b[0;34m%\u001b[0m \u001b[0;34m(\u001b[0m\u001b[0msep\u001b[0m\u001b[0;34m,\u001b[0m \u001b[0mmsg\u001b[0m\u001b[0;34m,\u001b[0m \u001b[0msep\u001b[0m\u001b[0;34m)\u001b[0m\u001b[0;34m\u001b[0m\u001b[0;34m\u001b[0m\u001b[0m\n\u001b[0;32m--> 583\u001b[0;31m     \u001b[0;32mraise\u001b[0m \u001b[0mLookupError\u001b[0m\u001b[0;34m(\u001b[0m\u001b[0mresource_not_found\u001b[0m\u001b[0;34m)\u001b[0m\u001b[0;34m\u001b[0m\u001b[0;34m\u001b[0m\u001b[0m\n\u001b[0m\u001b[1;32m    584\u001b[0m \u001b[0;34m\u001b[0m\u001b[0m\n",
      "\u001b[0;31mLookupError\u001b[0m: \n**********************************************************************\n  Resource \u001b[93mwordnet\u001b[0m not found.\n  Please use the NLTK Downloader to obtain the resource:\n\n  \u001b[31m>>> import nltk\n  >>> nltk.download('wordnet')\n  \u001b[0m\n  For more information see: https://www.nltk.org/data.html\n\n  Attempted to load \u001b[93mcorpora/wordnet.zip/wordnet/\u001b[0m\n\n  Searched in:\n    - '/usr/local/google/home/johnkclee/nltk_data'\n    - '/usr/local/google/home/johnkclee/Github/ff_crawler/env/nltk_data'\n    - '/usr/local/google/home/johnkclee/Github/ff_crawler/env/share/nltk_data'\n    - '/usr/local/google/home/johnkclee/Github/ff_crawler/env/lib/nltk_data'\n    - '/usr/share/nltk_data'\n    - '/usr/local/share/nltk_data'\n    - '/usr/lib/nltk_data'\n    - '/usr/local/lib/nltk_data'\n**********************************************************************\n",
      "\nDuring handling of the above exception, another exception occurred:\n",
      "\u001b[0;31mLookupError\u001b[0m                               Traceback (most recent call last)",
      "\u001b[0;32m<timed exec>\u001b[0m in \u001b[0;36m<module>\u001b[0;34m\u001b[0m\n",
      "\u001b[0;32m~/Github/ff_crawler/env/lib/python3.9/site-packages/nltk/stem/wordnet.py\u001b[0m in \u001b[0;36mlemmatize\u001b[0;34m(self, word, pos)\u001b[0m\n\u001b[1;32m     36\u001b[0m \u001b[0;34m\u001b[0m\u001b[0m\n\u001b[1;32m     37\u001b[0m     \u001b[0;32mdef\u001b[0m \u001b[0mlemmatize\u001b[0m\u001b[0;34m(\u001b[0m\u001b[0mself\u001b[0m\u001b[0;34m,\u001b[0m \u001b[0mword\u001b[0m\u001b[0;34m,\u001b[0m \u001b[0mpos\u001b[0m\u001b[0;34m=\u001b[0m\u001b[0mNOUN\u001b[0m\u001b[0;34m)\u001b[0m\u001b[0;34m:\u001b[0m\u001b[0;34m\u001b[0m\u001b[0;34m\u001b[0m\u001b[0m\n\u001b[0;32m---> 38\u001b[0;31m         \u001b[0mlemmas\u001b[0m \u001b[0;34m=\u001b[0m \u001b[0mwordnet\u001b[0m\u001b[0;34m.\u001b[0m\u001b[0m_morphy\u001b[0m\u001b[0;34m(\u001b[0m\u001b[0mword\u001b[0m\u001b[0;34m,\u001b[0m \u001b[0mpos\u001b[0m\u001b[0;34m)\u001b[0m\u001b[0;34m\u001b[0m\u001b[0;34m\u001b[0m\u001b[0m\n\u001b[0m\u001b[1;32m     39\u001b[0m         \u001b[0;32mreturn\u001b[0m \u001b[0mmin\u001b[0m\u001b[0;34m(\u001b[0m\u001b[0mlemmas\u001b[0m\u001b[0;34m,\u001b[0m \u001b[0mkey\u001b[0m\u001b[0;34m=\u001b[0m\u001b[0mlen\u001b[0m\u001b[0;34m)\u001b[0m \u001b[0;32mif\u001b[0m \u001b[0mlemmas\u001b[0m \u001b[0;32melse\u001b[0m \u001b[0mword\u001b[0m\u001b[0;34m\u001b[0m\u001b[0;34m\u001b[0m\u001b[0m\n\u001b[1;32m     40\u001b[0m \u001b[0;34m\u001b[0m\u001b[0m\n",
      "\u001b[0;32m~/Github/ff_crawler/env/lib/python3.9/site-packages/nltk/corpus/util.py\u001b[0m in \u001b[0;36m__getattr__\u001b[0;34m(self, attr)\u001b[0m\n\u001b[1;32m    118\u001b[0m             \u001b[0;32mraise\u001b[0m \u001b[0mAttributeError\u001b[0m\u001b[0;34m(\u001b[0m\u001b[0;34m\"LazyCorpusLoader object has no attribute '__bases__'\"\u001b[0m\u001b[0;34m)\u001b[0m\u001b[0;34m\u001b[0m\u001b[0;34m\u001b[0m\u001b[0m\n\u001b[1;32m    119\u001b[0m \u001b[0;34m\u001b[0m\u001b[0m\n\u001b[0;32m--> 120\u001b[0;31m         \u001b[0mself\u001b[0m\u001b[0;34m.\u001b[0m\u001b[0m__load\u001b[0m\u001b[0;34m(\u001b[0m\u001b[0;34m)\u001b[0m\u001b[0;34m\u001b[0m\u001b[0;34m\u001b[0m\u001b[0m\n\u001b[0m\u001b[1;32m    121\u001b[0m         \u001b[0;31m# This looks circular, but its not, since __load() changes our\u001b[0m\u001b[0;34m\u001b[0m\u001b[0;34m\u001b[0m\u001b[0;34m\u001b[0m\u001b[0m\n\u001b[1;32m    122\u001b[0m         \u001b[0;31m# __class__ to something new:\u001b[0m\u001b[0;34m\u001b[0m\u001b[0;34m\u001b[0m\u001b[0;34m\u001b[0m\u001b[0m\n",
      "\u001b[0;32m~/Github/ff_crawler/env/lib/python3.9/site-packages/nltk/corpus/util.py\u001b[0m in \u001b[0;36m__load\u001b[0;34m(self)\u001b[0m\n\u001b[1;32m     83\u001b[0m                     \u001b[0mroot\u001b[0m \u001b[0;34m=\u001b[0m \u001b[0mnltk\u001b[0m\u001b[0;34m.\u001b[0m\u001b[0mdata\u001b[0m\u001b[0;34m.\u001b[0m\u001b[0mfind\u001b[0m\u001b[0;34m(\u001b[0m\u001b[0;34m\"{}/{}\"\u001b[0m\u001b[0;34m.\u001b[0m\u001b[0mformat\u001b[0m\u001b[0;34m(\u001b[0m\u001b[0mself\u001b[0m\u001b[0;34m.\u001b[0m\u001b[0msubdir\u001b[0m\u001b[0;34m,\u001b[0m \u001b[0mzip_name\u001b[0m\u001b[0;34m)\u001b[0m\u001b[0;34m)\u001b[0m\u001b[0;34m\u001b[0m\u001b[0;34m\u001b[0m\u001b[0m\n\u001b[1;32m     84\u001b[0m                 \u001b[0;32mexcept\u001b[0m \u001b[0mLookupError\u001b[0m\u001b[0;34m:\u001b[0m\u001b[0;34m\u001b[0m\u001b[0;34m\u001b[0m\u001b[0m\n\u001b[0;32m---> 85\u001b[0;31m                     \u001b[0;32mraise\u001b[0m \u001b[0me\u001b[0m\u001b[0;34m\u001b[0m\u001b[0;34m\u001b[0m\u001b[0m\n\u001b[0m\u001b[1;32m     86\u001b[0m \u001b[0;34m\u001b[0m\u001b[0m\n\u001b[1;32m     87\u001b[0m         \u001b[0;31m# Load the corpus.\u001b[0m\u001b[0;34m\u001b[0m\u001b[0;34m\u001b[0m\u001b[0;34m\u001b[0m\u001b[0m\n",
      "\u001b[0;32m~/Github/ff_crawler/env/lib/python3.9/site-packages/nltk/corpus/util.py\u001b[0m in \u001b[0;36m__load\u001b[0;34m(self)\u001b[0m\n\u001b[1;32m     78\u001b[0m         \u001b[0;32melse\u001b[0m\u001b[0;34m:\u001b[0m\u001b[0;34m\u001b[0m\u001b[0;34m\u001b[0m\u001b[0m\n\u001b[1;32m     79\u001b[0m             \u001b[0;32mtry\u001b[0m\u001b[0;34m:\u001b[0m\u001b[0;34m\u001b[0m\u001b[0;34m\u001b[0m\u001b[0m\n\u001b[0;32m---> 80\u001b[0;31m                 \u001b[0mroot\u001b[0m \u001b[0;34m=\u001b[0m \u001b[0mnltk\u001b[0m\u001b[0;34m.\u001b[0m\u001b[0mdata\u001b[0m\u001b[0;34m.\u001b[0m\u001b[0mfind\u001b[0m\u001b[0;34m(\u001b[0m\u001b[0;34m\"{}/{}\"\u001b[0m\u001b[0;34m.\u001b[0m\u001b[0mformat\u001b[0m\u001b[0;34m(\u001b[0m\u001b[0mself\u001b[0m\u001b[0;34m.\u001b[0m\u001b[0msubdir\u001b[0m\u001b[0;34m,\u001b[0m \u001b[0mself\u001b[0m\u001b[0;34m.\u001b[0m\u001b[0m__name\u001b[0m\u001b[0;34m)\u001b[0m\u001b[0;34m)\u001b[0m\u001b[0;34m\u001b[0m\u001b[0;34m\u001b[0m\u001b[0m\n\u001b[0m\u001b[1;32m     81\u001b[0m             \u001b[0;32mexcept\u001b[0m \u001b[0mLookupError\u001b[0m \u001b[0;32mas\u001b[0m \u001b[0me\u001b[0m\u001b[0;34m:\u001b[0m\u001b[0;34m\u001b[0m\u001b[0;34m\u001b[0m\u001b[0m\n\u001b[1;32m     82\u001b[0m                 \u001b[0;32mtry\u001b[0m\u001b[0;34m:\u001b[0m\u001b[0;34m\u001b[0m\u001b[0;34m\u001b[0m\u001b[0m\n",
      "\u001b[0;32m~/Github/ff_crawler/env/lib/python3.9/site-packages/nltk/data.py\u001b[0m in \u001b[0;36mfind\u001b[0;34m(resource_name, paths)\u001b[0m\n\u001b[1;32m    581\u001b[0m     \u001b[0msep\u001b[0m \u001b[0;34m=\u001b[0m \u001b[0;34m\"*\"\u001b[0m \u001b[0;34m*\u001b[0m \u001b[0;36m70\u001b[0m\u001b[0;34m\u001b[0m\u001b[0;34m\u001b[0m\u001b[0m\n\u001b[1;32m    582\u001b[0m     \u001b[0mresource_not_found\u001b[0m \u001b[0;34m=\u001b[0m \u001b[0;34m\"\\n%s\\n%s\\n%s\\n\"\u001b[0m \u001b[0;34m%\u001b[0m \u001b[0;34m(\u001b[0m\u001b[0msep\u001b[0m\u001b[0;34m,\u001b[0m \u001b[0mmsg\u001b[0m\u001b[0;34m,\u001b[0m \u001b[0msep\u001b[0m\u001b[0;34m)\u001b[0m\u001b[0;34m\u001b[0m\u001b[0;34m\u001b[0m\u001b[0m\n\u001b[0;32m--> 583\u001b[0;31m     \u001b[0;32mraise\u001b[0m \u001b[0mLookupError\u001b[0m\u001b[0;34m(\u001b[0m\u001b[0mresource_not_found\u001b[0m\u001b[0;34m)\u001b[0m\u001b[0;34m\u001b[0m\u001b[0;34m\u001b[0m\u001b[0m\n\u001b[0m\u001b[1;32m    584\u001b[0m \u001b[0;34m\u001b[0m\u001b[0m\n\u001b[1;32m    585\u001b[0m \u001b[0;34m\u001b[0m\u001b[0m\n",
      "\u001b[0;31mLookupError\u001b[0m: \n**********************************************************************\n  Resource \u001b[93mwordnet\u001b[0m not found.\n  Please use the NLTK Downloader to obtain the resource:\n\n  \u001b[31m>>> import nltk\n  >>> nltk.download('wordnet')\n  \u001b[0m\n  For more information see: https://www.nltk.org/data.html\n\n  Attempted to load \u001b[93mcorpora/wordnet\u001b[0m\n\n  Searched in:\n    - '/usr/local/google/home/johnkclee/nltk_data'\n    - '/usr/local/google/home/johnkclee/Github/ff_crawler/env/nltk_data'\n    - '/usr/local/google/home/johnkclee/Github/ff_crawler/env/share/nltk_data'\n    - '/usr/local/google/home/johnkclee/Github/ff_crawler/env/lib/nltk_data'\n    - '/usr/share/nltk_data'\n    - '/usr/local/share/nltk_data'\n    - '/usr/lib/nltk_data'\n    - '/usr/local/lib/nltk_data'\n**********************************************************************\n"
     ]
    }
   ],
   "source": [
    "%%time\n",
    "VSET_SERIALIZED_FILENAME = 'reddit_vset.pkl'\n",
    "MIN_V_SIZE = 3\n",
    "BT_KW_SET = {'bt', 'bluetooth'}\n",
    "vset = set()\n",
    "post_list = []\n",
    "\n",
    "for label, td in [(1, 'reddit_post_dumps/pos'), (0, 'reddit_post_dumps/neg')]:\n",
    "    for f in os.listdir(td):\n",
    "        fp = os.path.join(td, f)\n",
    "        post_list.append((label, fp))\n",
    "        title, body, url = read_post_from_file(fp)\n",
    "        text = title + '\\n' + body\n",
    "        for sent in sent_tokenize(text):\n",
    "            words = word_tokenize(sent)\n",
    "            wt_pairs = pos_tag(words)\n",
    "            for w, t in wt_pairs:\n",
    "                w = wnl.lemmatize(w)\n",
    "                if len(w) > MIN_V_SIZE and t.startswith('V'):\n",
    "                    vset.add(w.lower())"
   ]
  },
  {
   "cell_type": "code",
   "execution_count": null,
   "metadata": {},
   "outputs": [],
   "source": [
    "with open(VSET_SERIALIZED_FILENAME, 'wb') as fw:\n",
    "    pickle.dump(vset, fw)\n",
    "    \n",
    "len(vset)"
   ]
  },
  {
   "cell_type": "code",
   "execution_count": null,
   "metadata": {},
   "outputs": [],
   "source": [
    "def file2vec(fp):\n",
    "    '''\n",
    "    Feature vector = [title_wv_300, body_wv_300, ohe_of_vset, num_of_bt, title_wset_size, body_wset_size]\n",
    "    '''\n",
    "    feats = []\n",
    "    title_wset = set()\n",
    "    body_wset = set()\n",
    "    title_vec = np.zeros(300)\n",
    "    body_vec = np.zeros(300)\n",
    "    bt_count = 0\n",
    "    title, body, url = read_post_from_file(fp)\n",
    "    for sent in nltk.sent_tokenize(body):\n",
    "            for w in nltk.tokenize.word_tokenize(sent):\n",
    "                w = w.lower()\n",
    "                if w in BT_KW_SET:\n",
    "                    bt_count += 1\n",
    "                try:\n",
    "                    body_vec += wv[w]\n",
    "                    body_wset.add(wnl.lemmatize(w))                    \n",
    "                except:\n",
    "                    pass\n",
    "                \n",
    "    for w in nltk.tokenize.word_tokenize(title):\n",
    "        w = w.lower()\n",
    "        if w in BT_KW_SET:\n",
    "            bt_count += 1\n",
    "        try:\n",
    "            title_vec += wv[w]\n",
    "            title_wset.add(wnl.lemmatize(w))\n",
    "        except:\n",
    "            pass\n",
    "        \n",
    "    feats.extend(title_vec.copy())\n",
    "    feats.extend(body_vec.copy())    \n",
    "    for v in vset:\n",
    "        if v in body_wset or v in title_wset:\n",
    "            feats.append(1)            \n",
    "        else:\n",
    "            feats.append(0)\n",
    "            \n",
    "    feats.append(bt_count)\n",
    "    feats.append(len(title_wset))\n",
    "    feats.append(len(body_wset))\n",
    "    return feats"
   ]
  },
  {
   "cell_type": "code",
   "execution_count": null,
   "metadata": {},
   "outputs": [],
   "source": [
    "# Check vector size\n",
    "print(f\"Fector of {post_list[0][1]}\")\n",
    "len(file2vec(post_list[0][1]))"
   ]
  },
  {
   "cell_type": "code",
   "execution_count": null,
   "metadata": {},
   "outputs": [],
   "source": [
    "# Build training/testing dataset X, y\n",
    "# Feature vector = [title_wv_300, body_wv_300, ohe_of_vset, num_of_bt]\n",
    "import pandas as pd\n",
    "\n",
    "def get_dataset():\n",
    "    df_columns = []\n",
    "    df_columns.extend([f\"title_wv_{i}\" for i in range(300)])\n",
    "    df_columns.extend([f\"body_wv_{i}\" for i in range(300)])\n",
    "    df_columns.extend([f\"vest_ohe_{i}\" for i in range(len(vset))])\n",
    "    df_columns.append('num_of_bt')\n",
    "    df_columns.append('title_wset_size')\n",
    "    df_columns.append('body_wset_size')\n",
    "    df_columns.append('target')\n",
    "    df_columns.append('source')\n",
    "    rows = []\n",
    "    for label, fp in post_list:\n",
    "        feat = file2vec(fp)\n",
    "        feat.append(label)\n",
    "        feat.append(fp)\n",
    "        rows.append(feat)\n",
    "        \n",
    "    \n",
    "    df = pd.DataFrame(\n",
    "        data=rows, \n",
    "        columns=df_columns\n",
    "    )\n",
    "\n",
    "    X = df.drop(['target', 'source'], axis=1)\n",
    "    y = df['target']\n",
    "    return X, y, df"
   ]
  },
  {
   "cell_type": "code",
   "execution_count": null,
   "metadata": {},
   "outputs": [],
   "source": [
    "# Get training/testing data\n",
    "X, y, df = get_dataset()\n",
    "\n",
    "# split the dataset into train and test sets\n",
    "X_train, X_test, y_train, y_test = train_test_split(X, y, test_size=0.2, random_state=1)\n",
    "X.sample(n=5)"
   ]
  },
  {
   "cell_type": "code",
   "execution_count": null,
   "metadata": {},
   "outputs": [],
   "source": [
    "# Check if there is a scenario of imbalance dataset\n",
    "# More: https://github.com/johnklee/ml_articles/tree/master/others/imbalance_data_by_smote\n",
    "ax = sns.countplot(x='target', data=df)"
   ]
  },
  {
   "cell_type": "code",
   "execution_count": null,
   "metadata": {},
   "outputs": [],
   "source": [
    "# === Now, let's train the classifiers and pickup the best one ===\n",
    "\n",
    "# get a stacking ensemble of models\n",
    "def get_stacking():\n",
    "    # define the base models\n",
    "    level0 = list()\n",
    "    level0.append(('lr', LogisticRegression(solver='liblinear')))\n",
    "    level0.append(('knn', KNeighborsClassifier()))\n",
    "    level0.append(('cart', DecisionTreeClassifier()))\n",
    "    level0.append(('svm', SVC(C=10)))\n",
    "    level0.append(('bayes', GaussianNB()))\n",
    "\n",
    "    # define meta learner model\n",
    "    level1 = LogisticRegression()\n",
    "\n",
    "    # define the stacking ensemble\n",
    "    model = StackingClassifier(estimators=level0, final_estimator=level1, cv=5)\n",
    "    return model"
   ]
  },
  {
   "cell_type": "code",
   "execution_count": null,
   "metadata": {},
   "outputs": [],
   "source": [
    "# get a list of models to evaluate\n",
    "def get_models():\n",
    "    models = dict()\n",
    "    models['lr'] = LogisticRegression(solver='liblinear')\n",
    "    models['knn'] = KNeighborsClassifier()\n",
    "    models['cart'] = DecisionTreeClassifier()\n",
    "    models['svm'] = SVC(C=10)\n",
    "    models['bayes'] = GaussianNB()\n",
    "    models['stacking'] = get_stacking()\n",
    "    return models"
   ]
  },
  {
   "cell_type": "code",
   "execution_count": null,
   "metadata": {},
   "outputs": [],
   "source": [
    "# evaluate a given model using cross-validation\n",
    "def evaluate_model(model, X, y):\n",
    "    cv = RepeatedStratifiedKFold(n_splits=10, n_repeats=3, random_state=1)\n",
    "    scores = cross_val_score(model, X, y, scoring='accuracy', cv=cv, n_jobs=-1, error_score='raise')\n",
    "    return scores"
   ]
  },
  {
   "cell_type": "code",
   "execution_count": null,
   "metadata": {},
   "outputs": [],
   "source": [
    "%%time\n",
    "# define dataset\n",
    "X, y, _ = get_dataset()\n",
    "\n",
    "# get the models to evaluate\n",
    "models = get_models()\n",
    "\n",
    "# evaluate the models and store results\n",
    "results, names = list(), list()\n",
    "for name, model in models.items():\n",
    "    scores = evaluate_model(model, X, y)\n",
    "    results.append(scores)\n",
    "    names.append(name)\n",
    "    print('>%s %.3f (%.3f)' % (name, mean(scores), std(scores)))"
   ]
  },
  {
   "cell_type": "code",
   "execution_count": null,
   "metadata": {},
   "outputs": [],
   "source": [
    "# plot model performance for comparison\n",
    "plt.rcParams['figure.figsize'] = [10, 5]\n",
    "plt.boxplot(results, labels=names, showmeans=True)\n",
    "plt.show()"
   ]
  },
  {
   "cell_type": "markdown",
   "metadata": {},
   "source": [
    "From above, [**stacking**](https://en.wikipedia.org/wiki/Ensemble_learning#Stacking) ([more](https://machinelearningmastery.com/stacking-ensemble-machine-learning-with-python/)) perform the best. Let's check the confusion matrix of it:"
   ]
  },
  {
   "cell_type": "code",
   "execution_count": null,
   "metadata": {},
   "outputs": [],
   "source": [
    "from sklearn.metrics import confusion_matrix\n",
    "import pandas as pd\n",
    "import seaborn as sn\n",
    "import matplotlib.pyplot as plt\n",
    "%matplotlib inline\n",
    "import numpy as np\n",
    "\n",
    "model = get_stacking()\n",
    "model.fit(X_train, y_train)\n",
    "y_pred = model.predict(X_test)\n",
    "y_pred_prob = model.predict_proba(X_test)\n",
    "X_test.sample(n=10)"
   ]
  },
  {
   "cell_type": "code",
   "execution_count": null,
   "metadata": {},
   "outputs": [],
   "source": [
    "for i, (ans, pred, prob) in enumerate(zip(y_test.tolist(), y_pred.tolist(), y_pred_prob.tolist())):\n",
    "    if ans != pred:\n",
    "        print(f\"Ans={ans}; Predict={pred}; Prob={prob[0]:.02f}, {prob[1]:.02f} ({df.iloc[X_test.index[i]].source})\")"
   ]
  },
  {
   "cell_type": "code",
   "execution_count": null,
   "metadata": {},
   "outputs": [],
   "source": [
    "def draw_cm(y_test, y_pred):\n",
    "    ''' Draw Confusion Matrix'''\n",
    "    # https://www.kaggle.com/agungor2/various-confusion-matrix-plots\n",
    "    data = confusion_matrix(y_test, y_pred)\n",
    "    df_cm = pd.DataFrame(data, columns=np.unique(y_test), index = np.unique(y_test))\n",
    "    df_cm.index.name = 'Actual'\n",
    "    df_cm.columns.name = 'Predicted'\n",
    "    plt.figure(figsize = (8,6))\n",
    "    sn.set(font_scale=1.4)#for label size\n",
    "    sn.heatmap(df_cm, cmap=\"Blues\", annot=True,annot_kws={\"size\": 16})# font size"
   ]
  },
  {
   "cell_type": "code",
   "execution_count": null,
   "metadata": {},
   "outputs": [],
   "source": [
    "draw_cm(y_test, y_pred)"
   ]
  },
  {
   "cell_type": "markdown",
   "metadata": {},
   "source": [
    "The confusion matrix of model [LGTM](https://www.dictionary.com/e/acronyms/lgtm/)! Let's seralized the model for future usage:"
   ]
  },
  {
   "cell_type": "code",
   "execution_count": null,
   "metadata": {},
   "outputs": [],
   "source": [
    "import pickle\n",
    "\n",
    "# Retrain the model with full dataset\n",
    "model = get_stacking()\n",
    "model.fit(X, y)\n",
    "\n",
    "POST_CLASSIFIER_PKL_NAME = 'reddit_post_classifier.pkl'\n",
    "with open(POST_CLASSIFIER_PKL_NAME, 'wb') as fw:\n",
    "    pickle.dump(model, fw)"
   ]
  },
  {
   "cell_type": "code",
   "execution_count": null,
   "metadata": {},
   "outputs": [],
   "source": [
    "# Load the serialized model back for evaluation\n",
    "with open(POST_CLASSIFIER_PKL_NAME, 'rb') as fo:\n",
    "    model = pickle.load(fo)\n",
    "    \n",
    "y_pred = model.predict(X_test)\n",
    "y_pred_prob = model.predict_proba(X_test)\n",
    "draw_cm(y_test, y_pred)"
   ]
  },
  {
   "cell_type": "code",
   "execution_count": null,
   "metadata": {},
   "outputs": [],
   "source": [
    "for i, (ans, pred, prob) in enumerate(zip(y_test.tolist(), y_pred.tolist(), y_pred_prob.tolist())):\n",
    "    if ans != pred:\n",
    "        print(f\"Ans={ans}; Predict={pred}; Prob={prob[0]:.02f}, {prob[1]:.02f} ({df.iloc[X_test.index[i]].source})\")"
   ]
  },
  {
   "cell_type": "markdown",
   "metadata": {},
   "source": [
    "### <font color='darkgreen'>CRF </font>\n",
    "Pleae refer to this [notebook](https://nbviewer.jupyter.org/github/johnklee/ml_articles/blob/master/medium/NLP_Guide_Identifying_Part_of_Speech_Tags_using_Conditional_Random_Fields/notebook.ipynb) for more details."
   ]
  },
  {
   "cell_type": "code",
   "execution_count": null,
   "metadata": {},
   "outputs": [],
   "source": [
    "import nltk, re, pprint\n",
    "import numpy as np\n",
    "import pandas as pd\n",
    "import requests\n",
    "import matplotlib.pyplot as plt\n",
    "import seaborn as sns\n",
    "import pprint, time\n",
    "import random\n",
    "from sklearn.model_selection import train_test_split\n",
    "from nltk.tokenize import word_tokenize\n",
    "from sklearn_crfsuite import CRF\n",
    "from sklearn_crfsuite import metrics\n",
    "from sklearn_crfsuite import scorers\n",
    "from sklearn.model_selection import learning_curve\n",
    "from sklearn.model_selection import KFold,StratifiedKFold\n",
    "from collections import Counter\n",
    "import nltk\n",
    "#nltk.download(\"punkt\")"
   ]
  },
  {
   "cell_type": "code",
   "execution_count": null,
   "metadata": {},
   "outputs": [],
   "source": [
    "def is_car_brand(sentence, index):\n",
    "    for car_brand in car_brand_set:\n",
    "        if ' '.join(car_brand) == ' '.join(list(map(lambda w: w.lower(), sentence[index:index+len(car_brand)]))):\n",
    "            return 1\n",
    "        \n",
    "    return 0\n",
    "\n",
    "def crf_features(sentence, index):\n",
    "    ### sentence is of the form [w1,w2,w3,..], index is the position of the word in the sentence\n",
    "    return {\n",
    "        'is_car_brand': is_car_brand(sentence, index),\n",
    "        'is_first_capital':int(sentence[index][0].isupper()),\n",
    "        'is_first_word': int(index==0),\n",
    "        'is_last_word':int(index==len(sentence)-1),\n",
    "        'is_complete_capital': int(sentence[index].upper()==sentence[index]),\n",
    "        'prev_word':'' if index==0 else sentence[index-1],\n",
    "        'prev_2word':'' if index<=1 else ''.join(sentence[index-2:index]),\n",
    "        'prev_3word':'' if index<=2 else ''.join(sentence[index-3:index]),\n",
    "        'next_word':'' if index<=len(sentence)-1 else sentence[index+1],\n",
    "        'next_2word':'' if index<=len(sentence)-2 else sentence[index+1:index+2],\n",
    "        'next_3word':'' if index<=len(sentence)-3 else sentence[index+1:index+3],\n",
    "        'is_numeric':int(sentence[index].isdigit()),\n",
    "        'is_alphanumeric': int(bool((re.match('^(?=.*[0-9]$)(?=.*[a-zA-Z])',sentence[index])))),\n",
    "        'prefix_1':sentence[index][0],\n",
    "        'prefix_2': sentence[index][:2],\n",
    "        'prefix_3':sentence[index][:3],\n",
    "        'prefix_4':sentence[index][:4],\n",
    "        'suffix_1':sentence[index][-1],\n",
    "        'suffix_2':sentence[index][-2:],\n",
    "        'suffix_3':sentence[index][-3:],\n",
    "        'suffix_4':sentence[index][-4:],\n",
    "        'word_has_hyphen': 1 if '-' in sentence[index] else 0  \n",
    "    }"
   ]
  },
  {
   "cell_type": "code",
   "execution_count": null,
   "metadata": {},
   "outputs": [],
   "source": [
    "# See how a sentence is translated into CRF feature vector\n",
    "for ri, r in df.iterrows():\n",
    "    if '\\_a' in r.sentence and '\\_h' in r.sentence:\n",
    "        print(r.sentence)\n",
    "        words_with_label = nltk.tokenize.word_tokenize(r.sentence)\n",
    "        words, tags = [], []\n",
    "        for w in words_with_label:\n",
    "            if w.endswith('\\_h'):\n",
    "                tags.append('c')\n",
    "                w = w [:-3]\n",
    "            elif w.endswith('\\_a'):\n",
    "                tags.append('a')\n",
    "                w = w [:-3]\n",
    "            else:\n",
    "                tags.append('o')\n",
    "            words.append(w)\n",
    "          \n",
    "        print(f\"words: {words}\\nlabels: {tags}\\n\")\n",
    "        feat_4word = [crf_features(words, i) for i in range(len(words))][3]        \n",
    "        print(json.dumps(feat_4word, sort_keys=True, indent=4))\n",
    "        # y.append(tags)\n",
    "        break"
   ]
  },
  {
   "cell_type": "code",
   "execution_count": null,
   "metadata": {},
   "outputs": [],
   "source": [
    "class_names = ['o', 'c', 'a']\n",
    "\n",
    "def get_crf_data():    \n",
    "    X, y = [], []\n",
    "    for ri, r in df.iterrows():\n",
    "        words_with_label = nltk.tokenize.word_tokenize(r.sentence)\n",
    "        words, tags = [], []\n",
    "        for w in words_with_label:\n",
    "            if w.endswith('\\_h'):\n",
    "                tags.append('c')\n",
    "                w = w [:-3]\n",
    "            elif w.endswith('\\_a'):\n",
    "                tags.append('a')\n",
    "                w = w [:-3]\n",
    "            else:\n",
    "                tags.append('o')\n",
    "            words.append(w)\n",
    "            \n",
    "        X.append([crf_features(words, i) for i in range(len(words))])\n",
    "        y.append(tags)\n",
    "        \n",
    "    for f in os.listdir(NEGATIVE_DIR_PATH):\n",
    "        fp = os.path.join(NEGATIVE_DIR_PATH, f)\n",
    "        with open(fp, 'r', encoding='utf8') as fo:\n",
    "            for i in range(4):\n",
    "                fo.readline()  # Skip URL and title\n",
    "                \n",
    "            post_content = fo.read()\n",
    "            sentences = list(filter(lambda s: s, map(lambda s: s.strip(), nltk.sent_tokenize(post_content))))\n",
    "            for sent in sentences:\n",
    "                tokens = nltk.tokenize.word_tokenize(sent)\n",
    "                X.append([crf_features(tokens, i) for i in range(len(tokens))])\n",
    "                y.append(['o'] * len(tokens))\n",
    "                    \n",
    "    return X, y"
   ]
  },
  {
   "cell_type": "code",
   "execution_count": null,
   "metadata": {},
   "outputs": [],
   "source": [
    "# https://ithelp.ithome.com.tw/articles/10222958\n",
    "def plot_learning_curve(estimator, title, X, y, ylim=None, cv=None,\n",
    "                        n_jobs=-1, train_sizes=np.linspace(.1, 1.0, 5)):\n",
    "    \"\"\"\n",
    "    Generate a simple plot of the test and training learning curve.\n",
    "\n",
    "    Parameters\n",
    "    ----------\n",
    "    estimator : object type that implements the \"fit\" and \"predict\" methods\n",
    "        An object of that type which is cloned for each validation.\n",
    "\n",
    "    title : string\n",
    "        Title for the chart.\n",
    "\n",
    "    X : array-like, shape (n_samples, n_features)\n",
    "        Training vector, where n_samples is the number of samples and\n",
    "        n_features is the number of features.\n",
    "\n",
    "    y : array-like, shape (n_samples) or (n_samples, n_features), optional\n",
    "        Target relative to X for classification or regression;\n",
    "        None for unsupervised learning.\n",
    "\n",
    "    ylim : tuple, shape (ymin, ymax), optional\n",
    "        Defines minimum and maximum yvalues plotted.\n",
    "\n",
    "    cv : int, cross-validation generator or an iterable, optional\n",
    "        Determines the cross-validation splitting strategy.\n",
    "        Possible inputs for cv are:\n",
    "          - None, to use the default 3-fold cross-validation,\n",
    "          - integer, to specify the number of folds.\n",
    "          - An object to be used as a cross-validation generator.\n",
    "          - An iterable yielding train/test splits.\n",
    "\n",
    "        For integer/None inputs, if ``y`` is binary or multiclass,\n",
    "        :class:`StratifiedKFold` used. If the estimator is not a classifier\n",
    "        or if ``y`` is neither binary nor multiclass, :class:`KFold` is used.\n",
    "\n",
    "        Refer :ref:`User Guide <cross_validation>` for the various\n",
    "        cross-validators that can be used here.\n",
    "\n",
    "    n_jobs : integer, optional\n",
    "        Number of jobs to run in parallel (default 1).\n",
    "    \"\"\"\n",
    "    plt.figure(figsize=(12,6))  #調整圖的大小\n",
    "    plt.title(title)\n",
    "    if ylim is not None:\n",
    "        plt.ylim(*ylim)\n",
    "    plt.xlabel(\"Training examples\")\n",
    "    plt.ylabel(\"Score\")\n",
    "    train_sizes, train_scores, test_scores = learning_curve(\n",
    "        estimator, \n",
    "        X, \n",
    "        y, \n",
    "        cv=cv, \n",
    "        n_jobs=n_jobs, \n",
    "        train_sizes=train_sizes\n",
    "    )\n",
    "    train_scores_mean = np.mean(train_scores, axis=1)\n",
    "    train_scores_std = np.std(train_scores, axis=1)\n",
    "    test_scores_mean = np.mean(test_scores, axis=1)\n",
    "    test_scores_std = np.std(test_scores, axis=1)\n",
    "    plt.grid()\n",
    "\n",
    "    plt.fill_between(train_sizes, train_scores_mean - train_scores_std,\n",
    "                     train_scores_mean + train_scores_std, alpha=0.1,\n",
    "                     color=\"r\")\n",
    "    plt.fill_between(train_sizes, test_scores_mean - test_scores_std,\n",
    "                     test_scores_mean + test_scores_std, alpha=0.1, color=\"g\")\n",
    "    plt.plot(train_sizes, train_scores_mean, 'o-', color=\"r\",\n",
    "             label=\"Training score\")\n",
    "    plt.plot(train_sizes, test_scores_mean, 'o-', color=\"g\",\n",
    "             label=\"Cross-validation score\")\n",
    "\n",
    "    plt.legend(loc=\"best\")\n",
    "    return plt"
   ]
  },
  {
   "cell_type": "code",
   "execution_count": null,
   "metadata": {},
   "outputs": [],
   "source": [
    "X, y = get_crf_data()\n",
    "print(f\"We total have {len(X):,d} records for training!\")"
   ]
  },
  {
   "cell_type": "code",
   "execution_count": null,
   "metadata": {},
   "outputs": [],
   "source": [
    "def crf_train_test_split(X, y, test_size, random_state=RANDOM_STATE):\n",
    "    X_train, X_test, y_train, y_test = [], [], [], []\n",
    "    yi_has_ca_label = []\n",
    "    yi_only_o_label = []\n",
    "    for yi in range(len(y)):\n",
    "        y_labels = y[yi]\n",
    "        if all(list(map(lambda t: t=='0', y_labels))):\n",
    "            yi_only_o_label.append(yi)\n",
    "        else:\n",
    "            yi_has_ca_label.append(yi)\n",
    "            \n",
    "    random.seed(random_state)\n",
    "    for yi_group in [yi_has_ca_label, yi_only_o_label]:\n",
    "        for i in yi_group:\n",
    "            if random.random() > test_size:\n",
    "                X_train.append(X[i])\n",
    "                y_train.append(y[i])\n",
    "            else:\n",
    "                X_test.append(X[i])\n",
    "                y_test.append(y[i])\n",
    "                \n",
    "    return X_train, X_test, y_train, y_test"
   ]
  },
  {
   "cell_type": "code",
   "execution_count": null,
   "metadata": {},
   "outputs": [],
   "source": [
    "X_train, X_test, y_train, y_test = crf_train_test_split(X, y, 0.2)"
   ]
  },
  {
   "cell_type": "code",
   "execution_count": null,
   "metadata": {},
   "outputs": [],
   "source": [
    "%%time\n",
    "crf = CRF(\n",
    "    algorithm='lbfgs',\n",
    "    c1=0.01,\n",
    "    c2=0.1,\n",
    "    max_iterations=100,\n",
    "    all_possible_transitions=True\n",
    ")\n",
    "\n",
    "crf.fit(X_train, y_train)"
   ]
  },
  {
   "cell_type": "code",
   "execution_count": null,
   "metadata": {},
   "outputs": [],
   "source": [
    "y_pred=crf.predict(X_test)\n",
    "print(\"F1 score on Test Data \")\n",
    "print(f\"{metrics.flat_f1_score(y_test, y_pred,average='weighted', labels=crf.classes_):.05f}\")\n",
    "\n",
    "### Look at class wise score\n",
    "print(metrics.flat_classification_report(\n",
    "    y_test, y_pred, labels=crf.classes_, digits=3\n",
    "))"
   ]
  },
  {
   "cell_type": "code",
   "execution_count": null,
   "metadata": {},
   "outputs": [],
   "source": [
    "y_test_1d, y_pred_1d = [], []\n",
    "for yorig, ynew in [(y_test, y_test_1d), (y_pred, y_pred_1d)]:\n",
    "    for tags in yorig:\n",
    "        for t in tags:\n",
    "            ynew.append(t)\n",
    "            \n",
    "data = confusion_matrix(y_test_1d, y_pred_1d)\n",
    "df_cm = pd.DataFrame(data, columns=np.unique(y_test_1d), index = np.unique(y_test_1d))\n",
    "df_cm.index.name = 'Actual'\n",
    "df_cm.columns.name = 'Predicted'\n",
    "plt.figure(figsize = (7,5))\n",
    "sn.set(font_scale=1.4)#for label size\n",
    "sn.heatmap(df_cm, cmap=\"Blues\", annot=True,annot_kws={\"size\": 16})# font size"
   ]
  },
  {
   "cell_type": "code",
   "execution_count": null,
   "metadata": {},
   "outputs": [],
   "source": [
    "print(\"Number of Transition Features \")\n",
    "len(crf.transition_features_)"
   ]
  },
  {
   "cell_type": "code",
   "execution_count": null,
   "metadata": {},
   "outputs": [],
   "source": [
    "Counter(crf.transition_features_).most_common(20)"
   ]
  },
  {
   "cell_type": "code",
   "execution_count": null,
   "metadata": {},
   "outputs": [],
   "source": [
    "print(\"Number of State Features \",len(crf.state_features_))"
   ]
  },
  {
   "cell_type": "code",
   "execution_count": null,
   "metadata": {},
   "outputs": [],
   "source": [
    "Counter(crf.state_features_).most_common(20)"
   ]
  },
  {
   "cell_type": "markdown",
   "metadata": {},
   "source": [
    "Next, let's check how model improve along with the increase of training data size:"
   ]
  },
  {
   "cell_type": "code",
   "execution_count": null,
   "metadata": {},
   "outputs": [],
   "source": [
    "%%time\n",
    "cv = KFold(\n",
    "    n_splits=5,\n",
    "    random_state=RANDOM_STATE, \n",
    "    shuffle=True\n",
    ")\n",
    "\n",
    "estimator = crf\n",
    "\n",
    "plot_learning_curve(\n",
    "    estimator, \"CRF\",\n",
    "    X, \n",
    "    y, \n",
    "    cv=cv, \n",
    "    train_sizes=np.linspace(0.2, 1.0, 10)\n",
    ")"
   ]
  },
  {
   "cell_type": "markdown",
   "metadata": {},
   "source": [
    "#### Evaluation of model manually\n",
    "Let's feed in our own sentence(s) and check how model perform in real world:"
   ]
  },
  {
   "cell_type": "code",
   "execution_count": null,
   "metadata": {},
   "outputs": [],
   "source": [
    "def sent2crf_feature(sent):\n",
    "    words = list(nltk.tokenize.word_tokenize(sent))\n",
    "    sent_crf_feat = [crf_features(words, i) for i in range(len(words))]\n",
    "    return words, [sent_crf_feat]\n",
    "\n",
    "\n",
    "def predict(sent):\n",
    "    words, crf_feats = sent2crf_feature(sent)\n",
    "    tags = crf.predict(crf_feats)[0]\n",
    "    print(f\"words={words}\\ntags={tags}\\n\")\n",
    "    colorful_words = []\n",
    "    for w, t in zip(words, tags):\n",
    "        if t == 'c':\n",
    "            w = f\"{color.BOLD}{color.BLUE}{w}{color.END}\"\n",
    "        elif t == 'a':\n",
    "            w = f\"{color.BOLD}{color.RED}{w}{color.END}\"        \n",
    "            \n",
    "        colorful_words.append(w)\n",
    "    \n",
    "    print(\" \".join(colorful_words))\n",
    "    "
   ]
  },
  {
   "cell_type": "code",
   "execution_count": null,
   "metadata": {},
   "outputs": [],
   "source": [
    "my_sent=\"My car MAZDA MX-5 RF has bluetooth pairing issue.\"\n",
    "predict(my_sent)"
   ]
  },
  {
   "cell_type": "code",
   "execution_count": null,
   "metadata": {},
   "outputs": [],
   "source": [
    "my_sent=\"Though my 2015 Subaru connected just fine even w/o needing that step.\"\n",
    "predict(my_sent)"
   ]
  },
  {
   "cell_type": "code",
   "execution_count": null,
   "metadata": {},
   "outputs": [],
   "source": [
    "my_sent=\"I’ve had exactly the same results with a ‘20 Chevy. \"\n",
    "predict(my_sent)"
   ]
  },
  {
   "cell_type": "markdown",
   "metadata": {},
   "source": [
    "## <font color='darkblue'>Supplement</font>\n",
    "* [All Car Brands](https://www.carlogos.org/car-brands/)\n",
    "* [FAQ - How to handle unknown word in Gensim?](https://stackoverflow.com/questions/54709178/how-to-handle-words-that-are-not-in-word2vecs-vocab-optimally)\n",
    "* [FAQ - How to use PRAW to read the newest post from a subreddit and display the body?](https://www.reddit.com/r/learnpython/comments/90asqi/how_to_use_praw_to_read_the_newest_post_from_a/)\n",
    "* [FAQ - python - AttributeError : 'str' object has no attribute 'decode' in fitting Logistic Regression Model](https://www.coder.work/article/7535477)"
   ]
  }
 ],
 "metadata": {
  "kernelspec": {
   "display_name": "Python 3",
   "language": "python",
   "name": "python3"
  },
  "language_info": {
   "codemirror_mode": {
    "name": "ipython",
    "version": 3
   },
   "file_extension": ".py",
   "mimetype": "text/x-python",
   "name": "python",
   "nbconvert_exporter": "python",
   "pygments_lexer": "ipython3",
   "version": "3.9.2"
  }
 },
 "nbformat": 4,
 "nbformat_minor": 4
}
