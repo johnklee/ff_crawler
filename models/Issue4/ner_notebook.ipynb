{
 "cells": [
  {
   "cell_type": "markdown",
   "metadata": {},
   "source": [
    "<a id='sect0'></a>\n",
    "## <font color='darkblue'>Preface</font>\n",
    "From [**Issue4**](https://github.com/johnklee/ff_crawler/issues/4), we are going to work on the model to extract NER from article/post of Reddit based on inital labelled document [here](https://docs.google.com/document/d/1ACU5iDe6QkLZuMzyzaR0e_TUtw8Bht_IvQpO6_AZuCI/edit?usp=sharing&resourcekey=0-7WPgbTf3MfSIWZnIugZjxg):\n",
    "* <font color='orange'>**Pixel phone model**</font>: T1\n",
    "* <font color='green'>**Remote model**</font>: T2\n",
    "* <font color='LightCoral'>**Symptom**</font>: T3\n",
    "* <font color='Indigo'>**Recover way**</font>: T4\n",
    "* <font color='LightSkyBlue'>**Build**</font>: T5\n",
    "* <font color='Khaki'>**Reference phone**</font>: T6"
   ]
  },
  {
   "cell_type": "code",
   "execution_count": 1,
   "metadata": {},
   "outputs": [],
   "source": [
    "import os\n",
    "import json\n",
    "import pandas as pd\n",
    "import seaborn as sn\n",
    "from sklearn.metrics import confusion_matrix\n",
    "pd.set_option('display.max_colwidth', None)\n",
    "\n",
    "RANDOM_STATE = 1\n",
    "TEST_SIZE = 0.2\n",
    "\n",
    "# https://www.w3schools.com/colors/colors_names.asp\n",
    "# https://gist.github.com/jonsuh/3c89c004888dfc7352be\n",
    "class color:\n",
    "   LIGHTCORAL='\\033[38;2;240;128;128m'\n",
    "   LIGHTSKYBLUE='\\033[38;2;135;206;250m'\n",
    "   KHAKI='\\033[38;2;240;230;140m'\n",
    "   INDIGO='\\033[38;2;72;0;130m'\n",
    "   ORANGE='\\033[38;2;255;165;0m'\n",
    "   LIGHTRED='\\033[1;31m'\n",
    "   PURPLE = '\\033[95m'\n",
    "   CYAN = '\\033[96m'\n",
    "   DARKCYAN = '\\033[36m'\n",
    "   BLUE = '\\033[94m'\n",
    "   GREEN = '\\033[92m'\n",
    "   YELLOW = '\\033[93m'\n",
    "   RED = '\\033[91m'\n",
    "   BOLD = '\\033[1m'\n",
    "   UNDERLINE = '\\033[4m'\n",
    "   END = '\\033[0m'"
   ]
  },
  {
   "cell_type": "markdown",
   "metadata": {},
   "source": [
    "### <font color='darkgreen'>Agenda</font>\n",
    "* <font size='3ptx'>[**Data Set**](#sect1)</font>\n",
    "* <font size='3ptx'>[**Reddit APIs**](#sect2)</font>\n",
    "  * [PRAW APIs to pull posts](#sect2_1)\n",
    "* <font size='3ptx'>[**Word2vec Solution**](#sect3)</font>\n",
    "* <font size='3ptx'>[**ML Models**](#sect4)</font>"
   ]
  },
  {
   "cell_type": "markdown",
   "metadata": {},
   "source": [
    "## <font color='darkblue'>Data Set</font> ([back](#sect0))\n",
    "We collect and label our data from dumped data [here](https://drive.google.com/file/d/1LTyPKtafRQnQp-DslpjBM5QUWoxAtSTY/view?usp=sharing). Let's load labelling data back for future process:"
   ]
  },
  {
   "cell_type": "code",
   "execution_count": 2,
   "metadata": {},
   "outputs": [
    {
     "data": {
      "text/html": [
       "<div>\n",
       "<style scoped>\n",
       "    .dataframe tbody tr th:only-of-type {\n",
       "        vertical-align: middle;\n",
       "    }\n",
       "\n",
       "    .dataframe tbody tr th {\n",
       "        vertical-align: top;\n",
       "    }\n",
       "\n",
       "    .dataframe thead th {\n",
       "        text-align: right;\n",
       "    }\n",
       "</style>\n",
       "<table border=\"1\" class=\"dataframe\">\n",
       "  <thead>\n",
       "    <tr style=\"text-align: right;\">\n",
       "      <th></th>\n",
       "      <th>source</th>\n",
       "      <th>sentence</th>\n",
       "    </tr>\n",
       "  </thead>\n",
       "  <tbody>\n",
       "    <tr>\n",
       "      <th>0</th>\n",
       "      <td>https://www.reddit.com/r/GooglePixel/comments/kspwba/bluetooth_is_terrible/</td>\n",
       "      <td>My P4a5g\\_T1 keeps having bluetooth problems .</td>\n",
       "    </tr>\n",
       "    <tr>\n",
       "      <th>1</th>\n",
       "      <td>https://www.reddit.com/r/GooglePixel/comments/kspwba/bluetooth_is_terrible/</td>\n",
       "      <td>I have the sony\\_T2 wh-1000mx4\\_T2 and they just keep\\_T3 disconnecting\\_T3 .</td>\n",
       "    </tr>\n",
       "    <tr>\n",
       "      <th>2</th>\n",
       "      <td>https://www.reddit.com/r/GooglePixel/comments/kspwba/bluetooth_is_terrible/</td>\n",
       "      <td>But once I pause\\_T3 the\\_T3 media\\_T3 it\\_T3 disconnects\\_T3 and I have to restart\\_T4 the\\_T4 bluetooth\\_T4 on\\_T4 my\\_T4 phone\\_T4 to\\_T4 get\\_T4 it\\_T4 to\\_T4 reconnect\\_T4 .</td>\n",
       "    </tr>\n",
       "    <tr>\n",
       "      <th>3</th>\n",
       "      <td>https://www.reddit.com/r/GooglePixel/comments/kspwba/bluetooth_is_terrible/</td>\n",
       "      <td>Does anyone else having this problem or are my settings wrong somewhere .</td>\n",
       "    </tr>\n",
       "    <tr>\n",
       "      <th>4</th>\n",
       "      <td>https://www.reddit.com/r/GooglePixel/comments/lgofla/pixel_4a_5g_bluetooth_issues/</td>\n",
       "      <td>Pixel\\_T1 4a\\_T1 5g\\_T1 Bluetooth issues</td>\n",
       "    </tr>\n",
       "  </tbody>\n",
       "</table>\n",
       "</div>"
      ],
      "text/plain": [
       "                                                                               source  \\\n",
       "0         https://www.reddit.com/r/GooglePixel/comments/kspwba/bluetooth_is_terrible/   \n",
       "1         https://www.reddit.com/r/GooglePixel/comments/kspwba/bluetooth_is_terrible/   \n",
       "2         https://www.reddit.com/r/GooglePixel/comments/kspwba/bluetooth_is_terrible/   \n",
       "3         https://www.reddit.com/r/GooglePixel/comments/kspwba/bluetooth_is_terrible/   \n",
       "4  https://www.reddit.com/r/GooglePixel/comments/lgofla/pixel_4a_5g_bluetooth_issues/   \n",
       "\n",
       "                                                                                                                                                                             sentence  \n",
       "0                                                                                                                                      My P4a5g\\_T1 keeps having bluetooth problems .  \n",
       "1                                                                                                       I have the sony\\_T2 wh-1000mx4\\_T2 and they just keep\\_T3 disconnecting\\_T3 .  \n",
       "2  But once I pause\\_T3 the\\_T3 media\\_T3 it\\_T3 disconnects\\_T3 and I have to restart\\_T4 the\\_T4 bluetooth\\_T4 on\\_T4 my\\_T4 phone\\_T4 to\\_T4 get\\_T4 it\\_T4 to\\_T4 reconnect\\_T4 .  \n",
       "3                                                                                                           Does anyone else having this problem or are my settings wrong somewhere .  \n",
       "4                                                                                                                                            Pixel\\_T1 4a\\_T1 5g\\_T1 Bluetooth issues  "
      ]
     },
     "execution_count": 2,
     "metadata": {},
     "output_type": "execute_result"
    }
   ],
   "source": [
    "df = pd.read_csv(\"issue4_data.csv\")\n",
    "df.head()"
   ]
  },
  {
   "cell_type": "code",
   "execution_count": 3,
   "metadata": {},
   "outputs": [
    {
     "name": "stdout",
     "output_type": "stream",
     "text": [
      "My \u001b[1m\u001b[38;2;255;165;0mP4a5g\u001b[0m keeps having bluetooth problems .\n",
      "I have the \u001b[1m\u001b[92msony\u001b[0m \u001b[1m\u001b[92mwh-1000mx4\u001b[0m and they just \u001b[1m\u001b[38;2;240;128;128mkeep\u001b[0m \u001b[1m\u001b[38;2;240;128;128mdisconnecting\u001b[0m .\n",
      "But once I \u001b[1m\u001b[38;2;240;128;128mpause\u001b[0m \u001b[1m\u001b[38;2;240;128;128mthe\u001b[0m \u001b[1m\u001b[38;2;240;128;128mmedia\u001b[0m \u001b[1m\u001b[38;2;240;128;128mit\u001b[0m \u001b[1m\u001b[38;2;240;128;128mdisconnects\u001b[0m and I have to \u001b[1m\u001b[38;2;72;0;130mrestart\u001b[0m \u001b[1m\u001b[38;2;72;0;130mthe\u001b[0m \u001b[1m\u001b[38;2;72;0;130mbluetooth\u001b[0m \u001b[1m\u001b[38;2;72;0;130mon\u001b[0m \u001b[1m\u001b[38;2;72;0;130mmy\u001b[0m \u001b[1m\u001b[38;2;72;0;130mphone\u001b[0m \u001b[1m\u001b[38;2;72;0;130mto\u001b[0m \u001b[1m\u001b[38;2;72;0;130mget\u001b[0m \u001b[1m\u001b[38;2;72;0;130mit\u001b[0m \u001b[1m\u001b[38;2;72;0;130mto\u001b[0m \u001b[1m\u001b[38;2;72;0;130mreconnect\u001b[0m .\n",
      "Does anyone else having this problem or are my settings wrong somewhere .\n",
      "\u001b[1m\u001b[38;2;255;165;0mPixel\u001b[0m \u001b[1m\u001b[38;2;255;165;0m4a\u001b[0m \u001b[1m\u001b[38;2;255;165;0m5g\u001b[0m Bluetooth issues\n",
      "I have been having \u001b[1m\u001b[38;2;240;128;128missues\u001b[0m \u001b[1m\u001b[38;2;240;128;128mwith\u001b[0m \u001b[1m\u001b[38;2;240;128;128mBluetooth\u001b[0m \u001b[1m\u001b[38;2;240;128;128mconnectivity\u001b[0m with the new \u001b[1m\u001b[38;2;255;165;0mpixel\u001b[0m \u001b[1m\u001b[38;2;255;165;0m4a\u001b[0m \u001b[1m\u001b[38;2;255;165;0m5g\u001b[0m .\n",
      "1st it started with my \u001b[1m\u001b[92mFitbit\u001b[0m where \u001b[1m\u001b[38;2;240;128;128mthe\u001b[0m \u001b[1m\u001b[38;2;240;128;128mapp\u001b[0m \u001b[1m\u001b[38;2;240;128;128mwould\u001b[0m \u001b[1m\u001b[38;2;240;128;128moccasionally\u001b[0m \u001b[1m\u001b[38;2;240;128;128mnot\u001b[0m \u001b[1m\u001b[38;2;240;128;128mfind\u001b[0m \u001b[1m\u001b[38;2;240;128;128mthe\u001b[0m \u001b[1m\u001b[38;2;240;128;128mdevice\u001b[0m and I would need to \u001b[1m\u001b[38;2;72;0;130mforget\u001b[0m \u001b[1m\u001b[38;2;72;0;130mand\u001b[0m \u001b[1m\u001b[38;2;72;0;130madd\u001b[0m \u001b[1m\u001b[38;2;72;0;130mthe\u001b[0m \u001b[1m\u001b[38;2;72;0;130mFitbit\u001b[0m \u001b[1m\u001b[38;2;72;0;130magain\u001b[0m .\n",
      "More recently it has issues where the \u001b[1m\u001b[38;2;240;128;128mBluetooth\u001b[0m \u001b[1m\u001b[38;2;240;128;128mconnection\u001b[0m \u001b[1m\u001b[38;2;240;128;128mto\u001b[0m \u001b[1m\u001b[38;2;240;128;128mcar\u001b[0m \u001b[1m\u001b[38;2;240;128;128maudio\u001b[0m \u001b[1m\u001b[38;2;240;128;128mor\u001b[0m \u001b[1m\u001b[38;2;240;128;128mwireless\u001b[0m \u001b[1m\u001b[38;2;240;128;128mearphones\u001b[0m \u001b[1m\u001b[38;2;240;128;128mkeeps\u001b[0m \u001b[1m\u001b[38;2;240;128;128mdropping\u001b[0m \u001b[1m\u001b[38;2;240;128;128mwhenever\u001b[0m \u001b[1m\u001b[38;2;240;128;128mI\u001b[0m \u001b[1m\u001b[38;2;240;128;128mswitch\u001b[0m \u001b[1m\u001b[38;2;240;128;128mbetween\u001b[0m \u001b[1m\u001b[38;2;240;128;128mapps\u001b[0m \u001b[1m\u001b[38;2;240;128;128mlike\u001b[0m \u001b[1m\u001b[38;2;240;128;128mspotify\u001b[0m \u001b[1m\u001b[38;2;240;128;128mand\u001b[0m \u001b[1m\u001b[38;2;240;128;128mGoogle\u001b[0m \u001b[1m\u001b[38;2;240;128;128mmaps\u001b[0m \u001b[1m\u001b[38;2;240;128;128mor\u001b[0m \u001b[1m\u001b[38;2;240;128;128mpodcasts\u001b[0m \u001b[1m\u001b[38;2;240;128;128mand\u001b[0m \u001b[1m\u001b[38;2;240;128;128mStrava\u001b[0m .\n",
      "\u001b[1m\u001b[38;2;255;165;0mPixel\u001b[0m \u001b[1m\u001b[38;2;255;165;0m4a\u001b[0m \u001b[1m\u001b[38;2;255;165;0m5g\u001b[0m \u001b[1m\u001b[38;2;240;128;128mconstantly\u001b[0m \u001b[1m\u001b[38;2;240;128;128mdropping\u001b[0m \u001b[1m\u001b[38;2;240;128;128mbluetooth\u001b[0m\n",
      "Both my \u001b[1m\u001b[92mBose\u001b[0m \u001b[1m\u001b[92mQC\u001b[0m \u001b[1m\u001b[92m35\u001b[0m headphones and a \u001b[1m\u001b[92mbluetooth\u001b[0m \u001b[1m\u001b[92mspeaker\u001b[0m \u001b[1m\u001b[38;2;240;128;128mdisconnect\u001b[0m \u001b[1m\u001b[38;2;240;128;128mand\u001b[0m \u001b[1m\u001b[38;2;240;128;128mreconnect\u001b[0m \u001b[1m\u001b[38;2;240;128;128mwhen\u001b[0m \u001b[1m\u001b[38;2;240;128;128mno\u001b[0m \u001b[1m\u001b[38;2;240;128;128maudio\u001b[0m \u001b[1m\u001b[38;2;240;128;128mis\u001b[0m \u001b[1m\u001b[38;2;240;128;128mplaying\u001b[0m .\n",
      "This did not happen on my \u001b[1m\u001b[38;2;240;230;140mPixel\u001b[0m \u001b[1m\u001b[38;2;240;230;140m3a\u001b[0m , \u001b[1m\u001b[38;2;240;230;140mNexus\u001b[0m \u001b[1m\u001b[38;2;240;230;140m6P\u001b[0m or \u001b[1m\u001b[38;2;240;230;140mGalaxy\u001b[0m \u001b[1m\u001b[38;2;240;230;140mS7\u001b[0m .\n",
      "Song information over Bluetooth with \u001b[1m\u001b[38;2;255;165;0mPixel\u001b[0m \u001b[1m\u001b[38;2;255;165;0m5\u001b[0m ?\n",
      "Has anyone with \u001b[1m\u001b[92mFord\u001b[0m \u001b[1m\u001b[92msync\u001b[0m in their car had any luck getting song titles and info to appear on their infotainment system ?\n",
      "Whenever I connect my phone over Bluetooth , \u001b[1m\u001b[38;2;240;128;128mthe\u001b[0m \u001b[1m\u001b[38;2;240;128;128mmedia\u001b[0m \u001b[1m\u001b[38;2;240;128;128mplayer\u001b[0m \u001b[1m\u001b[38;2;240;128;128mdetects\u001b[0m \u001b[1m\u001b[38;2;240;128;128mwhatever\u001b[0m \u001b[1m\u001b[38;2;240;128;128mmedia\u001b[0m \u001b[1m\u001b[38;2;240;128;128mI'm\u001b[0m \u001b[1m\u001b[38;2;240;128;128mplaying\u001b[0m \u001b[1m\u001b[38;2;240;128;128mas\u001b[0m \u001b[1m\u001b[38;2;240;128;128mjust\u001b[0m \" \u001b[1m\u001b[38;2;255;165;0mPixel\u001b[0m \u001b[1m\u001b[38;2;255;165;0m5\u001b[0m \" .\n",
      "Normally I would assume that this is just how the Sync OS handled metadata over Bluetooth and call it a day, but my \u001b[1m\u001b[38;2;240;230;140mold\u001b[0m \u001b[1m\u001b[38;2;240;230;140mPixel\u001b[0m \u001b[1m\u001b[38;2;240;230;140m3\u001b[0m displayed the info correctly so I'm wondering if there is anything I could do on my end to fix this ?\n",
      "Hi all , I recently switched to a \u001b[1m\u001b[38;2;255;165;0mPixel\u001b[0m \u001b[1m\u001b[38;2;255;165;0m5\u001b[0m from my old trusty 2XL, and I'm trying to switch over my \u001b[1m\u001b[92mFossil\u001b[0m \u001b[1m\u001b[92mSport\u001b[0m \u001b[1m\u001b[92msmartwatch\u001b[0m to my new phone .\n",
      "Unfortunately, I'm having an \u001b[1m\u001b[38;2;240;128;128missue\u001b[0m \u001b[1m\u001b[38;2;240;128;128mwhere\u001b[0m \u001b[1m\u001b[38;2;240;128;128mwhen\u001b[0m \u001b[1m\u001b[38;2;240;128;128mI\u001b[0m \u001b[1m\u001b[38;2;240;128;128mtry\u001b[0m \u001b[1m\u001b[38;2;240;128;128mconnecting\u001b[0m \u001b[1m\u001b[38;2;240;128;128mmy\u001b[0m \u001b[1m\u001b[38;2;240;128;128mwatch\u001b[0m \u001b[1m\u001b[38;2;240;128;128mto\u001b[0m \u001b[1m\u001b[38;2;240;128;128mmy\u001b[0m \u001b[1m\u001b[38;2;240;128;128mpixel\u001b[0m , \u001b[1m\u001b[38;2;240;128;128mthe\u001b[0m \u001b[1m\u001b[38;2;240;128;128mwatch\u001b[0m \u001b[1m\u001b[38;2;240;128;128mgets\u001b[0m \u001b[1m\u001b[38;2;240;128;128mstuck\u001b[0m \u001b[1m\u001b[38;2;240;128;128mat\u001b[0m \u001b[1m\u001b[38;2;240;128;128mthe\u001b[0m \u001b[1m\u001b[38;2;240;128;128mpairing\u001b[0m \u001b[1m\u001b[38;2;240;128;128mscreen\u001b[0m , \u001b[1m\u001b[38;2;240;128;128mwhen\u001b[0m \u001b[1m\u001b[38;2;240;128;128mit\u001b[0m \u001b[1m\u001b[38;2;240;128;128mshows\u001b[0m \u001b[1m\u001b[38;2;240;128;128ma\u001b[0m \u001b[1m\u001b[38;2;240;128;128m6-digit\u001b[0m \u001b[1m\u001b[38;2;240;128;128mstring\u001b[0m \u001b[1m\u001b[38;2;240;128;128mand\u001b[0m \" \u001b[1m\u001b[38;2;255;165;0mpixel\u001b[0m \u001b[1m\u001b[38;2;255;165;0m5\u001b[0m \u001b[1m\u001b[38;2;240;128;128mwould\u001b[0m \u001b[1m\u001b[38;2;240;128;128mlike\u001b[0m \u001b[1m\u001b[38;2;240;128;128mto\u001b[0m \u001b[1m\u001b[38;2;240;128;128mconnect\u001b[0m \" .\n",
      "\u001b[1m\u001b[38;2;240;128;128mMy\u001b[0m \u001b[1m\u001b[38;2;240;128;128mphone\u001b[0m \u001b[1m\u001b[38;2;240;128;128mshows\u001b[0m \u001b[1m\u001b[38;2;240;128;128mthe\u001b[0m \u001b[1m\u001b[38;2;240;128;128mmatching\u001b[0m \u001b[1m\u001b[38;2;240;128;128mpairing\u001b[0m \u001b[1m\u001b[38;2;240;128;128mprompt\u001b[0m \u001b[1m\u001b[38;2;240;128;128mas\u001b[0m \u001b[1m\u001b[38;2;240;128;128mexpected\u001b[0m , \u001b[1m\u001b[38;2;240;128;128mbut\u001b[0m \u001b[1m\u001b[38;2;240;128;128mthe\u001b[0m \u001b[1m\u001b[38;2;240;128;128mwatch\u001b[0m \u001b[1m\u001b[38;2;240;128;128mdoesn't\u001b[0m \u001b[1m\u001b[38;2;240;128;128mshow\u001b[0m \u001b[1m\u001b[38;2;240;128;128mthe\u001b[0m \u001b[1m\u001b[38;2;240;128;128musual\u001b[0m \u001b[1m\u001b[38;2;240;128;128m✓\u001b[0m \u001b[1m\u001b[38;2;240;128;128mand\u001b[0m \u001b[1m\u001b[38;2;240;128;128mX\u001b[0m \u001b[1m\u001b[38;2;240;128;128micons\u001b[0m \u001b[1m\u001b[38;2;240;128;128mon\u001b[0m \u001b[1m\u001b[38;2;240;128;128mits\u001b[0m \u001b[1m\u001b[38;2;240;128;128mpairing\u001b[0m \u001b[1m\u001b[38;2;240;128;128mprompt\u001b[0m\n",
      "Hey there, I'm using a \u001b[1m\u001b[38;2;255;165;0mPixel\u001b[0m \u001b[1m\u001b[38;2;255;165;0m2\u001b[0m For nearly 2 years and this is the first time I'm facing this issue .\n",
      "The \u001b[1m\u001b[38;2;240;128;128mbluetooth\u001b[0m \u001b[1m\u001b[38;2;240;128;128mkeeps\u001b[0m \u001b[1m\u001b[38;2;240;128;128mturning\u001b[0m \u001b[1m\u001b[38;2;240;128;128mBack\u001b[0m \u001b[1m\u001b[38;2;240;128;128mon\u001b[0m \u001b[1m\u001b[38;2;240;128;128meverytime\u001b[0m \u001b[1m\u001b[38;2;240;128;128mI\u001b[0m \u001b[1m\u001b[38;2;240;128;128mswitch\u001b[0m \u001b[1m\u001b[38;2;240;128;128mit\u001b[0m \u001b[1m\u001b[38;2;240;128;128moff\u001b[0m .\n",
      "It's updated to the recent most \u001b[1m\u001b[38;2;135;206;250mAndroid\u001b[0m \u001b[1m\u001b[38;2;135;206;250m11\u001b[0m .\n",
      "\u001b[1m\u001b[38;2;255;165;0mPixel\u001b[0m \u001b[1m\u001b[38;2;255;165;0m3\u001b[0m  \u001b[1m\u001b[38;2;135;206;250mAndroid\u001b[0m \u001b[1m\u001b[38;2;135;206;250m11\u001b[0m  will no longer connect to \u001b[1m\u001b[92mWindows\u001b[0m \u001b[1m\u001b[92m10\u001b[0m \u001b[1m\u001b[92mPC\u001b[0m via Bluetooth .\n",
      "I've been connecting my \u001b[1m\u001b[38;2;255;165;0mPixel\u001b[0m \u001b[1m\u001b[38;2;255;165;0m3\u001b[0m on \u001b[1m\u001b[38;2;135;206;250mAndroid\u001b[0m \u001b[1m\u001b[38;2;135;206;250m11\u001b[0m to my \u001b[1m\u001b[92mWindows\u001b[0m \u001b[1m\u001b[92m10\u001b[0m \u001b[1m\u001b[92mdesktop\u001b[0m via Bluetooth for months to take calls, message etc via Windows 10's Your Phone app .\n",
      "Then a few months ago , \u001b[1m\u001b[38;2;240;128;128mmy\u001b[0m \u001b[1m\u001b[38;2;240;128;128mphone\u001b[0m \u001b[1m\u001b[38;2;240;128;128mrefused\u001b[0m \u001b[1m\u001b[38;2;240;128;128mto\u001b[0m \u001b[1m\u001b[38;2;240;128;128mcommunicate\u001b[0m \u001b[1m\u001b[38;2;240;128;128mwith\u001b[0m \u001b[1m\u001b[38;2;240;128;128mthe\u001b[0m \u001b[1m\u001b[38;2;240;128;128mPC\u001b[0m \u001b[1m\u001b[38;2;240;128;128mover\u001b[0m \u001b[1m\u001b[38;2;240;128;128mBT\u001b[0m .\n",
      "\u001b[1m\u001b[38;2;240;128;128mIt\u001b[0m \u001b[1m\u001b[38;2;240;128;128mwill\u001b[0m \u001b[1m\u001b[38;2;240;128;128mstill\u001b[0m \u001b[1m\u001b[38;2;240;128;128mpair\u001b[0m , \u001b[1m\u001b[38;2;240;128;128mbut\u001b[0m \u001b[1m\u001b[38;2;240;128;128mwon't\u001b[0m \u001b[1m\u001b[38;2;240;128;128mremain\u001b[0m \u001b[1m\u001b[38;2;240;128;128mconnected\u001b[0m\n",
      "I just found this isn't limited to my desktop PC either - \u001b[1m\u001b[38;2;240;128;128mthe\u001b[0m \u001b[1m\u001b[38;2;240;128;128mPixel\u001b[0m \u001b[1m\u001b[38;2;240;128;128malso\u001b[0m \u001b[1m\u001b[38;2;240;128;128mwon't\u001b[0m \u001b[1m\u001b[38;2;240;128;128mconnect\u001b[0m \u001b[1m\u001b[38;2;240;128;128mto\u001b[0m \u001b[1m\u001b[38;2;240;128;128manother\u001b[0m \u001b[1m\u001b[38;2;240;128;128mW10\u001b[0m \u001b[1m\u001b[38;2;240;128;128mlaptop\u001b[0m .\n",
      "\u001b[1m\u001b[38;2;240;128;128mSeems\u001b[0m \u001b[1m\u001b[38;2;240;128;128mto\u001b[0m \u001b[1m\u001b[38;2;240;128;128mbe\u001b[0m \u001b[1m\u001b[38;2;240;128;128mrejecting\u001b[0m \u001b[1m\u001b[38;2;240;128;128mconnecting\u001b[0m \u001b[1m\u001b[38;2;240;128;128mto\u001b[0m \u001b[1m\u001b[38;2;240;128;128mW10\u001b[0m \u001b[1m\u001b[38;2;240;128;128min\u001b[0m \u001b[1m\u001b[38;2;240;128;128mgeneral\u001b[0m .\n"
     ]
    }
   ],
   "source": [
    "word_set = set()\n",
    "label_t1 = label_t2 = label_t3 = label_t4 = label_t5 = label_t6 = label_o = 0\n",
    "for ri, r in df.iterrows():\n",
    "    words = r.sentence.split()\n",
    "    for i in range(len(words)):                \n",
    "        # if words[i][-1] in \",.!?\":\n",
    "        #    words[i] = words[i][:-1]\n",
    "        #elif words[i][-2:] == \"'s\":\n",
    "        #    words[i] = words[i][:-2]\n",
    "            \n",
    "        if words[i].startswith('('):\n",
    "            words[i] = words[i][1:]\n",
    "            \n",
    "        if words[i].endswith(')'):\n",
    "            words[i] = words[i][:-1]\n",
    "            \n",
    "    new_words = []\n",
    "    for w in words:\n",
    "        if w.endswith('\\_T1'):\n",
    "            w = w[:-4]\n",
    "            word_set.add(w)\n",
    "            w = f\"{color.BOLD}{color.ORANGE}{w}{color.END}\"\n",
    "            label_t1 += 1\n",
    "            \n",
    "        elif w.endswith('\\_T2'):\n",
    "            w = w[:-4]\n",
    "            word_set.add(w)\n",
    "            w = f\"{color.BOLD}{color.GREEN}{w}{color.END}\"\n",
    "            label_t2 += 1\n",
    "            \n",
    "        elif w.endswith('\\_T3'):\n",
    "            w = w[:-4]\n",
    "            word_set.add(w)\n",
    "            w = f\"{color.BOLD}{color.LIGHTCORAL}{w}{color.END}\"\n",
    "            label_t3 += 1\n",
    "            \n",
    "        elif w.endswith('\\_T4'):\n",
    "            w = w[:-4]\n",
    "            word_set.add(w)\n",
    "            w = f\"{color.BOLD}{color.INDIGO}{w}{color.END}\"\n",
    "            label_t4 += 1\n",
    "            \n",
    "        elif w.endswith('\\_T5'):\n",
    "            w = w[:-4]\n",
    "            word_set.add(w)\n",
    "            w = f\"{color.BOLD}{color.LIGHTSKYBLUE}{w}{color.END}\"\n",
    "            label_t5 += 1\n",
    "            \n",
    "        elif w.endswith('\\_T6'):\n",
    "            w = w[:-4]\n",
    "            word_set.add(w)\n",
    "            w = f\"{color.BOLD}{color.KHAKI}{w}{color.END}\"\n",
    "            label_t6 += 1\n",
    "            \n",
    "        else:\n",
    "            label_o += 1\n",
    "            \n",
    "        new_words.append(w)\n",
    "        \n",
    "    print(\" \".join(new_words))"
   ]
  },
  {
   "cell_type": "code",
   "execution_count": 4,
   "metadata": {},
   "outputs": [
    {
     "name": "stdout",
     "output_type": "stream",
     "text": [
      "label_o: 280\n",
      "label_t1: 24\n",
      "label_t2: 19\n",
      "label_t3: 164\n",
      "label_t4: 17\n",
      "label_t5: 6\n",
      "label_t6: 9\n"
     ]
    }
   ],
   "source": [
    "for n, v in sorted(\n",
    "        [(n, v) for n, v in globals().items() if n.startswith('label_t') or n.startswith('label_o')],\n",
    "        key=lambda t: t[0]):\n",
    "    print(f\"{n}: {v}\")"
   ]
  },
  {
   "cell_type": "markdown",
   "metadata": {},
   "source": [
    "We store a list of car brands for future reference and process in file `car_brand_list.txt`."
   ]
  },
  {
   "cell_type": "code",
   "execution_count": 5,
   "metadata": {},
   "outputs": [
    {
     "data": {
      "text/plain": [
       "[('pixel',), ('nexus',), ('apple',), ('galaxy',)]"
      ]
     },
     "execution_count": 5,
     "metadata": {},
     "output_type": "execute_result"
    }
   ],
   "source": [
    "phone_brand_set = set()\n",
    "with open('phone_brands.txt', 'r') as fo:\n",
    "    for line in fo:\n",
    "        line = line.lower()\n",
    "        phone_brand_set.add(tuple(list(map(lambda w: w.lower(), line.split()))))\n",
    "    \n",
    "list(phone_brand_set)[:10]"
   ]
  },
  {
   "cell_type": "code",
   "execution_count": 6,
   "metadata": {},
   "outputs": [
    {
     "data": {
      "text/plain": [
       "[('fitbit',)]"
      ]
     },
     "execution_count": 6,
     "metadata": {},
     "output_type": "execute_result"
    }
   ],
   "source": [
    "device_brand_set = set()\n",
    "with open('remote_device_brands.txt', 'r') as fo:\n",
    "    for line in fo:\n",
    "        line = line.lower()\n",
    "        device_brand_set.add(tuple(list(map(lambda w: w.lower(), line.split()))))\n",
    "    \n",
    "list(device_brand_set)[:10]"
   ]
  },
  {
   "cell_type": "markdown",
   "metadata": {},
   "source": [
    "We also keep many post to hold content without desired entity which can be used for training in directory `negative_posts`:"
   ]
  },
  {
   "cell_type": "code",
   "execution_count": 7,
   "metadata": {},
   "outputs": [],
   "source": [
    "NEGATIVE_DIR_PATH = 'negative_posts'"
   ]
  },
  {
   "cell_type": "markdown",
   "metadata": {},
   "source": [
    "## <font color='darkblue'>Reddit APIs</font>\n",
    "Here we are going to pull posts/articles from [**Reddits**](https://www.reddit.com/) by APIs of [**PRAW**](https://praw.readthedocs.io/en/latest/) to help us collect more posts/articles for labelling process:\n",
    "1. Pull posts from Reddit by open API\n",
    "2. Train a classifier to select the post we are interested (contains the labels we want)"
   ]
  },
  {
   "cell_type": "code",
   "execution_count": 12,
   "metadata": {},
   "outputs": [],
   "source": [
    "#!pip install praw"
   ]
  },
  {
   "cell_type": "markdown",
   "metadata": {},
   "source": [
    "<a id='sect2_1'></a>\n",
    "### <font color='darkgreen'>PRAW APIs to pull posts</font>\n",
    "First step, we are going to pull posts from Reddit and then do manual labelling to separate the wanted posts and others:\n",
    "* Follow [this post](https://www.jcchouinard.com/get-reddit-api-credentials-with-praw/) to retrieve the client id, secret which will be provided into API later. (We store the credentials in `client_secrets.json` here. If this is your first time to use this script, try to create a reddit app [here](https://www.reddit.com/prefs/apps/))"
   ]
  },
  {
   "cell_type": "code",
   "execution_count": 19,
   "metadata": {},
   "outputs": [
    {
     "data": {
      "text/plain": [
       "Redditor(name='johnkclee')"
      ]
     },
     "execution_count": 19,
     "metadata": {},
     "output_type": "execute_result"
    }
   ],
   "source": [
    "import logging\n",
    "import praw\n",
    "import json\n",
    "\n",
    "with open('client_secrets.json', 'r') as fo:\n",
    "    reddit_credentials = json.load(fo)\n",
    "    rdt_agent = praw.Reddit(**reddit_credentials)\n",
    "\n",
    "\n",
    "# Make sure you can see your name to indicate that you are ready to use APIs\n",
    "rdt_agent.user.me()"
   ]
  },
  {
   "cell_type": "markdown",
   "metadata": {},
   "source": [
    "* Now our PRAW APIs are ready to use. Let's pull a few post for our reference as prior run:\n",
    "  * [**Reddit** (rdt_agent)](https://praw.readthedocs.io/en/latest/code_overview/reddit_instance.html?highlight=Reddit#the-reddit-instance): The Reddit class provides convenient access to Reddit’s API.\n",
    "  * [**Subreddit** (st_googlepixel)](https://praw.readthedocs.io/en/latest/code_overview/models/subreddit.html?highlight=Subreddit#subreddit): A class for Subreddits.\n",
    "  * [**Submission** (submission)](https://praw.readthedocs.io/en/latest/code_overview/models/submission.html#praw.models.Submission): A class for submissions to reddit."
   ]
  },
  {
   "cell_type": "code",
   "execution_count": 22,
   "metadata": {},
   "outputs": [
    {
     "name": "stdout",
     "output_type": "stream",
     "text": [
      "GooglePixel\n"
     ]
    }
   ],
   "source": [
    "# Create a sub-reddit object for topic we are interested in (r/GooglePixel)\n",
    "st_googlepixel = rdt_agent.subreddit(\"GooglePixel\")\n",
    "\n",
    "print(st_googlepixel.display_name)\n",
    "# Output: redditdev\n",
    "#print(st_googlepixel.title)\n",
    "# Output: reddit development\n",
    "#print(st_googlepixel.description)\n",
    "# Output: a subreddit for discussion of ..."
   ]
  },
  {
   "cell_type": "code",
   "execution_count": 31,
   "metadata": {},
   "outputs": [
    {
     "name": "stdout",
     "output_type": "stream",
     "text": [
      "\u001b[1mShafted by garbage Verizon policies, looking for a way out\u001b[0m\n",
      "0\n",
      "n6okhc\n",
      "https://www.reddit.com/r/GooglePixel/comments/n6okhc/shafted_by_garbage_verizon_policies_looking_for_a/\n",
      "\n",
      "Hi everyone, you'll have to pardon my ignorance with all of this security stuff. I was into doing hacky stuff to my phone as a kid, but became a good complacent little sheep in college, and am just now starting to take the cybersecurity plunge.\n",
      "\n",
      "I've recently, but not recently enough (November 2020 ish so I'm outside of the warranty window) upgraded with Verizon's edge plan to a Pixel 5. I've been loyal to Pixel ever since the first one, and I've always gone with them because I've always tried to be at least a little privacy conscious, for a normie, and I only use my phone as a bootloader for Reddit and a web browser anyway so I didn't want any Samsung or Apple crapware on there.\n",
      "\n",
      "So when, as usual, I broke my phone beyond usability, I decided to upgrade to the Pixel 5 with the intention of putting GrapheneOS on there when it came out. Well it came out, and *imagine my shock* when I found out that a Billion Dollar Company did something scummy! Turns out Verizon locks their bootloaders!\n",
      "\n",
      "Remembering all the times I jailbroke my iPod or rooted my Galaxy devices as a kid, I felt undeterred, thinking that the bootloader lock was merely a suggestion. I was ready to don my Gunnars, put on some funky keygen music, and do some hacking, but to no avail! Now all I have is a sad, factory reset Pixel and some hours that I'll never get back.\n",
      "\n",
      "Thus, I've come here seeking advice. I'm more than ready to switch carriers, but my current phone will be locked forever, and I have no dollars to replace it with. I have one of those Edge plans (my Mommy pays for it for me, love you Mom), and AFAIK the other carriers won't buy those out. And even then that would leave me without a phone and with no money to replace it with.\n",
      "\n",
      "Anyway, that was really long so, here's the short version of my predicament:\n",
      "\n",
      "Pixel 5, Verizon, 6 months into an Edge plan, bootloader is locked, want to flash GrapheneOS. Open to switching. I'll consider stopgap fixes as long as it's privacy conscious. Appreciate the help.\n",
      "\n",
      "\n",
      "\u001b[1mMy Pixel fail saga. #fugoogle #fpixel #customerservice fail\u001b[0m\n",
      "0\n",
      "n6nv2j\n",
      "https://www.reddit.com/r/GooglePixel/comments/n6nv2j/my_pixel_fail_saga_fugoogle_fpixel/\n",
      "\n",
      "On Mobile.  Crappy tablet, may not read the best.  \n",
      "\n",
      "First off.....fuck you google.  Fuck your weekend tech support.  Fuck your shipping  methods.  \n",
      "\n",
      "You have a Pixel 4XL.  It has a KNOWN battery defect.  Same one the 3s have.  And the 5s.  One day, your battery will show 50%, not matter what.   The charging symbol will have a question ,mark in it.  You search it.  Google suggests a software issue.  A little more digging says, smack the back of the  phone hard.  Just to the left of the google symbol on the back of the phone.  So yo do that.  Suddenly, the phone works great again.  \n",
      "\n",
      "Fast forward a week.  It happens again.  You do the thing again.  It works.  You check warranty status.  It expired 5 days ago.  2 days after you 'fixed' it.  Huh.  Well damn.  \n",
      "\n",
      "The problem gets worse.   One day, in this case 5/1/21, you can't even set it down without the phone cutting off.  Drop in your pocket? Dies.  You call the factory authorized  repair center.  They tell you $99 same day, out the door.  2 hours and you'll be back online.  Sweet.\n",
      "\n",
      "You come back 2 hours later.  Bad news.  The battery connection to the motherboard  failed.  The connector  failed, and is broken off in the motherboard.  They ask for another hour to try to get it out.  An hour passes.  Nope.  Stuck like chuck.  \n",
      "\n",
      "They tell you google KNOWS this is an issue.  They are granting  'extended warranty  coverage' fornthos savvy enough to have looked into it.  Google doesn't answer emails on the weekend.  Itll be Monday before they  can open the ticket.  Fuck.  Ok.  You think you can make it.  Single parent, kids are at the exes becausemyour work schedule blows.  Ok.  Download text now to your old tablet, and pray for wifi.  You give this number to the tech and they test it.  Works ok.  Type 2 diabetic.  Your phone is your active CGM reciever.  Gonna be rough but, your shits under control, so no big deal.  \n",
      "\n",
      "Sunday comes and goes.  Monday passes.  Tuesday does its thing.  You haul ass to the shop wednesday.  Parts that were  shipped 'overnight' aren't there.  Maybe tomorrow.  \n",
      "\n",
      "You finally get a hold of the shop Thursday.  Parts are there.   Check back at 4.  Easy day.  Call at 4.  Phone is not working.  New battery, motherboard, screen, and its fucking up.  You need to come in.  \n",
      "\n",
      "You go.  The new hardware isn't working.  It's not displaying  right.  Your options?  Wait for google to do something, or declare it unrepairable, and wait for a new phone.  6 days.  Mainly because of Google's incompetence.  Best phone you've owned in years.  Gonna upgrade early because fuck yeah, and now.....this.  a hidden problem.  Incompetent service.  An indifferent corporate structure.  \n",
      "\n",
      "Thanks google.  You lost a customer  that used to rave about your shit.  That loved the pure bloatware  free environment.   Because for 3 generations you ignored a problem and offer subpar service to avoid losing face by issuing a statement and actually trying  to fix it.  \n",
      "\n",
      "At least 6 days cut off unless I'm home.  6 days without diabetes monitoring.  And no one I can really contact regarding my case.  Tomorrow I have a call with the GM of the shop, who is livid, and has been the best.  \n",
      "\n",
      "This isn't ok.  If I'd have paid for a damage claim, I'd have been back in business, but out a lot more money.  \n",
      "\n",
      "Fuck you google.\n",
      "\n",
      "\n",
      "\u001b[1mAnyone else have issues with Google Discover feed?\u001b[0m\n",
      "18\n",
      "n6n2hi\n",
      "https://www.reddit.com/r/GooglePixel/comments/n6n2hi/anyone_else_have_issues_with_google_discover_feed/\n",
      "\n",
      "I can't open anything from there, when tapping, it just do nothing. Google app also crashes more frequently recently. Right now, the only way for me to view those articles is by opening it from Chrome or Google app, not from swiping to the left of my home screen...\n",
      "\n",
      "\n",
      "\u001b[1mCamera App Not Updating Location For GeoTagging Photos As I Move\u001b[0m\n",
      "1\n",
      "n6mpwl\n",
      "https://www.reddit.com/r/GooglePixel/comments/n6mpwl/camera_app_not_updating_location_for_geotagging/\n",
      "\n",
      "I have a Pixel 4a and I'm finding that the Camera app isn't saving very accurate GPS locations for photos.  I'll be on a walk and take a bunch of photos and they will all end up at the exact same location saved.  It's like the Camera app only checks for the location once and then doesn't update as I move around.  I also use a GPS app (GaiaGPS) which can takes photos attached to waypoints.  When I take photos this way on a walk the saved locations end up much more accurate.  \n",
      "\n",
      "Has anyone else noticed this problem with the Google Camera app?  And does anyone know of a fix?  I've tried turning off Google Location Accuracy but that doesn't seem to have made a difference.\n",
      "\n",
      "\n",
      "\u001b[1mPixel keeps muting itself\u001b[0m\n",
      "1\n",
      "n6mkx6\n",
      "https://www.reddit.com/r/GooglePixel/comments/n6mkx6/pixel_keeps_muting_itself/\n",
      "\n",
      "Hello, I have a Google pixel phone that I use for alarms and I constantly oversleep because of this phone. First I wake up very late then I notice that the alarm volume has magically been reset to mute. It was at maximum volume but now it's muted. I have turned off every setting that could influence the alarm volume (or just all of what I could find, like flip to shh for example) but still likes to mute itself. I am not talking about overall mute, it's the alarm volume bar specifically. Any help would be appreciated\n",
      "\n",
      "\n"
     ]
    }
   ],
   "source": [
    "# Obtain Submission Instances from a sub-reddit\n",
    "for submission in st_googlepixel.new(limit=5):\n",
    "    print(color.BOLD + submission.title + color.END)\n",
    "    # Output: the submission's title\n",
    "    print(submission.score)\n",
    "    # Output: the submission's score\n",
    "    print(submission.id)\n",
    "    # Output: the submission's ID\n",
    "    print(submission.url)\n",
    "    # Output: the URL the submission points to or the submission's URL if it's a self post\n",
    "    print(\"\\n\" + submission.selftext + \"\\n\\n\")\n",
    "    # Output: The body of submission"
   ]
  },
  {
   "cell_type": "markdown",
   "metadata": {},
   "source": [
    "* If you can see pulled posts from above code snippet, then it is ready to pull volume of posts now:"
   ]
  },
  {
   "cell_type": "code",
   "execution_count": 48,
   "metadata": {},
   "outputs": [
    {
     "name": "stdout",
     "output_type": "stream",
     "text": [
      "Start Reddit dumping at 20210507142255...\n"
     ]
    },
    {
     "name": "stderr",
     "output_type": "stream",
     "text": [
      "100%|███████████████████████████████████████████████████████████████████████████████████████████████████████████████████████████████████████████████████| 1000/1000 [00:13<00:00, 75.11it/s]\n",
      "\u001b[1;30mMainThread/INFO:\u001b[0m <<ipython-input-48-e68b0d38a75b>#86> Total 0 new post collected! (0:00:14.319820)\n"
     ]
    }
   ],
   "source": [
    "import pickle\n",
    "import os\n",
    "import time\n",
    "from logb import get_logger\n",
    "from datetime import datetime\n",
    "from typing import Dict\n",
    "from tqdm import tqdm\n",
    "\n",
    "ROOT_PATH = os.getcwd()\n",
    "CACHE_PKL_NAME = os.path.join(ROOT_PATH, 'reddit_pulled_post_cache.pkl')\n",
    "DUMP_DIR_PATH = os.path.join(ROOT_PATH, \"reddit_post_dumps\")\n",
    "PULL_SIZE_LIMIT = 1000\n",
    "logger = get_logger(\"issue4\")\n",
    "\n",
    "def get_ts() -> int:\n",
    "    return int(datetime.now().timestamp())\n",
    "\n",
    "def get_datestr() -> str:\n",
    "    return datetime.now().strftime(\"%Y%m%d%H%M%S\")\n",
    "\n",
    "def dump_reddit_post(datestr, submission):\n",
    "    url = submission.url.split('?')[0]\n",
    "    if url.endswith('/'):\n",
    "        url = url[:-1]\n",
    "        \n",
    "    def _save(fn):\n",
    "        with open(os.path.join(DUMP_DIR_PATH, fn), 'w', encoding='utf-8') as fw:\n",
    "            fw.write(submission.url + \"\\n\\n\")\n",
    "            fw.write(submission.title + \"\\n\\n\")\n",
    "            fw.write(submission.selftext)\n",
    "            \n",
    "    try:\n",
    "        id_with_title = '_'.join(url.split('/')[-2:])\n",
    "        fn = f\"{datestr}_{id_with_title}.txt\"\n",
    "        _save(fn)\n",
    "    except Exception:\n",
    "        logger.warning(f\"Fail to use fn={fn} with URL={url}\")\n",
    "        fn = f\"{datestr}_{submission.id}.txt\"\n",
    "        logger.warning(f\"Using fn={fn} instead...\")\n",
    "        _save(fn)\n",
    "\n",
    "def load_rpp_cache() -> Dict[str, float]:\n",
    "    \"\"\" Load Reddit pulled post cache\"\"\"\n",
    "    cache_dict = {} # Key as URL, value as pulling stamp    \n",
    "    if os.path.isfile(CACHE_PKL_NAME):\n",
    "        try:\n",
    "            with open(CACHE_PKL_NAME, 'rb') as fo:\n",
    "                cache_dict = pickle.load(fo)\n",
    "        except:\n",
    "            logger.warning(f\"Fail to load back {CACHE_PKL_NAME}!\")            \n",
    "            os.remove(CACHE_PKL_NAME)\n",
    "            return {}\n",
    "    \n",
    "    return cache_dict\n",
    "        \n",
    "def save_rpp_cache(cache_dict:Dict[str,float]):\n",
    "    \"\"\" Save Reddit pulled post cache\"\"\"\n",
    "    with open(CACHE_PKL_NAME, 'wb') as fw:\n",
    "        pickle.dump(cache_dict, fw)\n",
    "        \n",
    "### Start the Reddit dump process\n",
    "rppc_cache = load_rpp_cache()\n",
    "\n",
    "if not os.path.isdir(DUMP_DIR_PATH):\n",
    "    os.makedirs(DUMP_DIR_PATH)\n",
    "    \n",
    "st = datetime.now()\n",
    "datestr = get_datestr()\n",
    "print(f\"Start Reddit dumping at {datestr}...\")\n",
    "time.sleep(1)\n",
    "# Obtain Submission Instances from a sub-reddit\n",
    "new_post_count = 0\n",
    "with tqdm(total=PULL_SIZE_LIMIT) as pbar:\n",
    "    pc = 0\n",
    "    for submission in st_googlepixel.new(limit=PULL_SIZE_LIMIT):\n",
    "        if submission.url not in rppc_cache:\n",
    "            rppc_cache[submission.url] = get_ts()\n",
    "            dump_reddit_post(datestr, submission)\n",
    "            new_post_count += 1\n",
    "            \n",
    "        pbar.update(1)\n",
    "        pc += 1\n",
    "        \n",
    "    pbar.update(PULL_SIZE_LIMIT - pc)\n",
    "    \n",
    "logger.info(f\"Total {new_post_count:,d} new post collected! ({datetime.now() - st})\")\n",
    "save_rpp_cache(rppc_cache)"
   ]
  },
  {
   "cell_type": "markdown",
   "metadata": {},
   "source": [
    "Above code has been refactored and we will use script `reddit_dumper.py` to dump posts of Reddit instead in server."
   ]
  },
  {
   "cell_type": "markdown",
   "metadata": {},
   "source": [
    "<a id='sect2'></a>\n",
    "## <font color='darkblue'>Word2vec Solution</font> ([back](#sect0))\n",
    "* [**Fasttext**](#sect2_1)\n",
    "* [**Gensim**](#sect2_2)\n",
    "\n",
    "[**Word2vec**](https://en.wikipedia.org/wiki/Word2vec) is a technique for [natural language processing](https://en.wikipedia.org/wiki/Natural_language_processing). The word2vec algorithm uses a neural network model to learn word associations from a large [corpus of text](https://en.wikipedia.org/wiki/Corpus_of_text). Once trained, such a model can detect synonymous words or suggest additional words for a partial sentence.\n",
    "![1.png](images/1.png)\n",
    "<br/>"
   ]
  },
  {
   "cell_type": "markdown",
   "metadata": {},
   "source": [
    "<a id='sect2_1'></a>\n",
    "### <font color='darkgreen'>Fasttext - Word to vector</font>\n",
    "Here we will leverage [**Fasttext**](https://github.com/facebookresearch/fastText) package to help us to translate word into vector for later ML training. Instead of re-training a new Fasttext model, we will use exist trained model [here](https://fasttext.cc/docs/en/crawl-vectors.html) [cc.en.300.bin.gz](https://dl.fbaipublicfiles.com/fasttext/vectors-crawl/cc.en.300.bin.gz). Please click the link and download it:"
   ]
  },
  {
   "cell_type": "code",
   "execution_count": 7,
   "metadata": {},
   "outputs": [],
   "source": [
    "#!pip install fasttext"
   ]
  },
  {
   "cell_type": "code",
   "execution_count": 8,
   "metadata": {},
   "outputs": [],
   "source": [
    "#import fasttext.util\n",
    "\n",
    "#fasttext.util.download_model('en', if_exists='ignore')  # English\n",
    "#ft = fasttext.load_model('cc.en.300.bin')"
   ]
  },
  {
   "cell_type": "markdown",
   "metadata": {},
   "source": [
    "After that, below code will load the downloaded model:"
   ]
  },
  {
   "cell_type": "code",
   "execution_count": 9,
   "metadata": {},
   "outputs": [],
   "source": [
    "#import fasttext\n",
    "#import fasttext.util"
   ]
  },
  {
   "cell_type": "markdown",
   "metadata": {},
   "source": [
    "<a id='sect2_2'></a>\n",
    "### <font color='darkgreen'>Gensim - Word to vector</font>\n",
    "Here we will leverage [**Gensim**](https://radimrehurek.com/gensim/auto_examples/tutorials/run_word2vec.html) to help us to translate word into vector for later ML training."
   ]
  },
  {
   "cell_type": "code",
   "execution_count": 8,
   "metadata": {},
   "outputs": [
    {
     "name": "stderr",
     "output_type": "stream",
     "text": [
      "c:\\users\\john\\appdata\\local\\programs\\python\\python38\\lib\\site-packages\\gensim\\similarities\\__init__.py:15: UserWarning: The gensim.similarities.levenshtein submodule is disabled, because the optional Levenshtein package <https://pypi.org/project/python-Levenshtein/> is unavailable. Install Levenhstein (e.g. `pip install python-Levenshtein`) to suppress this warning.\n",
      "  warnings.warn(msg)\n"
     ]
    }
   ],
   "source": [
    "# Load in word vector translator\n",
    "import gensim.downloader as api\n",
    "\n",
    "wv = api.load('word2vec-google-news-300')"
   ]
  },
  {
   "cell_type": "code",
   "execution_count": 9,
   "metadata": {},
   "outputs": [
    {
     "name": "stdout",
     "output_type": "stream",
     "text": [
      "Total 12 unknown word(s) found!\n",
      "{'6-digit', 'and', 'spotify', 'a', 'smartwatch', 'to', '10', 'wh-1000mx4', 'W10', 'P4a5g', '11', '35'}\n"
     ]
    }
   ],
   "source": [
    "unknown_word_set = set()\n",
    "for w in word_set:\n",
    "    try:\n",
    "        wv[w]\n",
    "    except:\n",
    "        unknown_word_set.add(w)\n",
    "        \n",
    "print(f\"Total {len(unknown_word_set)} unknown word(s) found!\")\n",
    "print(unknown_word_set)"
   ]
  },
  {
   "cell_type": "markdown",
   "metadata": {},
   "source": [
    "<a id='sect3'></a>\n",
    "## <font color='darkblue'>ML Models</font>\n",
    "Here we are going to explore some ML solutions to deal with NER problem."
   ]
  },
  {
   "cell_type": "markdown",
   "metadata": {},
   "source": [
    "### <font color='darkgreen'>CRF </font>\n",
    "Pleae refer to this [notebook](https://nbviewer.jupyter.org/github/johnklee/ml_articles/blob/master/medium/NLP_Guide_Identifying_Part_of_Speech_Tags_using_Conditional_Random_Fields/notebook.ipynb) for more details."
   ]
  },
  {
   "cell_type": "code",
   "execution_count": 12,
   "metadata": {},
   "outputs": [],
   "source": [
    "import nltk, re, pprint\n",
    "import numpy as np\n",
    "import pandas as pd\n",
    "import requests\n",
    "import matplotlib.pyplot as plt\n",
    "import seaborn as sns\n",
    "import pprint, time\n",
    "import random\n",
    "from sklearn.model_selection import train_test_split\n",
    "from nltk.tokenize import word_tokenize\n",
    "from sklearn_crfsuite import CRF\n",
    "from sklearn_crfsuite import metrics\n",
    "from sklearn_crfsuite import scorers\n",
    "from sklearn.model_selection import learning_curve\n",
    "from sklearn.model_selection import KFold,StratifiedKFold\n",
    "from collections import Counter\n",
    "import nltk\n",
    "#nltk.download(\"punkt\")"
   ]
  },
  {
   "cell_type": "code",
   "execution_count": 13,
   "metadata": {},
   "outputs": [],
   "source": [
    "def is_car_brand(sentence, index):\n",
    "    for car_brand in car_brand_set:\n",
    "        if ' '.join(car_brand) == ' '.join(list(map(lambda w: w.lower(), sentence[index:index+len(car_brand)]))):\n",
    "            return 1\n",
    "        \n",
    "    return 0\n",
    "\n",
    "def crf_features(sentence, index):\n",
    "    ### sentence is of the form [w1,w2,w3,..], index is the position of the word in the sentence\n",
    "    return {\n",
    "        'is_car_brand': is_car_brand(sentence, index),\n",
    "        'is_first_capital':int(sentence[index][0].isupper()),\n",
    "        'is_first_word': int(index==0),\n",
    "        'is_last_word':int(index==len(sentence)-1),\n",
    "        'is_complete_capital': int(sentence[index].upper()==sentence[index]),\n",
    "        'prev_word':'' if index==0 else sentence[index-1],\n",
    "        'prev_2word':'' if index<=1 else ''.join(sentence[index-2:index]),\n",
    "        'prev_3word':'' if index<=2 else ''.join(sentence[index-3:index]),\n",
    "        'next_word':'' if index<=len(sentence)-1 else sentence[index+1],\n",
    "        'next_2word':'' if index<=len(sentence)-2 else sentence[index+1:index+2],\n",
    "        'next_3word':'' if index<=len(sentence)-3 else sentence[index+1:index+3],\n",
    "        'is_numeric':int(sentence[index].isdigit()),\n",
    "        'is_alphanumeric': int(bool((re.match('^(?=.*[0-9]$)(?=.*[a-zA-Z])',sentence[index])))),\n",
    "        'prefix_1':sentence[index][0],\n",
    "        'prefix_2': sentence[index][:2],\n",
    "        'prefix_3':sentence[index][:3],\n",
    "        'prefix_4':sentence[index][:4],\n",
    "        'suffix_1':sentence[index][-1],\n",
    "        'suffix_2':sentence[index][-2:],\n",
    "        'suffix_3':sentence[index][-3:],\n",
    "        'suffix_4':sentence[index][-4:],\n",
    "        'word_has_hyphen': 1 if '-' in sentence[index] else 0  \n",
    "    }"
   ]
  },
  {
   "cell_type": "code",
   "execution_count": 14,
   "metadata": {},
   "outputs": [
    {
     "data": {
      "text/plain": [
       "1"
      ]
     },
     "execution_count": 14,
     "metadata": {},
     "output_type": "execute_result"
    }
   ],
   "source": [
    "# See if a word combination is treated a car brand or not\n",
    "is_car_brand(['bmw'], 0)"
   ]
  },
  {
   "cell_type": "code",
   "execution_count": 15,
   "metadata": {},
   "outputs": [
    {
     "name": "stdout",
     "output_type": "stream",
     "text": [
      "Mine is a Nissan\\_h Frontier\\_h with an aftermarket Kenwood\\_a touchscreen\\_a radio\\_a by the way.\n",
      "words: ['Mine', 'is', 'a', 'Nissan', 'Frontier', 'with', 'an', 'aftermarket', 'Kenwood', 'touchscreen', 'radio', 'by', 'the', 'way', '.']\n",
      "labels: ['o', 'o', 'o', 'c', 'c', 'o', 'o', 'o', 'a', 'a', 'a', 'o', 'o', 'o', 'o']\n",
      "\n",
      "{\n",
      "    \"is_alphanumeric\": 0,\n",
      "    \"is_car_brand\": 1,\n",
      "    \"is_complete_capital\": 0,\n",
      "    \"is_first_capital\": 1,\n",
      "    \"is_first_word\": 0,\n",
      "    \"is_last_word\": 0,\n",
      "    \"is_numeric\": 0,\n",
      "    \"next_2word\": \"\",\n",
      "    \"next_3word\": \"\",\n",
      "    \"next_word\": \"\",\n",
      "    \"prefix_1\": \"N\",\n",
      "    \"prefix_2\": \"Ni\",\n",
      "    \"prefix_3\": \"Nis\",\n",
      "    \"prefix_4\": \"Niss\",\n",
      "    \"prev_2word\": \"isa\",\n",
      "    \"prev_3word\": \"Mineisa\",\n",
      "    \"prev_word\": \"a\",\n",
      "    \"suffix_1\": \"n\",\n",
      "    \"suffix_2\": \"an\",\n",
      "    \"suffix_3\": \"san\",\n",
      "    \"suffix_4\": \"ssan\",\n",
      "    \"word_has_hyphen\": 0\n",
      "}\n"
     ]
    }
   ],
   "source": [
    "# See how a sentence is translated into CRF feature vector\n",
    "for ri, r in df.iterrows():\n",
    "    if '\\_a' in r.sentence and '\\_h' in r.sentence:\n",
    "        print(r.sentence)\n",
    "        words_with_label = nltk.tokenize.word_tokenize(r.sentence)\n",
    "        words, tags = [], []\n",
    "        for w in words_with_label:\n",
    "            if w.endswith('\\_h'):\n",
    "                tags.append('c')\n",
    "                w = w [:-3]\n",
    "            elif w.endswith('\\_a'):\n",
    "                tags.append('a')\n",
    "                w = w [:-3]\n",
    "            else:\n",
    "                tags.append('o')\n",
    "            words.append(w)\n",
    "          \n",
    "        print(f\"words: {words}\\nlabels: {tags}\\n\")\n",
    "        feat_4word = [crf_features(words, i) for i in range(len(words))][3]        \n",
    "        print(json.dumps(feat_4word, sort_keys=True, indent=4))\n",
    "        # y.append(tags)\n",
    "        break"
   ]
  },
  {
   "cell_type": "code",
   "execution_count": 50,
   "metadata": {},
   "outputs": [],
   "source": [
    "class_names = ['o', 'c', 'a']\n",
    "\n",
    "def get_crf_data():    \n",
    "    X, y = [], []\n",
    "    for ri, r in df.iterrows():\n",
    "        words_with_label = nltk.tokenize.word_tokenize(r.sentence)\n",
    "        words, tags = [], []\n",
    "        for w in words_with_label:\n",
    "            if w.endswith('\\_h'):\n",
    "                tags.append('c')\n",
    "                w = w [:-3]\n",
    "            elif w.endswith('\\_a'):\n",
    "                tags.append('a')\n",
    "                w = w [:-3]\n",
    "            else:\n",
    "                tags.append('o')\n",
    "            words.append(w)\n",
    "            \n",
    "        X.append([crf_features(words, i) for i in range(len(words))])\n",
    "        y.append(tags)\n",
    "        \n",
    "    for f in os.listdir(NEGATIVE_DIR_PATH):\n",
    "        fp = os.path.join(NEGATIVE_DIR_PATH, f)\n",
    "        with open(fp, 'r', encoding='utf8') as fo:\n",
    "            for i in range(4):\n",
    "                fo.readline()  # Skip URL and title\n",
    "                \n",
    "            post_content = fo.read()\n",
    "            sentences = list(filter(lambda s: s, map(lambda s: s.strip(), nltk.sent_tokenize(post_content))))\n",
    "            for sent in sentences:\n",
    "                tokens = nltk.tokenize.word_tokenize(sent)\n",
    "                X.append([crf_features(tokens, i) for i in range(len(tokens))])\n",
    "                y.append(['o'] * len(tokens))\n",
    "                    \n",
    "    return X, y"
   ]
  },
  {
   "cell_type": "code",
   "execution_count": 17,
   "metadata": {},
   "outputs": [],
   "source": [
    "# https://ithelp.ithome.com.tw/articles/10222958\n",
    "def plot_learning_curve(estimator, title, X, y, ylim=None, cv=None,\n",
    "                        n_jobs=-1, train_sizes=np.linspace(.1, 1.0, 5)):\n",
    "    \"\"\"\n",
    "    Generate a simple plot of the test and training learning curve.\n",
    "\n",
    "    Parameters\n",
    "    ----------\n",
    "    estimator : object type that implements the \"fit\" and \"predict\" methods\n",
    "        An object of that type which is cloned for each validation.\n",
    "\n",
    "    title : string\n",
    "        Title for the chart.\n",
    "\n",
    "    X : array-like, shape (n_samples, n_features)\n",
    "        Training vector, where n_samples is the number of samples and\n",
    "        n_features is the number of features.\n",
    "\n",
    "    y : array-like, shape (n_samples) or (n_samples, n_features), optional\n",
    "        Target relative to X for classification or regression;\n",
    "        None for unsupervised learning.\n",
    "\n",
    "    ylim : tuple, shape (ymin, ymax), optional\n",
    "        Defines minimum and maximum yvalues plotted.\n",
    "\n",
    "    cv : int, cross-validation generator or an iterable, optional\n",
    "        Determines the cross-validation splitting strategy.\n",
    "        Possible inputs for cv are:\n",
    "          - None, to use the default 3-fold cross-validation,\n",
    "          - integer, to specify the number of folds.\n",
    "          - An object to be used as a cross-validation generator.\n",
    "          - An iterable yielding train/test splits.\n",
    "\n",
    "        For integer/None inputs, if ``y`` is binary or multiclass,\n",
    "        :class:`StratifiedKFold` used. If the estimator is not a classifier\n",
    "        or if ``y`` is neither binary nor multiclass, :class:`KFold` is used.\n",
    "\n",
    "        Refer :ref:`User Guide <cross_validation>` for the various\n",
    "        cross-validators that can be used here.\n",
    "\n",
    "    n_jobs : integer, optional\n",
    "        Number of jobs to run in parallel (default 1).\n",
    "    \"\"\"\n",
    "    plt.figure(figsize=(12,6))  #調整圖的大小\n",
    "    plt.title(title)\n",
    "    if ylim is not None:\n",
    "        plt.ylim(*ylim)\n",
    "    plt.xlabel(\"Training examples\")\n",
    "    plt.ylabel(\"Score\")\n",
    "    train_sizes, train_scores, test_scores = learning_curve(\n",
    "        estimator, \n",
    "        X, \n",
    "        y, \n",
    "        cv=cv, \n",
    "        n_jobs=n_jobs, \n",
    "        train_sizes=train_sizes\n",
    "    )\n",
    "    train_scores_mean = np.mean(train_scores, axis=1)\n",
    "    train_scores_std = np.std(train_scores, axis=1)\n",
    "    test_scores_mean = np.mean(test_scores, axis=1)\n",
    "    test_scores_std = np.std(test_scores, axis=1)\n",
    "    plt.grid()\n",
    "\n",
    "    plt.fill_between(train_sizes, train_scores_mean - train_scores_std,\n",
    "                     train_scores_mean + train_scores_std, alpha=0.1,\n",
    "                     color=\"r\")\n",
    "    plt.fill_between(train_sizes, test_scores_mean - test_scores_std,\n",
    "                     test_scores_mean + test_scores_std, alpha=0.1, color=\"g\")\n",
    "    plt.plot(train_sizes, train_scores_mean, 'o-', color=\"r\",\n",
    "             label=\"Training score\")\n",
    "    plt.plot(train_sizes, test_scores_mean, 'o-', color=\"g\",\n",
    "             label=\"Cross-validation score\")\n",
    "\n",
    "    plt.legend(loc=\"best\")\n",
    "    return plt"
   ]
  },
  {
   "cell_type": "code",
   "execution_count": 51,
   "metadata": {},
   "outputs": [
    {
     "name": "stdout",
     "output_type": "stream",
     "text": [
      "We total have 880 records for training!\n"
     ]
    }
   ],
   "source": [
    "X, y = get_crf_data()\n",
    "print(f\"We total have {len(X):,d} records for training!\")"
   ]
  },
  {
   "cell_type": "code",
   "execution_count": 33,
   "metadata": {},
   "outputs": [],
   "source": [
    "def crf_train_test_split(X, y, test_size, random_state=RANDOM_STATE):\n",
    "    X_train, X_test, y_train, y_test = [], [], [], []\n",
    "    yi_has_ca_label = []\n",
    "    yi_only_o_label = []\n",
    "    for yi in range(len(y)):\n",
    "        y_labels = y[yi]\n",
    "        if all(list(map(lambda t: t=='0', y_labels))):\n",
    "            yi_only_o_label.append(yi)\n",
    "        else:\n",
    "            yi_has_ca_label.append(yi)\n",
    "            \n",
    "    random.seed(random_state)\n",
    "    for yi_group in [yi_has_ca_label, yi_only_o_label]:\n",
    "        for i in yi_group:\n",
    "            if random.random() > test_size:\n",
    "                X_train.append(X[i])\n",
    "                y_train.append(y[i])\n",
    "            else:\n",
    "                X_test.append(X[i])\n",
    "                y_test.append(y[i])\n",
    "                \n",
    "    return X_train, X_test, y_train, y_test"
   ]
  },
  {
   "cell_type": "code",
   "execution_count": 67,
   "metadata": {},
   "outputs": [],
   "source": [
    "X_train, X_test, y_train, y_test = crf_train_test_split(X, y, 0.2)"
   ]
  },
  {
   "cell_type": "code",
   "execution_count": 68,
   "metadata": {},
   "outputs": [
    {
     "name": "stdout",
     "output_type": "stream",
     "text": [
      "Wall time: 1.14 s\n"
     ]
    },
    {
     "data": {
      "text/plain": [
       "CRF(algorithm='lbfgs', all_possible_states=None, all_possible_transitions=True,\n",
       "    averaging=None, c=None, c1=0.01, c2=0.1, calibration_candidates=None,\n",
       "    calibration_eta=None, calibration_max_trials=None, calibration_rate=None,\n",
       "    calibration_samples=None, delta=None, epsilon=None, error_sensitive=None,\n",
       "    gamma=None, keep_tempfiles=None, linesearch=None, max_iterations=100,\n",
       "    max_linesearch=None, min_freq=None, model_filename=None, num_memories=None,\n",
       "    pa_type=None, period=None, trainer_cls=None, variance=None, verbose=False)"
      ]
     },
     "execution_count": 68,
     "metadata": {},
     "output_type": "execute_result"
    }
   ],
   "source": [
    "%%time\n",
    "crf = CRF(\n",
    "    algorithm='lbfgs',\n",
    "    c1=0.01,\n",
    "    c2=0.1,\n",
    "    max_iterations=100,\n",
    "    all_possible_transitions=True\n",
    ")\n",
    "\n",
    "crf.fit(X_train, y_train)"
   ]
  },
  {
   "cell_type": "code",
   "execution_count": 69,
   "metadata": {},
   "outputs": [
    {
     "name": "stdout",
     "output_type": "stream",
     "text": [
      "F1 score on Test Data \n",
      "0.99192\n",
      "              precision    recall  f1-score   support\n",
      "\n",
      "           o      0.993     1.000     0.997      4247\n",
      "           c      0.966     0.667     0.789        42\n",
      "           a      0.889     0.348     0.500        23\n",
      "\n",
      "    accuracy                          0.993      4312\n",
      "   macro avg      0.949     0.671     0.762      4312\n",
      "weighted avg      0.993     0.993     0.992      4312\n",
      "\n"
     ]
    }
   ],
   "source": [
    "y_pred=crf.predict(X_test)\n",
    "print(\"F1 score on Test Data \")\n",
    "print(f\"{metrics.flat_f1_score(y_test, y_pred,average='weighted', labels=crf.classes_):.05f}\")\n",
    "\n",
    "### Look at class wise score\n",
    "print(metrics.flat_classification_report(\n",
    "    y_test, y_pred, labels=crf.classes_, digits=3\n",
    "))"
   ]
  },
  {
   "cell_type": "code",
   "execution_count": 71,
   "metadata": {},
   "outputs": [
    {
     "data": {
      "text/plain": [
       "<AxesSubplot:xlabel='Predicted', ylabel='Actual'>"
      ]
     },
     "execution_count": 71,
     "metadata": {},
     "output_type": "execute_result"
    },
    {
     "data": {
      "image/png": "[encoded data removed]",
      "text/plain": [
       "<Figure size 504x360 with 2 Axes>"
      ]
     },
     "metadata": {},
     "output_type": "display_data"
    }
   ],
   "source": [
    "y_test_1d, y_pred_1d = [], []\n",
    "for yorig, ynew in [(y_test, y_test_1d), (y_pred, y_pred_1d)]:\n",
    "    for tags in yorig:\n",
    "        for t in tags:\n",
    "            ynew.append(t)\n",
    "            \n",
    "data = confusion_matrix(y_test_1d, y_pred_1d)\n",
    "df_cm = pd.DataFrame(data, columns=np.unique(y_test_1d), index = np.unique(y_test_1d))\n",
    "df_cm.index.name = 'Actual'\n",
    "df_cm.columns.name = 'Predicted'\n",
    "plt.figure(figsize = (7,5))\n",
    "sn.set(font_scale=1.4)#for label size\n",
    "sn.heatmap(df_cm, cmap=\"Blues\", annot=True,annot_kws={\"size\": 16})# font size"
   ]
  },
  {
   "cell_type": "code",
   "execution_count": 41,
   "metadata": {},
   "outputs": [
    {
     "name": "stdout",
     "output_type": "stream",
     "text": [
      "Number of Transition Features \n"
     ]
    },
    {
     "data": {
      "text/plain": [
       "9"
      ]
     },
     "execution_count": 41,
     "metadata": {},
     "output_type": "execute_result"
    }
   ],
   "source": [
    "print(\"Number of Transition Features \")\n",
    "len(crf.transition_features_)"
   ]
  },
  {
   "cell_type": "code",
   "execution_count": 22,
   "metadata": {},
   "outputs": [
    {
     "data": {
      "text/plain": [
       "[(('a', 'a'), 2.994266),\n",
       " (('o', 'o'), 2.181655),\n",
       " (('c', 'c'), 2.179429),\n",
       " (('c', 'o'), -1.554949),\n",
       " (('a', 'c'), -1.674058),\n",
       " (('o', 'a'), -1.720597),\n",
       " (('a', 'o'), -1.819191),\n",
       " (('o', 'c'), -1.832376),\n",
       " (('c', 'a'), -1.986582)]"
      ]
     },
     "execution_count": 22,
     "metadata": {},
     "output_type": "execute_result"
    }
   ],
   "source": [
    "Counter(crf.transition_features_).most_common(20)"
   ]
  },
  {
   "cell_type": "code",
   "execution_count": 23,
   "metadata": {},
   "outputs": [
    {
     "name": "stdout",
     "output_type": "stream",
     "text": [
      "Number of State Features  4530\n"
     ]
    }
   ],
   "source": [
    "print(\"Number of State Features \",len(crf.state_features_))"
   ]
  },
  {
   "cell_type": "code",
   "execution_count": 24,
   "metadata": {},
   "outputs": [
    {
     "data": {
      "text/plain": [
       "[(('is_car_brand', 'c'), 2.785768),\n",
       " (('prev_word:The', 'a'), 1.465566),\n",
       " (('prefix_2:VW', 'c'), 1.423241),\n",
       " (('prev_word:,', 'o'), 1.367695),\n",
       " (('prev_3word:asdoesthe', 'o'), 1.360093),\n",
       " (('is_numeric', 'c'), 1.337133),\n",
       " (('prefix_3:Mer', 'c'), 1.334688),\n",
       " (('prefix_4:Merc', 'c'), 1.334688),\n",
       " (('is_last_word', 'o'), 1.316394),\n",
       " (('prev_2word:doesthe', 'o'), 1.28171),\n",
       " ((\"suffix_2:'s\", 'c'), 1.181516),\n",
       " (('prefix_1:a', 'o'), 1.165886),\n",
       " (('is_first_capital', 'c'), 1.165151),\n",
       " (('prev_word:my', 'c'), 1.107591),\n",
       " (('prefix_2:Me', 'c'), 1.074723),\n",
       " (('prev_2word:A4(', 'c'), 1.0541),\n",
       " (('prev_3word:AudiA4(', 'c'), 1.0541),\n",
       " (('suffix_3:rus', 'c'), 1.050561),\n",
       " (('suffix_4:arus', 'c'), 1.050561),\n",
       " (('prev_2word:listedby', 'c'), 1.050463)]"
      ]
     },
     "execution_count": 24,
     "metadata": {},
     "output_type": "execute_result"
    }
   ],
   "source": [
    "Counter(crf.state_features_).most_common(20)"
   ]
  },
  {
   "cell_type": "markdown",
   "metadata": {},
   "source": [
    "Next, let's check how model improve along with the increase of training data size:"
   ]
  },
  {
   "cell_type": "code",
   "execution_count": 25,
   "metadata": {},
   "outputs": [
    {
     "name": "stdout",
     "output_type": "stream",
     "text": [
      "Wall time: 22.2 s\n"
     ]
    },
    {
     "data": {
      "text/plain": [
       "<module 'matplotlib.pyplot' from 'c:\\\\users\\\\john\\\\appdata\\\\local\\\\programs\\\\python\\\\python38\\\\lib\\\\site-packages\\\\matplotlib\\\\pyplot.py'>"
      ]
     },
     "execution_count": 25,
     "metadata": {},
     "output_type": "execute_result"
    },
    {
     "data": {
      "image/png": "[encoded data removed]",
      "text/plain": [
       "<Figure size 864x432 with 1 Axes>"
      ]
     },
     "metadata": {
      "needs_background": "light"
     },
     "output_type": "display_data"
    }
   ],
   "source": [
    "%%time\n",
    "cv = KFold(\n",
    "    n_splits=5,\n",
    "    random_state=RANDOM_STATE, \n",
    "    shuffle=True\n",
    ")\n",
    "\n",
    "estimator = crf\n",
    "\n",
    "plot_learning_curve(\n",
    "    estimator, \"CRF\",\n",
    "    X, \n",
    "    y, \n",
    "    cv=cv, \n",
    "    train_sizes=np.linspace(0.2, 1.0, 10)\n",
    ")"
   ]
  },
  {
   "cell_type": "markdown",
   "metadata": {},
   "source": [
    "#### Evaluation of model manually\n",
    "Let's feed in our own sentence(s) and check how model perform in real world:"
   ]
  },
  {
   "cell_type": "code",
   "execution_count": 26,
   "metadata": {},
   "outputs": [],
   "source": [
    "def sent2crf_feature(sent):\n",
    "    words = list(nltk.tokenize.word_tokenize(sent))\n",
    "    sent_crf_feat = [crf_features(words, i) for i in range(len(words))]\n",
    "    return words, [sent_crf_feat]\n",
    "\n",
    "\n",
    "def predict(sent):\n",
    "    words, crf_feats = sent2crf_feature(sent)\n",
    "    tags = crf.predict(crf_feats)[0]\n",
    "    print(f\"words={words}\\ntags={tags}\\n\")\n",
    "    colorful_words = []\n",
    "    for w, t in zip(words, tags):\n",
    "        if t == 'c':\n",
    "            w = f\"{color.BOLD}{color.BLUE}{w}{color.END}\"\n",
    "        elif t == 'a':\n",
    "            w = f\"{color.BOLD}{color.RED}{w}{color.END}\"        \n",
    "            \n",
    "        colorful_words.append(w)\n",
    "    \n",
    "    print(\" \".join(colorful_words))\n",
    "    "
   ]
  },
  {
   "cell_type": "code",
   "execution_count": 27,
   "metadata": {},
   "outputs": [
    {
     "name": "stdout",
     "output_type": "stream",
     "text": [
      "words=['My', 'car', 'MAZDA', 'MX-5', 'RF', 'has', 'bluetooth', 'pairing', 'issue', '.']\n",
      "tags=['o', 'o', 'c', 'c', 'c', 'o', 'o', 'o', 'o', 'o']\n",
      "\n",
      "My car \u001b[1m\u001b[94mMAZDA\u001b[0m \u001b[1m\u001b[94mMX-5\u001b[0m \u001b[1m\u001b[94mRF\u001b[0m has bluetooth pairing issue .\n"
     ]
    }
   ],
   "source": [
    "my_sent=\"My car MAZDA MX-5 RF has bluetooth pairing issue.\"\n",
    "predict(my_sent)"
   ]
  },
  {
   "cell_type": "code",
   "execution_count": 28,
   "metadata": {},
   "outputs": [
    {
     "name": "stdout",
     "output_type": "stream",
     "text": [
      "words=['Though', 'my', '2015', 'Subaru', 'connected', 'just', 'fine', 'even', 'w/o', 'needing', 'that', 'step', '.']\n",
      "tags=['o', 'o', 'c', 'c', 'o', 'o', 'o', 'o', 'o', 'o', 'o', 'o', 'o']\n",
      "\n",
      "Though my \u001b[1m\u001b[94m2015\u001b[0m \u001b[1m\u001b[94mSubaru\u001b[0m connected just fine even w/o needing that step .\n"
     ]
    }
   ],
   "source": [
    "my_sent=\"Though my 2015 Subaru connected just fine even w/o needing that step.\"\n",
    "predict(my_sent)"
   ]
  },
  {
   "cell_type": "code",
   "execution_count": 29,
   "metadata": {},
   "outputs": [
    {
     "name": "stdout",
     "output_type": "stream",
     "text": [
      "words=['I', '’', 've', 'had', 'exactly', 'the', 'same', 'results', 'with', 'a', '‘', '20', 'Chevy', '.']\n",
      "tags=['o', 'o', 'o', 'o', 'o', 'o', 'o', 'o', 'o', 'o', 'o', 'c', 'c', 'o']\n",
      "\n",
      "I ’ ve had exactly the same results with a ‘ \u001b[1m\u001b[94m20\u001b[0m \u001b[1m\u001b[94mChevy\u001b[0m .\n"
     ]
    }
   ],
   "source": [
    "my_sent=\"I’ve had exactly the same results with a ‘20 Chevy. \"\n",
    "predict(my_sent)"
   ]
  },
  {
   "cell_type": "markdown",
   "metadata": {},
   "source": [
    "## <font color='darkblue'>Supplement</font>\n",
    "* [All Car Brands](https://www.carlogos.org/car-brands/)\n",
    "* [FAQ - How to handle unknown word in Gensim?](https://stackoverflow.com/questions/54709178/how-to-handle-words-that-are-not-in-word2vecs-vocab-optimally)\n",
    "* [FAQ - How to use PRAW to read the newest post from a subreddit and display the body?](https://www.reddit.com/r/learnpython/comments/90asqi/how_to_use_praw_to_read_the_newest_post_from_a/)"
   ]
  }
 ],
 "metadata": {
  "kernelspec": {
   "display_name": "Python 3",
   "language": "python",
   "name": "python3"
  },
  "language_info": {
   "codemirror_mode": {
    "name": "ipython",
    "version": 3
   },
   "file_extension": ".py",
   "mimetype": "text/x-python",
   "name": "python",
   "nbconvert_exporter": "python",
   "pygments_lexer": "ipython3",
   "version": "3.8.7"
  }
 },
 "nbformat": 4,
 "nbformat_minor": 4
}
