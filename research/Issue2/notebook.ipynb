{
 "cells": [
  {
   "cell_type": "markdown",
   "metadata": {},
   "source": [
    "<a id='preface'></a>\n",
    "## <font color='darkblue'>Preface</font>\n",
    "[Issue2](https://github.com/johnklee/ff_crawler/issues/2) aims to collect post/articles from below websites for future analsysis:\n",
    "* https://www.androidcentral.com/ ([Category Rank 109](https://www.similarweb.com/website/androidcentral.com/))\n",
    "* https://www.androidpolice.com/ ([Category Rank 198](https://www.similarweb.com/website/androidpolice.com/))\n",
    "* https://www.xda-developers.com/ ([Category Rank 107](https://www.similarweb.com/website/xda-developers.com/))"
   ]
  },
  {
   "cell_type": "markdown",
   "metadata": {},
   "source": [
    "### <font color='darkgreen'>Agenda</font>\n",
    "* <font size='3ptx'>[**Experiment - Crawling HTML page**](#crawl_exp)</font>\n",
    "* <font size='3ptx'>[**Design - ExplorerWorker**](#design_explorerstar)</font>\n",
    "* <font size='3ptx'>[**Analysis Of Collected Interested Post**](#analysis_of_post)</font>"
   ]
  },
  {
   "cell_type": "code",
   "execution_count": 115,
   "metadata": {},
   "outputs": [],
   "source": [
    "import requests as reqlib\n",
    "import os\n",
    "import re\n",
    "import random\n",
    "import time\n",
    "import pickle\n",
    "import abc\n",
    "import hashlib\n",
    "import threading\n",
    "import matplotlib\n",
    "import matplotlib.pyplot as plt\n",
    "from urllib.parse import urlparse\n",
    "from shutil import copyfile\n",
    "from enum import IntEnum\n",
    "from typing import Tuple, List, Dict, Optional"
   ]
  },
  {
   "cell_type": "code",
   "execution_count": null,
   "metadata": {},
   "outputs": [],
   "source": [
    "from purifier import TEAgent\n",
    "from purifier.logb import getLogger"
   ]
  },
  {
   "cell_type": "markdown",
   "metadata": {},
   "source": [
    "<a id='crawl_exp'></a>\n",
    "## <font color='darkblue'>Experiment - Crawling HTML page</font>\n",
    "Here we will define a few classes with crawling functionality for later usage:\n",
    "* <font size='3ptx'>[**AndroidCentral**](#androidcentral)</font>\n",
    "* <font size='3ptx'>[**AndroidPolicy**](#androidpolicy)</font>\n",
    "* <font size='3ptx'>[**XDA-Developer**](#xda-developer)</font>"
   ]
  },
  {
   "cell_type": "code",
   "execution_count": 44,
   "metadata": {},
   "outputs": [],
   "source": [
    "##########################################\n",
    "# utils.py\n",
    "##########################################\n",
    "\n",
    "class ScraperNot200(Exception):\n",
    "    def __init__(self, sc):\n",
    "        self.sc = sc\n",
    "        \n",
    "    def __str__(self):\n",
    "        return f\"Unexpected Status Code={self.sc}!\"\n",
    "\n",
    "class UnsupportedMIME(Exception):\n",
    "    def __init__(self, mime):\n",
    "        self.mime = mime\n",
    "        \n",
    "    def __str__(self):\n",
    "        return f\"Unsupported MIME={self.mime}!\"\n",
    "    \n",
    "\n",
    "class Scraper(metaclass=abc.ABCMeta):\n",
    "    @abc.abstractmethod\n",
    "    def get(self, url):\n",
    "        pass\n",
    "\n",
    "class ReqScraper(object):\n",
    "    def __init__(self, \n",
    "                 page_cache_path=\"page_caches\",\n",
    "                 headers={'User-Agent': 'Mozilla/5.0'},\n",
    "                 skip_cache=False,\n",
    "                 supported_mime_set={\"text/html\"}):\n",
    "        self.page_cache_path = page_cache_path        \n",
    "        if not os.path.isdir(self.page_cache_path):\n",
    "            os.makedirs(self.page_cache_path)\n",
    "            \n",
    "        self.headers = headers            \n",
    "        self.logger = getLogger(os.path.basename(self.__class__.__name__))\n",
    "        self.skip_cache = skip_cache\n",
    "        self.supported_mime_set = supported_mime_set\n",
    "    \n",
    "    def _get_cache_path(self, url):\n",
    "        test_url_host = urlparse(url).netloc\n",
    "        url_md5 = hashlib.md5(url.encode('utf-8')).hexdigest()\n",
    "        cache_file_name = f\"{test_url_host}_{url_md5}.txt\"\n",
    "        cache_file_path = os.path.join(self.page_cache_path, cache_file_name)\n",
    "        return cache_file_path\n",
    "    \n",
    "    def _get_from_cache(self, url):\n",
    "        cache_file_path = self._get_cache_path(url)        \n",
    "        if os.path.isfile(cache_file_path):\n",
    "            self.logger.debug(f\"Return content of {url} from cache...\")\n",
    "            with open(cache_file_path, 'r', encoding='utf8') as fo:\n",
    "                return fo.read()\n",
    "            \n",
    "        return None\n",
    "    \n",
    "    def _save2cache(self, url, html_content):\n",
    "        cache_file_path = self._get_cache_path(url)\n",
    "        with open(cache_file_path, 'w', encoding='utf8') as fw:\n",
    "            fw.write(html_content)\n",
    "    \n",
    "    def get(self, url):\n",
    "        if not self.skip_cache:\n",
    "            cache_text = self._get_from_cache(url)\n",
    "            if cache_text is not None:\n",
    "                return cache_text\n",
    "            \n",
    "        self.logger.debug(f\"Crawling {url}...\")\n",
    "        resp = reqlib.get(url, headers=self.headers)\n",
    "        if resp.ok:\n",
    "            mime = resp.headers['content-type'].split(';')[0].strip()\n",
    "            self.logger.debug(f\"URL={url} with MIME={mime}...\")\n",
    "            if mime.lower() not in self.supported_mime_set:\n",
    "                raise UnsupportedMIME(mime)\n",
    "                \n",
    "            self._save2cache(url, resp.text)\n",
    "            return resp.text\n",
    "        else:\n",
    "            raise ScraperNot200(resp.status_code)"
   ]
  },
  {
   "cell_type": "code",
   "execution_count": 3,
   "metadata": {},
   "outputs": [],
   "source": [
    "# sr_agent = ReqScraper(skip_cache=False)\n",
    "sr_agent = ReqScraper()"
   ]
  },
  {
   "cell_type": "code",
   "execution_count": 4,
   "metadata": {},
   "outputs": [
    {
     "name": "stderr",
     "output_type": "stream",
     "text": [
      "\u001b[1;30mMainThread/INFO:\u001b[0m <<ipython-input-2-b7bd96941ad2>#50> Return content of https://www.androidcentral.com/ from cache...\n"
     ]
    }
   ],
   "source": [
    "androidcentral_host_url = 'https://www.androidcentral.com/'\n",
    "androidcentral_host_html = sr_agent.get(androidcentral_host_url)"
   ]
  },
  {
   "cell_type": "code",
   "execution_count": 5,
   "metadata": {},
   "outputs": [
    {
     "data": {
      "text/plain": [
       "'<!DOCTYPE html>\\n<html dir=\"ltr\">\\n<head>\\n<meta charset=\"UTF-8\" />\\n<meta name=\"viewport\" content=\"widt'"
      ]
     },
     "execution_count": 5,
     "metadata": {},
     "output_type": "execute_result"
    }
   ],
   "source": [
    "androidcentral_host_html[:100]"
   ]
  },
  {
   "cell_type": "code",
   "execution_count": 6,
   "metadata": {},
   "outputs": [
    {
     "name": "stdout",
     "output_type": "stream",
     "text": [
      "{'r:https?://www\\\\.androidcentral\\\\.com/[^/]+$': purifier.policy.policy1001 (policy_androidcentral_1/None:r:https?://www\\.androidcentral\\.com/[^/]+$), 'r:https?://www\\\\.androidpolice\\\\.com/\\\\d{4}/\\\\d{1,2}/\\\\d{1,2}/[^/]+/?$': purifier.policy.policy1001 (policy_androidpolicy_1/None:r:https?://www\\.androidpolice\\.com/\\d{4}/\\d{1,2}/\\d{1,2}/[^/]+/?$), 'r:https?://www\\\\.xda-developers\\\\.com/[^/]+/?$': purifier.policy.policy1001 (policy_xdadep_1/None:r:https?://www\\.xda-developers\\.com/[^/]+/?$)}\n",
      "\n",
      "\n",
      "is_succ: True (title=Android Central - News, Reviews, Deals & Help on all Android devices):\n",
      "Android Central - News, Reviews, Deals & Help on all Android devices\n",
      "Battle of the super streamers\n",
      "\n",
      "Michael L Hicks  11 hours ago\n",
      "\n",
      "Several new streaming devices have launched or are launching within a month of one another, cramming in new specs and features while driving down prices to compete with one another. We're weighing the best dongles, sticks and devices from Amazon, Google, Apple, Roku, Nvidia and other major tech players to decide which streaming device is the best for you.\n",
      "\n"
     ]
    }
   ],
   "source": [
    "extractor = TEAgent(\n",
    "    policy_path=\"policy\", \n",
    "    disable_policy=True,\n",
    "    ext_title=True\n",
    ")\n",
    "print(str(extractor.handlers['text/html'].stg_dict) + \"\\n\\n\")\n",
    "is_succ, rst, handler = extractor.parse(\n",
    "    \"text/html\", \n",
    "    androidcentral_host_url, \n",
    "    androidcentral_host_html,\n",
    "    do_ext_link=True\n",
    ")\n",
    "print(f\"is_succ: {is_succ} (title={rst['title']}):\\n{rst['text']}\\n\")"
   ]
  },
  {
   "cell_type": "code",
   "execution_count": 7,
   "metadata": {},
   "outputs": [
    {
     "data": {
      "text/plain": [
       "['http://www.youtube.com/subscription_center?utm_source=ac&utm_medium=burger&utm_campaign=navigation&add_user=AndroidCentral',\n",
       " 'https://www.androidcentral.com/best-wifi-6-routers',\n",
       " 'https://www.androidcentral.com/playstation-now-could-be-serious-xcloud-competitor-android',\n",
       " 'https://www.futureplc.com/services/advertising',\n",
       " 'https://www.thrifter.com/?utm_source=ac&utm_medium=navbar&utm_campaign=navigation',\n",
       " 'https://www.futureplc.com/services/endorsement-licensing/?utm_source=ac&utm_medium=drawer&utm_campaign=navigation',\n",
       " 'http://youtube.com/c/themrmobile?utm_source=ac&utm_medium=drawer&utm_campaign=navigation&sub_confirmation=1',\n",
       " 'https://www.androidcentral.com/best-chromebook',\n",
       " 'https://www.androidcentral.com/about',\n",
       " 'https://www.androidcentral.com/ac-podcast-522-android-12-sony-xperia-1iii-fitbit-luxe-apple-event',\n",
       " 'https://www.androidcentral.com/what-know-about-resident-evil-villages-demo-weekend',\n",
       " 'https://www.androidcentral.com/latest-whatsapp-beta-brings-playback-speed-control-voice-notes',\n",
       " 'https://www.androidcentral.com/google-maps-highlights-how-you-can-find-eco-friendly-businesses',\n",
       " 'https://www.androidcentral.com/how-watch-2021-academy-country-music-awards-online-anywhere',\n",
       " 'https://www.androidcentral.com/best-vpn',\n",
       " 'https://www.androidcentral.com',\n",
       " 'https://www.androidcentral.com/google-rolls-out-data-saving-mode-meets-android-app',\n",
       " 'https://www.imore.com?utm_source=ac&utm_medium=drawer&utm_campaign=navigation',\n",
       " 'https://www.androidcentral.com/best-t-mobile-phones',\n",
       " 'https://www.windowscentral.com?utm_source=ac&utm_medium=drawer&utm_campaign=navigation',\n",
       " 'https://www.androidcentral.com/best',\n",
       " 'https://www.futureplc.com/terms-conditions/?utm_source=ac&utm_medium=footer&utm_campaign=navigation',\n",
       " 'https://www.androidcentral.com/best-moto-g-stylus-2021-cases',\n",
       " 'https://www.twitter.com/androidcentral?utm_source=ac&utm_medium=burger&utm_campaign=navigation',\n",
       " 'https://www.androidcentral.com/best-android-phones',\n",
       " 'https://www.androidcentral.com/android-12-will-finally-let-you-disable-annoying-wear-os-notifications',\n",
       " 'https://www.androidcentral.com/xiaomis-mi-11-ultra-launches-india-take-oneplus-9-pro-and-galaxy-s21-ultra',\n",
       " 'https://www.futureplc.com/accessibility-statement/?utm_source=ac&utm_medium=drawer&utm_campaign=navigation',\n",
       " 'https://www.androidcentral.com/android-user-have-you-ever-been-tempted-iphone',\n",
       " 'https://www.androidcentral.com/best-lg-phones',\n",
       " 'https://www.androidcentral.com/how-watch-fa-cup-how-watch-football-tournament-online-anywhere',\n",
       " 'https://www.androidcentral.com/best-android-smartwatch',\n",
       " 'https://www.androidcentral.com/oppo-bluetooth-uwb-tracker-usb-c-charging',\n",
       " 'https://www.instagram.com/androidcentral/?utm_source=ac&utm_medium=burger&utm_campaign=navigation',\n",
       " 'https://www.androidcentral.com/google-prepares-assistant-voice-shortcuts-without-wake-word',\n",
       " 'https://www.androidcentral.com/google-play-store-optimizing-app-installation',\n",
       " 'https://www.androidcentral.com/oculus-finally-getting-rid-its-hideously-ugly-avatars',\n",
       " 'https://www.androidcentral.com/best-lenovo-chromebook-duet-deals',\n",
       " 'https://thrifter.com?utm_source=ac&utm_medium=drawer&utm_campaign=navigation',\n",
       " 'https://www.technobuffalo.com?utm_source=ac&utm_medium=drawer&utm_campaign=navigation',\n",
       " 'https://www.androidcentral.com/how-set-alexa-sonos-system',\n",
       " 'https://www.androidcentral.com/disgaea-rpg-android-game-week',\n",
       " 'https://www.androidcentral.com/tablet-hardware-has-outpaced-both-software-capabilities-and-usefulness',\n",
       " 'https://www.androidcentral.com/rupauls-drag-race-live-stream-watch-season-13-finale-online-anywhere',\n",
       " 'https://www.futureplc.com/privacy-policy/?utm_source=ac&utm_medium=footer&utm_campaign=navigation',\n",
       " 'https://www.androidcentral.com/blog',\n",
       " 'https://www.androidcentral.com/liege-bastogne-liege-live-stream-2021-live-stream-how-watch-uci-world-tour-cycling-race-online',\n",
       " 'https://www.androidcentral.com/newsletter',\n",
       " 'https://www.futureplc.com/accessibility-statement?utm_source=ac&utm_medium=footer&utm_campaign=navigation',\n",
       " 'https://www.androidcentral.com/best-reviews',\n",
       " 'http://yourfuturejob.futureplc.com/?utm_source=ac&utm_medium=footer&utm_campaign=navigation',\n",
       " 'https://www.androidcentral.com/razer-anzu-review',\n",
       " 'https://www.androidcentral.com/oneplus-9',\n",
       " 'https://www.androidcentral.com/rss.xml?utm_medium=burger&utm_campaign=navigation&utm_source=ac',\n",
       " 'https://www.androidcentral.com/android-11',\n",
       " 'https://www.androidcentral.com/vpn',\n",
       " 'https://www.androidcentral.com/gboard-rolling-out-clipboard-horizontal-scroll-list',\n",
       " 'https://www.androidcentral.com/playstation-5',\n",
       " 'https://www.androidcentral.com/marshall-mode-ii-review',\n",
       " 'https://www.androidcentral.com/twitter-tip-jar-super-follow-buttons-revealed',\n",
       " 'https://www.facebook.com/AndroidCentral/?utm_source=ac&utm_medium=burger&utm_campaign=navigation',\n",
       " 'https://www.androidcentral.com/google-pay-spring-challenge-sticker-rewards',\n",
       " 'https://www.androidcentral.com/best-oculus-quest-2-deals',\n",
       " 'https://www.androidcentral.com/best-folding-phone-deals',\n",
       " 'https://www.futureplc.com?utm_source=ac&utm_medium=footer&utm_campaign=navigation',\n",
       " 'https://www.androidcentral.com/android',\n",
       " 'https://www.androidcentral.com/control-temperature-anywhere-honeywells-t9-smart-thermostat-sale-150',\n",
       " 'https://www.androidcentral.com/reviews',\n",
       " 'https://www.androidcentral.com/wraith-oblivion-afterlife-review',\n",
       " 'https://www.androidcentral.com/how-sign-sling',\n",
       " 'https://www.androidcentral.com/e?link=https%3A%2F%2Fwww.xvtelink.com%2Foffer%2Fandroidcentral%3Foffer%3D3monthsfree%26a_fid%3D744%26data1%3DUUacUdUbU212YYw&token=S2zYYIBz',\n",
       " 'https://www.androidcentral.com/phones',\n",
       " 'https://passport.mobilenations.com/?utm_source=ac&utm_medium=signup&utm_campaign=passport&u=eNpVjsEOgjAQRP-ld4GKrXQ5mvgB6p20dAuNQElbg4nx36XoxdvsZOfNSODwCkD3QDxq67GNzcMPpA5wKIH0Mc4B8nxZlkxO2jurW5yil0PWujGfcNn1bsRZdphcIpT_Y5pRs-SXK55iJXWljBGUFcwgk4YrzYRWpkSm-FYJJNi4odaEbJPgSUTrpnRUid_ZENFvfQWQ0_Vybm7ujuuDguLn4nO2Xn5jdt1Fxf5YCsHq9wfU4kz_',\n",
       " 'https://www.futureplc.com?utm_source=ac&utm_medium=drawer&utm_campaign=navigation',\n",
       " 'https://www.androidcentral.com/unlock-5g-speeds-mint-mobiles-unlimited-data-plan-only-30month',\n",
       " 'https://www.androidcentral.com/deals',\n",
       " 'https://www.futureplc.com/privacy-policy/?utm_source=ac&utm_medium=drawer&utm_campaign=navigation',\n",
       " 'https://www.futureplc.com/cookies-policy?utm_source=ac&utm_medium=drawer&utm_campaign=navigation',\n",
       " 'https://www.futureplc.com/cookies-policy?utm_source=ac&utm_medium=footer&utm_campaign=navigation',\n",
       " 'https://www.futureplc.com/terms-conditions/?utm_source=ac&utm_medium=drawer&utm_campaign=navigation',\n",
       " 'https://www.androidcentral.com/snapchat-reports-more-daily-active-users-android-iphone-ios',\n",
       " 'https://crackberry.com?utm_source=ac&utm_medium=drawer&utm_campaign=navigation',\n",
       " 'https://www.futureplc.com/accessibility-statement?utm_source=ac&utm_medium=drawer&utm_campaign=navigation',\n",
       " 'https://www.futureplc.com/services/endorsement-licensing/?utm_source=ac&utm_medium=footer&utm_campaign=navigation',\n",
       " 'https://www.androidcentral.com/verizons-one-day-sale-sends-oculus-quest-2-its-best-price-yet',\n",
       " 'https://www.androidcentral.com/google-and-apple-are-facing-tough-questions-over-developer-testimony-us-senate',\n",
       " 'http://yourfuturejob.futureplc.com/?utm_source=ac&utm_medium=drawer&utm_campaign=navigation',\n",
       " 'https://www.androidcentral.com/asus-zenfone-8-launch-date-teased',\n",
       " 'https://www.androidcentral.com/gaming',\n",
       " 'https://forums.androidcentral.com?utm_source=ac&utm_medium=navbar&utm_campaign=navigation',\n",
       " 'https://www.androidcentral.com/oculus-quest-2-vs-oculus-quest',\n",
       " 'https://www.mobilenations.com/advertise?utm_source=ac&utm_medium=drawer&utm_campaign=navigation',\n",
       " 'https://www.mobilenations.com/licensing-reprints/?utm_source=ac&utm_medium=drawer&utm_campaign=navigation',\n",
       " 'https://www.androidcentral.com/samsungs-upcoming-galaxy-a22-5g-gets-shown-renders',\n",
       " 'https://www.androidcentral.com/best-streaming-devices',\n",
       " 'https://www.androidcentral.com/android-12-developer-preview-3-hands',\n",
       " 'https://www.androidcentral.com/huawei',\n",
       " 'https://www.androidcentral.com/samsung-galaxy-s21',\n",
       " 'https://www.androidcentral.com/best-oneplus-8-pro-cases',\n",
       " 'https://www.androidcentral.com/oneplus-8t-review',\n",
       " 'https://passport.mobilenations.com/?u=eNpVjkEOgjAQRe_SvUCtrXRYmnhcMHVPWjqFRqCk1GBivLsU3bj7_yX_zSgQ8JqB7oEENC5gE-tH6Ek1w4EB6WKcZsjzZVkyNZrgnWlwjEH1WeOHfMRl1_kBXCfVYppQ8a-pB8MTZ6ueYqlMqa2VlBfcXCJXVmjDpdGWIddiOwlkdnFTrQvVpCBSiM6PqXAgvW_dlmkB5HS9nOubv-NKNBQ_is_JBfXduPUpKvdHJiWv3h_WWkuw',\n",
       " 'https://www.androidcentral.com/best-chromebox',\n",
       " 'https://www.androidcentral.com/how-change-your-google-profile-photo-contacts-app',\n",
       " 'https://www.androidcentral.com/best-android-tablets',\n",
       " 'https://www.androidcentral.com/quench-your-thirst-lifestraw-go-water-filter-bottle-sale-30',\n",
       " 'https://www.androidcentral.com/youtube-rolls-out-new-streaming-quality-controls-mobile',\n",
       " 'https://www.androidcentral.com/google-pixel-5',\n",
       " 'https://www.androidcentral.com/motogp-portugal-2021-live-stream-how-watch-grand-prix-online-anywhere',\n",
       " 'https://www.androidcentral.com/how-watch-new-mortal-kombat-film-online-anywhere',\n",
       " 'https://www.androidcentral.com/grab-two-weather-resistant-kasa-outdoor-smart-plugs-sale-30-total',\n",
       " 'https://www.androidcentral.com/oneplus-8-review',\n",
       " 'https://www.androidcentral.com/you-will-soon-start-seeing-ads-instagram-reels',\n",
       " 'https://www.androidcentral.com/chromebooks',\n",
       " 'https://www.androidcentral.com/how-to',\n",
       " 'https://www.androidcentral.com/fubotv-account-heres-how-activate-your-fubotv-subscription',\n",
       " 'https://forums.androidcentral.com?utm_source=ac&utm_medium=drawer&utm_campaign=navigation',\n",
       " 'https://www.androidcentral.com/best-wireless-earbuds']"
      ]
     },
     "execution_count": 7,
     "metadata": {},
     "output_type": "execute_result"
    }
   ],
   "source": [
    "rst['all_links']"
   ]
  },
  {
   "cell_type": "markdown",
   "metadata": {},
   "source": [
    "<a id='androidcentral'></a>\n",
    "### <font color='darkgreen'>AndroidCentral</font> ([back](#crawl_exp))\n",
    "Let's explore the page of [website](https://www.androidcentral.com/android) and design text extraction policy for it:"
   ]
  },
  {
   "cell_type": "code",
   "execution_count": 8,
   "metadata": {},
   "outputs": [],
   "source": [
    "# Demo text extraction\n",
    "# https://github.com/johnklee/scraper-text-purifier/blob/main/README.md\n",
    "androidcentral_test_url = \"https://www.androidcentral.com/latest-whatsapp-beta-brings-playback-speed-control-voice-notes\"\n",
    "androidcentral_test_host = urlparse(androidcentral_test_url).netloc"
   ]
  },
  {
   "cell_type": "code",
   "execution_count": 9,
   "metadata": {},
   "outputs": [
    {
     "name": "stderr",
     "output_type": "stream",
     "text": [
      "\u001b[1;30mMainThread/INFO:\u001b[0m <<ipython-input-2-b7bd96941ad2>#50> Return content of https://www.androidcentral.com/latest-whatsapp-beta-brings-playback-speed-control-voice-notes from cache...\n"
     ]
    }
   ],
   "source": [
    "androidcentral_test_html = sr_agent.get(androidcentral_test_url)"
   ]
  },
  {
   "cell_type": "code",
   "execution_count": 10,
   "metadata": {},
   "outputs": [
    {
     "data": {
      "text/plain": [
       "'<!DOCTYPE html>\\n<html dir=\"ltr\">\\n<head>\\n<meta charset=\"UTF-8\" />\\n<meta name=\"viewport\" content=\"widt'"
      ]
     },
     "execution_count": 10,
     "metadata": {},
     "output_type": "execute_result"
    }
   ],
   "source": [
    "androidcentral_test_html[:100]"
   ]
  },
  {
   "cell_type": "code",
   "execution_count": 11,
   "metadata": {},
   "outputs": [
    {
     "name": "stdout",
     "output_type": "stream",
     "text": [
      "{'r:https?://www\\\\.androidcentral\\\\.com/[^/]+$': purifier.policy.policy1001 (policy_androidcentral_1/None:r:https?://www\\.androidcentral\\.com/[^/]+$), 'r:https?://www\\\\.androidpolice\\\\.com/\\\\d{4}/\\\\d{1,2}/\\\\d{1,2}/[^/]+/?$': purifier.policy.policy1001 (policy_androidpolicy_1/None:r:https?://www\\.androidpolice\\.com/\\d{4}/\\d{1,2}/\\d{1,2}/[^/]+/?$), 'r:https?://www\\\\.xda-developers\\\\.com/[^/]+/?$': purifier.policy.policy1001 (policy_xdadep_1/None:r:https?://www\\.xda-developers\\.com/[^/]+/?$)}\n",
      "\n",
      "\n",
      "is_succ: True (title=Latest WhatsApp beta brings playback speed control for voice notes | Android Central):\n",
      "23 Apr 2021\n",
      "\n",
      "Source: Harish Jonnalagadda / Android Central\n",
      "\n",
      "What you need to know\n",
      "\n",
      "* The latest WhatsApp beta for Android adds support for different playback speeds for voice messages.\n",
      "* When you play a voice message, you will now see a playback speed button.\n",
      "* You can choose from three playback speeds by tapping on the new button: 1x, 1.5x, and 2x.\n",
      "\n",
      "What you need to know\n",
      "\n",
      "* The latest WhatsApp beta for Android adds support for different playback speeds for voice messages.\n",
      "* When you play a voice message, you will now see a playback speed button.\n",
      "* You can choose from three playback speeds by tapping on the new button: 1x, 1.5x, and 2x.\n",
      "\n",
      "WhatsApp has released a new beta version of its Android app through the Google Play beta program. The latest WhatsApp beta v2.21.9.4 brings a useful new feature that lets users listen to voice messages at different playback speeds.\n",
      "\n",
      "The feature has been under development for some time now and was first spotted by the folks at WABetaInfo last month. If you have the latest WhatsApp beta installed on your phone, you can access the feature by playing any voice message and tapping on the new playback speed button. The feature currently supports three playback speeds: 1x, 1.5x and 2x.\n",
      "\n",
      "Source: WABetaInfo\n",
      "\n",
      "The WABetaInfo report notes that the feature is currently limited to some beta users, but it should become more widely available within the next few days. This means even if you download the latest WhatsApp beta, you will still have to wait for WhatsApp to flip the server-side switch to enable the feature. The feature is also expected to be available on iOS sometime in the coming weeks, although it might take a little longer for it show up in the stable version of the app.\n",
      "\n",
      "VPN Deals: Lifetime license for $16, monthly plans at $1 & more\n",
      "\n",
      "While the ability to adjust playback speed for voice notes isn't available on all messaging apps, WhatsApp is not the first one to offer the feature. Telegram , which is one of the best Android messaging apps , gained a similar feature nearly three years back.\n",
      "\n"
     ]
    }
   ],
   "source": [
    "extractor = TEAgent(\n",
    "    policy_path=\"policy\", \n",
    "    disable_policy=True,\n",
    "    ext_title=True\n",
    ")\n",
    "print(str(extractor.handlers['text/html'].stg_dict) + \"\\n\\n\")\n",
    "is_succ, rst, handler = extractor.parse(\n",
    "    \"text/html\", \n",
    "    androidcentral_test_url, \n",
    "    androidcentral_test_html,\n",
    "    do_ext_link=True\n",
    ")\n",
    "print(f\"is_succ: {is_succ} (title={rst['title']}):\\n{rst['text']}\\n\")"
   ]
  },
  {
   "cell_type": "code",
   "execution_count": 12,
   "metadata": {},
   "outputs": [
    {
     "data": {
      "text/plain": [
       "{'reason': ('purifier.policy.policy1001',\n",
       "  'policy_androidcentral_1',\n",
       "  'default',\n",
       "  'r:https?://www\\\\.androidcentral\\\\.com/[^/]+$')}"
      ]
     },
     "execution_count": 12,
     "metadata": {},
     "output_type": "execute_result"
    }
   ],
   "source": [
    "handler"
   ]
  },
  {
   "cell_type": "markdown",
   "metadata": {},
   "source": [
    "<a id='androidpolicy'></a>\n",
    "### <font color='darkgreen'>AndroidPolicy</font> ([back](#crawl_exp))\n",
    "Let's explore the page of [website](https://www.androidpolice.com/) and design text extraction policy for it:"
   ]
  },
  {
   "cell_type": "code",
   "execution_count": 13,
   "metadata": {},
   "outputs": [],
   "source": [
    "# Demo text extraction\n",
    "androidpolicy_test_url = \"https://www.androidpolice.com/2021/04/23/our-first-potential-pixel-5a-camera-sample-looks-like-it-comes-from-a-very-familiar-sensor/\"\n",
    "androidpolicy_test_url_host = urlparse(androidpolicy_test_url).netloc"
   ]
  },
  {
   "cell_type": "code",
   "execution_count": 14,
   "metadata": {},
   "outputs": [
    {
     "name": "stderr",
     "output_type": "stream",
     "text": [
      "\u001b[1;30mMainThread/INFO:\u001b[0m <<ipython-input-2-b7bd96941ad2>#50> Return content of https://www.androidpolice.com/2021/04/23/our-first-potential-pixel-5a-camera-sample-looks-like-it-comes-from-a-very-familiar-sensor/ from cache...\n"
     ]
    }
   ],
   "source": [
    "androidpolicy_test_html = sr_agent.get(androidpolicy_test_url)"
   ]
  },
  {
   "cell_type": "code",
   "execution_count": 15,
   "metadata": {},
   "outputs": [
    {
     "data": {
      "text/plain": [
       "'<!DOCTYPE html>\\n<html lang=\"en-US\">\\n<head>\\n\\n<meta http-equiv=\"Content-Type\" content=\"text/html; char'"
      ]
     },
     "execution_count": 15,
     "metadata": {},
     "output_type": "execute_result"
    }
   ],
   "source": [
    "androidpolicy_test_html[:100]"
   ]
  },
  {
   "cell_type": "code",
   "execution_count": 16,
   "metadata": {},
   "outputs": [
    {
     "name": "stdout",
     "output_type": "stream",
     "text": [
      "{'r:https?://www\\\\.androidcentral\\\\.com/[^/]+$': purifier.policy.policy1001 (policy_androidcentral_1/None:r:https?://www\\.androidcentral\\.com/[^/]+$), 'r:https?://www\\\\.androidpolice\\\\.com/\\\\d{4}/\\\\d{1,2}/\\\\d{1,2}/[^/]+/?$': purifier.policy.policy1001 (policy_androidpolicy_1/None:r:https?://www\\.androidpolice\\.com/\\d{4}/\\d{1,2}/\\d{1,2}/[^/]+/?$), 'r:https?://www\\\\.xda-developers\\\\.com/[^/]+/?$': purifier.policy.policy1001 (policy_xdadep_1/None:r:https?://www\\.xda-developers\\.com/[^/]+/?$)}\n",
      "\n",
      "\n",
      "is_succ: True (title=Possible Pixel 5a camera sample raises some interesting hardware questions about Google's next phone):\n",
      "Possible Pixel 5a camera sample raises some interesting hardware questions about Google's next phone\n",
      "Recycling is a good thing, no?\n",
      "\n",
      "In demonstrating advances with its HDR image capture technique, Google may have tilted its sleeve a bit too far to reveal what may be a camera sample from the upcoming Pixel 5a.\n",
      "\n",
      "In fact, it's this very picture — taken across from the Neo 19 shopping center (and near an Apple Store) in Taipei — that seems to be the prize here .\n",
      "\n",
      "The image comes from a bin of samples meant to show off how well HDR+ with Bracketing works on the Pixel 4a 5G and Pixel 5 — the Google AI Blog (h/t XDA's Mishaal Rahman ) has a fascinating explanation about overcoming visual noise by keeping still for just an extra half-second after you've pressed the shutter.\n",
      "\n",
      "In any case, some of the images claim to come from the Pixel 5, some from the Pixel 4a 5G's, and many from \"QCAM-AA,\" likely a filler name for testbeds. Despite their extra potential resolution at 16MP, all of the photos from the rear ultra-wide cameras are capped to 12.2MP.\n",
      "\n",
      "Then there's this oddity that comes right out and says its from a Pixel 5a — specifically, looking at its aperture and focal length, its wide-angle unit. Actually, based on that very info, it might as well be from the very same dual-cam component the Pixel 5, 4a 5G, and the 4 series used. Didn't know this thing was going to have two rear cameras? It's been suspected for a good while .\n",
      "\n",
      "Google confirmed earlier this month that a Pixel 5a would be coming out later this year. We think it's pretty safe to posit that development units would've been available as early as September for test drives, especially if it's the case that the camera hardware hasn't changed.\n",
      "\n",
      "Of course, the device name could easily be spoofed in EXIF, but again, we're not expecting a tidal shift with the 5a's hardware.\n",
      "\n"
     ]
    }
   ],
   "source": [
    "extractor = TEAgent(\n",
    "    policy_path=\"policy\", \n",
    "    disable_policy=True,\n",
    "    ext_title=True\n",
    ")\n",
    "print(str(extractor.handlers['text/html'].stg_dict) + \"\\n\\n\")\n",
    "is_succ, rst, handler = extractor.parse(\n",
    "    \"text/html\", \n",
    "    androidpolicy_test_url, \n",
    "    androidpolicy_test_html,\n",
    "    do_ext_link=True\n",
    ")\n",
    "print(f\"is_succ: {is_succ} (title={rst['title']}):\\n{rst['text']}\\n\")"
   ]
  },
  {
   "cell_type": "code",
   "execution_count": 17,
   "metadata": {},
   "outputs": [
    {
     "data": {
      "text/plain": [
       "{'reason': ('purifier.policy.policy1001',\n",
       "  'policy_androidpolicy_1',\n",
       "  'default',\n",
       "  'r:https?://www\\\\.androidpolice\\\\.com/\\\\d{4}/\\\\d{1,2}/\\\\d{1,2}/[^/]+/?$')}"
      ]
     },
     "execution_count": 17,
     "metadata": {},
     "output_type": "execute_result"
    }
   ],
   "source": [
    "handler"
   ]
  },
  {
   "cell_type": "code",
   "execution_count": 18,
   "metadata": {},
   "outputs": [
    {
     "data": {
      "text/plain": [
       "dict_keys(['te_suc', 'text', 'all_links', 'body_a_links', 'body_txt_links', 'title'])"
      ]
     },
     "execution_count": 18,
     "metadata": {},
     "output_type": "execute_result"
    }
   ],
   "source": [
    "rst.keys()"
   ]
  },
  {
   "cell_type": "markdown",
   "metadata": {},
   "source": [
    "<a id='xda-developer'></a>\n",
    "### <font color='darkgreen'>XDA-Developer</font> ([back](#crawl_exp))\n",
    "Let's explore the page of [website](https://www.xda-developers.com/) and design text extraction policy for it:"
   ]
  },
  {
   "cell_type": "code",
   "execution_count": 19,
   "metadata": {},
   "outputs": [],
   "source": [
    "# Demo text extraction\n",
    "xdadep_test_url = \"https://www.xda-developers.com/volta-spark-brings-magsafe-style-cables-to-usb-c/\"\n",
    "xdadep_test_url_host = urlparse(xdadep_test_url).netloc"
   ]
  },
  {
   "cell_type": "code",
   "execution_count": 20,
   "metadata": {},
   "outputs": [
    {
     "name": "stderr",
     "output_type": "stream",
     "text": [
      "\u001b[1;30mMainThread/INFO:\u001b[0m <<ipython-input-2-b7bd96941ad2>#50> Return content of https://www.xda-developers.com/volta-spark-brings-magsafe-style-cables-to-usb-c/ from cache...\n"
     ]
    }
   ],
   "source": [
    "xdadep_test_html = sr_agent.get(xdadep_test_url)"
   ]
  },
  {
   "cell_type": "code",
   "execution_count": 21,
   "metadata": {},
   "outputs": [
    {
     "data": {
      "text/plain": [
       "'<!doctype html><html xmlns=\"http://www.w3.org/1999/xhtml\" lang=\"en-US\" style=\"margin-top:0!important'"
      ]
     },
     "execution_count": 21,
     "metadata": {},
     "output_type": "execute_result"
    }
   ],
   "source": [
    "xdadep_test_html[:100]"
   ]
  },
  {
   "cell_type": "code",
   "execution_count": 22,
   "metadata": {},
   "outputs": [
    {
     "name": "stdout",
     "output_type": "stream",
     "text": [
      "{'r:https?://www\\\\.androidcentral\\\\.com/[^/]+$': purifier.policy.policy1001 (policy_androidcentral_1/None:r:https?://www\\.androidcentral\\.com/[^/]+$), 'r:https?://www\\\\.androidpolice\\\\.com/\\\\d{4}/\\\\d{1,2}/\\\\d{1,2}/[^/]+/?$': purifier.policy.policy1001 (policy_androidpolicy_1/None:r:https?://www\\.androidpolice\\.com/\\d{4}/\\d{1,2}/\\d{1,2}/[^/]+/?$), 'r:https?://www\\\\.xda-developers\\\\.com/[^/]+/?$': purifier.policy.policy1001 (policy_xdadep_1/None:r:https?://www\\.xda-developers\\.com/[^/]+/?$)}\n",
      "\n",
      "\n",
      "is_succ: True (title=VOLTA Spark Brings MagSafe-style Cables to USB-C):\n",
      "VOLTA Spark Brings MagSafe-style Cables to USB-C\n",
      "\n",
      "When you use a USB-C cable every day, you begin to realize how important it is to have a nice high-quality cable. We all have different types of devices that have different types of charge ports, so keeping track of multiple cables can become a bit of a hassle. VOLTA has created a cable that solves both of these issues while recreating the convenience of the MagSafe charger design. With the VOLTA Spark, you can have one cable with interchangeable magnetic tips, for an all-in-one solution that will charge all of your devices.\n",
      "\n",
      "VOLTA has been creating high-quality magnetic charging cables for years, making them the best solution on the market. With the VOLTA Spark, they’ve created a USB-C cable with interchangeable magnetic tips. You’ll have options for USB-C, Micro USB, and Lightning connections. These connections have a minimal protrusion from the port, which has a powerful magnet that will easily snap onto the cable. However, just like the MagSafe chargers, the cable will disconnect when pulled, to prevent your device from flying across the room.\n",
      "\n",
      "Get the VOLTA SPARK here. [$35.95]\n",
      "\n",
      "“We believe in improving human experiences. Even if itâs as simple as helping you charge all your devices with a single cable.”\n",
      "VOLTA\n",
      "\n",
      "Making the VOLTA Spark a convenient magnetic cable is only one of the great things about this cable. Durability was another important focus when designing this product. Using military-grade nylon, the protective sleeve along the cable will protect it from the usual damage that you’ll experience on standard cables. This will also extend the life of your cable, making it a better investment as something that will be able to charge your devices in years to come.\n",
      "\n",
      "Your VOLTA Spark cable comes in lengths of 3.2 and 6.5 feet, with options for 60W or 100W capacities. The cable is good for more than just charging though, as data transfer speeds are supported for up to 480Mbps.\n",
      "\n",
      "* Snag-safe magnetic design\n",
      "* Works with multiple adapters\n",
      "* Charges any USB-C, Micro-USB, or Lightning device\n",
      "* Anti-fray guard\n",
      "* Smart LED charging indicator\n",
      "* Strong N52 neodymium magnet\n",
      "* Fast charging\n",
      "* Lifetime warranty\n",
      "* OTG charging\n",
      "\n",
      "If youâre looking to consolidate your collection of chargers, and youâre tired of low-quality cheap solutions, VOLTA Spark is designed for you. Itâs a safer, more convenient charger with a warranty that makes it the last charger youâll ever need. See more information on their website here .\n",
      "\n"
     ]
    }
   ],
   "source": [
    "extractor = TEAgent(\n",
    "    policy_path=\"policy\", \n",
    "    disable_policy=True,\n",
    "    ext_title=True\n",
    ")\n",
    "print(str(extractor.handlers['text/html'].stg_dict) + \"\\n\\n\")\n",
    "is_succ, rst, handler = extractor.parse(\n",
    "    \"text/html\", \n",
    "    xdadep_test_url, \n",
    "    xdadep_test_html,\n",
    "    do_ext_link=True\n",
    ")\n",
    "print(f\"is_succ: {is_succ} (title={rst['title']}):\\n{rst['text']}\\n\")"
   ]
  },
  {
   "cell_type": "markdown",
   "metadata": {},
   "source": [
    "<a id='design_explorerstar'></a>\n",
    "## <font color='darkblue'>Design - ExplorerWorker</font>\n",
    "We define a class <font color='blue'>**ExplorerWorker**</font> to help us to crawl a specific site."
   ]
  },
  {
   "cell_type": "code",
   "execution_count": 53,
   "metadata": {},
   "outputs": [],
   "source": [
    "##########################################\n",
    "# utils.py\n",
    "##########################################\n",
    "class bcolors:\n",
    "    HEADER = '\\033[95m'\n",
    "    OKBLUE = '\\033[94m'\n",
    "    OKCYAN = '\\033[96m'\n",
    "    OKGREEN = '\\033[92m'\n",
    "    WARNING = '\\033[93m'\n",
    "    FAIL = '\\033[91m'\n",
    "    ENDC = '\\033[0m'\n",
    "    BOLD = '\\033[1m'\n",
    "    UNDERLINE = '\\033[4m'\n",
    "    \n",
    "class ThreadState(IntEnum):\n",
    "    STOPPED = 0\n",
    "    RUNNING = 1\n",
    "    STOPPING = 2\n",
    "    \n",
    "    \n",
    "class CrawlAgent(object):\n",
    "    def __init__(self, name, throttling_range=(1, 3)):\n",
    "        self.rs = ReqScraper(page_cache_path=f\"{name}_cache\")\n",
    "        self.et = TEAgent(\n",
    "            policy_path=\"policy\", \n",
    "            disable_policy=True,\n",
    "            ext_title=True\n",
    "        )\n",
    "        self.logger = getLogger(os.path.basename(self.__class__.__name__))\n",
    "        self.throttling_range = throttling_range\n",
    "        \n",
    "    def handle(self, url:str) -> Tuple[str, str, List[str]]:\n",
    "        try:\n",
    "            wait_in_sec = random.uniform(*self.throttling_range)\n",
    "            self.logger.debug(f\"throttling wait {wait_in_sec}s...\")\n",
    "            time.sleep(wait_in_sec)\n",
    "            url_content_html = self.rs.get(url)\n",
    "            is_succ, rst, handler = self.et.parse(\n",
    "                \"text/html\", \n",
    "                url, \n",
    "                url_content_html,\n",
    "                do_ext_link=True\n",
    "            )\n",
    "            if is_succ:\n",
    "                return (rst['title'], rst['text'], rst['all_links'])\n",
    "            else:\n",
    "                return (rst['title'], rst['text'], rst['all_links'])\n",
    "        except ScraperNot200 as e:\n",
    "            self.logger.warning(f\"Fail to handle URL={url}: {str(e)}\")\n",
    "            return None, None, None\n",
    "        except UnsupportedMIME as e:\n",
    "            self.logger.warning(f\"Fail to handle URL={url}: {str(e)}\")\n",
    "            return None, None, None\n",
    "\n",
    "        \n",
    "class ExplorerWorker(threading.Thread):\n",
    "    def __init__(\n",
    "        self, \n",
    "        name:str, \n",
    "        url_ptn:str, \n",
    "        src_url:str, \n",
    "        test_run:int=-1,\n",
    "        page_saved_dir:Optional[str]=None):\n",
    "        super(ExplorerWorker,  self ).__init__(name = name)\n",
    "        self.name = name\n",
    "        self.url_ptn = url_ptn\n",
    "        self.src_url = src_url\n",
    "        self.test_run = test_run\n",
    "        self.ca = CrawlAgent(name)\n",
    "        self.pc_dict = self._get_pc_dict()\n",
    "        ''' Processed result cache: Key as URL; value as bool (True means this URL is crawled successfully)'''\n",
    "        self.state = ThreadState.STOPPED\n",
    "        ''' Thread state: 0-> stopped; 1-> running; 2-> stopping'''\n",
    "        self.logger = getLogger(os.path.basename(self.__class__.__name__))\n",
    "        ''' Logger object '''\n",
    "        self.page_saved_dir = page_saved_dir if page_saved_dir is not None else f\"{self.name}_pages_output\"\n",
    "        ''' Path or directory to save dump page'''\n",
    "        \n",
    "        if not os.path.isdir(self.page_saved_dir):\n",
    "            os.makedirs(self.page_saved_dir)\n",
    "        \n",
    "    def _get_output_page_path(self, url):\n",
    "        url_host = urlparse(url).netloc\n",
    "        url_md5 = hashlib.md5(url.encode('utf-8')).hexdigest()\n",
    "        page_file_name = f\"{url_host}_{url_md5}.txt\"\n",
    "        page_file_path = os.path.join(self.page_saved_dir, page_file_name)\n",
    "        return page_file_path\n",
    "    \n",
    "    def _get_pc_serialized_file(self) -> str:\n",
    "        return f\"{self.name}_pc_dict.pkl\"\n",
    "    \n",
    "    def _get_pc_dict(self) -> Dict[str, bool]:\n",
    "        pkl_file = self._get_pc_serialized_file()\n",
    "        if os.path.isfile(pkl_file):\n",
    "            with open(pkl_file, 'rb') as fo:\n",
    "                return pickle.load(fo)\n",
    "        else:\n",
    "            return {}\n",
    "    \n",
    "    def _serialized(self):\n",
    "        pkl_file = self._get_pc_serialized_file()\n",
    "        with open(pkl_file, 'wb') as fo:\n",
    "            pickle.dump(self.pc_dict, fo)\n",
    "            \n",
    "    def run(self):\n",
    "        self.state = ThreadState.RUNNING\n",
    "        url_queue = [self.src_url]\n",
    "        pc = sc = fc = oc = 0\n",
    "        while self.state == ThreadState.RUNNING and url_queue:\n",
    "            url = url_queue.pop(0)\n",
    "            pc += 1\n",
    "            if url not in self.pc_dict:\n",
    "                # New URL\n",
    "                self.logger.debug(f\"Handling URL={url}...\")\n",
    "                title, content, collected_urls = self.ca.handle(url)\n",
    "                if content is None:\n",
    "                    self.pc_dict[url] = False\n",
    "                    fc += 1\n",
    "                else:\n",
    "                    if url != self.src_url:\n",
    "                        self.pc_dict[url] = True\n",
    "                        \n",
    "                    sc += 1                    \n",
    "                    next_level_urls = list(filter(lambda u: re.match(self.url_ptn, u) is not None, collected_urls))\n",
    "                    if next_level_urls:\n",
    "                        self.logger.debug(f\"Collected {len(next_level_urls)} next level URL(s)\")\n",
    "                        url_queue.extend(next_level_urls)\n",
    "                    \n",
    "                    if content:                        \n",
    "                        page_output_path = self._get_output_page_path(url)\n",
    "                        with open(page_output_path, 'w', encoding='utf8') as fw:\n",
    "                            fw.write(f\"{url}\\n\\n\")\n",
    "                            fw.write(f\"{title}\\n\\n\")\n",
    "                            fw.write(f\"{content}\")\n",
    "                            self.logger.debug(f\"Saved page to {page_output_path}!\")\n",
    "                            \n",
    "                    self.logger.info(f\"Completed URL={url} ({len(url_queue):,d})\")\n",
    "            else:\n",
    "                # Old URL\n",
    "                self.logger.info(f\"URL={url} is already handled...\")\n",
    "                oc += 1\n",
    "                continue\n",
    "                \n",
    "            if self.test_run > 0:\n",
    "                if (sc + fc) > self.test_run:\n",
    "                    self.logger.info(f\"Exceed test_run={self.test_run} and therefore stop running...\")\n",
    "                    break\n",
    "                    \n",
    "            if pc % 2 == 0:\n",
    "                self.logger.info(bcolors.OKBLUE + bcolors.BOLD + f\"{pc} URL completed: sc={sc:,d}; fc={fc:,d}; oc={oc:,d}\\n\" + bcolors.ENDC)\n",
    "        \n",
    "        self.logger.warning(f\"Explorer is stopped! (name={self.name})...\")\n",
    "        self.state = ThreadState.STOPPED\n",
    "    \n",
    "    def stop(self):\n",
    "        self.logger.warning(f\"Stopping explorer worker (name={self.name})...\")\n",
    "        if self.state == ThreadState.RUNNING:\n",
    "            self.state = ThreadState.STOPPING\n",
    "            while self.state != ThreadState.STOPPED:\n",
    "                time.sleep(1)\n",
    "            \n",
    "        self.logger.warning(f\"Serialized explorer result (name={self.name})...\")\n",
    "        self._serialized()"
   ]
  },
  {
   "cell_type": "code",
   "execution_count": 54,
   "metadata": {},
   "outputs": [
    {
     "name": "stderr",
     "output_type": "stream",
     "text": [
      "\u001b[1;30mandroidcentral/INFO:\u001b[0m <<ipython-input-53-ca012e1fba7e>#137> Completed URL=https://www.androidcentral.com/ (83)\n",
      "\u001b[1;30mandroidcentral/INFO:\u001b[0m <<ipython-input-53-ca012e1fba7e>#140> URL=https://www.androidcentral.com/best-wifi-6-routers is already handled...\n",
      "\u001b[1;30mandroidcentral/INFO:\u001b[0m <<ipython-input-53-ca012e1fba7e>#140> URL=https://www.androidcentral.com/playstation-now-could-be-serious-xcloud-competitor-android is already handled...\n",
      "\u001b[1;30mandroidcentral/INFO:\u001b[0m <<ipython-input-53-ca012e1fba7e>#140> URL=https://www.androidcentral.com/best-chromebook is already handled...\n",
      "\u001b[1;30mandroidcentral/INFO:\u001b[0m <<ipython-input-53-ca012e1fba7e>#140> URL=https://www.androidcentral.com/about is already handled...\n",
      "\u001b[1;30mandroidcentral/INFO:\u001b[0m <<ipython-input-53-ca012e1fba7e>#140> URL=https://www.androidcentral.com/ac-podcast-522-android-12-sony-xperia-1iii-fitbit-luxe-apple-event is already handled...\n",
      "\u001b[1;30mandroidcentral/INFO:\u001b[0m <<ipython-input-53-ca012e1fba7e>#140> URL=https://www.androidcentral.com/what-know-about-resident-evil-villages-demo-weekend is already handled...\n",
      "\u001b[1;30mandroidcentral/INFO:\u001b[0m <<ipython-input-53-ca012e1fba7e>#140> URL=https://www.androidcentral.com/latest-whatsapp-beta-brings-playback-speed-control-voice-notes is already handled...\n",
      "\u001b[1;30mandroidcentral/INFO:\u001b[0m <<ipython-input-53-ca012e1fba7e>#140> URL=https://www.androidcentral.com/google-maps-highlights-how-you-can-find-eco-friendly-businesses is already handled...\n",
      "\u001b[1;30mandroidcentral/INFO:\u001b[0m <<ipython-input-53-ca012e1fba7e>#140> URL=https://www.androidcentral.com/how-watch-2021-academy-country-music-awards-online-anywhere is already handled...\n",
      "\u001b[1;30mandroidcentral/INFO:\u001b[0m <<ipython-input-53-ca012e1fba7e>#140> URL=https://www.androidcentral.com/best-vpn is already handled...\n",
      "\u001b[1;30mandroidcentral/INFO:\u001b[0m <<ipython-input-53-ca012e1fba7e>#140> URL=https://www.androidcentral.com/google-rolls-out-data-saving-mode-meets-android-app is already handled...\n",
      "\u001b[1;30mandroidcentral/INFO:\u001b[0m <<ipython-input-53-ca012e1fba7e>#140> URL=https://www.androidcentral.com/best-t-mobile-phones is already handled...\n",
      "\u001b[1;30mandroidcentral/INFO:\u001b[0m <<ipython-input-53-ca012e1fba7e>#140> URL=https://www.androidcentral.com/best is already handled...\n",
      "\u001b[1;30mandroidcentral/INFO:\u001b[0m <<ipython-input-53-ca012e1fba7e>#140> URL=https://www.androidcentral.com/best-moto-g-stylus-2021-cases is already handled...\n",
      "\u001b[1;30mandroidcentral/INFO:\u001b[0m <<ipython-input-53-ca012e1fba7e>#140> URL=https://www.androidcentral.com/best-android-phones is already handled...\n",
      "\u001b[1;30mandroidcentral/INFO:\u001b[0m <<ipython-input-53-ca012e1fba7e>#140> URL=https://www.androidcentral.com/android-12-will-finally-let-you-disable-annoying-wear-os-notifications is already handled...\n",
      "\u001b[1;30mandroidcentral/INFO:\u001b[0m <<ipython-input-53-ca012e1fba7e>#140> URL=https://www.androidcentral.com/xiaomis-mi-11-ultra-launches-india-take-oneplus-9-pro-and-galaxy-s21-ultra is already handled...\n",
      "\u001b[1;30mandroidcentral/INFO:\u001b[0m <<ipython-input-53-ca012e1fba7e>#140> URL=https://www.androidcentral.com/android-user-have-you-ever-been-tempted-iphone is already handled...\n",
      "\u001b[1;30mandroidcentral/INFO:\u001b[0m <<ipython-input-53-ca012e1fba7e>#140> URL=https://www.androidcentral.com/best-lg-phones is already handled...\n",
      "\u001b[1;30mandroidcentral/INFO:\u001b[0m <<ipython-input-53-ca012e1fba7e>#140> URL=https://www.androidcentral.com/how-watch-fa-cup-how-watch-football-tournament-online-anywhere is already handled...\n",
      "\u001b[1;30mandroidcentral/INFO:\u001b[0m <<ipython-input-53-ca012e1fba7e>#140> URL=https://www.androidcentral.com/best-android-smartwatch is already handled...\n",
      "\u001b[1;30mandroidcentral/INFO:\u001b[0m <<ipython-input-53-ca012e1fba7e>#140> URL=https://www.androidcentral.com/oppo-bluetooth-uwb-tracker-usb-c-charging is already handled...\n",
      "\u001b[1;30mandroidcentral/INFO:\u001b[0m <<ipython-input-53-ca012e1fba7e>#140> URL=https://www.androidcentral.com/google-prepares-assistant-voice-shortcuts-without-wake-word is already handled...\n",
      "\u001b[1;30mandroidcentral/INFO:\u001b[0m <<ipython-input-53-ca012e1fba7e>#140> URL=https://www.androidcentral.com/google-play-store-optimizing-app-installation is already handled...\n",
      "\u001b[1;30mandroidcentral/INFO:\u001b[0m <<ipython-input-53-ca012e1fba7e>#140> URL=https://www.androidcentral.com/oculus-finally-getting-rid-its-hideously-ugly-avatars is already handled...\n",
      "\u001b[1;30mandroidcentral/INFO:\u001b[0m <<ipython-input-53-ca012e1fba7e>#140> URL=https://www.androidcentral.com/best-lenovo-chromebook-duet-deals is already handled...\n",
      "\u001b[1;30mandroidcentral/INFO:\u001b[0m <<ipython-input-53-ca012e1fba7e>#140> URL=https://www.androidcentral.com/how-set-alexa-sonos-system is already handled...\n",
      "\u001b[1;30mandroidcentral/INFO:\u001b[0m <<ipython-input-53-ca012e1fba7e>#140> URL=https://www.androidcentral.com/disgaea-rpg-android-game-week is already handled...\n",
      "\u001b[1;30mandroidcentral/INFO:\u001b[0m <<ipython-input-53-ca012e1fba7e>#137> Completed URL=https://www.androidcentral.com/tablet-hardware-has-outpaced-both-software-capabilities-and-usefulness (86)\n",
      "\u001b[1;30mandroidcentral/INFO:\u001b[0m <<ipython-input-53-ca012e1fba7e>#150> \u001b[94m\u001b[1m30 URL completed: sc=2; fc=0; oc=28\n",
      "\u001b[0m\n",
      "\u001b[1;30mandroidcentral/INFO:\u001b[0m <<ipython-input-53-ca012e1fba7e>#137> Completed URL=https://www.androidcentral.com/rupauls-drag-race-live-stream-watch-season-13-finale-online-anywhere (117)\n",
      "\u001b[1;30mandroidcentral/INFO:\u001b[0m <<ipython-input-53-ca012e1fba7e>#137> Completed URL=https://www.androidcentral.com/blog (152)\n",
      "\u001b[1;30mandroidcentral/INFO:\u001b[0m <<ipython-input-53-ca012e1fba7e>#150> \u001b[94m\u001b[1m32 URL completed: sc=4; fc=0; oc=28\n",
      "\u001b[0m\n",
      "\u001b[1;30mandroidcentral/INFO:\u001b[0m <<ipython-input-53-ca012e1fba7e>#140> URL=https://www.androidcentral.com/liege-bastogne-liege-live-stream-2021-live-stream-how-watch-uci-world-tour-cycling-race-online is already handled...\n",
      "\u001b[1;30mandroidcentral/INFO:\u001b[0m <<ipython-input-53-ca012e1fba7e>#137> Completed URL=https://www.androidcentral.com/newsletter (175)\n",
      "\u001b[1;30mandroidcentral/INFO:\u001b[0m <<ipython-input-53-ca012e1fba7e>#150> \u001b[94m\u001b[1m34 URL completed: sc=5; fc=0; oc=29\n",
      "\u001b[0m\n",
      "\u001b[1;30mandroidcentral/INFO:\u001b[0m <<ipython-input-53-ca012e1fba7e>#137> Completed URL=https://www.androidcentral.com/best-reviews (232)\n",
      "\u001b[1;30mandroidcentral/INFO:\u001b[0m <<ipython-input-53-ca012e1fba7e>#146> Exceed test_run=5 and therefore stop running...\n",
      "\u001b[1;30mandroidcentral/WARNING:\u001b[0m <<ipython-input-53-ca012e1fba7e>#152> \u001b[33mExplorer is stopped! (name=androidcentral)...\u001b[0m\n",
      "\u001b[1;30mMainThread/WARNING:\u001b[0m <<ipython-input-53-ca012e1fba7e>#156> \u001b[33mStopping explorer worker (name=androidcentral)...\u001b[0m\n",
      "\u001b[1;30mMainThread/WARNING:\u001b[0m <<ipython-input-53-ca012e1fba7e>#162> \u001b[33mSerialized explorer result (name=androidcentral)...\u001b[0m\n"
     ]
    },
    {
     "name": "stdout",
     "output_type": "stream",
     "text": [
      "Done!\n"
     ]
    }
   ],
   "source": [
    "# Prior run for testing\n",
    "ew = ExplorerWorker(\n",
    "    name=\"androidcentral\",\n",
    "    src_url=\"https://www.androidcentral.com/\",\n",
    "    url_ptn=r'https?://www\\.androidcentral\\.com/[^/]+$',\n",
    "    test_run=5\n",
    ")\n",
    "ew.start()\n",
    "ew.join()\n",
    "ew.stop()\n",
    "print(\"Done!\")"
   ]
  },
  {
   "cell_type": "markdown",
   "metadata": {},
   "source": [
    "<a id='analysis_of_post'></a>\n",
    "## <font color='darkblue'>Analysis Of Collected Interested Post</font> ([back](#preface))\n",
    "Let's cluster our collected interested post and check a few post from each cluster:"
   ]
  },
  {
   "cell_type": "code",
   "execution_count": 2,
   "metadata": {},
   "outputs": [
    {
     "name": "stderr",
     "output_type": "stream",
     "text": [
      "/usr/local/google/home/johnkclee/Github/ff_crawler/env/lib/python3.9/site-packages/gensim/similarities/__init__.py:15: UserWarning: The gensim.similarities.levenshtein submodule is disabled, because the optional Levenshtein package <https://pypi.org/project/python-Levenshtein/> is unavailable. Install Levenhstein (e.g. `pip install python-Levenshtein`) to suppress this warning.\n",
      "  warnings.warn(msg)\n"
     ]
    }
   ],
   "source": [
    "import os\n",
    "import gensim.downloader as api\n",
    "import pandas as pd\n",
    "import numpy as np\n",
    "import nltk\n",
    "from typing import Tuple\n",
    "from tqdm import tqdm\n",
    "from sklearn.cluster import MiniBatchKMeans, KMeans"
   ]
  },
  {
   "cell_type": "code",
   "execution_count": 3,
   "metadata": {},
   "outputs": [],
   "source": [
    "wv = api.load('word2vec-google-news-300')"
   ]
  },
  {
   "cell_type": "code",
   "execution_count": 4,
   "metadata": {},
   "outputs": [],
   "source": [
    "#nltk.download('punkt')"
   ]
  },
  {
   "cell_type": "code",
   "execution_count": 83,
   "metadata": {},
   "outputs": [],
   "source": [
    "CLUSTER_SIZE = 300\n",
    "POST_DIR_PATH = 'interested_pages'\n",
    "REDDIT_POST_DIR_PATH = 'reddit_posts'\n",
    "RANDOM_STATE = 1\n",
    "KM_BATCH_SIZE = 6\n",
    "KM_MAX_ITER = 20"
   ]
  },
  {
   "cell_type": "code",
   "execution_count": 88,
   "metadata": {},
   "outputs": [],
   "source": [
    "columns = ['file', 'title', 'tab_count'] + [f\"v{i}\" for i in range(300)]"
   ]
  },
  {
   "cell_type": "code",
   "execution_count": 89,
   "metadata": {},
   "outputs": [
    {
     "name": "stderr",
     "output_type": "stream",
     "text": [
      "100%|██████████| 4158/4158 [02:05<00:00, 33.25it/s]"
     ]
    },
    {
     "name": "stdout",
     "output_type": "stream",
     "text": [
      "CPU times: user 2min 4s, sys: 599 ms, total: 2min 5s\n",
      "Wall time: 2min 5s\n"
     ]
    },
    {
     "name": "stderr",
     "output_type": "stream",
     "text": [
      "\n"
     ]
    }
   ],
   "source": [
    "%%time\n",
    "def read_post(fp:str, from_reddit:bool=False) -> Tuple[str,str]:\n",
    "    with open(fp, 'r', encoding='utf8') as fo:\n",
    "        if from_reddit:\n",
    "            ts = fo.readline().strip()\n",
    "            title = fo.readline().strip()\n",
    "            body = fo.read().strip()\n",
    "        else:\n",
    "            url = fo.readline().strip()\n",
    "            fo.readline()\n",
    "            title = fo.readline().strip()\n",
    "            fo.readline()\n",
    "            body = fo.read().strip()\n",
    "            \n",
    "        return (title, body)\n",
    "    \n",
    "# Read interested posts collected by crawler        \n",
    "files = list(map(lambda f: os.path.join(POST_DIR_PATH, f), os.listdir(POST_DIR_PATH)))\n",
    "rows = []\n",
    "with tqdm(total=len(files)) as pbar:\n",
    "    for fp in files:\n",
    "        title, body = read_post(fp)\n",
    "        doc_vec = np.zeros(300)\n",
    "        for sent in nltk.sent_tokenize(body):\n",
    "            for w in nltk.tokenize.word_tokenize(sent):\n",
    "                try:\n",
    "                    doc_vec += wv[w]\n",
    "                except:\n",
    "                    pass\n",
    "            \n",
    "        row = [fp, title, body.count('\\t')]\n",
    "        row.extend(doc_vec.copy())\n",
    "        rows.append(row)\n",
    "        pbar.update(1)\n",
    "        "
   ]
  },
  {
   "cell_type": "code",
   "execution_count": 90,
   "metadata": {},
   "outputs": [
    {
     "name": "stderr",
     "output_type": "stream",
     "text": [
      "100%|██████████| 112/112 [00:00<00:00, 687.20it/s]\n"
     ]
    }
   ],
   "source": [
    "# Read posts from Explorer1\n",
    "files = list(map(lambda f: os.path.join(REDDIT_POST_DIR_PATH, f), os.listdir(REDDIT_POST_DIR_PATH)))\n",
    "with tqdm(total=len(files)) as pbar:\n",
    "    for fp in files:\n",
    "        title, body = read_post(fp, from_reddit=True)\n",
    "        doc_vec = np.zeros(300)\n",
    "        for sent in nltk.sent_tokenize(body):\n",
    "            for w in nltk.tokenize.word_tokenize(sent):\n",
    "                try:\n",
    "                    doc_vec += wv[w]\n",
    "                except:\n",
    "                    pass\n",
    "            \n",
    "        row = [fp, title, body.count('\\t')]\n",
    "        row.extend(doc_vec.copy())\n",
    "        rows.append(row)\n",
    "        pbar.update(1)"
   ]
  },
  {
   "cell_type": "code",
   "execution_count": 91,
   "metadata": {},
   "outputs": [
    {
     "data": {
      "text/html": [
       "<div>\n",
       "<style scoped>\n",
       "    .dataframe tbody tr th:only-of-type {\n",
       "        vertical-align: middle;\n",
       "    }\n",
       "\n",
       "    .dataframe tbody tr th {\n",
       "        vertical-align: top;\n",
       "    }\n",
       "\n",
       "    .dataframe thead th {\n",
       "        text-align: right;\n",
       "    }\n",
       "</style>\n",
       "<table border=\"1\" class=\"dataframe\">\n",
       "  <thead>\n",
       "    <tr style=\"text-align: right;\">\n",
       "      <th></th>\n",
       "      <th>file</th>\n",
       "      <th>title</th>\n",
       "      <th>tab_count</th>\n",
       "      <th>v0</th>\n",
       "      <th>v1</th>\n",
       "      <th>v2</th>\n",
       "      <th>v3</th>\n",
       "      <th>v4</th>\n",
       "      <th>v5</th>\n",
       "      <th>v6</th>\n",
       "      <th>...</th>\n",
       "      <th>v290</th>\n",
       "      <th>v291</th>\n",
       "      <th>v292</th>\n",
       "      <th>v293</th>\n",
       "      <th>v294</th>\n",
       "      <th>v295</th>\n",
       "      <th>v296</th>\n",
       "      <th>v297</th>\n",
       "      <th>v298</th>\n",
       "      <th>v299</th>\n",
       "    </tr>\n",
       "  </thead>\n",
       "  <tbody>\n",
       "    <tr>\n",
       "      <th>4265</th>\n",
       "      <td>reddit_posts/r_google_pixel-Keyboard-202102210...</td>\n",
       "      <td>Doubts about buying a pixel phone ( 4a 5g)., I...</td>\n",
       "      <td>0</td>\n",
       "      <td>11.436150</td>\n",
       "      <td>4.618914</td>\n",
       "      <td>-0.993355</td>\n",
       "      <td>34.408972</td>\n",
       "      <td>-36.668759</td>\n",
       "      <td>11.395479</td>\n",
       "      <td>14.727537</td>\n",
       "      <td>...</td>\n",
       "      <td>-24.378788</td>\n",
       "      <td>30.608810</td>\n",
       "      <td>-31.178535</td>\n",
       "      <td>4.710851</td>\n",
       "      <td>-3.380688</td>\n",
       "      <td>-3.037647</td>\n",
       "      <td>-1.372650</td>\n",
       "      <td>-23.401947</td>\n",
       "      <td>1.080658</td>\n",
       "      <td>-2.816189</td>\n",
       "    </tr>\n",
       "    <tr>\n",
       "      <th>4266</th>\n",
       "      <td>reddit_posts/r_google_pixel-Car-20210118084152...</td>\n",
       "      <td>Pixel 5 Will Not Autoplay in Car, I had a Pixe...</td>\n",
       "      <td>0</td>\n",
       "      <td>1.799438</td>\n",
       "      <td>1.153778</td>\n",
       "      <td>1.380371</td>\n",
       "      <td>3.142639</td>\n",
       "      <td>-2.476186</td>\n",
       "      <td>-0.160782</td>\n",
       "      <td>1.600555</td>\n",
       "      <td>...</td>\n",
       "      <td>-2.598938</td>\n",
       "      <td>1.170044</td>\n",
       "      <td>-2.290649</td>\n",
       "      <td>-0.579895</td>\n",
       "      <td>0.274292</td>\n",
       "      <td>-0.115112</td>\n",
       "      <td>0.665207</td>\n",
       "      <td>-1.206726</td>\n",
       "      <td>0.089722</td>\n",
       "      <td>0.501587</td>\n",
       "    </tr>\n",
       "    <tr>\n",
       "      <th>4267</th>\n",
       "      <td>reddit_posts/androidbeta-Headset-2021032713402...</td>\n",
       "      <td>unable to pair Bluetooth headset, Hi,Some devi...</td>\n",
       "      <td>0</td>\n",
       "      <td>0.000000</td>\n",
       "      <td>0.000000</td>\n",
       "      <td>0.000000</td>\n",
       "      <td>0.000000</td>\n",
       "      <td>0.000000</td>\n",
       "      <td>0.000000</td>\n",
       "      <td>0.000000</td>\n",
       "      <td>...</td>\n",
       "      <td>0.000000</td>\n",
       "      <td>0.000000</td>\n",
       "      <td>0.000000</td>\n",
       "      <td>0.000000</td>\n",
       "      <td>0.000000</td>\n",
       "      <td>0.000000</td>\n",
       "      <td>0.000000</td>\n",
       "      <td>0.000000</td>\n",
       "      <td>0.000000</td>\n",
       "      <td>0.000000</td>\n",
       "    </tr>\n",
       "    <tr>\n",
       "      <th>4268</th>\n",
       "      <td>reddit_posts/r_google_pixel-Car-20210227135012...</td>\n",
       "      <td>2021 Toyota Sienna Bluetooth issue, I'll give ...</td>\n",
       "      <td>0</td>\n",
       "      <td>1.777786</td>\n",
       "      <td>0.147369</td>\n",
       "      <td>1.761772</td>\n",
       "      <td>2.731323</td>\n",
       "      <td>-3.202911</td>\n",
       "      <td>0.323547</td>\n",
       "      <td>2.427551</td>\n",
       "      <td>...</td>\n",
       "      <td>-1.351456</td>\n",
       "      <td>2.113037</td>\n",
       "      <td>-2.581726</td>\n",
       "      <td>1.272827</td>\n",
       "      <td>-0.133499</td>\n",
       "      <td>0.917404</td>\n",
       "      <td>-0.631607</td>\n",
       "      <td>-0.842178</td>\n",
       "      <td>0.514999</td>\n",
       "      <td>0.564274</td>\n",
       "    </tr>\n",
       "    <tr>\n",
       "      <th>4269</th>\n",
       "      <td>reddit_posts/androidbeta-Headset-2021030508000...</td>\n",
       "      <td>Bluetooth headset disconnecting and reconnecti...</td>\n",
       "      <td>0</td>\n",
       "      <td>0.000000</td>\n",
       "      <td>0.000000</td>\n",
       "      <td>0.000000</td>\n",
       "      <td>0.000000</td>\n",
       "      <td>0.000000</td>\n",
       "      <td>0.000000</td>\n",
       "      <td>0.000000</td>\n",
       "      <td>...</td>\n",
       "      <td>0.000000</td>\n",
       "      <td>0.000000</td>\n",
       "      <td>0.000000</td>\n",
       "      <td>0.000000</td>\n",
       "      <td>0.000000</td>\n",
       "      <td>0.000000</td>\n",
       "      <td>0.000000</td>\n",
       "      <td>0.000000</td>\n",
       "      <td>0.000000</td>\n",
       "      <td>0.000000</td>\n",
       "    </tr>\n",
       "  </tbody>\n",
       "</table>\n",
       "<p>5 rows × 303 columns</p>\n",
       "</div>"
      ],
      "text/plain": [
       "                                                   file  \\\n",
       "4265  reddit_posts/r_google_pixel-Keyboard-202102210...   \n",
       "4266  reddit_posts/r_google_pixel-Car-20210118084152...   \n",
       "4267  reddit_posts/androidbeta-Headset-2021032713402...   \n",
       "4268  reddit_posts/r_google_pixel-Car-20210227135012...   \n",
       "4269  reddit_posts/androidbeta-Headset-2021030508000...   \n",
       "\n",
       "                                                  title  tab_count         v0  \\\n",
       "4265  Doubts about buying a pixel phone ( 4a 5g)., I...          0  11.436150   \n",
       "4266  Pixel 5 Will Not Autoplay in Car, I had a Pixe...          0   1.799438   \n",
       "4267  unable to pair Bluetooth headset, Hi,Some devi...          0   0.000000   \n",
       "4268  2021 Toyota Sienna Bluetooth issue, I'll give ...          0   1.777786   \n",
       "4269  Bluetooth headset disconnecting and reconnecti...          0   0.000000   \n",
       "\n",
       "            v1        v2         v3         v4         v5         v6  ...  \\\n",
       "4265  4.618914 -0.993355  34.408972 -36.668759  11.395479  14.727537  ...   \n",
       "4266  1.153778  1.380371   3.142639  -2.476186  -0.160782   1.600555  ...   \n",
       "4267  0.000000  0.000000   0.000000   0.000000   0.000000   0.000000  ...   \n",
       "4268  0.147369  1.761772   2.731323  -3.202911   0.323547   2.427551  ...   \n",
       "4269  0.000000  0.000000   0.000000   0.000000   0.000000   0.000000  ...   \n",
       "\n",
       "           v290       v291       v292      v293      v294      v295      v296  \\\n",
       "4265 -24.378788  30.608810 -31.178535  4.710851 -3.380688 -3.037647 -1.372650   \n",
       "4266  -2.598938   1.170044  -2.290649 -0.579895  0.274292 -0.115112  0.665207   \n",
       "4267   0.000000   0.000000   0.000000  0.000000  0.000000  0.000000  0.000000   \n",
       "4268  -1.351456   2.113037  -2.581726  1.272827 -0.133499  0.917404 -0.631607   \n",
       "4269   0.000000   0.000000   0.000000  0.000000  0.000000  0.000000  0.000000   \n",
       "\n",
       "           v297      v298      v299  \n",
       "4265 -23.401947  1.080658 -2.816189  \n",
       "4266  -1.206726  0.089722  0.501587  \n",
       "4267   0.000000  0.000000  0.000000  \n",
       "4268  -0.842178  0.514999  0.564274  \n",
       "4269   0.000000  0.000000  0.000000  \n",
       "\n",
       "[5 rows x 303 columns]"
      ]
     },
     "execution_count": 91,
     "metadata": {},
     "output_type": "execute_result"
    }
   ],
   "source": [
    "docs_df = pd.DataFrame(rows, columns=columns)\n",
    "docs_df.tail()"
   ]
  },
  {
   "cell_type": "code",
   "execution_count": 92,
   "metadata": {},
   "outputs": [
    {
     "name": "stdout",
     "output_type": "stream",
     "text": [
      "CPU times: user 43.5 s, sys: 17.3 s, total: 1min\n",
      "Wall time: 10.4 s\n"
     ]
    }
   ],
   "source": [
    "%%time\n",
    "kmeans = KMeans(\n",
    "    n_clusters=CLUSTER_SIZE,\n",
    "    random_state=RANDOM_STATE,    \n",
    ").fit(docs_df.iloc[:, 2:])"
   ]
  },
  {
   "cell_type": "markdown",
   "metadata": {},
   "source": [
    "Let's random select 5 docs from each group:"
   ]
  },
  {
   "cell_type": "code",
   "execution_count": 93,
   "metadata": {},
   "outputs": [
    {
     "name": "stdout",
     "output_type": "stream",
     "text": [
      "reddit_posts/androidbeta-Headset-20210228143304.txt -> 147\n",
      "reddit_posts/r_google_pixel-Headset-20210110160501.txt -> 147\n",
      "reddit_posts/r_google_pixel-Headset-20210117150557.txt -> 147\n",
      "reddit_posts/androidbeta-Headset-20200925080000.txt -> 147\n",
      "reddit_posts/r_google_pixel-Wear-20210405230209.txt -> 147\n",
      "reddit_posts/androidbeta-Car-20210404023841.txt -> 147\n",
      "reddit_posts/androidbeta-Headset-20201214080000.txt -> 147\n",
      "reddit_posts/r_google_pixel-Car-20210209134015.txt -> 147\n",
      "reddit_posts/androidbeta-Headset-20201230080000.txt -> 147\n",
      "reddit_posts/androidbeta-Car-20210112121919.txt -> 147\n",
      "reddit_posts/androidbeta-Headset-20201207080000.txt -> 147\n",
      "reddit_posts/r_google_pixel-Car-20210221221926.txt -> 28\n",
      "reddit_posts/r_google_pixel-Headset-20210202070457.txt -> 49\n",
      "reddit_posts/r_google_pixel-Headset-20210121061758.txt -> 147\n",
      "reddit_posts/r_google_pixel-Car-20210109024500.txt -> 147\n",
      "reddit_posts/r_google_pixel-Keyboard-20201212223148.txt -> 221\n",
      "reddit_posts/androidbeta-Headset-20201128080000.txt -> 147\n",
      "reddit_posts/androidbeta-Car-20210218193133.txt -> 147\n",
      "reddit_posts/r_google_pixel-Headset-20210225130822.txt -> 147\n",
      "reddit_posts/r_google_pixel-Car-20201217000237.txt -> 147\n",
      "reddit_posts/r_google_pixel-Car-20200911011627.txt -> 221\n",
      "reddit_posts/androidbeta-Car-20200927080000.txt -> 147\n",
      "reddit_posts/r_google_pixel-Headset-20201115194023.txt -> 147\n",
      "reddit_posts/r_google_pixel-Car-20201107215607.txt -> 147\n",
      "reddit_posts/r_google_pixel-Car-20210105004420.txt -> 28\n",
      "reddit_posts/androidbeta-Car-20201017080000.txt -> 147\n",
      "reddit_posts/r_google_pixel-Headset-20201118014417.txt -> 147\n",
      "reddit_posts/r_google_pixel-Keyboard-20210104123948.txt -> 49\n",
      "reddit_posts/r_google_pixel-Headset-20210217111438.txt -> 147\n",
      "reddit_posts/androidbeta-Headset-20210104080000.txt -> 147\n",
      "reddit_posts/androidbeta-Car-20210216050432.txt -> 147\n",
      "reddit_posts/r_google_pixel-Car-20210228194412.txt -> 147\n",
      "reddit_posts/androidbeta-Headset-20210228080000.txt -> 147\n",
      "reddit_posts/r_google_pixel-Headset-20201115100217.txt -> 147\n",
      "reddit_posts/androidbeta-Headset-20210218080000.txt -> 147\n",
      "reddit_posts/r_google_pixel-Car-20210105094036.txt -> 147\n",
      "reddit_posts/androidbeta-Headset-20210325033825.txt -> 147\n",
      "reddit_posts/r_google_pixel-Car-20210126004451.txt -> 147\n",
      "reddit_posts/androidbeta-Headset-20210122080000.txt -> 147\n",
      "reddit_posts/r_google_pixel-Wear-20210408171443.txt -> 147\n",
      "reddit_posts/r_google_pixel-Wear-20210410061718.txt -> 252\n",
      "reddit_posts/androidbeta-Headset-20210214080000.txt -> 147\n",
      "reddit_posts/androidbeta-Headset-20210116080000.txt -> 147\n",
      "reddit_posts/r_google_pixel-Headset-20201219204605.txt -> 147\n",
      "reddit_posts/androidbeta-Headset-20210331051352.txt -> 147\n",
      "reddit_posts/r_google_pixel-Car-20210302090704.txt -> 147\n",
      "reddit_posts/r_google_pixel-Keyboard-20201213161834.txt -> 221\n",
      "reddit_posts/r_google_pixel-Keyboard-20210110155926.txt -> 247\n",
      "reddit_posts/r_google_pixel-Car-20210306034237.txt -> 147\n",
      "reddit_posts/r_google_pixel-Car-20210315045643.txt -> 28\n",
      "reddit_posts/r_google_pixel-Headset-20210127085946.txt -> 147\n",
      "reddit_posts/androidbeta-Headset-20210327002719.txt -> 147\n",
      "reddit_posts/r_google_pixel-Headset-20210219001017.txt -> 147\n",
      "reddit_posts/r_google_pixel-Car-20201229054045.txt -> 147\n",
      "reddit_posts/androidbeta-Headset-20201212080000.txt -> 147\n",
      "reddit_posts/r_google_pixel-Car-20210321001533.txt -> 147\n",
      "reddit_posts/androidbeta-Headset-20210214212842.txt -> 147\n",
      "reddit_posts/r_google_pixel-Headset-20210124180057.txt -> 147\n",
      "reddit_posts/r_pixelbuds-Headset-20200828075930.txt -> 147\n",
      "reddit_posts/androidbeta-Headset-20210411230347.txt -> 147\n",
      "reddit_posts/r_google_pixel-Headset-20201217003357.txt -> 221\n",
      "reddit_posts/r_google_pixel-Wear-20210222003019.txt -> 28\n",
      "reddit_posts/androidbeta-Headset-20210119080000.txt -> 147\n",
      "reddit_posts/r_google_pixel-Headset-20210104220546.txt -> 147\n",
      "reddit_posts/androidbeta-Headset-20210222080000.txt -> 147\n",
      "reddit_posts/androidbeta-Keyboard-20210411224108.txt -> 147\n",
      "reddit_posts/r_google_pixel-Car-20210325052950.txt -> 147\n",
      "reddit_posts/androidbeta-Car-20210129043106.txt -> 147\n",
      "reddit_posts/androidbeta-Headset-20201113080000.txt -> 147\n",
      "reddit_posts/androidbeta-Wear-20210222005311.txt -> 147\n",
      "reddit_posts/r_google_pixel-Headset-20210413013407.txt -> 147\n",
      "reddit_posts/r_google_pixel-Car-20210302085948.txt -> 147\n",
      "reddit_posts/r_pixelbuds-Headset-20210201105117.txt -> 147\n",
      "reddit_posts/r_google_pixel-Car-20200911023901.txt -> 147\n",
      "reddit_posts/androidbeta-Headset-20210109080000.txt -> 147\n",
      "reddit_posts/r_google_pixel-Car-20210223090620.txt -> 147\n",
      "reddit_posts/androidbeta-Headset-20210208080000.txt -> 147\n",
      "reddit_posts/r_google_pixel-Car-20210302090211.txt -> 147\n",
      "reddit_posts/r_google_pixel-Car-20210301213028.txt -> 147\n",
      "reddit_posts/androidbeta-Headset-20201216080000.txt -> 147\n",
      "reddit_posts/r_google_pixel-Car-20201229020029.txt -> 147\n",
      "reddit_posts/androidbeta-Headset-20191024080000.txt -> 147\n",
      "reddit_posts/r_google_pixel-Car-20201201033849.txt -> 49\n",
      "reddit_posts/r_google_pixel-Headset-20210218230241.txt -> 147\n",
      "reddit_posts/r_google_pixel-Car-20201227094007.txt -> 147\n",
      "reddit_posts/androidbeta-Headset-20201130080000.txt -> 147\n",
      "reddit_posts/androidbeta-Headset-20210204080000.txt -> 147\n",
      "reddit_posts/r_google_pixel-Car-20210307090701.txt -> 147\n",
      "reddit_posts/r_google_pixel-Headset-20201122063421.txt -> 147\n",
      "reddit_posts/androidbeta-Car-20210406185230.txt -> 147\n",
      "reddit_posts/r_google_pixel-Car-20210302092526.txt -> 147\n",
      "reddit_posts/r_google_pixel-Headset-20210325222111.txt -> 147\n",
      "reddit_posts/r_google_pixel-Headset-20210311034928.txt -> 147\n",
      "reddit_posts/r_google_pixel-Car-20210214033014.txt -> 147\n",
      "reddit_posts/androidbeta-Headset-20210123080000.txt -> 147\n",
      "reddit_posts/androidbeta-Car-20210128090623.txt -> 147\n",
      "reddit_posts/r_google_pixel-Headset-20210110042219.txt -> 147\n",
      "reddit_posts/r_google_pixel-Car-20201102051217.txt -> 147\n",
      "reddit_posts/r_google_pixel-Car-20210311224808.txt -> 147\n",
      "reddit_posts/androidbeta-Keyboard-20210117201004.txt -> 147\n",
      "reddit_posts/r_google_pixel-Headset-20210120054632.txt -> 147\n",
      "reddit_posts/r_google_pixel-Wear-20210409003132.txt -> 147\n",
      "reddit_posts/r_google_pixel-Car-20210108073604.txt -> 147\n",
      "reddit_posts/androidbeta-Car-20210403234413.txt -> 147\n",
      "reddit_posts/r_google_pixel-Car-20210219005239.txt -> 147\n",
      "reddit_posts/r_google_pixel-Car-20210226021805.txt -> 147\n",
      "reddit_posts/androidbeta-Headset-20201008080000.txt -> 147\n",
      "reddit_posts/r_google_pixel-Keyboard-20210221031425.txt -> 221\n",
      "reddit_posts/r_google_pixel-Car-20210118084152.txt -> 147\n",
      "reddit_posts/androidbeta-Headset-20210327134022.txt -> 147\n",
      "reddit_posts/r_google_pixel-Car-20210227135012.txt -> 147\n",
      "reddit_posts/androidbeta-Headset-20210305080000.txt -> 147\n"
     ]
    }
   ],
   "source": [
    "from collections import defaultdict\n",
    "\n",
    "g2d_dict = defaultdict(list) # Key as group/cluster; value as list of corresponding doc\n",
    "for g, t in zip(kmeans.labels_, docs_df.iterrows()):\n",
    "    if t[1].file.startswith('reddit'):\n",
    "        print(f\"{t[1].file} -> {g}\")\n",
    "    g2d_dict[g].append(t[1].file)"
   ]
  },
  {
   "cell_type": "code",
   "execution_count": 94,
   "metadata": {},
   "outputs": [
    {
     "name": "stdout",
     "output_type": "stream",
     "text": [
      "interested_pages/www.androidpolice.com_44e3b409dff10eac6bd3406f841df1f0.txt\n",
      "interested_pages/www.androidcentral.com_cd9ab3da25c6ced1029c6a80fbfe4c04.txt\n",
      "interested_pages/www.androidpolice.com_c4ac64f750dac8114c7e19c1205e45b4.txt\n",
      "interested_pages/www.androidcentral.com_34bbcb57ca03713d84139f643440f362.txt\n",
      "interested_pages/www.androidcentral.com_85b2645a278c4f99fc1e84a8ad24b03e.txt\n"
     ]
    }
   ],
   "source": [
    "for d in g2d_dict[147]:\n",
    "    if not d.startswith('reddit_posts'):\n",
    "        print(d)"
   ]
  },
  {
   "cell_type": "code",
   "execution_count": 96,
   "metadata": {},
   "outputs": [
    {
     "name": "stdout",
     "output_type": "stream",
     "text": [
      "Cluster-24 (0/39):\n",
      "Cluster-287 (0/27):\n",
      "Cluster-53 (0/10):\n",
      "Cluster-90 (0/27):\n",
      "Cluster-254 (0/14):\n",
      "Cluster-161 (0/16):\n",
      "Cluster-157 (0/72):\n",
      "Cluster-211 (0/9):\n",
      "Cluster-63 (0/40):\n",
      "Cluster-177 (0/42):\n",
      "Cluster-37 (0/38):\n",
      "Cluster-198 (0/9):\n",
      "Cluster-192 (0/27):\n",
      "Cluster-28 (4/161):\n",
      "\treddit_posts/r_google_pixel-Wear-20210222003019.txt\n",
      "\treddit_posts/r_google_pixel-Car-20210105004420.txt\n",
      "\treddit_posts/r_google_pixel-Car-20210315045643.txt\n",
      "\treddit_posts/r_google_pixel-Car-20210221221926.txt\n",
      "Cluster-107 (0/24):\n",
      "Cluster-224 (0/32):\n",
      "Cluster-278 (0/10):\n",
      "Cluster-174 (0/27):\n",
      "Cluster-188 (0/3):\n",
      "Cluster-151 (0/14):\n",
      "Cluster-140 (0/14):\n",
      "Cluster-245 (0/3):\n",
      "Cluster-6 (0/98):\n",
      "Cluster-18 (0/26):\n",
      "Cluster-138 (0/9):\n",
      "Cluster-121 (0/25):\n",
      "Cluster-3 (0/62):\n",
      "Cluster-202 (0/44):\n",
      "Cluster-208 (0/24):\n",
      "Cluster-285 (0/12):\n",
      "Cluster-274 (0/6):\n",
      "Cluster-102 (0/25):\n",
      "Cluster-162 (0/18):\n",
      "Cluster-79 (0/34):\n",
      "Cluster-193 (0/22):\n",
      "Cluster-58 (0/12):\n",
      "Cluster-134 (0/18):\n",
      "Cluster-30 (0/19):\n",
      "Cluster-32 (0/8):\n",
      "Cluster-237 (0/103):\n",
      "Cluster-143 (0/36):\n",
      "Cluster-82 (0/15):\n",
      "Cluster-50 (0/17):\n",
      "Cluster-131 (0/25):\n",
      "Cluster-29 (0/13):\n",
      "Cluster-33 (0/24):\n",
      "Cluster-280 (0/12):\n",
      "Cluster-252 (1/13):\n",
      "\treddit_posts/r_google_pixel-Wear-20210410061718.txt\n",
      "Cluster-294 (0/18):\n",
      "Cluster-180 (0/50):\n",
      "Cluster-205 (0/26):\n",
      "Cluster-62 (0/29):\n",
      "Cluster-148 (0/10):\n",
      "Cluster-7 (0/28):\n",
      "Cluster-241 (0/20):\n",
      "Cluster-51 (0/24):\n",
      "Cluster-284 (0/26):\n",
      "Cluster-103 (0/23):\n",
      "Cluster-86 (0/25):\n",
      "Cluster-2 (0/42):\n",
      "Cluster-1 (0/93):\n",
      "Cluster-213 (0/20):\n",
      "Cluster-25 (0/26):\n",
      "Cluster-66 (0/11):\n",
      "Cluster-194 (0/8):\n",
      "Cluster-76 (0/13):\n",
      "Cluster-57 (0/19):\n",
      "Cluster-43 (0/16):\n",
      "Cluster-109 (0/36):\n",
      "Cluster-40 (0/11):\n",
      "Cluster-240 (0/11):\n",
      "Cluster-222 (0/17):\n",
      "Cluster-130 (0/26):\n",
      "Cluster-243 (0/7):\n",
      "Cluster-19 (0/20):\n",
      "Cluster-93 (0/14):\n",
      "Cluster-221 (5/72):\n",
      "\treddit_posts/r_google_pixel-Keyboard-20201213161834.txt\n",
      "\treddit_posts/r_google_pixel-Headset-20201217003357.txt\n",
      "\treddit_posts/r_google_pixel-Keyboard-20201212223148.txt\n",
      "\treddit_posts/r_google_pixel-Keyboard-20210221031425.txt\n",
      "\treddit_posts/r_google_pixel-Car-20200911011627.txt\n",
      "Cluster-182 (0/22):\n",
      "Cluster-204 (0/2):\n",
      "Cluster-88 (0/15):\n",
      "Cluster-123 (0/8):\n",
      "Cluster-248 (0/8):\n",
      "Cluster-181 (0/56):\n",
      "Cluster-68 (0/39):\n",
      "Cluster-71 (0/17):\n",
      "Cluster-165 (0/9):\n",
      "Cluster-260 (0/10):\n",
      "Cluster-96 (0/19):\n",
      "Cluster-133 (0/14):\n",
      "Cluster-70 (0/21):\n",
      "Cluster-12 (0/21):\n",
      "Cluster-0 (0/9):\n",
      "Cluster-152 (0/22):\n",
      "Cluster-256 (0/15):\n",
      "Cluster-292 (0/16):\n",
      "Cluster-158 (0/22):\n",
      "Cluster-34 (0/16):\n",
      "Cluster-172 (0/4):\n",
      "Cluster-67 (0/16):\n",
      "Cluster-217 (0/19):\n",
      "Cluster-74 (0/10):\n",
      "Cluster-9 (0/42):\n",
      "Cluster-238 (0/4):\n",
      "Cluster-111 (0/8):\n",
      "Cluster-85 (0/54):\n",
      "Cluster-26 (0/24):\n",
      "Cluster-289 (0/9):\n",
      "Cluster-45 (0/17):\n",
      "Cluster-163 (0/17):\n",
      "Cluster-100 (0/10):\n",
      "Cluster-195 (0/10):\n",
      "Cluster-41 (0/16):\n",
      "Cluster-99 (0/14):\n",
      "Cluster-10 (0/62):\n",
      "Cluster-120 (0/14):\n",
      "Cluster-297 (0/16):\n",
      "Cluster-106 (0/2):\n",
      "Cluster-52 (0/9):\n",
      "Cluster-20 (0/13):\n",
      "Cluster-97 (0/11):\n",
      "Cluster-219 (0/7):\n",
      "Cluster-246 (0/29):\n",
      "Cluster-279 (0/2):\n",
      "Cluster-16 (0/28):\n",
      "Cluster-15 (0/37):\n",
      "Cluster-94 (0/8):\n",
      "Cluster-4 (0/5):\n",
      "Cluster-56 (0/27):\n",
      "Cluster-253 (0/35):\n",
      "Cluster-38 (0/13):\n",
      "Cluster-146 (0/8):\n",
      "Cluster-127 (0/2):\n",
      "Cluster-142 (0/10):\n",
      "Cluster-124 (0/21):\n",
      "Cluster-173 (0/16):\n",
      "Cluster-72 (0/2):\n",
      "Cluster-167 (0/14):\n",
      "Cluster-210 (0/5):\n",
      "Cluster-77 (0/19):\n",
      "Cluster-46 (0/16):\n",
      "Cluster-47 (0/8):\n",
      "Cluster-113 (0/7):\n",
      "Cluster-92 (0/33):\n",
      "Cluster-271 (0/1):\n",
      "Cluster-14 (0/22):\n",
      "Cluster-235 (0/2):\n",
      "Cluster-209 (0/8):\n",
      "Cluster-91 (0/9):\n",
      "Cluster-183 (0/2):\n",
      "Cluster-48 (0/18):\n",
      "Cluster-149 (0/8):\n",
      "Cluster-31 (0/16):\n",
      "Cluster-147 (98/103):\n",
      "\treddit_posts/r_google_pixel-Headset-20210121061758.txt\n",
      "\treddit_posts/androidbeta-Headset-20201113080000.txt\n",
      "\treddit_posts/r_google_pixel-Car-20210226021805.txt\n",
      "\treddit_posts/r_google_pixel-Wear-20210405230209.txt\n",
      "\treddit_posts/r_google_pixel-Headset-20210120054632.txt\n",
      "Cluster-293 (0/5):\n",
      "Cluster-78 (0/9):\n",
      "Cluster-54 (0/13):\n",
      "Cluster-104 (0/8):\n",
      "Cluster-295 (0/2):\n",
      "Cluster-156 (0/17):\n",
      "Cluster-89 (0/8):\n",
      "Cluster-234 (0/12):\n",
      "Cluster-200 (0/4):\n",
      "Cluster-13 (0/11):\n",
      "Cluster-251 (0/13):\n",
      "Cluster-126 (0/2):\n",
      "Cluster-166 (0/7):\n",
      "Cluster-218 (0/5):\n",
      "Cluster-153 (0/9):\n",
      "Cluster-8 (0/24):\n",
      "Cluster-132 (0/2):\n",
      "Cluster-80 (0/8):\n",
      "Cluster-139 (0/10):\n",
      "Cluster-233 (0/12):\n",
      "Cluster-110 (0/9):\n",
      "Cluster-212 (0/2):\n",
      "Cluster-258 (0/13):\n",
      "Cluster-64 (0/2):\n",
      "Cluster-277 (0/2):\n",
      "Cluster-39 (0/20):\n",
      "Cluster-60 (0/9):\n",
      "Cluster-291 (0/2):\n",
      "Cluster-5 (0/16):\n",
      "Cluster-160 (0/4):\n",
      "Cluster-84 (0/7):\n",
      "Cluster-164 (0/8):\n",
      "Cluster-21 (0/16):\n",
      "Cluster-11 (0/7):\n",
      "Cluster-268 (0/2):\n",
      "Cluster-117 (0/11):\n",
      "Cluster-17 (0/28):\n",
      "Cluster-223 (0/3):\n",
      "Cluster-145 (0/2):\n",
      "Cluster-154 (0/9):\n",
      "Cluster-108 (0/4):\n",
      "Cluster-257 (0/9):\n",
      "Cluster-242 (0/18):\n",
      "Cluster-98 (0/4):\n",
      "Cluster-22 (0/12):\n",
      "Cluster-267 (0/6):\n",
      "Cluster-95 (0/2):\n",
      "Cluster-249 (0/11):\n",
      "Cluster-69 (0/13):\n",
      "Cluster-266 (0/7):\n",
      "Cluster-231 (0/2):\n",
      "Cluster-203 (0/7):\n",
      "Cluster-171 (0/8):\n",
      "Cluster-49 (3/22):\n",
      "\treddit_posts/r_google_pixel-Headset-20210202070457.txt\n",
      "\treddit_posts/r_google_pixel-Keyboard-20210104123948.txt\n",
      "\treddit_posts/r_google_pixel-Car-20201201033849.txt\n",
      "Cluster-201 (0/3):\n",
      "Cluster-83 (0/13):\n",
      "Cluster-159 (0/10):\n",
      "Cluster-141 (0/7):\n",
      "Cluster-272 (0/2):\n",
      "Cluster-299 (0/3):\n",
      "Cluster-239 (0/2):\n",
      "Cluster-296 (0/3):\n",
      "Cluster-175 (0/15):\n",
      "Cluster-61 (0/7):\n",
      "Cluster-264 (0/1):\n",
      "Cluster-128 (0/8):\n",
      "Cluster-118 (0/5):\n",
      "Cluster-244 (0/9):\n",
      "Cluster-179 (0/11):\n",
      "Cluster-216 (0/2):\n",
      "Cluster-199 (0/2):\n",
      "Cluster-215 (0/5):\n",
      "Cluster-27 (0/12):\n",
      "Cluster-65 (0/9):\n",
      "Cluster-101 (0/2):\n",
      "Cluster-155 (0/11):\n",
      "Cluster-196 (0/2):\n",
      "Cluster-207 (0/2):\n",
      "Cluster-178 (0/4):\n",
      "Cluster-186 (0/2):\n",
      "Cluster-23 (0/12):\n",
      "Cluster-262 (0/3):\n",
      "Cluster-135 (0/6):\n",
      "Cluster-144 (0/8):\n",
      "Cluster-55 (0/8):\n",
      "Cluster-263 (0/2):\n",
      "Cluster-170 (0/8):\n",
      "Cluster-197 (0/2):\n",
      "Cluster-137 (0/2):\n",
      "Cluster-184 (0/7):\n",
      "Cluster-282 (0/2):\n",
      "Cluster-270 (0/9):\n",
      "Cluster-81 (0/6):\n",
      "Cluster-73 (0/13):\n",
      "Cluster-105 (0/8):\n",
      "Cluster-87 (0/1):\n",
      "Cluster-275 (0/12):\n",
      "Cluster-169 (0/2):\n",
      "Cluster-269 (0/2):\n",
      "Cluster-112 (0/2):\n",
      "Cluster-228 (0/1):\n",
      "Cluster-75 (0/10):\n",
      "Cluster-276 (0/2):\n",
      "Cluster-115 (0/2):\n",
      "Cluster-191 (0/9):\n",
      "Cluster-189 (0/2):\n",
      "Cluster-261 (0/2):\n",
      "Cluster-236 (0/1):\n",
      "Cluster-125 (0/2):\n",
      "Cluster-286 (0/2):\n",
      "Cluster-281 (0/2):\n",
      "Cluster-176 (0/2):\n",
      "Cluster-230 (0/2):\n",
      "Cluster-136 (0/2):\n",
      "Cluster-214 (0/2):\n",
      "Cluster-168 (0/1):\n",
      "Cluster-44 (0/1):\n",
      "Cluster-298 (0/2):\n",
      "Cluster-273 (0/4):\n",
      "Cluster-225 (0/3):\n",
      "Cluster-129 (0/6):\n",
      "Cluster-206 (0/2):\n",
      "Cluster-122 (0/2):\n",
      "Cluster-290 (0/2):\n",
      "Cluster-185 (0/2):\n",
      "Cluster-116 (0/3):\n",
      "Cluster-190 (0/2):\n",
      "Cluster-59 (0/2):\n",
      "Cluster-150 (0/1):\n",
      "Cluster-232 (0/1):\n",
      "Cluster-226 (0/2):\n",
      "Cluster-283 (0/1):\n",
      "Cluster-42 (0/3):\n",
      "Cluster-229 (0/2):\n",
      "Cluster-114 (0/2):\n",
      "Cluster-35 (0/1):\n",
      "Cluster-187 (0/2):\n",
      "Cluster-227 (0/1):\n",
      "Cluster-288 (0/2):\n",
      "Cluster-265 (0/2):\n",
      "Cluster-36 (0/2):\n",
      "Cluster-259 (0/1):\n",
      "Cluster-119 (0/1):\n",
      "Cluster-255 (0/1):\n",
      "Cluster-250 (0/1):\n",
      "Cluster-220 (0/1):\n",
      "Cluster-247 (1/1):\n",
      "\treddit_posts/r_google_pixel-Keyboard-20210110155926.txt\n"
     ]
    }
   ],
   "source": [
    "for g, docs in g2d_dict.items():    \n",
    "    included_reddit_posts = list(filter(lambda d: os.path.dirname(d).startswith('reddit'), docs))\n",
    "    print(f\"Cluster-{g} ({len(included_reddit_posts)}/{len(docs)}):\")\n",
    "    for d in random.sample(included_reddit_posts, min(5, len(included_reddit_posts))):\n",
    "        print(f\"\\t{d}\")\n",
    "        copyfile(d, os.path.join(\"gdocs\", f\"{g}_\" + os.path.basename(d)))"
   ]
  },
  {
   "cell_type": "markdown",
   "metadata": {},
   "source": [
    "From above result, we can learn that most of the reddit posts are clustered in Cluster-7 and we can use this cluster to locate the interested post collected from crawler. Next, in order to draw the instance on a 2 dimensions of plane, we will use [**PCA**](https://scikit-learn.org/stable/modules/generated/sklearn.decomposition.PCA.html) to reduce the feature size:"
   ]
  },
  {
   "cell_type": "code",
   "execution_count": 30,
   "metadata": {},
   "outputs": [],
   "source": [
    "from sklearn.decomposition import PCA\n",
    "\n",
    "feature_space = PCA(n_components=2).fit_transform(docs_df.iloc[:, 2:])"
   ]
  },
  {
   "cell_type": "code",
   "execution_count": 31,
   "metadata": {},
   "outputs": [
    {
     "data": {
      "text/plain": [
       "array([[  415.29873046,  -228.76632641],\n",
       "       [-1900.57153672,  -117.58429334],\n",
       "       [ 1340.1153028 ,   419.13181965],\n",
       "       [-1692.58530706,  -132.30204715],\n",
       "       [-1324.26415496,   176.52852378],\n",
       "       [   14.79307238,  -434.20171601],\n",
       "       [-2227.95702989,  -134.72972948],\n",
       "       [ -830.50111621,  -258.14344824],\n",
       "       [-1166.09055459,  -139.05894049],\n",
       "       [-1912.72870908,    41.22127461]])"
      ]
     },
     "execution_count": 31,
     "metadata": {},
     "output_type": "execute_result"
    }
   ],
   "source": [
    "feature_space[:10]"
   ]
  },
  {
   "cell_type": "markdown",
   "metadata": {},
   "source": [
    "Now let's draw the instance onto the plane:"
   ]
  },
  {
   "cell_type": "code",
   "execution_count": 32,
   "metadata": {},
   "outputs": [
    {
     "data": {
      "text/plain": [
       "(4270,)"
      ]
     },
     "execution_count": 32,
     "metadata": {},
     "output_type": "execute_result"
    }
   ],
   "source": [
    "kmeans.labels_.shape"
   ]
  },
  {
   "cell_type": "code",
   "execution_count": 33,
   "metadata": {},
   "outputs": [
    {
     "data": {
      "text/plain": [
       "(4270, 2)"
      ]
     },
     "execution_count": 33,
     "metadata": {},
     "output_type": "execute_result"
    }
   ],
   "source": [
    "feature_space.shape"
   ]
  },
  {
   "cell_type": "code",
   "execution_count": 34,
   "metadata": {},
   "outputs": [
    {
     "name": "stderr",
     "output_type": "stream",
     "text": [
      "100%|██████████| 4270/4270 [00:19<00:00, 221.49it/s]\n"
     ]
    },
    {
     "data": {
      "image/png": "[encoded data removed]",
      "text/plain": [
       "<Figure size 432x288 with 1 Axes>"
      ]
     },
     "metadata": {
      "needs_background": "light"
     },
     "output_type": "display_data"
    }
   ],
   "source": [
    "with tqdm(total=len(kmeans.labels_)) as pbar:\n",
    "    for c, d in zip(kmeans.labels_, feature_space):\n",
    "        plt.scatter(d[0], d[1], c=c)\n",
    "        pbar.update(1)\n",
    "        \n",
    "plt.show()"
   ]
  },
  {
   "cell_type": "markdown",
   "metadata": {},
   "source": [
    "Finally, let's serialized the cluster object and load it back for testing:"
   ]
  },
  {
   "cell_type": "code",
   "execution_count": 109,
   "metadata": {},
   "outputs": [],
   "source": [
    "# https://machinelearningmastery.com/save-load-machine-learning-models-python-scikit-learn/\n",
    "filename = 'kmeans_model.pkl'\n",
    "pickle.dump(kmeans, open(filename, 'wb'))"
   ]
  },
  {
   "cell_type": "code",
   "execution_count": 110,
   "metadata": {},
   "outputs": [],
   "source": [
    "loaded_kmeans = pickle.load(open(filename, 'rb'))"
   ]
  },
  {
   "cell_type": "code",
   "execution_count": 111,
   "metadata": {},
   "outputs": [],
   "source": [
    "def doc2vec(fp:str, from_reddit:bool=False):\n",
    "    title, body = read_post(fp, from_reddit)\n",
    "    doc_vec = np.zeros(300)\n",
    "    for sent in nltk.sent_tokenize(body):\n",
    "        for w in nltk.tokenize.word_tokenize(sent):\n",
    "            try:\n",
    "                doc_vec += wv[w]\n",
    "            except:\n",
    "                pass\n",
    "            \n",
    "    row = [body.count('\\t')]\n",
    "    row.extend(doc_vec.copy())\n",
    "    return [row]"
   ]
  },
  {
   "cell_type": "code",
   "execution_count": 112,
   "metadata": {},
   "outputs": [
    {
     "data": {
      "text/plain": [
       "147"
      ]
     },
     "execution_count": 112,
     "metadata": {},
     "output_type": "execute_result"
    }
   ],
   "source": [
    "loaded_kmeans.predict(doc2vec('reddit_posts/r_google_pixel-Car-20201107215607.txt', True))[0]"
   ]
  },
  {
   "cell_type": "code",
   "execution_count": 114,
   "metadata": {},
   "outputs": [
    {
     "data": {
      "text/plain": [
       "147"
      ]
     },
     "execution_count": 114,
     "metadata": {},
     "output_type": "execute_result"
    }
   ],
   "source": [
    "loaded_kmeans.predict(doc2vec('interested_pages/www.androidpolice.com_44e3b409dff10eac6bd3406f841df1f0.txt'))[0]"
   ]
  }
 ],
 "metadata": {
  "kernelspec": {
   "display_name": "Python 3",
   "language": "python",
   "name": "python3"
  },
  "language_info": {
   "codemirror_mode": {
    "name": "ipython",
    "version": 3
   },
   "file_extension": ".py",
   "mimetype": "text/x-python",
   "name": "python",
   "nbconvert_exporter": "python",
   "pygments_lexer": "ipython3",
   "version": "3.9.2"
  }
 },
 "nbformat": 4,
 "nbformat_minor": 4
}
