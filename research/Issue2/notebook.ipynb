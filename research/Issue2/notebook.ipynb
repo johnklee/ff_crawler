{
 "cells": [
  {
   "cell_type": "markdown",
   "metadata": {},
   "source": [
    "<a id='preface'></a>\n",
    "## <font color='darkblue'>Preface</font>\n",
    "[Issue2](https://github.com/johnklee/ff_crawler/issues/2) aims to collect post/articles from below websites for future analsysis:\n",
    "* https://www.androidcentral.com/ ([Category Rank 109](https://www.similarweb.com/website/androidcentral.com/))\n",
    "* https://www.androidpolice.com/ ([Category Rank 198](https://www.similarweb.com/website/androidpolice.com/))\n",
    "* https://www.xda-developers.com/ ([Category Rank 107](https://www.similarweb.com/website/xda-developers.com/))"
   ]
  },
  {
   "cell_type": "markdown",
   "metadata": {},
   "source": [
    "### <font color='darkgreen'>Agenda</font>\n",
    "* <font size='3ptx'>[**Experiment - Crawling HTML page**](#crawl_exp)</font>\n",
    "* <font size='3ptx'>[**Design - ExplorerWorker**](#design_explorerstar)</font>\n",
    "* <font size='3ptx'>[**Analysis Of Collected Interested Post**](#analysis_of_post)</font>"
   ]
  },
  {
   "cell_type": "code",
   "execution_count": 39,
   "metadata": {},
   "outputs": [],
   "source": [
    "import requests as reqlib\n",
    "import os\n",
    "import re\n",
    "import random\n",
    "import time\n",
    "import pickle\n",
    "import abc\n",
    "import hashlib\n",
    "import threading\n",
    "import matplotlib\n",
    "import matplotlib.pyplot as plt\n",
    "from urllib.parse import urlparse\n",
    "from shutil import copyfile\n",
    "from purifier import TEAgent\n",
    "from purifier.logb import getLogger\n",
    "from enum import IntEnum\n",
    "from typing import Tuple, List, Dict, Optional"
   ]
  },
  {
   "cell_type": "markdown",
   "metadata": {},
   "source": [
    "<a id='crawl_exp'></a>\n",
    "## <font color='darkblue'>Experiment - Crawling HTML page</font>\n",
    "Here we will define a few classes with crawling functionality for later usage:\n",
    "* <font size='3ptx'>[**AndroidCentral**](#androidcentral)</font>\n",
    "* <font size='3ptx'>[**AndroidPolicy**](#androidpolicy)</font>\n",
    "* <font size='3ptx'>[**XDA-Developer**](#xda-developer)</font>"
   ]
  },
  {
   "cell_type": "code",
   "execution_count": 44,
   "metadata": {},
   "outputs": [],
   "source": [
    "##########################################\n",
    "# utils.py\n",
    "##########################################\n",
    "\n",
    "class ScraperNot200(Exception):\n",
    "    def __init__(self, sc):\n",
    "        self.sc = sc\n",
    "        \n",
    "    def __str__(self):\n",
    "        return f\"Unexpected Status Code={self.sc}!\"\n",
    "\n",
    "class UnsupportedMIME(Exception):\n",
    "    def __init__(self, mime):\n",
    "        self.mime = mime\n",
    "        \n",
    "    def __str__(self):\n",
    "        return f\"Unsupported MIME={self.mime}!\"\n",
    "    \n",
    "\n",
    "class Scraper(metaclass=abc.ABCMeta):\n",
    "    @abc.abstractmethod\n",
    "    def get(self, url):\n",
    "        pass\n",
    "\n",
    "class ReqScraper(object):\n",
    "    def __init__(self, \n",
    "                 page_cache_path=\"page_caches\",\n",
    "                 headers={'User-Agent': 'Mozilla/5.0'},\n",
    "                 skip_cache=False,\n",
    "                 supported_mime_set={\"text/html\"}):\n",
    "        self.page_cache_path = page_cache_path        \n",
    "        if not os.path.isdir(self.page_cache_path):\n",
    "            os.makedirs(self.page_cache_path)\n",
    "            \n",
    "        self.headers = headers            \n",
    "        self.logger = getLogger(os.path.basename(self.__class__.__name__))\n",
    "        self.skip_cache = skip_cache\n",
    "        self.supported_mime_set = supported_mime_set\n",
    "    \n",
    "    def _get_cache_path(self, url):\n",
    "        test_url_host = urlparse(url).netloc\n",
    "        url_md5 = hashlib.md5(url.encode('utf-8')).hexdigest()\n",
    "        cache_file_name = f\"{test_url_host}_{url_md5}.txt\"\n",
    "        cache_file_path = os.path.join(self.page_cache_path, cache_file_name)\n",
    "        return cache_file_path\n",
    "    \n",
    "    def _get_from_cache(self, url):\n",
    "        cache_file_path = self._get_cache_path(url)        \n",
    "        if os.path.isfile(cache_file_path):\n",
    "            self.logger.debug(f\"Return content of {url} from cache...\")\n",
    "            with open(cache_file_path, 'r', encoding='utf8') as fo:\n",
    "                return fo.read()\n",
    "            \n",
    "        return None\n",
    "    \n",
    "    def _save2cache(self, url, html_content):\n",
    "        cache_file_path = self._get_cache_path(url)\n",
    "        with open(cache_file_path, 'w', encoding='utf8') as fw:\n",
    "            fw.write(html_content)\n",
    "    \n",
    "    def get(self, url):\n",
    "        if not self.skip_cache:\n",
    "            cache_text = self._get_from_cache(url)\n",
    "            if cache_text is not None:\n",
    "                return cache_text\n",
    "            \n",
    "        self.logger.debug(f\"Crawling {url}...\")\n",
    "        resp = reqlib.get(url, headers=self.headers)\n",
    "        if resp.ok:\n",
    "            mime = resp.headers['content-type'].split(';')[0].strip()\n",
    "            self.logger.debug(f\"URL={url} with MIME={mime}...\")\n",
    "            if mime.lower() not in self.supported_mime_set:\n",
    "                raise UnsupportedMIME(mime)\n",
    "                \n",
    "            self._save2cache(url, resp.text)\n",
    "            return resp.text\n",
    "        else:\n",
    "            raise ScraperNot200(resp.status_code)"
   ]
  },
  {
   "cell_type": "code",
   "execution_count": 3,
   "metadata": {},
   "outputs": [],
   "source": [
    "# sr_agent = ReqScraper(skip_cache=False)\n",
    "sr_agent = ReqScraper()"
   ]
  },
  {
   "cell_type": "code",
   "execution_count": 4,
   "metadata": {},
   "outputs": [
    {
     "name": "stderr",
     "output_type": "stream",
     "text": [
      "\u001b[1;30mMainThread/INFO:\u001b[0m <<ipython-input-2-b7bd96941ad2>#50> Return content of https://www.androidcentral.com/ from cache...\n"
     ]
    }
   ],
   "source": [
    "androidcentral_host_url = 'https://www.androidcentral.com/'\n",
    "androidcentral_host_html = sr_agent.get(androidcentral_host_url)"
   ]
  },
  {
   "cell_type": "code",
   "execution_count": 5,
   "metadata": {},
   "outputs": [
    {
     "data": {
      "text/plain": [
       "'<!DOCTYPE html>\\n<html dir=\"ltr\">\\n<head>\\n<meta charset=\"UTF-8\" />\\n<meta name=\"viewport\" content=\"widt'"
      ]
     },
     "execution_count": 5,
     "metadata": {},
     "output_type": "execute_result"
    }
   ],
   "source": [
    "androidcentral_host_html[:100]"
   ]
  },
  {
   "cell_type": "code",
   "execution_count": 6,
   "metadata": {},
   "outputs": [
    {
     "name": "stdout",
     "output_type": "stream",
     "text": [
      "{'r:https?://www\\\\.androidcentral\\\\.com/[^/]+$': purifier.policy.policy1001 (policy_androidcentral_1/None:r:https?://www\\.androidcentral\\.com/[^/]+$), 'r:https?://www\\\\.androidpolice\\\\.com/\\\\d{4}/\\\\d{1,2}/\\\\d{1,2}/[^/]+/?$': purifier.policy.policy1001 (policy_androidpolicy_1/None:r:https?://www\\.androidpolice\\.com/\\d{4}/\\d{1,2}/\\d{1,2}/[^/]+/?$), 'r:https?://www\\\\.xda-developers\\\\.com/[^/]+/?$': purifier.policy.policy1001 (policy_xdadep_1/None:r:https?://www\\.xda-developers\\.com/[^/]+/?$)}\n",
      "\n",
      "\n",
      "is_succ: True (title=Android Central - News, Reviews, Deals & Help on all Android devices):\n",
      "Android Central - News, Reviews, Deals & Help on all Android devices\n",
      "Battle of the super streamers\n",
      "\n",
      "Michael L Hicks  11 hours ago\n",
      "\n",
      "Several new streaming devices have launched or are launching within a month of one another, cramming in new specs and features while driving down prices to compete with one another. We're weighing the best dongles, sticks and devices from Amazon, Google, Apple, Roku, Nvidia and other major tech players to decide which streaming device is the best for you.\n",
      "\n"
     ]
    }
   ],
   "source": [
    "extractor = TEAgent(\n",
    "    policy_path=\"policy\", \n",
    "    disable_policy=True,\n",
    "    ext_title=True\n",
    ")\n",
    "print(str(extractor.handlers['text/html'].stg_dict) + \"\\n\\n\")\n",
    "is_succ, rst, handler = extractor.parse(\n",
    "    \"text/html\", \n",
    "    androidcentral_host_url, \n",
    "    androidcentral_host_html,\n",
    "    do_ext_link=True\n",
    ")\n",
    "print(f\"is_succ: {is_succ} (title={rst['title']}):\\n{rst['text']}\\n\")"
   ]
  },
  {
   "cell_type": "code",
   "execution_count": 7,
   "metadata": {},
   "outputs": [
    {
     "data": {
      "text/plain": [
       "['http://www.youtube.com/subscription_center?utm_source=ac&utm_medium=burger&utm_campaign=navigation&add_user=AndroidCentral',\n",
       " 'https://www.androidcentral.com/best-wifi-6-routers',\n",
       " 'https://www.androidcentral.com/playstation-now-could-be-serious-xcloud-competitor-android',\n",
       " 'https://www.futureplc.com/services/advertising',\n",
       " 'https://www.thrifter.com/?utm_source=ac&utm_medium=navbar&utm_campaign=navigation',\n",
       " 'https://www.futureplc.com/services/endorsement-licensing/?utm_source=ac&utm_medium=drawer&utm_campaign=navigation',\n",
       " 'http://youtube.com/c/themrmobile?utm_source=ac&utm_medium=drawer&utm_campaign=navigation&sub_confirmation=1',\n",
       " 'https://www.androidcentral.com/best-chromebook',\n",
       " 'https://www.androidcentral.com/about',\n",
       " 'https://www.androidcentral.com/ac-podcast-522-android-12-sony-xperia-1iii-fitbit-luxe-apple-event',\n",
       " 'https://www.androidcentral.com/what-know-about-resident-evil-villages-demo-weekend',\n",
       " 'https://www.androidcentral.com/latest-whatsapp-beta-brings-playback-speed-control-voice-notes',\n",
       " 'https://www.androidcentral.com/google-maps-highlights-how-you-can-find-eco-friendly-businesses',\n",
       " 'https://www.androidcentral.com/how-watch-2021-academy-country-music-awards-online-anywhere',\n",
       " 'https://www.androidcentral.com/best-vpn',\n",
       " 'https://www.androidcentral.com',\n",
       " 'https://www.androidcentral.com/google-rolls-out-data-saving-mode-meets-android-app',\n",
       " 'https://www.imore.com?utm_source=ac&utm_medium=drawer&utm_campaign=navigation',\n",
       " 'https://www.androidcentral.com/best-t-mobile-phones',\n",
       " 'https://www.windowscentral.com?utm_source=ac&utm_medium=drawer&utm_campaign=navigation',\n",
       " 'https://www.androidcentral.com/best',\n",
       " 'https://www.futureplc.com/terms-conditions/?utm_source=ac&utm_medium=footer&utm_campaign=navigation',\n",
       " 'https://www.androidcentral.com/best-moto-g-stylus-2021-cases',\n",
       " 'https://www.twitter.com/androidcentral?utm_source=ac&utm_medium=burger&utm_campaign=navigation',\n",
       " 'https://www.androidcentral.com/best-android-phones',\n",
       " 'https://www.androidcentral.com/android-12-will-finally-let-you-disable-annoying-wear-os-notifications',\n",
       " 'https://www.androidcentral.com/xiaomis-mi-11-ultra-launches-india-take-oneplus-9-pro-and-galaxy-s21-ultra',\n",
       " 'https://www.futureplc.com/accessibility-statement/?utm_source=ac&utm_medium=drawer&utm_campaign=navigation',\n",
       " 'https://www.androidcentral.com/android-user-have-you-ever-been-tempted-iphone',\n",
       " 'https://www.androidcentral.com/best-lg-phones',\n",
       " 'https://www.androidcentral.com/how-watch-fa-cup-how-watch-football-tournament-online-anywhere',\n",
       " 'https://www.androidcentral.com/best-android-smartwatch',\n",
       " 'https://www.androidcentral.com/oppo-bluetooth-uwb-tracker-usb-c-charging',\n",
       " 'https://www.instagram.com/androidcentral/?utm_source=ac&utm_medium=burger&utm_campaign=navigation',\n",
       " 'https://www.androidcentral.com/google-prepares-assistant-voice-shortcuts-without-wake-word',\n",
       " 'https://www.androidcentral.com/google-play-store-optimizing-app-installation',\n",
       " 'https://www.androidcentral.com/oculus-finally-getting-rid-its-hideously-ugly-avatars',\n",
       " 'https://www.androidcentral.com/best-lenovo-chromebook-duet-deals',\n",
       " 'https://thrifter.com?utm_source=ac&utm_medium=drawer&utm_campaign=navigation',\n",
       " 'https://www.technobuffalo.com?utm_source=ac&utm_medium=drawer&utm_campaign=navigation',\n",
       " 'https://www.androidcentral.com/how-set-alexa-sonos-system',\n",
       " 'https://www.androidcentral.com/disgaea-rpg-android-game-week',\n",
       " 'https://www.androidcentral.com/tablet-hardware-has-outpaced-both-software-capabilities-and-usefulness',\n",
       " 'https://www.androidcentral.com/rupauls-drag-race-live-stream-watch-season-13-finale-online-anywhere',\n",
       " 'https://www.futureplc.com/privacy-policy/?utm_source=ac&utm_medium=footer&utm_campaign=navigation',\n",
       " 'https://www.androidcentral.com/blog',\n",
       " 'https://www.androidcentral.com/liege-bastogne-liege-live-stream-2021-live-stream-how-watch-uci-world-tour-cycling-race-online',\n",
       " 'https://www.androidcentral.com/newsletter',\n",
       " 'https://www.futureplc.com/accessibility-statement?utm_source=ac&utm_medium=footer&utm_campaign=navigation',\n",
       " 'https://www.androidcentral.com/best-reviews',\n",
       " 'http://yourfuturejob.futureplc.com/?utm_source=ac&utm_medium=footer&utm_campaign=navigation',\n",
       " 'https://www.androidcentral.com/razer-anzu-review',\n",
       " 'https://www.androidcentral.com/oneplus-9',\n",
       " 'https://www.androidcentral.com/rss.xml?utm_medium=burger&utm_campaign=navigation&utm_source=ac',\n",
       " 'https://www.androidcentral.com/android-11',\n",
       " 'https://www.androidcentral.com/vpn',\n",
       " 'https://www.androidcentral.com/gboard-rolling-out-clipboard-horizontal-scroll-list',\n",
       " 'https://www.androidcentral.com/playstation-5',\n",
       " 'https://www.androidcentral.com/marshall-mode-ii-review',\n",
       " 'https://www.androidcentral.com/twitter-tip-jar-super-follow-buttons-revealed',\n",
       " 'https://www.facebook.com/AndroidCentral/?utm_source=ac&utm_medium=burger&utm_campaign=navigation',\n",
       " 'https://www.androidcentral.com/google-pay-spring-challenge-sticker-rewards',\n",
       " 'https://www.androidcentral.com/best-oculus-quest-2-deals',\n",
       " 'https://www.androidcentral.com/best-folding-phone-deals',\n",
       " 'https://www.futureplc.com?utm_source=ac&utm_medium=footer&utm_campaign=navigation',\n",
       " 'https://www.androidcentral.com/android',\n",
       " 'https://www.androidcentral.com/control-temperature-anywhere-honeywells-t9-smart-thermostat-sale-150',\n",
       " 'https://www.androidcentral.com/reviews',\n",
       " 'https://www.androidcentral.com/wraith-oblivion-afterlife-review',\n",
       " 'https://www.androidcentral.com/how-sign-sling',\n",
       " 'https://www.androidcentral.com/e?link=https%3A%2F%2Fwww.xvtelink.com%2Foffer%2Fandroidcentral%3Foffer%3D3monthsfree%26a_fid%3D744%26data1%3DUUacUdUbU212YYw&token=S2zYYIBz',\n",
       " 'https://www.androidcentral.com/phones',\n",
       " 'https://passport.mobilenations.com/?utm_source=ac&utm_medium=signup&utm_campaign=passport&u=eNpVjsEOgjAQRP-ld4GKrXQ5mvgB6p20dAuNQElbg4nx36XoxdvsZOfNSODwCkD3QDxq67GNzcMPpA5wKIH0Mc4B8nxZlkxO2jurW5yil0PWujGfcNn1bsRZdphcIpT_Y5pRs-SXK55iJXWljBGUFcwgk4YrzYRWpkSm-FYJJNi4odaEbJPgSUTrpnRUid_ZENFvfQWQ0_Vybm7ujuuDguLn4nO2Xn5jdt1Fxf5YCsHq9wfU4kz_',\n",
       " 'https://www.futureplc.com?utm_source=ac&utm_medium=drawer&utm_campaign=navigation',\n",
       " 'https://www.androidcentral.com/unlock-5g-speeds-mint-mobiles-unlimited-data-plan-only-30month',\n",
       " 'https://www.androidcentral.com/deals',\n",
       " 'https://www.futureplc.com/privacy-policy/?utm_source=ac&utm_medium=drawer&utm_campaign=navigation',\n",
       " 'https://www.futureplc.com/cookies-policy?utm_source=ac&utm_medium=drawer&utm_campaign=navigation',\n",
       " 'https://www.futureplc.com/cookies-policy?utm_source=ac&utm_medium=footer&utm_campaign=navigation',\n",
       " 'https://www.futureplc.com/terms-conditions/?utm_source=ac&utm_medium=drawer&utm_campaign=navigation',\n",
       " 'https://www.androidcentral.com/snapchat-reports-more-daily-active-users-android-iphone-ios',\n",
       " 'https://crackberry.com?utm_source=ac&utm_medium=drawer&utm_campaign=navigation',\n",
       " 'https://www.futureplc.com/accessibility-statement?utm_source=ac&utm_medium=drawer&utm_campaign=navigation',\n",
       " 'https://www.futureplc.com/services/endorsement-licensing/?utm_source=ac&utm_medium=footer&utm_campaign=navigation',\n",
       " 'https://www.androidcentral.com/verizons-one-day-sale-sends-oculus-quest-2-its-best-price-yet',\n",
       " 'https://www.androidcentral.com/google-and-apple-are-facing-tough-questions-over-developer-testimony-us-senate',\n",
       " 'http://yourfuturejob.futureplc.com/?utm_source=ac&utm_medium=drawer&utm_campaign=navigation',\n",
       " 'https://www.androidcentral.com/asus-zenfone-8-launch-date-teased',\n",
       " 'https://www.androidcentral.com/gaming',\n",
       " 'https://forums.androidcentral.com?utm_source=ac&utm_medium=navbar&utm_campaign=navigation',\n",
       " 'https://www.androidcentral.com/oculus-quest-2-vs-oculus-quest',\n",
       " 'https://www.mobilenations.com/advertise?utm_source=ac&utm_medium=drawer&utm_campaign=navigation',\n",
       " 'https://www.mobilenations.com/licensing-reprints/?utm_source=ac&utm_medium=drawer&utm_campaign=navigation',\n",
       " 'https://www.androidcentral.com/samsungs-upcoming-galaxy-a22-5g-gets-shown-renders',\n",
       " 'https://www.androidcentral.com/best-streaming-devices',\n",
       " 'https://www.androidcentral.com/android-12-developer-preview-3-hands',\n",
       " 'https://www.androidcentral.com/huawei',\n",
       " 'https://www.androidcentral.com/samsung-galaxy-s21',\n",
       " 'https://www.androidcentral.com/best-oneplus-8-pro-cases',\n",
       " 'https://www.androidcentral.com/oneplus-8t-review',\n",
       " 'https://passport.mobilenations.com/?u=eNpVjkEOgjAQRe_SvUCtrXRYmnhcMHVPWjqFRqCk1GBivLsU3bj7_yX_zSgQ8JqB7oEENC5gE-tH6Ek1w4EB6WKcZsjzZVkyNZrgnWlwjEH1WeOHfMRl1_kBXCfVYppQ8a-pB8MTZ6ueYqlMqa2VlBfcXCJXVmjDpdGWIddiOwlkdnFTrQvVpCBSiM6PqXAgvW_dlmkB5HS9nOubv-NKNBQ_is_JBfXduPUpKvdHJiWv3h_WWkuw',\n",
       " 'https://www.androidcentral.com/best-chromebox',\n",
       " 'https://www.androidcentral.com/how-change-your-google-profile-photo-contacts-app',\n",
       " 'https://www.androidcentral.com/best-android-tablets',\n",
       " 'https://www.androidcentral.com/quench-your-thirst-lifestraw-go-water-filter-bottle-sale-30',\n",
       " 'https://www.androidcentral.com/youtube-rolls-out-new-streaming-quality-controls-mobile',\n",
       " 'https://www.androidcentral.com/google-pixel-5',\n",
       " 'https://www.androidcentral.com/motogp-portugal-2021-live-stream-how-watch-grand-prix-online-anywhere',\n",
       " 'https://www.androidcentral.com/how-watch-new-mortal-kombat-film-online-anywhere',\n",
       " 'https://www.androidcentral.com/grab-two-weather-resistant-kasa-outdoor-smart-plugs-sale-30-total',\n",
       " 'https://www.androidcentral.com/oneplus-8-review',\n",
       " 'https://www.androidcentral.com/you-will-soon-start-seeing-ads-instagram-reels',\n",
       " 'https://www.androidcentral.com/chromebooks',\n",
       " 'https://www.androidcentral.com/how-to',\n",
       " 'https://www.androidcentral.com/fubotv-account-heres-how-activate-your-fubotv-subscription',\n",
       " 'https://forums.androidcentral.com?utm_source=ac&utm_medium=drawer&utm_campaign=navigation',\n",
       " 'https://www.androidcentral.com/best-wireless-earbuds']"
      ]
     },
     "execution_count": 7,
     "metadata": {},
     "output_type": "execute_result"
    }
   ],
   "source": [
    "rst['all_links']"
   ]
  },
  {
   "cell_type": "markdown",
   "metadata": {},
   "source": [
    "<a id='androidcentral'></a>\n",
    "### <font color='darkgreen'>AndroidCentral</font> ([back](#crawl_exp))\n",
    "Let's explore the page of [website](https://www.androidcentral.com/android) and design text extraction policy for it:"
   ]
  },
  {
   "cell_type": "code",
   "execution_count": 8,
   "metadata": {},
   "outputs": [],
   "source": [
    "# Demo text extraction\n",
    "# https://github.com/johnklee/scraper-text-purifier/blob/main/README.md\n",
    "androidcentral_test_url = \"https://www.androidcentral.com/latest-whatsapp-beta-brings-playback-speed-control-voice-notes\"\n",
    "androidcentral_test_host = urlparse(androidcentral_test_url).netloc"
   ]
  },
  {
   "cell_type": "code",
   "execution_count": 9,
   "metadata": {},
   "outputs": [
    {
     "name": "stderr",
     "output_type": "stream",
     "text": [
      "\u001b[1;30mMainThread/INFO:\u001b[0m <<ipython-input-2-b7bd96941ad2>#50> Return content of https://www.androidcentral.com/latest-whatsapp-beta-brings-playback-speed-control-voice-notes from cache...\n"
     ]
    }
   ],
   "source": [
    "androidcentral_test_html = sr_agent.get(androidcentral_test_url)"
   ]
  },
  {
   "cell_type": "code",
   "execution_count": 10,
   "metadata": {},
   "outputs": [
    {
     "data": {
      "text/plain": [
       "'<!DOCTYPE html>\\n<html dir=\"ltr\">\\n<head>\\n<meta charset=\"UTF-8\" />\\n<meta name=\"viewport\" content=\"widt'"
      ]
     },
     "execution_count": 10,
     "metadata": {},
     "output_type": "execute_result"
    }
   ],
   "source": [
    "androidcentral_test_html[:100]"
   ]
  },
  {
   "cell_type": "code",
   "execution_count": 11,
   "metadata": {},
   "outputs": [
    {
     "name": "stdout",
     "output_type": "stream",
     "text": [
      "{'r:https?://www\\\\.androidcentral\\\\.com/[^/]+$': purifier.policy.policy1001 (policy_androidcentral_1/None:r:https?://www\\.androidcentral\\.com/[^/]+$), 'r:https?://www\\\\.androidpolice\\\\.com/\\\\d{4}/\\\\d{1,2}/\\\\d{1,2}/[^/]+/?$': purifier.policy.policy1001 (policy_androidpolicy_1/None:r:https?://www\\.androidpolice\\.com/\\d{4}/\\d{1,2}/\\d{1,2}/[^/]+/?$), 'r:https?://www\\\\.xda-developers\\\\.com/[^/]+/?$': purifier.policy.policy1001 (policy_xdadep_1/None:r:https?://www\\.xda-developers\\.com/[^/]+/?$)}\n",
      "\n",
      "\n",
      "is_succ: True (title=Latest WhatsApp beta brings playback speed control for voice notes | Android Central):\n",
      "23 Apr 2021\n",
      "\n",
      "Source: Harish Jonnalagadda / Android Central\n",
      "\n",
      "What you need to know\n",
      "\n",
      "* The latest WhatsApp beta for Android adds support for different playback speeds for voice messages.\n",
      "* When you play a voice message, you will now see a playback speed button.\n",
      "* You can choose from three playback speeds by tapping on the new button: 1x, 1.5x, and 2x.\n",
      "\n",
      "What you need to know\n",
      "\n",
      "* The latest WhatsApp beta for Android adds support for different playback speeds for voice messages.\n",
      "* When you play a voice message, you will now see a playback speed button.\n",
      "* You can choose from three playback speeds by tapping on the new button: 1x, 1.5x, and 2x.\n",
      "\n",
      "WhatsApp has released a new beta version of its Android app through the Google Play beta program. The latest WhatsApp beta v2.21.9.4 brings a useful new feature that lets users listen to voice messages at different playback speeds.\n",
      "\n",
      "The feature has been under development for some time now and was first spotted by the folks at WABetaInfo last month. If you have the latest WhatsApp beta installed on your phone, you can access the feature by playing any voice message and tapping on the new playback speed button. The feature currently supports three playback speeds: 1x, 1.5x and 2x.\n",
      "\n",
      "Source: WABetaInfo\n",
      "\n",
      "The WABetaInfo report notes that the feature is currently limited to some beta users, but it should become more widely available within the next few days. This means even if you download the latest WhatsApp beta, you will still have to wait for WhatsApp to flip the server-side switch to enable the feature. The feature is also expected to be available on iOS sometime in the coming weeks, although it might take a little longer for it show up in the stable version of the app.\n",
      "\n",
      "VPN Deals: Lifetime license for $16, monthly plans at $1 & more\n",
      "\n",
      "While the ability to adjust playback speed for voice notes isn't available on all messaging apps, WhatsApp is not the first one to offer the feature. Telegram , which is one of the best Android messaging apps , gained a similar feature nearly three years back.\n",
      "\n"
     ]
    }
   ],
   "source": [
    "extractor = TEAgent(\n",
    "    policy_path=\"policy\", \n",
    "    disable_policy=True,\n",
    "    ext_title=True\n",
    ")\n",
    "print(str(extractor.handlers['text/html'].stg_dict) + \"\\n\\n\")\n",
    "is_succ, rst, handler = extractor.parse(\n",
    "    \"text/html\", \n",
    "    androidcentral_test_url, \n",
    "    androidcentral_test_html,\n",
    "    do_ext_link=True\n",
    ")\n",
    "print(f\"is_succ: {is_succ} (title={rst['title']}):\\n{rst['text']}\\n\")"
   ]
  },
  {
   "cell_type": "code",
   "execution_count": 12,
   "metadata": {},
   "outputs": [
    {
     "data": {
      "text/plain": [
       "{'reason': ('purifier.policy.policy1001',\n",
       "  'policy_androidcentral_1',\n",
       "  'default',\n",
       "  'r:https?://www\\\\.androidcentral\\\\.com/[^/]+$')}"
      ]
     },
     "execution_count": 12,
     "metadata": {},
     "output_type": "execute_result"
    }
   ],
   "source": [
    "handler"
   ]
  },
  {
   "cell_type": "markdown",
   "metadata": {},
   "source": [
    "<a id='androidpolicy'></a>\n",
    "### <font color='darkgreen'>AndroidPolicy</font> ([back](#crawl_exp))\n",
    "Let's explore the page of [website](https://www.androidpolice.com/) and design text extraction policy for it:"
   ]
  },
  {
   "cell_type": "code",
   "execution_count": 13,
   "metadata": {},
   "outputs": [],
   "source": [
    "# Demo text extraction\n",
    "androidpolicy_test_url = \"https://www.androidpolice.com/2021/04/23/our-first-potential-pixel-5a-camera-sample-looks-like-it-comes-from-a-very-familiar-sensor/\"\n",
    "androidpolicy_test_url_host = urlparse(androidpolicy_test_url).netloc"
   ]
  },
  {
   "cell_type": "code",
   "execution_count": 14,
   "metadata": {},
   "outputs": [
    {
     "name": "stderr",
     "output_type": "stream",
     "text": [
      "\u001b[1;30mMainThread/INFO:\u001b[0m <<ipython-input-2-b7bd96941ad2>#50> Return content of https://www.androidpolice.com/2021/04/23/our-first-potential-pixel-5a-camera-sample-looks-like-it-comes-from-a-very-familiar-sensor/ from cache...\n"
     ]
    }
   ],
   "source": [
    "androidpolicy_test_html = sr_agent.get(androidpolicy_test_url)"
   ]
  },
  {
   "cell_type": "code",
   "execution_count": 15,
   "metadata": {},
   "outputs": [
    {
     "data": {
      "text/plain": [
       "'<!DOCTYPE html>\\n<html lang=\"en-US\">\\n<head>\\n\\n<meta http-equiv=\"Content-Type\" content=\"text/html; char'"
      ]
     },
     "execution_count": 15,
     "metadata": {},
     "output_type": "execute_result"
    }
   ],
   "source": [
    "androidpolicy_test_html[:100]"
   ]
  },
  {
   "cell_type": "code",
   "execution_count": 16,
   "metadata": {},
   "outputs": [
    {
     "name": "stdout",
     "output_type": "stream",
     "text": [
      "{'r:https?://www\\\\.androidcentral\\\\.com/[^/]+$': purifier.policy.policy1001 (policy_androidcentral_1/None:r:https?://www\\.androidcentral\\.com/[^/]+$), 'r:https?://www\\\\.androidpolice\\\\.com/\\\\d{4}/\\\\d{1,2}/\\\\d{1,2}/[^/]+/?$': purifier.policy.policy1001 (policy_androidpolicy_1/None:r:https?://www\\.androidpolice\\.com/\\d{4}/\\d{1,2}/\\d{1,2}/[^/]+/?$), 'r:https?://www\\\\.xda-developers\\\\.com/[^/]+/?$': purifier.policy.policy1001 (policy_xdadep_1/None:r:https?://www\\.xda-developers\\.com/[^/]+/?$)}\n",
      "\n",
      "\n",
      "is_succ: True (title=Possible Pixel 5a camera sample raises some interesting hardware questions about Google's next phone):\n",
      "Possible Pixel 5a camera sample raises some interesting hardware questions about Google's next phone\n",
      "Recycling is a good thing, no?\n",
      "\n",
      "In demonstrating advances with its HDR image capture technique, Google may have tilted its sleeve a bit too far to reveal what may be a camera sample from the upcoming Pixel 5a.\n",
      "\n",
      "In fact, it's this very picture — taken across from the Neo 19 shopping center (and near an Apple Store) in Taipei — that seems to be the prize here .\n",
      "\n",
      "The image comes from a bin of samples meant to show off how well HDR+ with Bracketing works on the Pixel 4a 5G and Pixel 5 — the Google AI Blog (h/t XDA's Mishaal Rahman ) has a fascinating explanation about overcoming visual noise by keeping still for just an extra half-second after you've pressed the shutter.\n",
      "\n",
      "In any case, some of the images claim to come from the Pixel 5, some from the Pixel 4a 5G's, and many from \"QCAM-AA,\" likely a filler name for testbeds. Despite their extra potential resolution at 16MP, all of the photos from the rear ultra-wide cameras are capped to 12.2MP.\n",
      "\n",
      "Then there's this oddity that comes right out and says its from a Pixel 5a — specifically, looking at its aperture and focal length, its wide-angle unit. Actually, based on that very info, it might as well be from the very same dual-cam component the Pixel 5, 4a 5G, and the 4 series used. Didn't know this thing was going to have two rear cameras? It's been suspected for a good while .\n",
      "\n",
      "Google confirmed earlier this month that a Pixel 5a would be coming out later this year. We think it's pretty safe to posit that development units would've been available as early as September for test drives, especially if it's the case that the camera hardware hasn't changed.\n",
      "\n",
      "Of course, the device name could easily be spoofed in EXIF, but again, we're not expecting a tidal shift with the 5a's hardware.\n",
      "\n"
     ]
    }
   ],
   "source": [
    "extractor = TEAgent(\n",
    "    policy_path=\"policy\", \n",
    "    disable_policy=True,\n",
    "    ext_title=True\n",
    ")\n",
    "print(str(extractor.handlers['text/html'].stg_dict) + \"\\n\\n\")\n",
    "is_succ, rst, handler = extractor.parse(\n",
    "    \"text/html\", \n",
    "    androidpolicy_test_url, \n",
    "    androidpolicy_test_html,\n",
    "    do_ext_link=True\n",
    ")\n",
    "print(f\"is_succ: {is_succ} (title={rst['title']}):\\n{rst['text']}\\n\")"
   ]
  },
  {
   "cell_type": "code",
   "execution_count": 17,
   "metadata": {},
   "outputs": [
    {
     "data": {
      "text/plain": [
       "{'reason': ('purifier.policy.policy1001',\n",
       "  'policy_androidpolicy_1',\n",
       "  'default',\n",
       "  'r:https?://www\\\\.androidpolice\\\\.com/\\\\d{4}/\\\\d{1,2}/\\\\d{1,2}/[^/]+/?$')}"
      ]
     },
     "execution_count": 17,
     "metadata": {},
     "output_type": "execute_result"
    }
   ],
   "source": [
    "handler"
   ]
  },
  {
   "cell_type": "code",
   "execution_count": 18,
   "metadata": {},
   "outputs": [
    {
     "data": {
      "text/plain": [
       "dict_keys(['te_suc', 'text', 'all_links', 'body_a_links', 'body_txt_links', 'title'])"
      ]
     },
     "execution_count": 18,
     "metadata": {},
     "output_type": "execute_result"
    }
   ],
   "source": [
    "rst.keys()"
   ]
  },
  {
   "cell_type": "markdown",
   "metadata": {},
   "source": [
    "<a id='xda-developer'></a>\n",
    "### <font color='darkgreen'>XDA-Developer</font> ([back](#crawl_exp))\n",
    "Let's explore the page of [website](https://www.xda-developers.com/) and design text extraction policy for it:"
   ]
  },
  {
   "cell_type": "code",
   "execution_count": 19,
   "metadata": {},
   "outputs": [],
   "source": [
    "# Demo text extraction\n",
    "xdadep_test_url = \"https://www.xda-developers.com/volta-spark-brings-magsafe-style-cables-to-usb-c/\"\n",
    "xdadep_test_url_host = urlparse(xdadep_test_url).netloc"
   ]
  },
  {
   "cell_type": "code",
   "execution_count": 20,
   "metadata": {},
   "outputs": [
    {
     "name": "stderr",
     "output_type": "stream",
     "text": [
      "\u001b[1;30mMainThread/INFO:\u001b[0m <<ipython-input-2-b7bd96941ad2>#50> Return content of https://www.xda-developers.com/volta-spark-brings-magsafe-style-cables-to-usb-c/ from cache...\n"
     ]
    }
   ],
   "source": [
    "xdadep_test_html = sr_agent.get(xdadep_test_url)"
   ]
  },
  {
   "cell_type": "code",
   "execution_count": 21,
   "metadata": {},
   "outputs": [
    {
     "data": {
      "text/plain": [
       "'<!doctype html><html xmlns=\"http://www.w3.org/1999/xhtml\" lang=\"en-US\" style=\"margin-top:0!important'"
      ]
     },
     "execution_count": 21,
     "metadata": {},
     "output_type": "execute_result"
    }
   ],
   "source": [
    "xdadep_test_html[:100]"
   ]
  },
  {
   "cell_type": "code",
   "execution_count": 22,
   "metadata": {},
   "outputs": [
    {
     "name": "stdout",
     "output_type": "stream",
     "text": [
      "{'r:https?://www\\\\.androidcentral\\\\.com/[^/]+$': purifier.policy.policy1001 (policy_androidcentral_1/None:r:https?://www\\.androidcentral\\.com/[^/]+$), 'r:https?://www\\\\.androidpolice\\\\.com/\\\\d{4}/\\\\d{1,2}/\\\\d{1,2}/[^/]+/?$': purifier.policy.policy1001 (policy_androidpolicy_1/None:r:https?://www\\.androidpolice\\.com/\\d{4}/\\d{1,2}/\\d{1,2}/[^/]+/?$), 'r:https?://www\\\\.xda-developers\\\\.com/[^/]+/?$': purifier.policy.policy1001 (policy_xdadep_1/None:r:https?://www\\.xda-developers\\.com/[^/]+/?$)}\n",
      "\n",
      "\n",
      "is_succ: True (title=VOLTA Spark Brings MagSafe-style Cables to USB-C):\n",
      "VOLTA Spark Brings MagSafe-style Cables to USB-C\n",
      "\n",
      "When you use a USB-C cable every day, you begin to realize how important it is to have a nice high-quality cable. We all have different types of devices that have different types of charge ports, so keeping track of multiple cables can become a bit of a hassle. VOLTA has created a cable that solves both of these issues while recreating the convenience of the MagSafe charger design. With the VOLTA Spark, you can have one cable with interchangeable magnetic tips, for an all-in-one solution that will charge all of your devices.\n",
      "\n",
      "VOLTA has been creating high-quality magnetic charging cables for years, making them the best solution on the market. With the VOLTA Spark, they’ve created a USB-C cable with interchangeable magnetic tips. You’ll have options for USB-C, Micro USB, and Lightning connections. These connections have a minimal protrusion from the port, which has a powerful magnet that will easily snap onto the cable. However, just like the MagSafe chargers, the cable will disconnect when pulled, to prevent your device from flying across the room.\n",
      "\n",
      "Get the VOLTA SPARK here. [$35.95]\n",
      "\n",
      "“We believe in improving human experiences. Even if itâs as simple as helping you charge all your devices with a single cable.”\n",
      "VOLTA\n",
      "\n",
      "Making the VOLTA Spark a convenient magnetic cable is only one of the great things about this cable. Durability was another important focus when designing this product. Using military-grade nylon, the protective sleeve along the cable will protect it from the usual damage that you’ll experience on standard cables. This will also extend the life of your cable, making it a better investment as something that will be able to charge your devices in years to come.\n",
      "\n",
      "Your VOLTA Spark cable comes in lengths of 3.2 and 6.5 feet, with options for 60W or 100W capacities. The cable is good for more than just charging though, as data transfer speeds are supported for up to 480Mbps.\n",
      "\n",
      "* Snag-safe magnetic design\n",
      "* Works with multiple adapters\n",
      "* Charges any USB-C, Micro-USB, or Lightning device\n",
      "* Anti-fray guard\n",
      "* Smart LED charging indicator\n",
      "* Strong N52 neodymium magnet\n",
      "* Fast charging\n",
      "* Lifetime warranty\n",
      "* OTG charging\n",
      "\n",
      "If youâre looking to consolidate your collection of chargers, and youâre tired of low-quality cheap solutions, VOLTA Spark is designed for you. Itâs a safer, more convenient charger with a warranty that makes it the last charger youâll ever need. See more information on their website here .\n",
      "\n"
     ]
    }
   ],
   "source": [
    "extractor = TEAgent(\n",
    "    policy_path=\"policy\", \n",
    "    disable_policy=True,\n",
    "    ext_title=True\n",
    ")\n",
    "print(str(extractor.handlers['text/html'].stg_dict) + \"\\n\\n\")\n",
    "is_succ, rst, handler = extractor.parse(\n",
    "    \"text/html\", \n",
    "    xdadep_test_url, \n",
    "    xdadep_test_html,\n",
    "    do_ext_link=True\n",
    ")\n",
    "print(f\"is_succ: {is_succ} (title={rst['title']}):\\n{rst['text']}\\n\")"
   ]
  },
  {
   "cell_type": "markdown",
   "metadata": {},
   "source": [
    "<a id='design_explorerstar'></a>\n",
    "## <font color='darkblue'>Design - ExplorerWorker</font>\n",
    "We define a class <font color='blue'>**ExplorerWorker**</font> to help us to crawl a specific site."
   ]
  },
  {
   "cell_type": "code",
   "execution_count": 53,
   "metadata": {},
   "outputs": [],
   "source": [
    "##########################################\n",
    "# utils.py\n",
    "##########################################\n",
    "class bcolors:\n",
    "    HEADER = '\\033[95m'\n",
    "    OKBLUE = '\\033[94m'\n",
    "    OKCYAN = '\\033[96m'\n",
    "    OKGREEN = '\\033[92m'\n",
    "    WARNING = '\\033[93m'\n",
    "    FAIL = '\\033[91m'\n",
    "    ENDC = '\\033[0m'\n",
    "    BOLD = '\\033[1m'\n",
    "    UNDERLINE = '\\033[4m'\n",
    "    \n",
    "class ThreadState(IntEnum):\n",
    "    STOPPED = 0\n",
    "    RUNNING = 1\n",
    "    STOPPING = 2\n",
    "    \n",
    "    \n",
    "class CrawlAgent(object):\n",
    "    def __init__(self, name, throttling_range=(1, 3)):\n",
    "        self.rs = ReqScraper(page_cache_path=f\"{name}_cache\")\n",
    "        self.et = TEAgent(\n",
    "            policy_path=\"policy\", \n",
    "            disable_policy=True,\n",
    "            ext_title=True\n",
    "        )\n",
    "        self.logger = getLogger(os.path.basename(self.__class__.__name__))\n",
    "        self.throttling_range = throttling_range\n",
    "        \n",
    "    def handle(self, url:str) -> Tuple[str, str, List[str]]:\n",
    "        try:\n",
    "            wait_in_sec = random.uniform(*self.throttling_range)\n",
    "            self.logger.debug(f\"throttling wait {wait_in_sec}s...\")\n",
    "            time.sleep(wait_in_sec)\n",
    "            url_content_html = self.rs.get(url)\n",
    "            is_succ, rst, handler = self.et.parse(\n",
    "                \"text/html\", \n",
    "                url, \n",
    "                url_content_html,\n",
    "                do_ext_link=True\n",
    "            )\n",
    "            if is_succ:\n",
    "                return (rst['title'], rst['text'], rst['all_links'])\n",
    "            else:\n",
    "                return (rst['title'], rst['text'], rst['all_links'])\n",
    "        except ScraperNot200 as e:\n",
    "            self.logger.warning(f\"Fail to handle URL={url}: {str(e)}\")\n",
    "            return None, None, None\n",
    "        except UnsupportedMIME as e:\n",
    "            self.logger.warning(f\"Fail to handle URL={url}: {str(e)}\")\n",
    "            return None, None, None\n",
    "\n",
    "        \n",
    "class ExplorerWorker(threading.Thread):\n",
    "    def __init__(\n",
    "        self, \n",
    "        name:str, \n",
    "        url_ptn:str, \n",
    "        src_url:str, \n",
    "        test_run:int=-1,\n",
    "        page_saved_dir:Optional[str]=None):\n",
    "        super(ExplorerWorker,  self ).__init__(name = name)\n",
    "        self.name = name\n",
    "        self.url_ptn = url_ptn\n",
    "        self.src_url = src_url\n",
    "        self.test_run = test_run\n",
    "        self.ca = CrawlAgent(name)\n",
    "        self.pc_dict = self._get_pc_dict()\n",
    "        ''' Processed result cache: Key as URL; value as bool (True means this URL is crawled successfully)'''\n",
    "        self.state = ThreadState.STOPPED\n",
    "        ''' Thread state: 0-> stopped; 1-> running; 2-> stopping'''\n",
    "        self.logger = getLogger(os.path.basename(self.__class__.__name__))\n",
    "        ''' Logger object '''\n",
    "        self.page_saved_dir = page_saved_dir if page_saved_dir is not None else f\"{self.name}_pages_output\"\n",
    "        ''' Path or directory to save dump page'''\n",
    "        \n",
    "        if not os.path.isdir(self.page_saved_dir):\n",
    "            os.makedirs(self.page_saved_dir)\n",
    "        \n",
    "    def _get_output_page_path(self, url):\n",
    "        url_host = urlparse(url).netloc\n",
    "        url_md5 = hashlib.md5(url.encode('utf-8')).hexdigest()\n",
    "        page_file_name = f\"{url_host}_{url_md5}.txt\"\n",
    "        page_file_path = os.path.join(self.page_saved_dir, page_file_name)\n",
    "        return page_file_path\n",
    "    \n",
    "    def _get_pc_serialized_file(self) -> str:\n",
    "        return f\"{self.name}_pc_dict.pkl\"\n",
    "    \n",
    "    def _get_pc_dict(self) -> Dict[str, bool]:\n",
    "        pkl_file = self._get_pc_serialized_file()\n",
    "        if os.path.isfile(pkl_file):\n",
    "            with open(pkl_file, 'rb') as fo:\n",
    "                return pickle.load(fo)\n",
    "        else:\n",
    "            return {}\n",
    "    \n",
    "    def _serialized(self):\n",
    "        pkl_file = self._get_pc_serialized_file()\n",
    "        with open(pkl_file, 'wb') as fo:\n",
    "            pickle.dump(self.pc_dict, fo)\n",
    "            \n",
    "    def run(self):\n",
    "        self.state = ThreadState.RUNNING\n",
    "        url_queue = [self.src_url]\n",
    "        pc = sc = fc = oc = 0\n",
    "        while self.state == ThreadState.RUNNING and url_queue:\n",
    "            url = url_queue.pop(0)\n",
    "            pc += 1\n",
    "            if url not in self.pc_dict:\n",
    "                # New URL\n",
    "                self.logger.debug(f\"Handling URL={url}...\")\n",
    "                title, content, collected_urls = self.ca.handle(url)\n",
    "                if content is None:\n",
    "                    self.pc_dict[url] = False\n",
    "                    fc += 1\n",
    "                else:\n",
    "                    if url != self.src_url:\n",
    "                        self.pc_dict[url] = True\n",
    "                        \n",
    "                    sc += 1                    \n",
    "                    next_level_urls = list(filter(lambda u: re.match(self.url_ptn, u) is not None, collected_urls))\n",
    "                    if next_level_urls:\n",
    "                        self.logger.debug(f\"Collected {len(next_level_urls)} next level URL(s)\")\n",
    "                        url_queue.extend(next_level_urls)\n",
    "                    \n",
    "                    if content:                        \n",
    "                        page_output_path = self._get_output_page_path(url)\n",
    "                        with open(page_output_path, 'w', encoding='utf8') as fw:\n",
    "                            fw.write(f\"{url}\\n\\n\")\n",
    "                            fw.write(f\"{title}\\n\\n\")\n",
    "                            fw.write(f\"{content}\")\n",
    "                            self.logger.debug(f\"Saved page to {page_output_path}!\")\n",
    "                            \n",
    "                    self.logger.info(f\"Completed URL={url} ({len(url_queue):,d})\")\n",
    "            else:\n",
    "                # Old URL\n",
    "                self.logger.info(f\"URL={url} is already handled...\")\n",
    "                oc += 1\n",
    "                continue\n",
    "                \n",
    "            if self.test_run > 0:\n",
    "                if (sc + fc) > self.test_run:\n",
    "                    self.logger.info(f\"Exceed test_run={self.test_run} and therefore stop running...\")\n",
    "                    break\n",
    "                    \n",
    "            if pc % 2 == 0:\n",
    "                self.logger.info(bcolors.OKBLUE + bcolors.BOLD + f\"{pc} URL completed: sc={sc:,d}; fc={fc:,d}; oc={oc:,d}\\n\" + bcolors.ENDC)\n",
    "        \n",
    "        self.logger.warning(f\"Explorer is stopped! (name={self.name})...\")\n",
    "        self.state = ThreadState.STOPPED\n",
    "    \n",
    "    def stop(self):\n",
    "        self.logger.warning(f\"Stopping explorer worker (name={self.name})...\")\n",
    "        if self.state == ThreadState.RUNNING:\n",
    "            self.state = ThreadState.STOPPING\n",
    "            while self.state != ThreadState.STOPPED:\n",
    "                time.sleep(1)\n",
    "            \n",
    "        self.logger.warning(f\"Serialized explorer result (name={self.name})...\")\n",
    "        self._serialized()"
   ]
  },
  {
   "cell_type": "code",
   "execution_count": 54,
   "metadata": {},
   "outputs": [
    {
     "name": "stderr",
     "output_type": "stream",
     "text": [
      "\u001b[1;30mandroidcentral/INFO:\u001b[0m <<ipython-input-53-ca012e1fba7e>#137> Completed URL=https://www.androidcentral.com/ (83)\n",
      "\u001b[1;30mandroidcentral/INFO:\u001b[0m <<ipython-input-53-ca012e1fba7e>#140> URL=https://www.androidcentral.com/best-wifi-6-routers is already handled...\n",
      "\u001b[1;30mandroidcentral/INFO:\u001b[0m <<ipython-input-53-ca012e1fba7e>#140> URL=https://www.androidcentral.com/playstation-now-could-be-serious-xcloud-competitor-android is already handled...\n",
      "\u001b[1;30mandroidcentral/INFO:\u001b[0m <<ipython-input-53-ca012e1fba7e>#140> URL=https://www.androidcentral.com/best-chromebook is already handled...\n",
      "\u001b[1;30mandroidcentral/INFO:\u001b[0m <<ipython-input-53-ca012e1fba7e>#140> URL=https://www.androidcentral.com/about is already handled...\n",
      "\u001b[1;30mandroidcentral/INFO:\u001b[0m <<ipython-input-53-ca012e1fba7e>#140> URL=https://www.androidcentral.com/ac-podcast-522-android-12-sony-xperia-1iii-fitbit-luxe-apple-event is already handled...\n",
      "\u001b[1;30mandroidcentral/INFO:\u001b[0m <<ipython-input-53-ca012e1fba7e>#140> URL=https://www.androidcentral.com/what-know-about-resident-evil-villages-demo-weekend is already handled...\n",
      "\u001b[1;30mandroidcentral/INFO:\u001b[0m <<ipython-input-53-ca012e1fba7e>#140> URL=https://www.androidcentral.com/latest-whatsapp-beta-brings-playback-speed-control-voice-notes is already handled...\n",
      "\u001b[1;30mandroidcentral/INFO:\u001b[0m <<ipython-input-53-ca012e1fba7e>#140> URL=https://www.androidcentral.com/google-maps-highlights-how-you-can-find-eco-friendly-businesses is already handled...\n",
      "\u001b[1;30mandroidcentral/INFO:\u001b[0m <<ipython-input-53-ca012e1fba7e>#140> URL=https://www.androidcentral.com/how-watch-2021-academy-country-music-awards-online-anywhere is already handled...\n",
      "\u001b[1;30mandroidcentral/INFO:\u001b[0m <<ipython-input-53-ca012e1fba7e>#140> URL=https://www.androidcentral.com/best-vpn is already handled...\n",
      "\u001b[1;30mandroidcentral/INFO:\u001b[0m <<ipython-input-53-ca012e1fba7e>#140> URL=https://www.androidcentral.com/google-rolls-out-data-saving-mode-meets-android-app is already handled...\n",
      "\u001b[1;30mandroidcentral/INFO:\u001b[0m <<ipython-input-53-ca012e1fba7e>#140> URL=https://www.androidcentral.com/best-t-mobile-phones is already handled...\n",
      "\u001b[1;30mandroidcentral/INFO:\u001b[0m <<ipython-input-53-ca012e1fba7e>#140> URL=https://www.androidcentral.com/best is already handled...\n",
      "\u001b[1;30mandroidcentral/INFO:\u001b[0m <<ipython-input-53-ca012e1fba7e>#140> URL=https://www.androidcentral.com/best-moto-g-stylus-2021-cases is already handled...\n",
      "\u001b[1;30mandroidcentral/INFO:\u001b[0m <<ipython-input-53-ca012e1fba7e>#140> URL=https://www.androidcentral.com/best-android-phones is already handled...\n",
      "\u001b[1;30mandroidcentral/INFO:\u001b[0m <<ipython-input-53-ca012e1fba7e>#140> URL=https://www.androidcentral.com/android-12-will-finally-let-you-disable-annoying-wear-os-notifications is already handled...\n",
      "\u001b[1;30mandroidcentral/INFO:\u001b[0m <<ipython-input-53-ca012e1fba7e>#140> URL=https://www.androidcentral.com/xiaomis-mi-11-ultra-launches-india-take-oneplus-9-pro-and-galaxy-s21-ultra is already handled...\n",
      "\u001b[1;30mandroidcentral/INFO:\u001b[0m <<ipython-input-53-ca012e1fba7e>#140> URL=https://www.androidcentral.com/android-user-have-you-ever-been-tempted-iphone is already handled...\n",
      "\u001b[1;30mandroidcentral/INFO:\u001b[0m <<ipython-input-53-ca012e1fba7e>#140> URL=https://www.androidcentral.com/best-lg-phones is already handled...\n",
      "\u001b[1;30mandroidcentral/INFO:\u001b[0m <<ipython-input-53-ca012e1fba7e>#140> URL=https://www.androidcentral.com/how-watch-fa-cup-how-watch-football-tournament-online-anywhere is already handled...\n",
      "\u001b[1;30mandroidcentral/INFO:\u001b[0m <<ipython-input-53-ca012e1fba7e>#140> URL=https://www.androidcentral.com/best-android-smartwatch is already handled...\n",
      "\u001b[1;30mandroidcentral/INFO:\u001b[0m <<ipython-input-53-ca012e1fba7e>#140> URL=https://www.androidcentral.com/oppo-bluetooth-uwb-tracker-usb-c-charging is already handled...\n",
      "\u001b[1;30mandroidcentral/INFO:\u001b[0m <<ipython-input-53-ca012e1fba7e>#140> URL=https://www.androidcentral.com/google-prepares-assistant-voice-shortcuts-without-wake-word is already handled...\n",
      "\u001b[1;30mandroidcentral/INFO:\u001b[0m <<ipython-input-53-ca012e1fba7e>#140> URL=https://www.androidcentral.com/google-play-store-optimizing-app-installation is already handled...\n",
      "\u001b[1;30mandroidcentral/INFO:\u001b[0m <<ipython-input-53-ca012e1fba7e>#140> URL=https://www.androidcentral.com/oculus-finally-getting-rid-its-hideously-ugly-avatars is already handled...\n",
      "\u001b[1;30mandroidcentral/INFO:\u001b[0m <<ipython-input-53-ca012e1fba7e>#140> URL=https://www.androidcentral.com/best-lenovo-chromebook-duet-deals is already handled...\n",
      "\u001b[1;30mandroidcentral/INFO:\u001b[0m <<ipython-input-53-ca012e1fba7e>#140> URL=https://www.androidcentral.com/how-set-alexa-sonos-system is already handled...\n",
      "\u001b[1;30mandroidcentral/INFO:\u001b[0m <<ipython-input-53-ca012e1fba7e>#140> URL=https://www.androidcentral.com/disgaea-rpg-android-game-week is already handled...\n",
      "\u001b[1;30mandroidcentral/INFO:\u001b[0m <<ipython-input-53-ca012e1fba7e>#137> Completed URL=https://www.androidcentral.com/tablet-hardware-has-outpaced-both-software-capabilities-and-usefulness (86)\n",
      "\u001b[1;30mandroidcentral/INFO:\u001b[0m <<ipython-input-53-ca012e1fba7e>#150> \u001b[94m\u001b[1m30 URL completed: sc=2; fc=0; oc=28\n",
      "\u001b[0m\n",
      "\u001b[1;30mandroidcentral/INFO:\u001b[0m <<ipython-input-53-ca012e1fba7e>#137> Completed URL=https://www.androidcentral.com/rupauls-drag-race-live-stream-watch-season-13-finale-online-anywhere (117)\n",
      "\u001b[1;30mandroidcentral/INFO:\u001b[0m <<ipython-input-53-ca012e1fba7e>#137> Completed URL=https://www.androidcentral.com/blog (152)\n",
      "\u001b[1;30mandroidcentral/INFO:\u001b[0m <<ipython-input-53-ca012e1fba7e>#150> \u001b[94m\u001b[1m32 URL completed: sc=4; fc=0; oc=28\n",
      "\u001b[0m\n",
      "\u001b[1;30mandroidcentral/INFO:\u001b[0m <<ipython-input-53-ca012e1fba7e>#140> URL=https://www.androidcentral.com/liege-bastogne-liege-live-stream-2021-live-stream-how-watch-uci-world-tour-cycling-race-online is already handled...\n",
      "\u001b[1;30mandroidcentral/INFO:\u001b[0m <<ipython-input-53-ca012e1fba7e>#137> Completed URL=https://www.androidcentral.com/newsletter (175)\n",
      "\u001b[1;30mandroidcentral/INFO:\u001b[0m <<ipython-input-53-ca012e1fba7e>#150> \u001b[94m\u001b[1m34 URL completed: sc=5; fc=0; oc=29\n",
      "\u001b[0m\n",
      "\u001b[1;30mandroidcentral/INFO:\u001b[0m <<ipython-input-53-ca012e1fba7e>#137> Completed URL=https://www.androidcentral.com/best-reviews (232)\n",
      "\u001b[1;30mandroidcentral/INFO:\u001b[0m <<ipython-input-53-ca012e1fba7e>#146> Exceed test_run=5 and therefore stop running...\n",
      "\u001b[1;30mandroidcentral/WARNING:\u001b[0m <<ipython-input-53-ca012e1fba7e>#152> \u001b[33mExplorer is stopped! (name=androidcentral)...\u001b[0m\n",
      "\u001b[1;30mMainThread/WARNING:\u001b[0m <<ipython-input-53-ca012e1fba7e>#156> \u001b[33mStopping explorer worker (name=androidcentral)...\u001b[0m\n",
      "\u001b[1;30mMainThread/WARNING:\u001b[0m <<ipython-input-53-ca012e1fba7e>#162> \u001b[33mSerialized explorer result (name=androidcentral)...\u001b[0m\n"
     ]
    },
    {
     "name": "stdout",
     "output_type": "stream",
     "text": [
      "Done!\n"
     ]
    }
   ],
   "source": [
    "# Prior run for testing\n",
    "ew = ExplorerWorker(\n",
    "    name=\"androidcentral\",\n",
    "    src_url=\"https://www.androidcentral.com/\",\n",
    "    url_ptn=r'https?://www\\.androidcentral\\.com/[^/]+$',\n",
    "    test_run=5\n",
    ")\n",
    "ew.start()\n",
    "ew.join()\n",
    "ew.stop()\n",
    "print(\"Done!\")"
   ]
  },
  {
   "cell_type": "markdown",
   "metadata": {},
   "source": [
    "<a id='analysis_of_post'></a>\n",
    "## <font color='darkblue'>Analysis Of Collected Interested Post</font> ([back](#preface))\n",
    "Let's cluster our collected interested post and check a few post from each cluster:"
   ]
  },
  {
   "cell_type": "code",
   "execution_count": 13,
   "metadata": {},
   "outputs": [],
   "source": [
    "import os\n",
    "import gensim.downloader as api\n",
    "import pandas as pd\n",
    "import numpy as np\n",
    "import nltk\n",
    "from typing import Tuple\n",
    "from tqdm import tqdm\n",
    "from sklearn.cluster import MiniBatchKMeans, KMeans"
   ]
  },
  {
   "cell_type": "code",
   "execution_count": 2,
   "metadata": {},
   "outputs": [],
   "source": [
    "wv = api.load('word2vec-google-news-300')"
   ]
  },
  {
   "cell_type": "code",
   "execution_count": 4,
   "metadata": {},
   "outputs": [],
   "source": [
    "#nltk.download('punkt')"
   ]
  },
  {
   "cell_type": "code",
   "execution_count": 8,
   "metadata": {},
   "outputs": [],
   "source": [
    "CLUSTER_SIZE = 10\n",
    "POST_DIR_PATH = 'interested_pages'\n",
    "RANDOM_STATE = 1\n",
    "KM_BATCH_SIZE = 6\n",
    "KM_MAX_ITER = 20"
   ]
  },
  {
   "cell_type": "code",
   "execution_count": 4,
   "metadata": {},
   "outputs": [],
   "source": [
    "columns = ['file', 'title'] + [f\"v{i}\" for i in range(300)]"
   ]
  },
  {
   "cell_type": "code",
   "execution_count": 6,
   "metadata": {},
   "outputs": [
    {
     "name": "stderr",
     "output_type": "stream",
     "text": [
      "100%|██████████████████████████████████████████████████████████████████████████████| 3396/3396 [02:55<00:00, 19.38it/s]\n"
     ]
    },
    {
     "name": "stdout",
     "output_type": "stream",
     "text": [
      "Wall time: 2min 55s\n"
     ]
    },
    {
     "data": {
      "text/html": [
       "<div>\n",
       "<style scoped>\n",
       "    .dataframe tbody tr th:only-of-type {\n",
       "        vertical-align: middle;\n",
       "    }\n",
       "\n",
       "    .dataframe tbody tr th {\n",
       "        vertical-align: top;\n",
       "    }\n",
       "\n",
       "    .dataframe thead th {\n",
       "        text-align: right;\n",
       "    }\n",
       "</style>\n",
       "<table border=\"1\" class=\"dataframe\">\n",
       "  <thead>\n",
       "    <tr style=\"text-align: right;\">\n",
       "      <th></th>\n",
       "      <th>file</th>\n",
       "      <th>title</th>\n",
       "      <th>v0</th>\n",
       "      <th>v1</th>\n",
       "      <th>v2</th>\n",
       "      <th>v3</th>\n",
       "      <th>v4</th>\n",
       "      <th>v5</th>\n",
       "      <th>v6</th>\n",
       "      <th>v7</th>\n",
       "      <th>...</th>\n",
       "      <th>v290</th>\n",
       "      <th>v291</th>\n",
       "      <th>v292</th>\n",
       "      <th>v293</th>\n",
       "      <th>v294</th>\n",
       "      <th>v295</th>\n",
       "      <th>v296</th>\n",
       "      <th>v297</th>\n",
       "      <th>v298</th>\n",
       "      <th>v299</th>\n",
       "    </tr>\n",
       "  </thead>\n",
       "  <tbody>\n",
       "    <tr>\n",
       "      <th>0</th>\n",
       "      <td>interested_pages\\www.androidcentral.com_004a00...</td>\n",
       "      <td>Best Alexa Devices 2021 | Android Central</td>\n",
       "      <td>196.809924</td>\n",
       "      <td>84.764323</td>\n",
       "      <td>-98.016064</td>\n",
       "      <td>411.054358</td>\n",
       "      <td>-326.324621</td>\n",
       "      <td>137.073229</td>\n",
       "      <td>38.470474</td>\n",
       "      <td>-266.260321</td>\n",
       "      <td>...</td>\n",
       "      <td>-249.393393</td>\n",
       "      <td>146.478892</td>\n",
       "      <td>-628.835919</td>\n",
       "      <td>172.422329</td>\n",
       "      <td>71.678425</td>\n",
       "      <td>-259.013043</td>\n",
       "      <td>12.094636</td>\n",
       "      <td>-226.942574</td>\n",
       "      <td>-20.017273</td>\n",
       "      <td>67.541092</td>\n",
       "    </tr>\n",
       "    <tr>\n",
       "      <th>1</th>\n",
       "      <td>interested_pages\\www.androidcentral.com_00bd04...</td>\n",
       "      <td>Oculus Quest 2 review: The best VR experience ...</td>\n",
       "      <td>331.377748</td>\n",
       "      <td>161.908948</td>\n",
       "      <td>51.130238</td>\n",
       "      <td>584.188189</td>\n",
       "      <td>-564.070935</td>\n",
       "      <td>68.199461</td>\n",
       "      <td>317.253432</td>\n",
       "      <td>-514.445718</td>\n",
       "      <td>...</td>\n",
       "      <td>-525.553269</td>\n",
       "      <td>370.061274</td>\n",
       "      <td>-567.189018</td>\n",
       "      <td>312.007333</td>\n",
       "      <td>-43.641371</td>\n",
       "      <td>-32.053624</td>\n",
       "      <td>186.398327</td>\n",
       "      <td>-230.037789</td>\n",
       "      <td>78.342421</td>\n",
       "      <td>-241.482962</td>\n",
       "    </tr>\n",
       "    <tr>\n",
       "      <th>2</th>\n",
       "      <td>interested_pages\\www.androidcentral.com_016f12...</td>\n",
       "      <td>OnePlus 8 review: Better value than ever befor...</td>\n",
       "      <td>58.907837</td>\n",
       "      <td>76.483049</td>\n",
       "      <td>38.356060</td>\n",
       "      <td>193.869913</td>\n",
       "      <td>-157.426455</td>\n",
       "      <td>14.403913</td>\n",
       "      <td>106.682579</td>\n",
       "      <td>-199.488100</td>\n",
       "      <td>...</td>\n",
       "      <td>-188.811573</td>\n",
       "      <td>107.189707</td>\n",
       "      <td>-223.005795</td>\n",
       "      <td>89.829720</td>\n",
       "      <td>-66.722816</td>\n",
       "      <td>-24.416162</td>\n",
       "      <td>31.691511</td>\n",
       "      <td>-92.193150</td>\n",
       "      <td>35.444678</td>\n",
       "      <td>-70.036911</td>\n",
       "    </tr>\n",
       "    <tr>\n",
       "      <th>3</th>\n",
       "      <td>interested_pages\\www.androidcentral.com_018c3b...</td>\n",
       "      <td>Stadia: Everything you need to know about Goog...</td>\n",
       "      <td>134.574736</td>\n",
       "      <td>-11.661549</td>\n",
       "      <td>119.723120</td>\n",
       "      <td>254.390388</td>\n",
       "      <td>-240.258924</td>\n",
       "      <td>21.142117</td>\n",
       "      <td>171.519716</td>\n",
       "      <td>-157.180869</td>\n",
       "      <td>...</td>\n",
       "      <td>-179.722805</td>\n",
       "      <td>118.029990</td>\n",
       "      <td>-300.935690</td>\n",
       "      <td>74.553823</td>\n",
       "      <td>98.142033</td>\n",
       "      <td>-64.714411</td>\n",
       "      <td>26.975586</td>\n",
       "      <td>-202.769642</td>\n",
       "      <td>-36.570605</td>\n",
       "      <td>-106.021896</td>\n",
       "    </tr>\n",
       "    <tr>\n",
       "      <th>4</th>\n",
       "      <td>interested_pages\\www.androidcentral.com_027d6e...</td>\n",
       "      <td>ASUS ROG Phone 5 review: The ultimate gaming p...</td>\n",
       "      <td>72.549145</td>\n",
       "      <td>88.657830</td>\n",
       "      <td>89.159472</td>\n",
       "      <td>283.995155</td>\n",
       "      <td>-268.227963</td>\n",
       "      <td>42.667105</td>\n",
       "      <td>217.192316</td>\n",
       "      <td>-326.776190</td>\n",
       "      <td>...</td>\n",
       "      <td>-256.327538</td>\n",
       "      <td>124.973535</td>\n",
       "      <td>-356.071723</td>\n",
       "      <td>156.967677</td>\n",
       "      <td>11.102327</td>\n",
       "      <td>-117.260114</td>\n",
       "      <td>-53.173154</td>\n",
       "      <td>-181.836496</td>\n",
       "      <td>18.720127</td>\n",
       "      <td>-92.780437</td>\n",
       "    </tr>\n",
       "  </tbody>\n",
       "</table>\n",
       "<p>5 rows × 302 columns</p>\n",
       "</div>"
      ],
      "text/plain": [
       "                                                file  \\\n",
       "0  interested_pages\\www.androidcentral.com_004a00...   \n",
       "1  interested_pages\\www.androidcentral.com_00bd04...   \n",
       "2  interested_pages\\www.androidcentral.com_016f12...   \n",
       "3  interested_pages\\www.androidcentral.com_018c3b...   \n",
       "4  interested_pages\\www.androidcentral.com_027d6e...   \n",
       "\n",
       "                                               title          v0          v1  \\\n",
       "0          Best Alexa Devices 2021 | Android Central  196.809924   84.764323   \n",
       "1  Oculus Quest 2 review: The best VR experience ...  331.377748  161.908948   \n",
       "2  OnePlus 8 review: Better value than ever befor...   58.907837   76.483049   \n",
       "3  Stadia: Everything you need to know about Goog...  134.574736  -11.661549   \n",
       "4  ASUS ROG Phone 5 review: The ultimate gaming p...   72.549145   88.657830   \n",
       "\n",
       "           v2          v3          v4          v5          v6          v7  \\\n",
       "0  -98.016064  411.054358 -326.324621  137.073229   38.470474 -266.260321   \n",
       "1   51.130238  584.188189 -564.070935   68.199461  317.253432 -514.445718   \n",
       "2   38.356060  193.869913 -157.426455   14.403913  106.682579 -199.488100   \n",
       "3  119.723120  254.390388 -240.258924   21.142117  171.519716 -157.180869   \n",
       "4   89.159472  283.995155 -268.227963   42.667105  217.192316 -326.776190   \n",
       "\n",
       "   ...        v290        v291        v292        v293       v294        v295  \\\n",
       "0  ... -249.393393  146.478892 -628.835919  172.422329  71.678425 -259.013043   \n",
       "1  ... -525.553269  370.061274 -567.189018  312.007333 -43.641371  -32.053624   \n",
       "2  ... -188.811573  107.189707 -223.005795   89.829720 -66.722816  -24.416162   \n",
       "3  ... -179.722805  118.029990 -300.935690   74.553823  98.142033  -64.714411   \n",
       "4  ... -256.327538  124.973535 -356.071723  156.967677  11.102327 -117.260114   \n",
       "\n",
       "         v296        v297       v298        v299  \n",
       "0   12.094636 -226.942574 -20.017273   67.541092  \n",
       "1  186.398327 -230.037789  78.342421 -241.482962  \n",
       "2   31.691511  -92.193150  35.444678  -70.036911  \n",
       "3   26.975586 -202.769642 -36.570605 -106.021896  \n",
       "4  -53.173154 -181.836496  18.720127  -92.780437  \n",
       "\n",
       "[5 rows x 302 columns]"
      ]
     },
     "execution_count": 6,
     "metadata": {},
     "output_type": "execute_result"
    }
   ],
   "source": [
    "%%time\n",
    "def read_post(fp:str) -> Tuple[str,str]:\n",
    "    with open(fp, 'r', encoding='utf8') as fo:\n",
    "        url = fo.readline().strip()\n",
    "        fo.readline()\n",
    "        title = fo.readline().strip()\n",
    "        fo.readline()\n",
    "        body = fo.read().strip()\n",
    "        return (title, body)\n",
    "        \n",
    "files = list(map(lambda f: os.path.join(POST_DIR_PATH, f), os.listdir(POST_DIR_PATH)))\n",
    "rows = []\n",
    "with tqdm(total=len(files)) as pbar:\n",
    "    for fp in files:\n",
    "        title, body = read_post(fp)\n",
    "        doc_vec = np.zeros(300)\n",
    "        for sent in nltk.sent_tokenize(body):\n",
    "            for w in nltk.tokenize.word_tokenize(sent):\n",
    "                try:\n",
    "                    doc_vec += wv[w]\n",
    "                except:\n",
    "                    pass\n",
    "            \n",
    "        row = [fp, title]\n",
    "        row.extend(doc_vec.copy())\n",
    "        rows.append(row)\n",
    "        pbar.update(1)\n",
    "        \n",
    "docs_df = pd.DataFrame(rows, columns=columns)\n",
    "docs_df.head()"
   ]
  },
  {
   "cell_type": "code",
   "execution_count": 14,
   "metadata": {},
   "outputs": [
    {
     "name": "stdout",
     "output_type": "stream",
     "text": [
      "Wall time: 476 ms\n"
     ]
    }
   ],
   "source": [
    "%%time\n",
    "kmeans = KMeans(\n",
    "    n_clusters=CLUSTER_SIZE,\n",
    "    random_state=RANDOM_STATE,    \n",
    ").fit(docs_df.iloc[:, 2:])"
   ]
  },
  {
   "cell_type": "markdown",
   "metadata": {},
   "source": [
    "Let's random select 5 docs from each group:"
   ]
  },
  {
   "cell_type": "code",
   "execution_count": 35,
   "metadata": {},
   "outputs": [],
   "source": [
    "from collections import defaultdict\n",
    "g2d_dict = defaultdict(list) # Key as group/cluster; value as list of corresponding doc\n",
    "for g, t in zip(kmeans.labels_, docs_df.iterrows()):\n",
    "    g2d_dict[g].append(t[1].file)"
   ]
  },
  {
   "cell_type": "code",
   "execution_count": 42,
   "metadata": {},
   "outputs": [
    {
     "name": "stdout",
     "output_type": "stream",
     "text": [
      "Cluster-2:\n",
      "\tinterested_pages\\www.androidcentral.com_2f1f72a4edb641c533714f0901db66e4.txt\n",
      "\tinterested_pages\\www.xda-developers.com_65860bf6de225d93e0a679deaaf965de.txt\n",
      "\tinterested_pages\\www.xda-developers.com_4fa49b46a2ebf54577667fc1cb8e41fd.txt\n",
      "\tinterested_pages\\www.androidpolice.com_086f3db6ddb997511da8a23ef23d71d6.txt\n",
      "\tinterested_pages\\www.androidcentral.com_e9b560ee25f94900d193b866ad87fbd8.txt\n",
      "Cluster-7:\n",
      "\tinterested_pages\\www.androidcentral.com_1d9cb03a3baaa4fec3c4099078ba7b73.txt\n",
      "\tinterested_pages\\www.xda-developers.com_dd9748866e4d9664f1be1bafe7ebad25.txt\n",
      "\tinterested_pages\\www.androidcentral.com_bb8c2fb9f6218fd1f9d3d61d4bfc8b9e.txt\n",
      "\tinterested_pages\\www.xda-developers.com_f547f1eb2de8134888ef103fd315036a.txt\n",
      "\tinterested_pages\\www.androidcentral.com_ea0ffb6d5fa1aadf692477a5044113e6.txt\n",
      "Cluster-0:\n",
      "\tinterested_pages\\www.androidpolice.com_fecae46281cd904b4e5de6a11d77dd24.txt\n",
      "\tinterested_pages\\www.androidcentral.com_431526e92ce10f06b9253e62a4e050e3.txt\n",
      "\tinterested_pages\\www.androidpolice.com_72ce1c04b03a3e472449d52769f51311.txt\n",
      "\tinterested_pages\\www.xda-developers.com_0da5d3e373a2019b9b97924106e5a93a.txt\n",
      "\tinterested_pages\\www.androidpolice.com_e2770165db770c7952d8f001878dc717.txt\n",
      "Cluster-5:\n",
      "\tinterested_pages\\www.androidcentral.com_a69a34e36187e74dd8104e1c62e8d3b7.txt\n",
      "\tinterested_pages\\www.androidpolice.com_38a527310996e13bf0ce12ee75014a2b.txt\n",
      "\tinterested_pages\\www.androidpolice.com_6ddb87554677dddf140761155a2e2f7c.txt\n",
      "\tinterested_pages\\www.androidpolice.com_3ca448c4d89d2c626ce5a39fc5a6a9aa.txt\n",
      "\tinterested_pages\\www.xda-developers.com_2b5e0c0ab02e01ac61d85cf0299e6d87.txt\n",
      "Cluster-4:\n",
      "\tinterested_pages\\www.androidpolice.com_b03d47ff82b1ca59050650067e88692c.txt\n",
      "\tinterested_pages\\www.xda-developers.com_ad429e327c22c93d3e947523b8796929.txt\n",
      "\tinterested_pages\\www.androidpolice.com_b0de927088147f507170f0f8f32a571d.txt\n",
      "\tinterested_pages\\www.xda-developers.com_f5df19a6c5a26eb4d3b56867b229c974.txt\n",
      "\tinterested_pages\\www.androidpolice.com_ccd71388c852404154576d9c4a034e14.txt\n",
      "Cluster-1:\n",
      "\tinterested_pages\\www.androidcentral.com_6e6f3875a391a8e8897c6c80a99caf7d.txt\n",
      "\tinterested_pages\\www.androidcentral.com_222e540e3daa45a6636cbaae43a03e60.txt\n",
      "\tinterested_pages\\www.androidcentral.com_5d33c83681aa82e150a756b0986b9d28.txt\n",
      "\tinterested_pages\\www.androidcentral.com_7db28dd20146a4e6433640b3dab44e9e.txt\n",
      "\tinterested_pages\\www.androidcentral.com_66261435c5fd77bd9110b6f81486c9f4.txt\n",
      "Cluster-6:\n",
      "\tinterested_pages\\www.androidcentral.com_1bce5d502803eb18fec5b2f0680bf5aa.txt\n",
      "\tinterested_pages\\www.androidcentral.com_a4dcf74fa63c8606d2bc65a299db4f30.txt\n",
      "\tinterested_pages\\www.androidcentral.com_0f111c426443af2cce699995fc3a6101.txt\n",
      "\tinterested_pages\\www.androidcentral.com_8714be01ac27c7a0edd6498d0446dd34.txt\n",
      "\tinterested_pages\\www.androidcentral.com_16751d7e6964fd3e60c0723525918461.txt\n",
      "Cluster-9:\n",
      "\tinterested_pages\\www.androidcentral.com_22a6e35baf4ef0322cdf62d83b3d0efe.txt\n",
      "\tinterested_pages\\www.androidcentral.com_42a28ccb872d8a49bbb6b224a4c8acde.txt\n",
      "\tinterested_pages\\www.androidcentral.com_7c06597dbd1d484d6dfa877fe07d0018.txt\n",
      "\tinterested_pages\\www.androidcentral.com_67cfd3fd8556941d95259489f5fd510d.txt\n",
      "\tinterested_pages\\www.androidcentral.com_5724c4463f14ac62c65b09d3414fedf1.txt\n",
      "Cluster-3:\n",
      "\tinterested_pages\\www.xda-developers.com_6ec430fcae84712f475f132a734cd3c8.txt\n",
      "\tinterested_pages\\www.xda-developers.com_742e54df811d1bfedcd101cac7c9c239.txt\n",
      "\tinterested_pages\\www.androidpolice.com_22d52e92849d44b398fcb9e8884e4d14.txt\n",
      "\tinterested_pages\\www.xda-developers.com_2588c63e918cc95f6f974f5fbd3cec41.txt\n",
      "\tinterested_pages\\www.xda-developers.com_f5180c2a02e9fb638969cb9075c2b1e4.txt\n",
      "Cluster-8:\n",
      "\tinterested_pages\\www.androidpolice.com_a88b2248f15533d6831113b994ff7532.txt\n",
      "\tinterested_pages\\www.androidpolice.com_7c5f6224880750f791105e7f91319882.txt\n",
      "\tinterested_pages\\www.androidpolice.com_3d3145cdae6511762f7f75fbca07593a.txt\n",
      "\tinterested_pages\\www.androidpolice.com_59ee18d7ae9615a5fff790b0c7f85c4b.txt\n",
      "\tinterested_pages\\www.androidpolice.com_e9ad07537aff1b1bc914b03bcfc85c77.txt\n"
     ]
    }
   ],
   "source": [
    "for g, docs in g2d_dict.items():\n",
    "    print(f\"Cluster-{g}:\")\n",
    "    for d in random.sample(docs, 5):\n",
    "        print(f\"\\t{d}\")\n",
    "        copyfile(d, os.path.join(\"gdocs\", f\"{g}_\" + os.path.basename(d)))"
   ]
  },
  {
   "cell_type": "markdown",
   "metadata": {},
   "source": [
    "In order to draw the instance on a 2 dimensions of plane, we will use [**PCA**](https://scikit-learn.org/stable/modules/generated/sklearn.decomposition.PCA.html) to reduce the feature size:"
   ]
  },
  {
   "cell_type": "code",
   "execution_count": 18,
   "metadata": {},
   "outputs": [],
   "source": [
    "from sklearn.decomposition import PCA\n",
    "\n",
    "feature_space = PCA(n_components=2).fit_transform(docs_df.iloc[:, 2:])"
   ]
  },
  {
   "cell_type": "code",
   "execution_count": 21,
   "metadata": {},
   "outputs": [
    {
     "data": {
      "text/plain": [
       "array([[ 2162.66315297,   964.6266061 ],\n",
       "       [ 3779.07125652,  -249.0108755 ],\n",
       "       [ -586.47122152,  -109.22624342],\n",
       "       [  555.39689678,   -39.79760273],\n",
       "       [ 1239.97549561,   414.71690532],\n",
       "       [ 2162.66315297,   964.6266061 ],\n",
       "       [-1677.56250016,  -307.51597453],\n",
       "       [  458.01503769,  -104.33493735],\n",
       "       [ 2305.35688143,   676.49304865],\n",
       "       [ 1965.2595979 ,   289.27940336]])"
      ]
     },
     "execution_count": 21,
     "metadata": {},
     "output_type": "execute_result"
    }
   ],
   "source": [
    "feature_space[:10]"
   ]
  },
  {
   "cell_type": "markdown",
   "metadata": {},
   "source": [
    "Now let's draw the instance onto the plane:"
   ]
  },
  {
   "cell_type": "code",
   "execution_count": 26,
   "metadata": {},
   "outputs": [
    {
     "data": {
      "text/plain": [
       "(3396,)"
      ]
     },
     "execution_count": 26,
     "metadata": {},
     "output_type": "execute_result"
    }
   ],
   "source": [
    "kmeans.labels_.shape"
   ]
  },
  {
   "cell_type": "code",
   "execution_count": 27,
   "metadata": {},
   "outputs": [
    {
     "data": {
      "text/plain": [
       "(3396, 2)"
      ]
     },
     "execution_count": 27,
     "metadata": {},
     "output_type": "execute_result"
    }
   ],
   "source": [
    "feature_space.shape"
   ]
  },
  {
   "cell_type": "code",
   "execution_count": 31,
   "metadata": {},
   "outputs": [
    {
     "name": "stderr",
     "output_type": "stream",
     "text": [
      "100%|█████████████████████████████████████████████████████████████████████████████| 3396/3396 [00:15<00:00, 225.40it/s]\n"
     ]
    },
    {
     "data": {
      "image/png": "[encoded data removed]",
      "text/plain": [
       "<Figure size 432x288 with 1 Axes>"
      ]
     },
     "metadata": {
      "needs_background": "light"
     },
     "output_type": "display_data"
    }
   ],
   "source": [
    "with tqdm(total=len(kmeans.labels_)) as pbar:\n",
    "    for c, d in zip(kmeans.labels_, feature_space):\n",
    "        plt.scatter(d[0], d[1], c=c)\n",
    "        pbar.update(1)\n",
    "        \n",
    "plt.show()"
   ]
  }
 ],
 "metadata": {
  "kernelspec": {
   "display_name": "Python 3",
   "language": "python",
   "name": "python3"
  },
  "language_info": {
   "codemirror_mode": {
    "name": "ipython",
    "version": 3
   },
   "file_extension": ".py",
   "mimetype": "text/x-python",
   "name": "python",
   "nbconvert_exporter": "python",
   "pygments_lexer": "ipython3",
   "version": "3.8.7"
  }
 },
 "nbformat": 4,
 "nbformat_minor": 4
}
